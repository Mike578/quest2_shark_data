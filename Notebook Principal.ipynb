{
 "cells": [
  {
   "cell_type": "markdown",
   "metadata": {
    "cell_id": "10be65377a5b45d99d4739b8bd65c0c0",
    "deepnote_cell_type": "text-cell-h1",
    "formattedRanges": []
   },
   "source": [
    "# Initialization of the dataset"
   ]
  },
  {
   "cell_type": "markdown",
   "metadata": {
    "cell_id": "fdf7fb7c65714746a4848be6bcf936dc",
    "deepnote_cell_type": "text-cell-h3",
    "formattedRanges": []
   },
   "source": [
    "### Run only once: install read_xls"
   ]
  },
  {
   "cell_type": "code",
   "execution_count": null,
   "metadata": {
    "cell_id": "544e63d6ba154dcbb58030a5837c9dec",
    "deepnote_cell_type": "code",
    "deepnote_to_be_reexecuted": false,
    "execution_millis": 222,
    "execution_start": 1709886689264,
    "source_hash": null
   },
   "outputs": [],
   "source": [
    "# To run only once\n",
    "# ! pip install xlrd>=2.0.1"
   ]
  },
  {
   "cell_type": "markdown",
   "metadata": {
    "cell_id": "60611ba34fa34eeeb2196d36fc4a1a9b",
    "deepnote_cell_type": "text-cell-h3",
    "formattedRanges": []
   },
   "source": [
    "### Importing the dataset"
   ]
  },
  {
   "cell_type": "code",
   "execution_count": null,
   "metadata": {
    "cell_id": "f1bacff20416420e98a0b6646976d7ce",
    "deepnote_cell_type": "code",
    "deepnote_table_invalid": false,
    "deepnote_table_loading": false,
    "deepnote_table_state": {
     "filters": [],
     "pageIndex": 2,
     "pageSize": 100,
     "sortBy": [
      {
       "id": "Year",
       "type": "asc"
      }
     ]
    },
    "deepnote_to_be_reexecuted": false,
    "execution_millis": 1129,
    "execution_start": 1709886689265,
    "source_hash": null
   },
   "outputs": [
    {
     "data": {
      "application/vnd.deepnote.dataframe.v3+json": {
       "column_count": 23,
       "columns": [
        {
         "dtype": "object",
         "name": "Date",
         "stats": {
          "categories": [
           {
            "count": 11,
            "name": "1957"
           },
           {
            "count": 6929,
            "name": "5968 others"
           },
           {
            "count": 25,
            "name": "Missing"
           }
          ],
          "nan_count": 25,
          "unique_count": 5999
         }
        },
        {
         "dtype": "float64",
         "name": "Year",
         "stats": {
          "histogram": [
           {
            "bin_end": 202.4,
            "bin_start": 0,
            "count": 131
           },
           {
            "bin_end": 404.8,
            "bin_start": 202.4,
            "count": 0
           },
           {
            "bin_end": 607.2,
            "bin_start": 404.8,
            "count": 0
           },
           {
            "bin_end": 809.6,
            "bin_start": 607.2,
            "count": 0
           },
           {
            "bin_end": 1012,
            "bin_start": 809.6,
            "count": 1
           },
           {
            "bin_end": 1214.4,
            "bin_start": 1012,
            "count": 0
           },
           {
            "bin_end": 1416.8,
            "bin_start": 1214.4,
            "count": 0
           },
           {
            "bin_end": 1619.2,
            "bin_start": 1416.8,
            "count": 8
           },
           {
            "bin_end": 1821.6000000000001,
            "bin_start": 1619.2,
            "count": 59
           },
           {
            "bin_end": 2024,
            "bin_start": 1821.6000000000001,
            "count": 6739
           }
          ],
          "max": "2024.0",
          "min": "0.0",
          "nan_count": 27,
          "unique_count": 259
         }
        },
        {
         "dtype": "object",
         "name": "Type",
         "stats": {
          "categories": [
           {
            "count": 5103,
            "name": "Unprovoked"
           },
           {
            "count": 1819,
            "name": "11 others"
           },
           {
            "count": 43,
            "name": "Missing"
           }
          ],
          "nan_count": 43,
          "unique_count": 12
         }
        },
        {
         "dtype": "object",
         "name": "Country",
         "stats": {
          "categories": [
           {
            "count": 2536,
            "name": "USA"
           },
           {
            "count": 4354,
            "name": "224 others"
           },
           {
            "count": 75,
            "name": "Missing"
           }
          ],
          "nan_count": 75,
          "unique_count": 225
         }
        },
        {
         "dtype": "object",
         "name": "State",
         "stats": {
          "categories": [
           {
            "count": 1178,
            "name": "Florida"
           },
           {
            "count": 5280,
            "name": "901 others"
           },
           {
            "count": 507,
            "name": "Missing"
           }
          ],
          "nan_count": 507,
          "unique_count": 902
         }
        },
        {
         "dtype": "object",
         "name": "Location",
         "stats": {
          "categories": [
           {
            "count": 191,
            "name": "New Smyrna Beach, Volusia County"
           },
           {
            "count": 6184,
            "name": "4509 others"
           },
           {
            "count": 590,
            "name": "Missing"
           }
          ],
          "nan_count": 590,
          "unique_count": 4510
         }
        },
        {
         "dtype": "object",
         "name": "Activity",
         "stats": {
          "categories": [
           {
            "count": 1120,
            "name": "Surfing"
           },
           {
            "count": 5235,
            "name": "1586 others"
           },
           {
            "count": 610,
            "name": "Missing"
           }
          ],
          "nan_count": 610,
          "unique_count": 1587
         }
        },
        {
         "dtype": "object",
         "name": "Name",
         "stats": {
          "categories": [
           {
            "count": 680,
            "name": "male"
           },
           {
            "count": 6041,
            "name": "5680 others"
           },
           {
            "count": 244,
            "name": "Missing"
           }
          ],
          "nan_count": 244,
          "unique_count": 5681
         }
        },
        {
         "dtype": "object",
         "name": "Sex",
         "stats": {
          "categories": [
           {
            "count": 5577,
            "name": "M"
           },
           {
            "count": 784,
            "name": "7 others"
           },
           {
            "count": 604,
            "name": "Missing"
           }
          ],
          "nan_count": 604,
          "unique_count": 8
         }
        },
        {
         "dtype": "object",
         "name": "Age",
         "stats": {
          "categories": [
           {
            "count": 173,
            "name": "17"
           },
           {
            "count": 3774,
            "name": "168 others"
           },
           {
            "count": 3018,
            "name": "Missing"
           }
          ],
          "nan_count": 3018,
          "unique_count": 243
         }
        },
        {
         "dtype": "object",
         "name": "Injury",
         "stats": {
          "categories": [
           {
            "count": 863,
            "name": "FATAL"
           },
           {
            "count": 6042,
            "name": "4077 others"
           },
           {
            "count": 60,
            "name": "Missing"
           }
          ],
          "nan_count": 60,
          "unique_count": 4078
         }
        },
        {
         "dtype": "object",
         "name": "Unnamed: 11",
         "stats": {
          "categories": [
           {
            "count": 4829,
            "name": "N"
           },
           {
            "count": 1550,
            "name": "11 others"
           },
           {
            "count": 586,
            "name": "Missing"
           }
          ],
          "nan_count": 586,
          "unique_count": 12
         }
        },
        {
         "dtype": "object",
         "name": "Time",
         "stats": {
          "categories": [
           {
            "count": 215,
            "name": "Afternoon"
           },
           {
            "count": 3200,
            "name": "409 others"
           },
           {
            "count": 3550,
            "name": "Missing"
           }
          ],
          "nan_count": 3550,
          "unique_count": 410
         }
        },
        {
         "dtype": "object",
         "name": "Species ",
         "stats": {
          "categories": [
           {
            "count": 194,
            "name": "White shark"
           },
           {
            "count": 3614,
            "name": "1673 others"
           },
           {
            "count": 3157,
            "name": "Missing"
           }
          ],
          "nan_count": 3157,
          "unique_count": 1674
         }
        },
        {
         "dtype": "object",
         "name": "Source"
        },
        {
         "dtype": "object",
         "name": "pdf"
        },
        {
         "dtype": "object",
         "name": "href formula"
        },
        {
         "dtype": "object",
         "name": "href"
        },
        {
         "dtype": "object",
         "name": "Case Number"
        },
        {
         "dtype": "object",
         "name": "Case Number.1"
        },
        {
         "dtype": "float64",
         "name": "original order"
        },
        {
         "dtype": "object",
         "name": "Unnamed: 21"
        },
        {
         "dtype": "object",
         "name": "Unnamed: 22"
        },
        {
         "dtype": "int64",
         "name": "_deepnote_index_column"
        }
       ],
       "row_count": 6965,
       "rows": [
        {
         "Activity": "nan",
         "Age": "nan",
         "Case Number": "1823.12.30.R",
         "Case Number.1": "1823.12.30.R",
         "Country": "JAMAICA",
         "Date": "Reported 30-Dec-1823",
         "Injury": "Human remains found in shark",
         "Location": "nan",
         "Name": "male",
         "Sex": "nan",
         "Source": "nan",
         "Species ": "Shark involvement prior to death unconfirmed",
         "State": "nan",
         "Time": "nan",
         "Type": "Invalid",
         "Unnamed: 11": "nan",
         "Unnamed: 21": "nan",
         "Unnamed: 22": "nan",
         "Year": 1823,
         "_deepnote_index_column": 6738,
         "href": "http://sharkattackfile.net/spreadsheets/pdf_directory/1823.12.30.R-Jamaica.pdf",
         "href formula": "http://sharkattackfile.net/spreadsheets/pdf_directory/1823.12.30.R-Jamaica.pdf",
         "original order": 201,
         "pdf": "1823.12.30.R-Jamaica.pdf"
        },
        {
         "Activity": "nan",
         "Age": "nan",
         "Case Number": "1825.00.00",
         "Case Number.1": "1825.00.00",
         "Country": "AUSTRALIA",
         "Date": "Ca . 1825",
         "Injury": "Arms severed, but he survived",
         "Location": "South Bruny Island",
         "Name": "Nelson",
         "Sex": "M",
         "Source": "C. Black, GSAF",
         "Species ": "nan",
         "State": "Western Australia",
         "Time": "nan",
         "Type": "Invalid",
         "Unnamed: 11": "N",
         "Unnamed: 21": "nan",
         "Unnamed: 22": "nan",
         "Year": 1825,
         "_deepnote_index_column": 6737,
         "href": "http://sharkattackfile.net/spreadsheets/pdf_directory/1825.00.00.a-Nelson.pdf",
         "href formula": "http://sharkattackfile.net/spreadsheets/pdf_directory/1825.00.00.a-Nelson.pdf",
         "original order": 202,
         "pdf": "1825.00.00.a-Nelson.pdf"
        },
        {
         "Activity": "Swimming",
         "Age": "nan",
         "Case Number": "1825.00.00.b",
         "Case Number.1": "1825.00.00.b",
         "Country": "AUSTRALIA",
         "Date": "1820s",
         "Injury": "FATAL",
         "Location": "Sweet Water Point, Pitt Water",
         "Name": "\"Amphibious Jack\" male",
         "Sex": "M",
         "Source": "C. Black, GSAF, G.T. Lloyd, pp.79-81; C. Black pp. 142-147",
         "Species ": "nan",
         "State": "Tasmania",
         "Time": "nan",
         "Type": "Unprovoked",
         "Unnamed: 11": "Y",
         "Unnamed: 21": "nan",
         "Unnamed: 22": "nan",
         "Year": 1825,
         "_deepnote_index_column": 6736,
         "href": "http://sharkattackfile.net/spreadsheets/pdf_directory/1825.00.00.b-AmphibiousJack.pdf",
         "href formula": "http://sharkattackfile.net/spreadsheets/pdf_directory/1825.00.00.b-AmphibiousJack.pdf",
         "original order": 203,
         "pdf": "1825.00.00.b-AmphibiousJack.pdf"
        },
        {
         "Activity": "Bathing",
         "Age": "nan",
         "Case Number": "1826.11.00",
         "Case Number.1": "1826.11.00",
         "Country": "GHANA",
         "Date": "Ca. Nov-1826",
         "Injury": "FATAL",
         "Location": "nan",
         "Name": "a seaman from HM Redwing",
         "Sex": "M",
         "Source": "Sydney Gazette and New South Wales Advertiser, 7/25/1827 ",
         "Species ": "nan",
         "State": "Cape Coast",
         "Time": "nan",
         "Type": "Unprovoked",
         "Unnamed: 11": "Y",
         "Unnamed: 21": "nan",
         "Unnamed: 22": "nan",
         "Year": 1826,
         "_deepnote_index_column": 6732,
         "href": "http://sharkattackfile.net/spreadsheets/pdf_directory/1826.11.00-seaman-Redwing.pdf",
         "href formula": "http://sharkattackfile.net/spreadsheets/pdf_directory/1826.11.00-seaman-Redwing.pdf",
         "original order": 207,
         "pdf": "1826.11.00-seaman-Redwing.pdf"
        },
        {
         "Activity": "HBM Magpie foundered in a squall",
         "Age": "nan",
         "Case Number": "1826.08.28",
         "Case Number.1": "1826.08.28",
         "Country": "CUBA",
         "Date": "28-Aug-1826",
         "Injury": "FATAL ",
         "Location": "nan",
         "Name": "Lieutenant Edward Smith",
         "Sex": "M",
         "Source": "Edinburgh Advertiser. 10/20/1826",
         "Species ": "nan",
         "State": "nan",
         "Time": "nan",
         "Type": "Sea Disaster",
         "Unnamed: 11": "Y",
         "Unnamed: 21": "nan",
         "Unnamed: 22": "nan",
         "Year": 1826,
         "_deepnote_index_column": 6733,
         "href": "http://sharkattackfile.net/spreadsheets/pdf_directory/1826.08.28-Smith.pdf",
         "href formula": "http://sharkattackfile.net/spreadsheets/pdf_directory/1826.08.28-Smith.pdf",
         "original order": 206,
         "pdf": "1826.08.28-Smith.pdf"
        },
        {
         "Activity": "nan",
         "Age": "nan",
         "Case Number": "1826.12.00",
         "Case Number.1": "1826.12.00",
         "Country": "BRAZIL",
         "Date": "Dec-1826",
         "Injury": "Leg severed",
         "Location": "Paraiba",
         "Name": "a seaman from the ship Beverly",
         "Sex": "M",
         "Source": "Book of the Ocean",
         "Species ": "nan",
         "State": "Paraiba",
         "Time": "nan",
         "Type": "Unprovoked",
         "Unnamed: 11": "N",
         "Unnamed: 21": "nan",
         "Unnamed: 22": "nan",
         "Year": 1826,
         "_deepnote_index_column": 6731,
         "href": "http://sharkattackfile.net/spreadsheets/pdf_directory/1826.12.00-seaman-Beverly.pdf",
         "href formula": "http://sharkattackfile.net/spreadsheets/pdf_directory/1826.12.00-seaman-Beverly.pdf",
         "original order": 208,
         "pdf": "1826.12.00-seaman-Beverly.pdf"
        },
        {
         "Activity": "Jumped overboard",
         "Age": "nan",
         "Case Number": "1826.05.20.R",
         "Case Number.1": "1826.05.20.R",
         "Country": "JAMAICA",
         "Date": "Reported 20-May-1826",
         "Injury": "FATAL",
         "Location": "nan",
         "Name": "Thomas Loring",
         "Sex": "M",
         "Source": "The Times, 7/19/1826",
         "Species ": "nan",
         "State": "nan",
         "Time": "19h00-20h00",
         "Type": "Unprovoked",
         "Unnamed: 11": "Y",
         "Unnamed: 21": "nan",
         "Unnamed: 22": "nan",
         "Year": 1826,
         "_deepnote_index_column": 6735,
         "href": "http://sharkattackfile.net/spreadsheets/pdf_directory/1826.05.20.R-Loring.pdf",
         "href formula": "http://sharkattackfile.net/spreadsheets/pdf_directory/1826.05.20.R-Loring.pdf",
         "original order": 204,
         "pdf": "1826.05.20.R-Loring.pdf"
        },
        {
         "Activity": "Bathing",
         "Age": "nan",
         "Case Number": "1826.08.15.R",
         "Case Number.1": "1826.08.15.R",
         "Country": "ENGLAND",
         "Date": "Reported 15-Aug-1826",
         "Injury": "FATAL",
         "Location": "Whitehaven",
         "Name": "child",
         "Sex": "nan",
         "Source": "The Times (London), 8/15/1826",
         "Species ": "nan",
         "State": "Cumberland",
         "Time": "nan",
         "Type": "Unprovoked",
         "Unnamed: 11": "nan",
         "Unnamed: 21": "nan",
         "Unnamed: 22": "nan",
         "Year": 1826,
         "_deepnote_index_column": 6734,
         "href": "http://sharkattackfile.net/spreadsheets/pdf_directory/1826.08.15.R-Whitehaven.pdf",
         "href formula": "http://sharkattackfile.net/spreadsheets/pdf_directory/1826.08.15.R-Whitehaven.pdf",
         "original order": 205,
         "pdf": "1826.08.15.R-Whitehaven.pdf"
        },
        {
         "Activity": "nan",
         "Age": "nan",
         "Case Number": "1827.00.00",
         "Case Number.1": "1827.00.00",
         "Country": "EGYPT",
         "Date": "1827",
         "Injury": "Remains of the men were recovered from a +17-foot shark",
         "Location": "Alexandria",
         "Name": "Two men",
         "Sex": "M",
         "Source": "C. Moore, GSAF",
         "Species ": "nan",
         "State": "nan",
         "Time": "nan",
         "Type": "Unprovoked",
         "Unnamed: 11": "Y",
         "Unnamed: 21": "nan",
         "Unnamed: 22": "nan",
         "Year": 1827,
         "_deepnote_index_column": 6730,
         "href": "http://sharkattackfile.net/spreadsheets/pdf_directory/1827.00.00-Alexandria.pdf",
         "href formula": "http://sharkattackfile.net/spreadsheets/pdf_directory/1827.00.00-Alexandria.pdf",
         "original order": 209,
         "pdf": "1827.00.00-Alexandria.pdf"
        },
        {
         "Activity": "Swimming",
         "Age": "nan",
         "Case Number": "1827.06.00.a",
         "Case Number.1": "1827.06.00.a",
         "Country": "SIERRA LEONE",
         "Date": "Jun-1827",
         "Injury": "Davis' leg was severed",
         "Location": "Tombo Island in the Sierra Leone River",
         "Name": "William Davis,  of the ship Thomas Gelston",
         "Sex": "M",
         "Source": "Edinburgh Advertiser. 9/12/1828",
         "Species ": "nan",
         "State": "Western Area ",
         "Time": "nan",
         "Type": "Unprovoked",
         "Unnamed: 11": "N",
         "Unnamed: 21": "nan",
         "Unnamed: 22": "nan",
         "Year": 1827,
         "_deepnote_index_column": 6729,
         "href": "http://sharkattackfile.net/spreadsheets/pdf_directory/1827.06.00.a-Davis.pdf",
         "href formula": "http://sharkattackfile.net/spreadsheets/pdf_directory/1827.06.00.a-Davis.pdf",
         "original order": 210,
         "pdf": "1827.06.00.a-Davis.pdf"
        },
        {
         "Activity": "Swimming",
         "Age": "nan",
         "Case Number": "1827.06.00.b",
         "Case Number.1": "1827.06.00.b",
         "Country": "SIERRA LEONE",
         "Date": "Jun-1827",
         "Injury": "The boy's foot was bitten",
         "Location": "Tombo Island in the Sierra Leone River",
         "Name": "A boy, one of the crew of the ship Thomas Gelston",
         "Sex": "M",
         "Source": "Edinburgh Advertiser. 9/12/1828",
         "Species ": "nan",
         "State": "Western Area ",
         "Time": "nan",
         "Type": "Unprovoked",
         "Unnamed: 11": "N",
         "Unnamed: 21": "nan",
         "Unnamed: 22": "nan",
         "Year": 1827,
         "_deepnote_index_column": 6728,
         "href": "http://sharkattackfile.net/spreadsheets/pdf_directory/1827.06.00.b-boy-crew-Gelston.pdf",
         "href formula": "http://sharkattackfile.net/spreadsheets/pdf_directory/1827.06.00.b-boy-crew-Gelston.pdf",
         "original order": 211,
         "pdf": "1827.06.00.b-boy-crew-Gelston.pdf"
        },
        {
         "Activity": "Surfing",
         "Age": "nan",
         "Case Number": "1828.00.00",
         "Case Number.1": "1828.00.00",
         "Country": "USA",
         "Date": "1828",
         "Injury": "FATAL",
         "Location": "Uo, Lahaina, Maui",
         "Name": "Male",
         "Sex": "M",
         "Source": "J. Borg, p.68; L. Taylor (1993), pp.94-95",
         "Species ": "nan",
         "State": "Hawaii",
         "Time": "nan",
         "Type": "Unprovoked",
         "Unnamed: 11": "Y",
         "Unnamed: 21": "nan",
         "Unnamed: 22": "nan",
         "Year": 1828,
         "_deepnote_index_column": 6727,
         "href": "http://sharkattackfile.net/spreadsheets/pdf_directory/1828.00.00-male.pdf",
         "href formula": "http://sharkattackfile.net/spreadsheets/pdf_directory/1828.00.00-male.pdf",
         "original order": 212,
         "pdf": "1828.00.00-male.pdf"
        },
        {
         "Activity": "British ship, Britannia,  was loading lumber. He was bathing",
         "Age": "17",
         "Case Number": "1828.09.28",
         "Case Number.1": "1828.09.28",
         "Country": "SIERRA LEONE",
         "Date": "28-Sep-1828",
         "Injury": "Left arm severed 2.5\" from elbow, groin, abdomen, right forearm & hand lacerated, flesh removed from thigh, baring femur. Both arms surgically amputated: left arm above elbow, right arm above wrist. Survived",
         "Location": "River Sierra Leone, 35 miles  upriver from Freetown",
         "Name": "Thomas Corrigle, an apprentice from the ship",
         "Sex": "M",
         "Source": "Account by J. Boyle",
         "Species ": "nan",
         "State": "Western Area",
         "Time": "nan",
         "Type": "Unprovoked",
         "Unnamed: 11": "N",
         "Unnamed: 21": "nan",
         "Unnamed: 22": "nan",
         "Year": 1828,
         "_deepnote_index_column": 6726,
         "href": "http://sharkattackfile.net/spreadsheets/pdf_directory/1828.09.28-Corrigle.pdf",
         "href formula": "http://sharkattackfile.net/spreadsheets/pdf_directory/1828.09.28-Corrigle.pdf",
         "original order": 213,
         "pdf": "1828.09.28-Corrigle.pdf"
        },
        {
         "Activity": "nan",
         "Age": "nan",
         "Case Number": "1829.07.03.R",
         "Case Number.1": "1829.07.03.R",
         "Country": "SIERRA LEONE",
         "Date": "Reported 03-Jul-1829",
         "Injury": "Both hands severed",
         "Location": "nan",
         "Name": "Thomas Cargill",
         "Sex": "M",
         "Source": "Hagerstown Mail, 7/3/1829",
         "Species ": "nan",
         "State": "Western Area",
         "Time": "nan",
         "Type": "Unprovoked",
         "Unnamed: 11": "N",
         "Unnamed: 21": "nan",
         "Unnamed: 22": "nan",
         "Year": 1829,
         "_deepnote_index_column": 6723,
         "href": "http://sharkattackfile.net/spreadsheets/pdf_directory/1829.07.03.R-Cargill.pdf",
         "href formula": "http://sharkattackfile.net/spreadsheets/pdf_directory/1829.07.03.R-Cargill.pdf",
         "original order": 216,
         "pdf": "1829.07.03.R-Cargill.pdf"
        },
        {
         "Activity": "Wreck of the schooner Driver",
         "Age": "nan",
         "Case Number": "1829.00.00",
         "Case Number.1": "1829.00.00",
         "Country": "CARIBBEAN SEA",
         "Date": "1829",
         "Injury": "FATAL x 2",
         "Location": "Between St. Bart's and Saba",
         "Name": "Ned & Pawn",
         "Sex": "M",
         "Source": "The Times, 12/14/1829",
         "Species ": "nan",
         "State": "nan",
         "Time": "nan",
         "Type": "Sea Disaster",
         "Unnamed: 11": "Y",
         "Unnamed: 21": "nan",
         "Unnamed: 22": "nan",
         "Year": 1829,
         "_deepnote_index_column": 6725,
         "href": "http://sharkattackfile.net/spreadsheets/pdf_directory/1829.00.00-Ned-Pawn.pdf",
         "href formula": "http://sharkattackfile.net/spreadsheets/pdf_directory/1829.00.00-Ned-Pawn.pdf",
         "original order": 214,
         "pdf": "1829.00.00-Ned-Pawn.pdf"
        },
        {
         "Activity": "Fell overboard from the ship Gem",
         "Age": "nan",
         "Case Number": "1829.06.10",
         "Case Number.1": "1829.06.10",
         "Country": "USA",
         "Date": "10-Jun-1829",
         "Injury": "FATAL",
         "Location": "Sandy Hook Bay, Highlands, Monmouth County",
         "Name": "male",
         "Sex": "M",
         "Source": "The Evening Post, 6/12/1829",
         "Species ": "nan",
         "State": "New Jersey",
         "Time": "Morning",
         "Type": "Unprovoked",
         "Unnamed: 11": "Y",
         "Unnamed: 21": "nan",
         "Unnamed: 22": "nan",
         "Year": 1829,
         "_deepnote_index_column": 6724,
         "href": "http://sharkattackfile.net/spreadsheets/pdf_directory/1829.06.10-Gem.pdf",
         "href formula": "http://sharkattackfile.net/spreadsheets/pdf_directory/1829.06.10-Gem.pdf",
         "original order": 215,
         "pdf": "1829.06.10-Gem.pdf"
        },
        {
         "Activity": "Washing a dog",
         "Age": "nan",
         "Case Number": "1830.07.02.R",
         "Case Number.1": "1830.07.02.R",
         "Country": "INDIA",
         "Date": "Reported 02-Jul-1830",
         "Injury": "FATAL",
         "Location": "Madras",
         "Name": "male",
         "Sex": "M",
         "Source": "Madras Courier, 7/2/1830",
         "Species ": "nan",
         "State": "Tamil Nadu",
         "Time": "Evening",
         "Type": "Unprovoked",
         "Unnamed: 11": "Y",
         "Unnamed: 21": "nan",
         "Unnamed: 22": "nan",
         "Year": 1830,
         "_deepnote_index_column": 6720,
         "href": "http://sharkattackfile.net/spreadsheets/pdf_directory/1830.07.02.R-Madras.pdf",
         "href formula": "http://sharkattackfile.net/spreadsheets/pdf_directory/1830.07.02.R-Madras.pdf",
         "original order": 219,
         "pdf": "1830.07.02.R-Madras.pdf"
        },
        {
         "Activity": "Fishing from dory, shark upset boat & he fell into the water",
         "Age": "52",
         "Case Number": "1830.07.26",
         "Case Number.1": "1830.07.26",
         "Country": "USA",
         "Date": "26-Jul-1830",
         "Injury": "FATAL",
         "Location": "Swampscott, Essex County",
         "Name": "Joseph Blaney",
         "Sex": "M",
         "Source": "Huron Sun, 8/3/1830",
         "Species ": "nan",
         "State": "Massachusetts",
         "Time": "nan",
         "Type": "Unprovoked",
         "Unnamed: 11": "Y",
         "Unnamed: 21": "nan",
         "Unnamed: 22": "nan",
         "Year": 1830,
         "_deepnote_index_column": 6719,
         "href": "http://sharkattackfile.net/spreadsheets/pdf_directory/1830.07.26-JosephBlaney.pdf",
         "href formula": "http://sharkattackfile.net/spreadsheets/pdf_directory/1830.07.26-JosephBlaney.pdf",
         "original order": 220,
         "pdf": "1830.07.26-JosephBlaney.pdf"
        },
        {
         "Activity": "nan",
         "Age": "nan",
         "Case Number": "1830.04.22.R",
         "Case Number.1": "1830.04.22.R",
         "Country": "nan",
         "Date": "Reported 22-Apr-1830",
         "Injury": "FATAL",
         "Location": "nan",
         "Name": "Jose",
         "Sex": "M",
         "Source": "The Torchlight & Public Advertiser, 4/22/1830",
         "Species ": "nan",
         "State": "nan",
         "Time": "Night",
         "Type": "Unprovoked",
         "Unnamed: 11": "Y",
         "Unnamed: 21": "nan",
         "Unnamed: 22": "nan",
         "Year": 1830,
         "_deepnote_index_column": 6722,
         "href": "http://sharkattackfile.net/spreadsheets/pdf_directory/1830.04.22.R-Jose.pdf",
         "href formula": "http://sharkattackfile.net/spreadsheets/pdf_directory/1830.04.22.R-Jose.pdf",
         "original order": 217,
         "pdf": "1830.04.22.R-Jose.pdf"
        },
        {
         "Activity": "Bathing",
         "Age": "nan",
         "Case Number": "1830.04.30",
         "Case Number.1": "1830.04.30",
         "Country": "INDIA",
         "Date": "30-Apr-1830",
         "Injury": "FATAL",
         "Location": "St. Thomé",
         "Name": "Ensign Bromwick",
         "Sex": "M",
         "Source": "Madras Gazette, 5/1/1830",
         "Species ": "nan",
         "State": "Tamil Nadu",
         "Time": "17h00-18h00",
         "Type": "Unprovoked",
         "Unnamed: 11": "Y",
         "Unnamed: 21": "nan",
         "Unnamed: 22": "nan",
         "Year": 1830,
         "_deepnote_index_column": 6721,
         "href": "http://sharkattackfile.net/spreadsheets/pdf_directory/1830.04.30-Bromwick.pdf",
         "href formula": "http://sharkattackfile.net/spreadsheets/pdf_directory/1830.04.30-Bromwick.pdf",
         "original order": 218,
         "pdf": "1830.04.30-Bromwick.pdf"
        },
        {
         "Activity": "Boat capsized, clinging to line",
         "Age": "nan",
         "Case Number": "1831.01.22.R",
         "Case Number.1": "1831.01.22.R",
         "Country": "AUSTRALIA",
         "Date": "Reported 22- Jan-1831",
         "Injury": "Drowned, no shark involvement",
         "Location": "Hobart",
         "Name": "Robert Dudlow",
         "Sex": "M",
         "Source": "C. Black, GSAF; Sydney Gazette, 1/22/1831",
         "Species ": "Invalid",
         "State": "Tasmania",
         "Time": "nan",
         "Type": "Invalid",
         "Unnamed: 11": "nan",
         "Unnamed: 21": "nan",
         "Unnamed: 22": "nan",
         "Year": 1831,
         "_deepnote_index_column": 6718,
         "href": "http://sharkattackfile.net/spreadsheets/pdf_directory/1831.01.22.R-Dudlow.pdf",
         "href formula": "http://sharkattackfile.net/spreadsheets/pdf_directory/1831.01.22.R-Dudlow.pdf",
         "original order": 221,
         "pdf": "1831.01.22.R-Dudlow.pdf"
        },
        {
         "Activity": "American schooner Orator capsized  ",
         "Age": "nan",
         "Case Number": "1831.08.24",
         "Case Number.1": "1831.08.24",
         "Country": "USA",
         "Date": "24-Aug-1831",
         "Injury": "FATAL",
         "Location": "Near Havana",
         "Name": "crew x 2",
         "Sex": "M",
         "Source": "New York Evening Post, 9/14/1831",
         "Species ": "nan",
         "State": "CUBA",
         "Time": "nan",
         "Type": "Watercraft",
         "Unnamed: 11": "Y",
         "Unnamed: 21": "nan",
         "Unnamed: 22": "nan",
         "Year": 1831,
         "_deepnote_index_column": 6717,
         "href": "http://sharkattackfile.net/spreadsheets/pdf_directory/1831.08.24-Orator.pdf",
         "href formula": "http://sharkattackfile.net/spreadsheets/pdf_directory/1831.08.24-Orator.pdf",
         "original order": 222,
         "pdf": "1831.08.24-Orator.pdf"
        },
        {
         "Activity": "Bathing",
         "Age": "nan",
         "Case Number": "1832.01.23.R",
         "Case Number.1": "1832.01.23.R",
         "Country": "AUSTRALIA",
         "Date": "Reported 23-Jan-1832",
         "Injury": "Laceration to leg",
         "Location": "Sydney",
         "Name": "male",
         "Sex": "M",
         "Source": "Sydney Herald, 1/23/1832",
         "Species ": "nan",
         "State": "New South Wales",
         "Time": "nan",
         "Type": "Unprovoked",
         "Unnamed: 11": "N",
         "Unnamed: 21": "nan",
         "Unnamed: 22": "nan",
         "Year": 1832,
         "_deepnote_index_column": 6716,
         "href": "http://sharkattackfile.net/spreadsheets/pdf_directory/1832.01.23.R-Wilshire-slaughter-house.pdf",
         "href formula": "http://sharkattackfile.net/spreadsheets/pdf_directory/1832.01.23.R-Wilshire-slaughter-house.pdf",
         "original order": 223,
         "pdf": "1832.01.23.R-Wilshire-slaughter-house.pdf"
        },
        {
         "Activity": "Fishing",
         "Age": "nan",
         "Case Number": "1832.06.04",
         "Case Number.1": "1832.06.04",
         "Country": "AUSTRALIA",
         "Date": "04-Jun-1832",
         "Injury": "Leg severed",
         "Location": "South Head, Sydney",
         "Name": "Aboriginal female",
         "Sex": "F",
         "Source": "Sydney Herald, 6/11/1832",
         "Species ": "nan",
         "State": "New South Wales",
         "Time": "nan",
         "Type": "Unprovoked",
         "Unnamed: 11": "N",
         "Unnamed: 21": "nan",
         "Unnamed: 22": "nan",
         "Year": 1832,
         "_deepnote_index_column": 6715,
         "href": "http://sharkattackfile.net/spreadsheets/pdf_directory/1832.06.04-AboriginalWoman.pdf",
         "href formula": "http://sharkattackfile.net/spreadsheets/pdf_directory/1832.06.04-AboriginalWoman.pdf",
         "original order": 224,
         "pdf": "1832.06.04-AboriginalWoman.pdf"
        },
        {
         "Activity": "Swimming",
         "Age": "nan",
         "Case Number": "1834.07.15.R",
         "Case Number.1": "1834.07.15.R",
         "Country": "FRENCH POLYNESIA",
         "Date": "Reported 15-Jul-1834",
         "Injury": "FATAL",
         "Location": "Tahiti",
         "Name": "Kaugatava Orurutm",
         "Sex": "F",
         "Source": "Republican Banner, 7/15/1834",
         "Species ": "Reported to involve a hammerhead shark",
         "State": "Society Islands",
         "Time": "nan",
         "Type": "Unprovoked",
         "Unnamed: 11": "Y",
         "Unnamed: 21": "nan",
         "Unnamed: 22": "nan",
         "Year": 1834,
         "_deepnote_index_column": 6714,
         "href": "http://sharkattackfile.net/spreadsheets/pdf_directory/1834.07.15.R-Tahiti.pdf",
         "href formula": "http://sharkattackfile.net/spreadsheets/pdf_directory/1834.07.15.R-Tahiti.pdf",
         "original order": 225,
         "pdf": "1834.07.15.R-Tahiti.pdf"
        },
        {
         "Activity": "Hooking into a whale",
         "Age": "nan",
         "Case Number": "1835.01.06",
         "Case Number.1": "1835.01.06",
         "Country": "TASMAN SEA",
         "Date": "06-Jan-1835",
         "Injury": "\"Savagely bitten\" but apparently survived",
         "Location": "Alongside the whaler Marianne",
         "Name": "male",
         "Sex": "M",
         "Source": "G.P. Whitley, p. 259",
         "Species ": "nan",
         "State": "35º39 : 165º8'",
         "Time": "nan",
         "Type": "Unprovoked",
         "Unnamed: 11": "N",
         "Unnamed: 21": "nan",
         "Unnamed: 22": "nan",
         "Year": 1835,
         "_deepnote_index_column": 6713,
         "href": "http://sharkattackfile.net/spreadsheets/pdf_directory/1835.01.06-Whaler.pdf",
         "href formula": "http://sharkattackfile.net/spreadsheets/pdf_directory/1835.01.06-Whaler.pdf",
         "original order": 226,
         "pdf": "1835.01.06-Whaler.pdf"
        },
        {
         "Activity": "Bathing",
         "Age": "nan",
         "Case Number": "1835.02.21.R",
         "Case Number.1": "1835.02.21.R",
         "Country": "VANUATU",
         "Date": "Reported 21-Feb-1835",
         "Injury": "FATAL",
         "Location": "Bay of Yago, Espiritu Santo Island",
         "Name": "John McKeig",
         "Sex": "M",
         "Source": "Sydney Gazette, 2/21/1835",
         "Species ": "nan",
         "State": "Sanma Province",
         "Time": "nan",
         "Type": "Unprovoked",
         "Unnamed: 11": "Y",
         "Unnamed: 21": "nan",
         "Unnamed: 22": "nan",
         "Year": 1835,
         "_deepnote_index_column": 6712,
         "href": "http://sharkattackfile.net/spreadsheets/pdf_directory/1835.02.21.R-McKeig.pdf",
         "href formula": "http://sharkattackfile.net/spreadsheets/pdf_directory/1835.02.21.R-McKeig.pdf",
         "original order": 227,
         "pdf": "1835.02.21.R-McKeig.pdf"
        },
        {
         "Activity": "nan",
         "Age": "nan",
         "Case Number": "1836.00.00.a",
         "Case Number.1": "1836.00.00.a",
         "Country": "AUSTRALIA",
         "Date": "1836.00.",
         "Injury": "No details, it was the year the first settlers came ashore in Holdfast Bay, Port Pirie",
         "Location": "nan",
         "Name": "nan",
         "Sex": "nan",
         "Source": "A. Sharpe, p.119",
         "Species ": "nan",
         "State": "South Australia",
         "Time": "nan",
         "Type": "Unprovoked",
         "Unnamed: 11": "UNKNOWN",
         "Unnamed: 21": "nan",
         "Unnamed: 22": "nan",
         "Year": 1836,
         "_deepnote_index_column": 6711,
         "href": "http://sharkattackfile.net/spreadsheets/pdf_directory/1836.00.00.a-HoldfastBay.pdf",
         "href formula": "http://sharkattackfile.net/spreadsheets/pdf_directory/1836.00.00.a-HoldfastBay.pdf",
         "original order": 228,
         "pdf": "1836.00.00.a-HoldfastBay.pdf"
        },
        {
         "Activity": "nan",
         "Age": "nan",
         "Case Number": "1836.07.26.R",
         "Case Number.1": "1836.07.26.R",
         "Country": "SPAIN",
         "Date": "1836.07.26.R",
         "Injury": "Shark caught, contained human remains",
         "Location": "nan",
         "Name": "nan",
         "Sex": "nan",
         "Source": "C. Moore, GSAF",
         "Species ": "Shark involvement prior to death unconfirmed",
         "State": "nan",
         "Time": "nan",
         "Type": "Invalid",
         "Unnamed: 11": "nan",
         "Unnamed: 21": "nan",
         "Unnamed: 22": "nan",
         "Year": 1836,
         "_deepnote_index_column": 6710,
         "href": "http://sharkattackfile.net/spreadsheets/pdf_directory/1836.07.26.R-Spain.pdf",
         "href formula": "http://sharkattackfile.net/spreadsheets/pdf_directory/1836.07.26.R-Spain.pdf",
         "original order": 229,
         "pdf": "1836.07.26.R-Spain.pdf"
        },
        {
         "Activity": "Bathing",
         "Age": "nan",
         "Case Number": "1837.09.03",
         "Case Number.1": "1837.09.03",
         "Country": "USA",
         "Date": "09-Sep-1837",
         "Injury": "Right foot bittten",
         "Location": "Magwoods Wharf, Charleston Harbor, Charleston County",
         "Name": "a young boy from the Plymouth",
         "Sex": "M",
         "Source": "C. Creswell, GSAF; J. Hair, pp.65-66",
         "Species ": "nan",
         "State": "South Carolina",
         "Time": "nan",
         "Type": "Unprovoked",
         "Unnamed: 11": "N",
         "Unnamed: 21": "nan",
         "Unnamed: 22": "nan",
         "Year": 1837,
         "_deepnote_index_column": 6705,
         "href": "http://sharkattackfile.net/spreadsheets/pdf_directory/1837.09.03-Plymouth-boy.pdf",
         "href formula": "http://sharkattackfile.net/spreadsheets/pdf_directory/1837.09.03-Plymouth-boy.pdf",
         "original order": 234,
         "pdf": "1837.09.03-Plymouth-boy.pdf"
        },
        {
         "Activity": "Bathing",
         "Age": "nan",
         "Case Number": "1837.07.00",
         "Case Number.1": "1837.07.00",
         "Country": "USA",
         "Date": "Jul-1837",
         "Injury": "Leg injured",
         "Location": "New York",
         "Name": "Alexander Barony",
         "Sex": "M",
         "Source": "Public Ledger, 7.13/1837",
         "Species ": "nan",
         "State": "New York",
         "Time": "Evening",
         "Type": "Unprovoked",
         "Unnamed: 11": "N",
         "Unnamed: 21": "nan",
         "Unnamed: 22": "nan",
         "Year": 1837,
         "_deepnote_index_column": 6706,
         "href": "http://sharkattackfile.net/spreadsheets/pdf_directory/1837.07.00-Barony.pdf",
         "href formula": "http://sharkattackfile.net/spreadsheets/pdf_directory/1837.07.00-Barony.pdf",
         "original order": 233,
         "pdf": "1837.07.00-Barony.pdf"
        },
        {
         "Activity": "Washing his feet",
         "Age": "12",
         "Case Number": "1837.01.17",
         "Case Number.1": "1837.01.17",
         "Country": "AUSTRALIA",
         "Date": "17-Jan-1837",
         "Injury": "FATAL     Injured by shark, died of tetanus",
         "Location": "Macleay River",
         "Name": "Alfred Australia Howe",
         "Sex": "M",
         "Source": "Gazette (Sydney) 1/31/1837; Proc. Royal Aust. Hist. Scty, I, Part 2, 1924; G.P. Whitley, p.14; Sharpe, p. 87",
         "Species ": "nan",
         "State": "New South Wales",
         "Time": "Evening",
         "Type": "Unprovoked",
         "Unnamed: 11": "Y",
         "Unnamed: 21": "nan",
         "Unnamed: 22": "nan",
         "Year": 1837,
         "_deepnote_index_column": 6707,
         "href": "http://sharkattackfile.net/spreadsheets/pdf_directory/1837.01.17-Howe.pdf",
         "href formula": "http://sharkattackfile.net/spreadsheets/pdf_directory/1837.01.17-Howe.pdf",
         "original order": 232,
         "pdf": "1837.01.17-Howe.pdf"
        },
        {
         "Activity": "nan",
         "Age": "nan",
         "Case Number": "1837.00.00.a",
         "Case Number.1": "1837.00.00.a",
         "Country": "USA",
         "Date": "Ca. 1837",
         "Injury": "7.6 m [25'] shark caught contained human remains",
         "Location": "“Southern Wharf”",
         "Name": "adult male, a sailor",
         "Sex": "M",
         "Source": "W. H. Gregg",
         "Species ": "Shark involvement prior to death unconfirmed",
         "State": "South Carolina",
         "Time": "nan",
         "Type": "Invalid",
         "Unnamed: 11": "nan",
         "Unnamed: 21": "nan",
         "Unnamed: 22": "nan",
         "Year": 1837,
         "_deepnote_index_column": 6708,
         "href": "http://sharkattackfile.net/spreadsheets/pdf_directory/1837.00.00.a-remains.pdf",
         "href formula": "http://sharkattackfile.net/spreadsheets/pdf_directory/1837.00.00.a-remains.pdf",
         "original order": 231,
         "pdf": "1837.00.00.a-remains.pdf"
        },
        {
         "Activity": "nan",
         "Age": "29",
         "Case Number": "1839.00.00.a",
         "Case Number.1": "1839.00.00.a",
         "Country": "FIJI",
         "Date": "Ca. 1839",
         "Injury": "Survived",
         "Location": "Rewa ",
         "Name": "Joeli Bulu, missionary",
         "Sex": "M",
         "Source": "J. Garrett; T. Kanailagi",
         "Species ": "nan",
         "State": "Viti Levu Island",
         "Time": "nan",
         "Type": "Unprovoked",
         "Unnamed: 11": "N",
         "Unnamed: 21": "nan",
         "Unnamed: 22": "nan",
         "Year": 1839,
         "_deepnote_index_column": 6704,
         "href": "http://sharkattackfile.net/spreadsheets/pdf_directory/1839.00.00.a-Pulu.pdf",
         "href formula": "http://sharkattackfile.net/spreadsheets/pdf_directory/1839.00.00.a-Pulu.pdf",
         "original order": 235,
         "pdf": "1839.00.00.a-Pulu.pdf"
        },
        {
         "Activity": "Attempting to rescue crew after whale upset their boat",
         "Age": "nan",
         "Case Number": "1839.00.00.b",
         "Case Number.1": "1839.00.00.b",
         "Country": "AUSTRALIA",
         "Date": "1839/1840",
         "Injury": "FATAL",
         "Location": "Horn Point, Lady's Bay",
         "Name": "Captain Wishart of the whaler Wallaby",
         "Sex": "M",
         "Source": "G. Dunderdale, The Book of the Bush",
         "Species ": "nan",
         "State": "South Australia",
         "Time": "nan",
         "Type": "Unprovoked",
         "Unnamed: 11": "Y",
         "Unnamed: 21": "nan",
         "Unnamed: 22": "nan",
         "Year": 1839,
         "_deepnote_index_column": 6703,
         "href": "http://sharkattackfile.net/spreadsheets/pdf_directory/1839.00.00.b-Wishart.pdf",
         "href formula": "http://sharkattackfile.net/spreadsheets/pdf_directory/1839.00.00.b-Wishart.pdf",
         "original order": 236,
         "pdf": "1839.00.00.b-Wishart.pdf"
        },
        {
         "Activity": "Sitting on gunwale of boat",
         "Age": "nan",
         "Case Number": "1839.04.14",
         "Case Number.1": "1839.04.14",
         "Country": "CUBA",
         "Date": "14-Apr-1839",
         "Injury": "FATAL",
         "Location": "Matanzas",
         "Name": "sailor",
         "Sex": "M",
         "Source": "Daily Courant, 5/31/1839",
         "Species ": "\"a large shark\"",
         "State": "Matanzas Province (north coast)",
         "Time": "nan",
         "Type": "Unprovoked",
         "Unnamed: 11": "Y",
         "Unnamed: 21": "nan",
         "Unnamed: 22": "nan",
         "Year": 1839,
         "_deepnote_index_column": 6702,
         "href": "http://sharkattackfile.net/spreadsheets/pdf_directory/1839.04.14-Matanzas.pdf",
         "href formula": "http://sharkattackfile.net/spreadsheets/pdf_directory/1839.04.14-Matanzas.pdf",
         "original order": 237,
         "pdf": "1839.04.14-Matanzas.pdf"
        },
        {
         "Activity": "nan",
         "Age": "nan",
         "Case Number": "1839.11.17",
         "Case Number.1": "1839.11.17",
         "Country": "AUSTRALIA",
         "Date": "17-Nov-1839",
         "Injury": "\"Drowned, 2 days later his head was bitten off by a shark\"",
         "Location": "nan",
         "Name": "Mr.Johnson (male)",
         "Sex": "M",
         "Source": "H.D. Baldridge, p.146",
         "Species ": "nan",
         "State": "New South Wales",
         "Time": "nan",
         "Type": "Invalid",
         "Unnamed: 11": "nan",
         "Unnamed: 21": "nan",
         "Unnamed: 22": "nan",
         "Year": 1839,
         "_deepnote_index_column": 6701,
         "href": "http://sharkattackfile.net/spreadsheets/pdf_directory/1839.11.17-Johnson.pdf",
         "href formula": "http://sharkattackfile.net/spreadsheets/pdf_directory/1839.11.17-Johnson.pdf",
         "original order": 238,
         "pdf": "1839.11.17-Johnson.pdf"
        },
        {
         "Activity": "Sailing",
         "Age": "nan",
         "Case Number": "1840.02.00",
         "Case Number.1": "1840.02.00",
         "Country": "AUSTRALIA",
         "Date": "Feb-1840",
         "Injury": "No injury to occupant, shark seized stern post",
         "Location": "George Town Cove",
         "Name": "A dinghy",
         "Sex": "nan",
         "Source": "C. Black, GSAF",
         "Species ": "nan",
         "State": "Tasmania",
         "Time": "nan",
         "Type": "Watercraft",
         "Unnamed: 11": "N",
         "Unnamed: 21": "nan",
         "Unnamed: 22": "nan",
         "Year": 1840,
         "_deepnote_index_column": 6700,
         "href": "http://sharkattackfile.net/spreadsheets/pdf_directory/1840.02.00-dinghy.pdf",
         "href formula": "http://sharkattackfile.net/spreadsheets/pdf_directory/1840.02.00-dinghy.pdf",
         "original order": 239,
         "pdf": "1840.02.00-dinghy.pdf"
        },
        {
         "Activity": "Swimming",
         "Age": "nan",
         "Case Number": "1840.04.09.R",
         "Case Number.1": "1840.04.09.R",
         "Country": "WEST INDIES",
         "Date": "Reported 09-Apr-1840",
         "Injury": "FATAL",
         "Location": "nan",
         "Name": "\"A\" ",
         "Sex": "M",
         "Source": "Long-Island Star, 4/9/1840",
         "Species ": "nan",
         "State": "nan",
         "Time": "nan",
         "Type": "Unprovoked",
         "Unnamed: 11": "Y",
         "Unnamed: 21": "nan",
         "Unnamed: 22": "nan",
         "Year": 1840,
         "_deepnote_index_column": 6699,
         "href": "http://sharkattackfile.net/spreadsheets/pdf_directory/1840.04.09.R-A.pdf",
         "href formula": "http://sharkattackfile.net/spreadsheets/pdf_directory/1840.04.09.R-A.pdf",
         "original order": 240,
         "pdf": "1840.04.09.R-A.pdf"
        },
        {
         "Activity": "Accidentally thrown overboard & treading water while awaiting rescue",
         "Age": "nan",
         "Case Number": "1840.07.22.R",
         "Case Number.1": "1840.07.22.R",
         "Country": "USA",
         "Date": "Reported 22-Jul-1840",
         "Injury": "FATAL, body was not recovered",
         "Location": "Charleston Harbor, Charleston County",
         "Name": "crew member of a pilot boat",
         "Sex": "M",
         "Source": "C. Creswell, GSAF",
         "Species ": "Said to be a 7.6 m [25'] shark",
         "State": "South Carolina",
         "Time": "nan",
         "Type": "Unprovoked",
         "Unnamed: 11": "Y",
         "Unnamed: 21": "nan",
         "Unnamed: 22": "nan",
         "Year": 1840,
         "_deepnote_index_column": 6698,
         "href": "http://sharkattackfile.net/spreadsheets/pdf_directory/1840.07.22.R-pilot.pdf",
         "href formula": "http://sharkattackfile.net/spreadsheets/pdf_directory/1840.07.22.R-pilot.pdf",
         "original order": 241,
         "pdf": "1840.07.22.R-pilot.pdf"
        },
        {
         "Activity": "nan",
         "Age": "nan",
         "Case Number": "1840.09.18.R",
         "Case Number.1": "1840.09.18.R",
         "Country": "FIJI",
         "Date": "Reported 18-Sep-1840",
         "Injury": "Arms & legs severed",
         "Location": "Rewa ",
         "Name": "male",
         "Sex": "M",
         "Source": "Hobart Town Courier, 9/18/1840",
         "Species ": "nan",
         "State": "Viti Levu Island",
         "Time": "nan",
         "Type": "Unprovoked",
         "Unnamed: 11": "N",
         "Unnamed: 21": "nan",
         "Unnamed: 22": "nan",
         "Year": 1840,
         "_deepnote_index_column": 6697,
         "href": "http://sharkattackfile.net/spreadsheets/pdf_directory/1840.09.18.R-Fiji.pdf",
         "href formula": "http://sharkattackfile.net/spreadsheets/pdf_directory/1840.09.18.R-Fiji.pdf",
         "original order": 242,
         "pdf": "1840.09.18.R-Fiji.pdf"
        },
        {
         "Activity": "Swimming",
         "Age": "nan",
         "Case Number": "1840.12.00",
         "Case Number.1": "1840.12.00",
         "Country": "AUSTRALIA",
         "Date": "Dec-1840",
         "Injury": "FATAL",
         "Location": "Off Domain, Sydney Harbor",
         "Name": "male",
         "Sex": "M",
         "Source": "G.P. Whitley, p.259; L. Schultz & M. Malin, p.523",
         "Species ": "nan",
         "State": "New South Wales",
         "Time": "nan",
         "Type": "Unprovoked",
         "Unnamed: 11": "Y",
         "Unnamed: 21": "nan",
         "Unnamed: 22": "nan",
         "Year": 1840,
         "_deepnote_index_column": 6696,
         "href": "http://sharkattackfile.net/spreadsheets/pdf_directory/1840.12.00 - Domain.pdf",
         "href formula": "http://sharkattackfile.net/spreadsheets/pdf_directory/1840.12.00 - Domain.pdf",
         "original order": 243,
         "pdf": "1840.12.00 - Domain.pdf"
        },
        {
         "Activity": "Bathing",
         "Age": "nan",
         "Case Number": "1841.03.27",
         "Case Number.1": "1841.03.27",
         "Country": "AUSTRALIA",
         "Date": "27-Mar-1841",
         "Injury": "FATAL",
         "Location": "Cockatoo Island, Sydney",
         "Name": "Andrew Goggin",
         "Sex": "M",
         "Source": "Sydney Gazette, 4/27/1841",
         "Species ": "nan",
         "State": "New South Wales",
         "Time": "14h00",
         "Type": "Unprovoked",
         "Unnamed: 11": "Y",
         "Unnamed: 21": "nan",
         "Unnamed: 22": "nan",
         "Year": 1841,
         "_deepnote_index_column": 6695,
         "href": "http://sharkattackfile.net/spreadsheets/pdf_directory/1841.03.27-Goggin.pdf",
         "href formula": "http://sharkattackfile.net/spreadsheets/pdf_directory/1841.03.27-Goggin.pdf",
         "original order": 244,
         "pdf": "1841.03.27-Goggin.pdf"
        },
        {
         "Activity": "Harassing a shark",
         "Age": "nan",
         "Case Number": "1842.07.06",
         "Case Number.1": "1842.07.06",
         "Country": "USA",
         "Date": "06-Jul-1842",
         "Injury": "Lacerations to leg  PROVOKED INCIDENT",
         "Location": "Absecon, Atlantic County",
         "Name": "male",
         "Sex": "nan",
         "Source": "New York Evening Post, 7/11/1842",
         "Species ": "nan",
         "State": "New Jersey",
         "Time": "nan",
         "Type": "Provoked",
         "Unnamed: 11": "N",
         "Unnamed: 21": "nan",
         "Unnamed: 22": "nan",
         "Year": 1842,
         "_deepnote_index_column": 6692,
         "href": "http://sharkattackfile.net/spreadsheets/pdf_directory/1842.07.06-Absecon.pdf",
         "href formula": "http://sharkattackfile.net/spreadsheets/pdf_directory/1842.07.06-Absecon.pdf",
         "original order": 247,
         "pdf": "1842.07.06-Absecon.pdf"
        },
        {
         "Activity": "Swimming",
         "Age": "15",
         "Case Number": "1842.07.13",
         "Case Number.1": "1842.07.13",
         "Country": "USA",
         "Date": "13-Jul-1842",
         "Injury": "Lacerations to leg",
         "Location": "Absecon, Atlantic County",
         "Name": "male",
         "Sex": "M",
         "Source": "Brooklyn Evening Star, 7/14/1842 ",
         "Species ": "nan",
         "State": "New Jersey",
         "Time": "nan",
         "Type": "Unprovoked",
         "Unnamed: 11": "N",
         "Unnamed: 21": "nan",
         "Unnamed: 22": "nan",
         "Year": 1842,
         "_deepnote_index_column": 6691,
         "href": "http://sharkattackfile.net/spreadsheets/pdf_directory/1842.07.13-Absecom.pdf",
         "href formula": "http://sharkattackfile.net/spreadsheets/pdf_directory/1842.07.13-Absecom.pdf",
         "original order": 248,
         "pdf": "1842.07.13-Absecom.pdf"
        },
        {
         "Activity": "Unknown, but it was said to be the \"First known attack in Sydney Harbour\"",
         "Age": "nan",
         "Case Number": "1842.00.00.a",
         "Case Number.1": "1842.00.00.a",
         "Country": "AUSTRALIA",
         "Date": "1842",
         "Injury": "Recovered",
         "Location": "Sydney Harbor",
         "Name": "male",
         "Sex": "M",
         "Source": "V.M. Coppleson (1933), p.450",
         "Species ": "nan",
         "State": "New South Wales",
         "Time": "nan",
         "Type": "Unprovoked",
         "Unnamed: 11": "N",
         "Unnamed: 21": "nan",
         "Unnamed: 22": "nan",
         "Year": 1842,
         "_deepnote_index_column": 6694,
         "href": "http://sharkattackfile.net/spreadsheets/pdf_directory/1842.00.00.a-1st-SydneyHarbour.pdf",
         "href formula": "http://sharkattackfile.net/spreadsheets/pdf_directory/1842.00.00.a-1st-SydneyHarbour.pdf",
         "original order": 245,
         "pdf": "1842.00.00.a-1st-SydneyHarbour.pdf"
        },
        {
         "Activity": "Washed off catamaran in the surf",
         "Age": "7 or 8",
         "Case Number": "1842.00.00.b",
         "Case Number.1": "1842.00.00.b",
         "Country": "INDIA",
         "Date": "1842",
         "Injury": "FATAL",
         "Location": " Chennai (formerly Madras)",
         "Name": "male",
         "Sex": "M",
         "Source": "Tioga Eagle, 10/26/1842",
         "Species ": "nan",
         "State": "Tamil Nadu",
         "Time": "nan",
         "Type": "Unprovoked",
         "Unnamed: 11": "Y",
         "Unnamed: 21": "nan",
         "Unnamed: 22": "nan",
         "Year": 1842,
         "_deepnote_index_column": 6693,
         "href": "http://sharkattackfile.net/spreadsheets/pdf_directory/1842.00.00.b-Hindoo.pdf",
         "href formula": "http://sharkattackfile.net/spreadsheets/pdf_directory/1842.00.00.b-Hindoo.pdf",
         "original order": 246,
         "pdf": "1842.00.00.b-Hindoo.pdf"
        },
        {
         "Activity": "Fell overboard",
         "Age": "nan",
         "Case Number": "1844.00.00",
         "Case Number.1": "1844.00.00",
         "Country": "MADAGASCAR",
         "Date": "1844",
         "Injury": "FATAL",
         "Location": "nan",
         "Name": "Mr. Andrews",
         "Sex": "M",
         "Source": "GSAF",
         "Species ": "nan",
         "State": "nan",
         "Time": "nan",
         "Type": "Unprovoked",
         "Unnamed: 11": "Y",
         "Unnamed: 21": "nan",
         "Unnamed: 22": "nan",
         "Year": 1844,
         "_deepnote_index_column": 6690,
         "href": "http://sharkattackfile.net/spreadsheets/pdf_directory/1844.00.00-Andrews.pdf",
         "href formula": "http://sharkattackfile.net/spreadsheets/pdf_directory/1844.00.00-Andrews.pdf",
         "original order": 249,
         "pdf": "1844.00.00-Andrews.pdf"
        },
        {
         "Activity": "Fell overboard",
         "Age": "nan",
         "Case Number": "1844.05.24",
         "Case Number.1": "1844.05.24",
         "Country": "Coast of AFRICA",
         "Date": "24-May-1844",
         "Injury": "FATAL",
         "Location": "nan",
         "Name": "Martin, coxswain of the USS Saratoga",
         "Sex": "M",
         "Source": "Tioga Eagle, 7/31/1844 ",
         "Species ": "nan",
         "State": "Island of St. Thomas",
         "Time": "nan",
         "Type": "Unprovoked",
         "Unnamed: 11": "Y",
         "Unnamed: 21": "nan",
         "Unnamed: 22": "nan",
         "Year": 1844,
         "_deepnote_index_column": 6689,
         "href": "http://sharkattackfile.net/spreadsheets/pdf_directory/1844.05.24-Saratoga.pdf",
         "href formula": "http://sharkattackfile.net/spreadsheets/pdf_directory/1844.05.24-Saratoga.pdf",
         "original order": 250,
         "pdf": "1844.05.24-Saratoga.pdf"
        },
        {
         "Activity": "Swimming",
         "Age": "nan",
         "Case Number": "1844.07.16.R",
         "Case Number.1": "1844.07.16.R",
         "Country": "ALGERIA",
         "Date": "1844.07.16.R",
         "Injury": "FATAL",
         "Location": "Cape Matifou",
         "Name": "male",
         "Sex": "M",
         "Source": "C. Moore, GSAF",
         "Species ": "nan",
         "State": "nan",
         "Time": "nan",
         "Type": "Unprovoked",
         "Unnamed: 11": "Y",
         "Unnamed: 21": "nan",
         "Unnamed: 22": "nan",
         "Year": 1844,
         "_deepnote_index_column": 6688,
         "href": "http://sharkattackfile.net/spreadsheets/pdf_directory/1844.07.16.R-Algeria.pdf",
         "href formula": "http://sharkattackfile.net/spreadsheets/pdf_directory/1844.07.16.R-Algeria.pdf",
         "original order": 251,
         "pdf": "1844.07.16.R-Algeria.pdf"
        },
        {
         "Activity": "Boat capsized",
         "Age": "nan",
         "Case Number": "1844.07.20.",
         "Case Number.1": "1844.07.20.",
         "Country": "NAMIBIA",
         "Date": "20-Jul-1844",
         "Injury": "FATAL",
         "Location": "nan",
         "Name": "a seaman from HMS Isis",
         "Sex": "M",
         "Source": "Colonial Times, 5/24/1845",
         "Species ": "nan",
         "State": "nan",
         "Time": "nan",
         "Type": "Unprovoked",
         "Unnamed: 11": "Y",
         "Unnamed: 21": "nan",
         "Unnamed: 22": "nan",
         "Year": 1844,
         "_deepnote_index_column": 6687,
         "href": "http://sharkattackfile.net/spreadsheets/pdf_directory/1844.07.20-Isis-seaman.pdf",
         "href formula": "http://sharkattackfile.net/spreadsheets/pdf_directory/1844.07.20-Isis-seaman.pdf",
         "original order": 252,
         "pdf": "1844.07.20-Isis-seaman.pdf"
        },
        {
         "Activity": "Fishing",
         "Age": "nan",
         "Case Number": "1845.12.26",
         "Case Number.1": "1845.12.26",
         "Country": "AUSTRALIA",
         "Date": "26-Dec-1845",
         "Injury": "FATAL",
         "Location": "Newcastle ",
         "Name": "John Williams",
         "Sex": "M",
         "Source": "The Maitland Mercury & Hunter River General Advertiser 11/18/1893",
         "Species ": "nan",
         "State": "New South Wales",
         "Time": "nan",
         "Type": "Unprovoked",
         "Unnamed: 11": "Y",
         "Unnamed: 21": "nan",
         "Unnamed: 22": "nan",
         "Year": 1845,
         "_deepnote_index_column": 6681,
         "href": "http://sharkattackfile.net/spreadsheets/pdf_directory/1845.12.26-Williams.pdf",
         "href formula": "http://sharkattackfile.net/spreadsheets/pdf_directory/1845.12.26-Williams.pdf",
         "original order": 258,
         "pdf": "1845.12.26-Williams.pdf"
        },
        {
         "Activity": "Bathing",
         "Age": "nan",
         "Case Number": "1845.11.04",
         "Case Number.1": "1845.11.04",
         "Country": "MEXICO",
         "Date": "04-Nov-1845",
         "Injury": "FATAL",
         "Location": "Vera Cruz",
         "Name": "a soldier",
         "Sex": "M",
         "Source": "New York Tribune, 12/15/1845",
         "Species ": "nan",
         "State": "Vera Cruz",
         "Time": "nan",
         "Type": "Unprovoked",
         "Unnamed: 11": "Y",
         "Unnamed: 21": "nan",
         "Unnamed: 22": "nan",
         "Year": 1845,
         "_deepnote_index_column": 6682,
         "href": "http://sharkattackfile.net/spreadsheets/pdf_directory/1845.11.04-VeraCruz.pdf",
         "href formula": "http://sharkattackfile.net/spreadsheets/pdf_directory/1845.11.04-VeraCruz.pdf",
         "original order": 257,
         "pdf": "1845.11.04-VeraCruz.pdf"
        },
        {
         "Activity": "nan",
         "Age": "nan",
         "Case Number": "1845.09.16.R",
         "Case Number.1": "1845.09.16.R",
         "Country": "ENGLAND",
         "Date": "Reported 16-Sep-1845",
         "Injury": "Leg severed",
         "Location": "nan",
         "Name": "a school teacher",
         "Sex": "M",
         "Source": "C. Moore. GSAF",
         "Species ": "nan",
         "State": "nan",
         "Time": "nan",
         "Type": "Unprovoked",
         "Unnamed: 11": "N",
         "Unnamed: 21": "nan",
         "Unnamed: 22": "nan",
         "Year": 1845,
         "_deepnote_index_column": 6683,
         "href": "http://sharkattackfile.net/spreadsheets/pdf_directory/1845.09.16.R-England.pdf",
         "href formula": "http://sharkattackfile.net/spreadsheets/pdf_directory/1845.09.16.R-England.pdf",
         "original order": 256,
         "pdf": "1845.09.16.R-England.pdf"
        },
        {
         "Activity": "Fell overboard",
         "Age": "nan",
         "Case Number": "1845.07.31.R",
         "Case Number.1": "1845.07.31.R",
         "Country": "USA",
         "Date": "Reported 31-Jul-1845",
         "Injury": "FATAL",
         "Location": "Pensacola Bay, Escambia County",
         "Name": "a sailor from the U.S.S. Falmouth",
         "Sex": "M",
         "Source": "Times-Picayune, 7/31/1845",
         "Species ": "nan",
         "State": "Florida",
         "Time": "nan",
         "Type": "Unprovoked",
         "Unnamed: 11": "Y",
         "Unnamed: 21": "nan",
         "Unnamed: 22": "nan",
         "Year": 1845,
         "_deepnote_index_column": 6685,
         "href": "http://sharkattackfile.net/spreadsheets/pdf_directory/1845.07.31.R-sailor.pdf",
         "href formula": "http://sharkattackfile.net/spreadsheets/pdf_directory/1845.07.31.R-sailor.pdf",
         "original order": 254,
         "pdf": "1845.07.31.R-sailor.pdf"
        },
        {
         "Activity": "nan",
         "Age": "nan",
         "Case Number": "1845.00.00.R",
         "Case Number.1": "1845.00.00.R",
         "Country": "SIERRA LEONE",
         "Date": "Reported 1845",
         "Injury": "FATAL",
         "Location": "nan",
         "Name": "\"The Queen's Chaplain\"",
         "Sex": "M",
         "Source": "Journal of an African Cruiser",
         "Species ": "nan",
         "State": "nan",
         "Time": "nan",
         "Type": "Unprovoked",
         "Unnamed: 11": "Y",
         "Unnamed: 21": "nan",
         "Unnamed: 22": "nan",
         "Year": 1845,
         "_deepnote_index_column": 6686,
         "href": "http://sharkattackfile.net/spreadsheets/pdf_directory/1845.00.00.R-SierraLeone.pdf",
         "href formula": "http://sharkattackfile.net/spreadsheets/pdf_directory/1845.00.00.R-SierraLeone.pdf",
         "original order": 253,
         "pdf": "1845.00.00.R-SierraLeone.pdf"
        },
        {
         "Activity": "Seine netting",
         "Age": "nan",
         "Case Number": "1845.09.10.R",
         "Case Number.1": "1845.09.10.R",
         "Country": "USA",
         "Date": "Reported 10-Sep-1845",
         "Injury": "FATAL",
         "Location": "Pensacola Bay, Escambia County",
         "Name": "Nickerson",
         "Sex": "M",
         "Source": "Tioga Eagle, 9/10/1845",
         "Species ": "nan",
         "State": "Florida",
         "Time": "nan",
         "Type": "Unprovoked",
         "Unnamed: 11": "Y",
         "Unnamed: 21": "nan",
         "Unnamed: 22": "nan",
         "Year": 1845,
         "_deepnote_index_column": 6684,
         "href": "http://sharkattackfile.net/spreadsheets/pdf_directory/1845.09.10.R-Nickerson.pdf",
         "href formula": "http://sharkattackfile.net/spreadsheets/pdf_directory/1845.09.10.R-Nickerson.pdf",
         "original order": 255,
         "pdf": "1845.09.10.R-Nickerson.pdf"
        },
        {
         "Activity": "Bathing",
         "Age": "nan",
         "Case Number": "1846.08.20.R",
         "Case Number.1": "1846.08.20.R",
         "Country": "CUBA",
         "Date": "Reported 20-Aug-1846",
         "Injury": "Leg severed",
         "Location": "Havana Harbor",
         "Name": "male",
         "Sex": "M",
         "Source": "New York Tribune, 9/2/1846",
         "Species ": "nan",
         "State": "Havana Province",
         "Time": "nan",
         "Type": "Unprovoked",
         "Unnamed: 11": "N",
         "Unnamed: 21": "nan",
         "Unnamed: 22": "nan",
         "Year": 1846,
         "_deepnote_index_column": 6680,
         "href": "http://sharkattackfile.net/spreadsheets/pdf_directory/1846.08.20.R-Havana.pdf",
         "href formula": "http://sharkattackfile.net/spreadsheets/pdf_directory/1846.08.20.R-Havana.pdf",
         "original order": 259,
         "pdf": "1846.08.20.R-Havana.pdf"
        },
        {
         "Activity": "Jumped into river",
         "Age": "nan",
         "Case Number": "1846.09.30.R",
         "Case Number.1": "1846.09.30.R",
         "Country": "AFRICA",
         "Date": "Reported 30-Sep-1846",
         "Injury": "FATAL",
         "Location": "nan",
         "Name": "male",
         "Sex": "M",
         "Source": "Hartford Courant, 9/30/1846",
         "Species ": "nan",
         "State": "nan",
         "Time": "nan",
         "Type": "Unprovoked",
         "Unnamed: 11": "Y",
         "Unnamed: 21": "nan",
         "Unnamed: 22": "nan",
         "Year": 1846,
         "_deepnote_index_column": 6679,
         "href": "http://sharkattackfile.net/spreadsheets/pdf_directory/1846.08.30.R-Marryatt.pdf",
         "href formula": "http://sharkattackfile.net/spreadsheets/pdf_directory/1846.08.30.R-Marryatt.pdf",
         "original order": 260,
         "pdf": "1846.08.30.R-Marryatt.pdf"
        },
        {
         "Activity": "Wreck of the USS Somers",
         "Age": "nan",
         "Case Number": "1846.12.08",
         "Case Number.1": "1846.12.08",
         "Country": "MEXICO",
         "Date": "08-Dec-1846",
         "Injury": "FATAL, some were taken by sharks",
         "Location": "Vera Cruz",
         "Name": "nan",
         "Sex": "M",
         "Source": "Report of the loss of the Somers, J.H.W.",
         "Species ": "nan",
         "State": "Veracruz",
         "Time": "nan",
         "Type": "Sea Disaster",
         "Unnamed: 11": "Y",
         "Unnamed: 21": "nan",
         "Unnamed: 22": "nan",
         "Year": 1846,
         "_deepnote_index_column": 6678,
         "href": "http://sharkattackfile.net/spreadsheets/pdf_directory/1846.12.08-Somers.pdf",
         "href formula": "http://sharkattackfile.net/spreadsheets/pdf_directory/1846.12.08-Somers.pdf",
         "original order": 261,
         "pdf": "1846.12.08-Somers.pdf"
        },
        {
         "Activity": "Swimming",
         "Age": "19",
         "Case Number": "1847.07.19",
         "Case Number.1": "1847.07.19",
         "Country": "GREECE",
         "Date": "19-Jul-1847",
         "Injury": "FATAL",
         "Location": "Off the harbor wall at Mandrakina",
         "Name": "William Mills, a British solider, 36th Regiment",
         "Sex": "M",
         "Source": "I. Fergusson; A. Buttigieg; M. Bardanis",
         "Species ": "nan",
         "State": "Corfu",
         "Time": "nan",
         "Type": "Unprovoked",
         "Unnamed: 11": "Y",
         "Unnamed: 21": "nan",
         "Unnamed: 22": "nan",
         "Year": 1847,
         "_deepnote_index_column": 6671,
         "href": "http://sharkattackfile.net/spreadsheets/pdf_directory/1847.07.19-Mills.pdf",
         "href formula": "http://sharkattackfile.net/spreadsheets/pdf_directory/1847.07.19-Mills.pdf",
         "original order": 268,
         "pdf": "1847.07.19-Mills.pdf"
        },
        {
         "Activity": "Swimming",
         "Age": "nan",
         "Case Number": "1847.11.30",
         "Case Number.1": "1847.11.30",
         "Country": "AUSTRALIA",
         "Date": "30-Nov-1847",
         "Injury": "Thigh & calf bitten",
         "Location": "Brisbane River",
         "Name": "James Stewart",
         "Sex": "M",
         "Source": "Moreton Bay Courier, 12.4/1847",
         "Species ": "nan",
         "State": "Queensland",
         "Time": "nan",
         "Type": "Unprovoked",
         "Unnamed: 11": "N",
         "Unnamed: 21": "nan",
         "Unnamed: 22": "nan",
         "Year": 1847,
         "_deepnote_index_column": 6669,
         "href": "http://sharkattackfile.net/spreadsheets/pdf_directory/1847.11.30-Stewart.pdf",
         "href formula": "http://sharkattackfile.net/spreadsheets/pdf_directory/1847.11.30-Stewart.pdf",
         "original order": 270,
         "pdf": "1847.11.30-Stewart.pdf"
        },
        {
         "Activity": "Wading",
         "Age": "nan",
         "Case Number": "1847.09.10",
         "Case Number.1": "1847.09.10",
         "Country": "USA",
         "Date": "10-Sep-1847",
         "Injury": "Lacerations to arm",
         "Location": "Chelsea Beach, Suffolk County",
         "Name": "Amos Thompson",
         "Sex": "M",
         "Source": "Louisville Daily Courier. 9/16/1847 ",
         "Species ": "nan",
         "State": "Massachusetts",
         "Time": "nan",
         "Type": "Unprovoked",
         "Unnamed: 11": "N",
         "Unnamed: 21": "nan",
         "Unnamed: 22": "nan",
         "Year": 1847,
         "_deepnote_index_column": 6670,
         "href": "http://sharkattackfile.net/spreadsheets/pdf_directory/1847.09.10-Thompson.pdf",
         "href formula": "http://sharkattackfile.net/spreadsheets/pdf_directory/1847.09.10-Thompson.pdf",
         "original order": 269,
         "pdf": "1847.09.10-Thompson.pdf"
        },
        {
         "Activity": "Hilo",
         "Age": "nan",
         "Case Number": "1847.07.03.R",
         "Case Number.1": "1847.07.03.R",
         "Country": "USA",
         "Date": "Reported 03-Jul-1847",
         "Injury": "Head & arm bitten",
         "Location": "nan",
         "Name": "Diving",
         "Sex": "M",
         "Source": "Polynesian, 7/3/1847",
         "Species ": "nan",
         "State": "Hawaii",
         "Time": "nan",
         "Type": "Unprovoked",
         "Unnamed: 11": "N",
         "Unnamed: 21": "nan",
         "Unnamed: 22": "nan",
         "Year": 1847,
         "_deepnote_index_column": 6672,
         "href": "http://sharkattackfile.net/spreadsheets/pdf_directory/1847.07.03.R-Hilo.pdf",
         "href formula": "http://sharkattackfile.net/spreadsheets/pdf_directory/1847.07.03.R-Hilo.pdf",
         "original order": 267,
         "pdf": "1847.07.03.R-Hilo.pdf"
        },
        {
         "Activity": "Watercraft",
         "Age": "nan",
         "Case Number": "1847.00.00.a",
         "Case Number.1": "1847.00.00.a",
         "Country": "USA",
         "Date": "Ca. 1847",
         "Injury": "Hand severed",
         "Location": "nan",
         "Name": "adult",
         "Sex": "M",
         "Source": "W.H. Greg, p.21",
         "Species ": "nan",
         "State": "South Carolina",
         "Time": "nan",
         "Type": "Unprovoked",
         "Unnamed: 11": "N",
         "Unnamed: 21": "nan",
         "Unnamed: 22": "nan",
         "Year": 1847,
         "_deepnote_index_column": 6677,
         "href": "http://sharkattackfile.net/spreadsheets/pdf_directory/1847.00.00.a-SouthCarolina.pdf",
         "href formula": "http://sharkattackfile.net/spreadsheets/pdf_directory/1847.00.00.a-SouthCarolina.pdf",
         "original order": 262,
         "pdf": "1847.00.00.a-SouthCarolina.pdf"
        },
        {
         "Activity": "Wreck of the Tweed",
         "Age": "nan",
         "Case Number": "1847.02.12",
         "Case Number.1": "1847.02.12",
         "Country": "MEXICO",
         "Date": "12-Feb-1847",
         "Injury": "FATAL",
         "Location": "nan",
         "Name": "nan",
         "Sex": "nan",
         "Source": "The Guardian, 3/26/1858",
         "Species ": "nan",
         "State": "nan",
         "Time": "nan",
         "Type": "Sea Disaster",
         "Unnamed: 11": "Y",
         "Unnamed: 21": "nan",
         "Unnamed: 22": "nan",
         "Year": 1847,
         "_deepnote_index_column": 6674,
         "href": "http://sharkattackfile.net/spreadsheets/pdf_directory/1847.02.12-Tweed.pdf",
         "href formula": "http://sharkattackfile.net/spreadsheets/pdf_directory/1847.02.12-Tweed.pdf",
         "original order": 265,
         "pdf": "1847.02.12-Tweed.pdf"
        },
        {
         "Activity": "nan",
         "Age": "nan",
         "Case Number": "1847.00.00.c",
         "Case Number.1": "1847.00.00.c",
         "Country": "AUSTRALIA",
         "Date": "Reported in 1847",
         "Injury": "Foot severed at ankle joint",
         "Location": "Moreton Bay",
         "Name": "a native",
         "Sex": "nan",
         "Source": "Narrative of the Voyage of HMS Rattlesnake 1846-1850",
         "Species ": "nan",
         "State": "Queensland",
         "Time": "nan",
         "Type": "Unprovoked",
         "Unnamed: 11": "N",
         "Unnamed: 21": "nan",
         "Unnamed: 22": "nan",
         "Year": 1847,
         "_deepnote_index_column": 6675,
         "href": "http://sharkattackfile.net/spreadsheets/pdf_directory/1847.00.00.c-HMS-Rattlesnake.pdf",
         "href formula": "http://sharkattackfile.net/spreadsheets/pdf_directory/1847.00.00.c-HMS-Rattlesnake.pdf",
         "original order": 264,
         "pdf": "1847.00.00.c-HMS-Rattlesnake.pdf"
        },
        {
         "Activity": "Swimming",
         "Age": "nan",
         "Case Number": "1847.00.00.b",
         "Case Number.1": "1847.00.00.b",
         "Country": "USA",
         "Date": "1847",
         "Injury": "Disappeared, thought to have been taken by a shark",
         "Location": "Charleston Harbor, Charleston County",
         "Name": "a young sailor",
         "Sex": "M",
         "Source": "W.H. Gregg, pp. 21-22",
         "Species ": "Shark involvement prior to death unconfirmed",
         "State": "South Carolina",
         "Time": "nan",
         "Type": "Invalid",
         "Unnamed: 11": "nan",
         "Unnamed: 21": "nan",
         "Unnamed: 22": "nan",
         "Year": 1847,
         "_deepnote_index_column": 6676,
         "href": "http://sharkattackfile.net/spreadsheets/pdf_directory/1847.00.00.b-sailor.pdf",
         "href formula": "http://sharkattackfile.net/spreadsheets/pdf_directory/1847.00.00.b-sailor.pdf",
         "original order": 263,
         "pdf": "1847.00.00.b-sailor.pdf"
        },
        {
         "Activity": "Wreck of the Sovereign",
         "Age": "nan",
         "Case Number": "1847.03.11",
         "Case Number.1": "1847.03.11",
         "Country": "AUSTRALIA",
         "Date": "11-Mar-1847",
         "Injury": "Foot severed",
         "Location": "Moreton Bay",
         "Name": "Spicer",
         "Sex": "M",
         "Source": "The Queenslander, 3/12/1921",
         "Species ": "nan",
         "State": "Queensland",
         "Time": "nan",
         "Type": "Sea Disaster",
         "Unnamed: 11": "N",
         "Unnamed: 21": "nan",
         "Unnamed: 22": "nan",
         "Year": 1847,
         "_deepnote_index_column": 6673,
         "href": "http://sharkattackfile.net/spreadsheets/pdf_directory/1847.03.11-Spicer.pdf",
         "href formula": "http://sharkattackfile.net/spreadsheets/pdf_directory/1847.03.11-Spicer.pdf",
         "original order": 266,
         "pdf": "1847.03.11-Spicer.pdf"
        },
        {
         "Activity": "Standing",
         "Age": "nan",
         "Case Number": "1848.07.00",
         "Case Number.1": "1848.07.00",
         "Country": "ENGLAND",
         "Date": "Jul-1848",
         "Injury": "Shark struck him with its tail",
         "Location": "Hunstanton",
         "Name": "male",
         "Sex": "M",
         "Source": "C. Moore, citing R. Peirce",
         "Species ": "nan",
         "State": "Norfolk",
         "Time": "nan",
         "Type": "Unprovoked",
         "Unnamed: 11": "N",
         "Unnamed: 21": "nan",
         "Unnamed: 22": "nan",
         "Year": 1848,
         "_deepnote_index_column": 6668,
         "href": "http://sharkattackfile.net/spreadsheets/pdf_directory/1848.07.00-Hunstanton.pdf",
         "href formula": "http://sharkattackfile.net/spreadsheets/pdf_directory/1848.07.00-Hunstanton.pdf",
         "original order": 271,
         "pdf": "1848.07.00-Hunstanton.pdf"
        },
        {
         "Activity": "nan",
         "Age": "nan",
         "Case Number": "1848.07.17.R",
         "Case Number.1": "1848.07.17.R",
         "Country": "USA",
         "Date": "Reported 17-Jul-1848",
         "Injury": "Human remains recovered from 4.9 m shark",
         "Location": "Cape Cod",
         "Name": "male",
         "Sex": "M",
         "Source": "New Orleans Crescent, 7/17/1858",
         "Species ": "Shark involvement prior to death unconfirmed",
         "State": "Massachusetts",
         "Time": "nan",
         "Type": "Invalid",
         "Unnamed: 11": "nan",
         "Unnamed: 21": "nan",
         "Unnamed: 22": "nan",
         "Year": 1848,
         "_deepnote_index_column": 6667,
         "href": "http://sharkattackfile.net/spreadsheets/pdf_directory/1848.07.17.R-CapeCod.pdf",
         "href formula": "http://sharkattackfile.net/spreadsheets/pdf_directory/1848.07.17.R-CapeCod.pdf",
         "original order": 272,
         "pdf": "1848.07.17.R-CapeCod.pdf"
        },
        {
         "Activity": "Swimming",
         "Age": "15",
         "Case Number": "1848.08.31",
         "Case Number.1": "1848.08.31",
         "Country": "USA",
         "Date": "31-Aug-1848",
         "Injury": "Left leg severely bitten",
         "Location": "Patapsco River",
         "Name": "William Haywood",
         "Sex": "M",
         "Source": "Adams Sentinel, 9/4/1848",
         "Species ": "nan",
         "State": "Maryland",
         "Time": "nan",
         "Type": "Unprovoked",
         "Unnamed: 11": "N",
         "Unnamed: 21": "nan",
         "Unnamed: 22": "nan",
         "Year": 1848,
         "_deepnote_index_column": 6666,
         "href": "http://sharkattackfile.net/spreadsheets/pdf_directory/1848.08.31-Haywood.pdf",
         "href formula": "http://sharkattackfile.net/spreadsheets/pdf_directory/1848.08.31-Haywood.pdf",
         "original order": 273,
         "pdf": "1848.08.31-Haywood.pdf"
        },
        {
         "Activity": "Swimming",
         "Age": "nan",
         "Case Number": "1948.09.17.R",
         "Case Number.1": "1948.09.17.R",
         "Country": "TURKEY",
         "Date": "Reported 17-Sep-1848",
         "Injury": "FATAL",
         "Location": "Yumurtalik",
         "Name": "Ali Kaymaz",
         "Sex": "M",
         "Source": "C. Moore, GSAF",
         "Species ": "nan",
         "State": "Adana Province",
         "Time": "nan",
         "Type": "Unprovoked",
         "Unnamed: 11": "Y",
         "Unnamed: 21": "nan",
         "Unnamed: 22": "nan",
         "Year": 1848,
         "_deepnote_index_column": 5165,
         "href": "http://sharkattackfile.net/spreadsheets/pdf_directory/1948.09.17.R-Kaymaz.pdf",
         "href formula": "http://sharkattackfile.net/spreadsheets/pdf_directory/1948.09.17.R-Kaymaz.pdf",
         "original order": 1773,
         "pdf": "1948.09.17.R-Kaymaz.pdf"
        },
        {
         "Activity": "Bathing",
         "Age": "nan",
         "Case Number": "1849.12.01",
         "Case Number.1": "1849.12.01",
         "Country": "AUSTRALIA",
         "Date": "01-Dec-1849",
         "Injury": "FATAL",
         "Location": "Woolloomooloo, Sydney Harbor (Estuary)",
         "Name": "a sailor from the steamship Eagle",
         "Sex": "M",
         "Source": "Moreton Bay Courier, 12/15/1849",
         "Species ": "nan",
         "State": "New South Wales",
         "Time": "Afternoon",
         "Type": "Unprovoked",
         "Unnamed: 11": "Y",
         "Unnamed: 21": "nan",
         "Unnamed: 22": "nan",
         "Year": 1849,
         "_deepnote_index_column": 6660,
         "href": "http://sharkattackfile.net/spreadsheets/pdf_directory/1849.12.01-Sailor.pdf",
         "href formula": "http://sharkattackfile.net/spreadsheets/pdf_directory/1849.12.01-Sailor.pdf",
         "original order": 279,
         "pdf": "1849.12.01-Sailor.pdf"
        },
        {
         "Activity": "nan",
         "Age": "nan",
         "Case Number": "1849.12.09",
         "Case Number.1": "1849.12.09",
         "Country": "AUSTRALIA",
         "Date": "09-Dec-1849",
         "Injury": "FATAL",
         "Location": "Sydney Harbor",
         "Name": "male",
         "Sex": "M",
         "Source": "T.H. Huxley's Diary, 1935, pp.285-286; G.P. Whitley, p.259",
         "Species ": "nan",
         "State": "New South Wales",
         "Time": "nan",
         "Type": "Unprovoked",
         "Unnamed: 11": "Y",
         "Unnamed: 21": "nan",
         "Unnamed: 22": "nan",
         "Year": 1849,
         "_deepnote_index_column": 6659,
         "href": "http://sharkattackfile.net/spreadsheets/pdf_directory/1849.12.09-SydneyHarbour.pdf",
         "href formula": "http://sharkattackfile.net/spreadsheets/pdf_directory/1849.12.09-SydneyHarbour.pdf",
         "original order": 280,
         "pdf": "1849.12.09-SydneyHarbour.pdf"
        },
        {
         "Activity": "Swimming",
         "Age": "nan",
         "Case Number": "1849.10.04",
         "Case Number.1": "1849.10.04",
         "Country": "PERU",
         "Date": "04-Oct-1849",
         "Injury": "FATAL",
         "Location": "Tumbez",
         "Name": "George Martin",
         "Sex": "M",
         "Source": "Muncie Evening Press, 8/6/1913",
         "Species ": "nan",
         "State": "nan",
         "Time": "nan",
         "Type": "Unprovoked",
         "Unnamed: 11": "Y",
         "Unnamed: 21": "nan",
         "Unnamed: 22": "nan",
         "Year": 1849,
         "_deepnote_index_column": 6661,
         "href": "http://sharkattackfile.net/spreadsheets/pdf_directory/1849.10.04-Martin.pdf",
         "href formula": "http://sharkattackfile.net/spreadsheets/pdf_directory/1849.10.04-Martin.pdf",
         "original order": 278,
         "pdf": "1849.10.04-Martin.pdf"
        },
        {
         "Activity": "Attempting to rescue woman seized by shark",
         "Age": "nan",
         "Case Number": "1849.06.08.b",
         "Case Number.1": "1849.06.08.b",
         "Country": "USA",
         "Date": "08-Jun-1849",
         "Injury": "FATAL",
         "Location": "Pensacola, Escambia County",
         "Name": "Mr. Mansfield",
         "Sex": "M",
         "Source": "Adams Sentinel, 8/6/1849",
         "Species ": "nan",
         "State": "Florida",
         "Time": "nan",
         "Type": "Unprovoked",
         "Unnamed: 11": "Y",
         "Unnamed: 21": "nan",
         "Unnamed: 22": "nan",
         "Year": 1849,
         "_deepnote_index_column": 6663,
         "href": "http://sharkattackfile.net/spreadsheets/pdf_directory/1849.06.08.b-Mansfield.pdf",
         "href formula": "http://sharkattackfile.net/spreadsheets/pdf_directory/1849.06.08.b-Mansfield.pdf",
         "original order": 276,
         "pdf": "1849.06.08.b-Mansfield.pdf"
        },
        {
         "Activity": "boat capsized",
         "Age": "nan",
         "Case Number": "1849.01.27",
         "Case Number.1": "1849.01.27",
         "Country": "AUSTRALIA",
         "Date": "27-Jan-1849",
         "Injury": "Torso bitten but may have been postmortem",
         "Location": "Sydney",
         "Name": "William Henry Elliott",
         "Sex": "M",
         "Source": "Maitland Mercury, 2/3/1849",
         "Species ": "Shark involvement prior to death unconfirmed",
         "State": "New South Wales",
         "Time": "nan",
         "Type": "Invalid",
         "Unnamed: 11": "nan",
         "Unnamed: 21": "nan",
         "Unnamed: 22": "nan",
         "Year": 1849,
         "_deepnote_index_column": 6665,
         "href": "http://sharkattackfile.net/spreadsheets/pdf_directory/1849.01.27-Elliot.pdf",
         "href formula": "http://sharkattackfile.net/spreadsheets/pdf_directory/1849.01.27-Elliot.pdf",
         "original order": 274,
         "pdf": "1849.01.27-Elliot.pdf"
        },
        {
         "Activity": "Bathing",
         "Age": "nan",
         "Case Number": "1849.06.08.a",
         "Case Number.1": "1849.06.08.a",
         "Country": "USA",
         "Date": "08-Jun-1849",
         "Injury": "FATAL",
         "Location": "Pensacola, Escambia County",
         "Name": "Mrs. Cracton",
         "Sex": "F",
         "Source": "Adams Sentinel, 8/6/1849",
         "Species ": "nan",
         "State": "Florida",
         "Time": "nan",
         "Type": "Unprovoked",
         "Unnamed: 11": "Y",
         "Unnamed: 21": "nan",
         "Unnamed: 22": "nan",
         "Year": 1849,
         "_deepnote_index_column": 6664,
         "href": "http://sharkattackfile.net/spreadsheets/pdf_directory/1849.06.08.a-Cracton.pdf",
         "href formula": "http://sharkattackfile.net/spreadsheets/pdf_directory/1849.06.08.a-Cracton.pdf",
         "original order": 275,
         "pdf": "1849.06.08.a-Cracton.pdf"
        },
        {
         "Activity": "Swimming",
         "Age": "nan",
         "Case Number": "1849.09.19",
         "Case Number.1": "1849.09.19",
         "Country": "AUSTRALIA",
         "Date": "19-Sep-1849",
         "Injury": "FATAL",
         "Location": "Warrnambool",
         "Name": "a sailor from the schooner Brother",
         "Sex": "M",
         "Source": "Maitland Mercury & Hunter River General Advertiser, 10/10/1849",
         "Species ": "nan",
         "State": "Victoria",
         "Time": "nan",
         "Type": "Unprovoked",
         "Unnamed: 11": "Y",
         "Unnamed: 21": "nan",
         "Unnamed: 22": "nan",
         "Year": 1849,
         "_deepnote_index_column": 6662,
         "href": "http://sharkattackfile.net/spreadsheets/pdf_directory/1849.09.19-Brother-seaman.pdf",
         "href formula": "http://sharkattackfile.net/spreadsheets/pdf_directory/1849.09.19-Brother-seaman.pdf",
         "original order": 277,
         "pdf": "1849.09.19-Brother-seaman.pdf"
        },
        {
         "Activity": "Bathing",
         "Age": "nan",
         "Case Number": "1850.00.00",
         "Case Number.1": "1850.00.00",
         "Country": "NICARAGUA",
         "Date": "1850",
         "Injury": "FATAL",
         "Location": "Granada, Granada Department",
         "Name": "nan",
         "Sex": "M",
         "Source": "E. Squier, 1852, vol. 1",
         "Species ": "nan",
         "State": "Lake Nicaragua (fresh water)",
         "Time": "nan",
         "Type": "Unprovoked",
         "Unnamed: 11": "Y",
         "Unnamed: 21": "nan",
         "Unnamed: 22": "nan",
         "Year": 1850,
         "_deepnote_index_column": 6658,
         "href": "http://sharkattackfile.net/spreadsheets/pdf_directory/1850.00.00-LakeNicaragua.pdf",
         "href formula": "http://sharkattackfile.net/spreadsheets/pdf_directory/1850.00.00-LakeNicaragua.pdf",
         "original order": 281,
         "pdf": "1850.00.00-LakeNicaragua.pdf"
        },
        {
         "Activity": "Swimming after his hat",
         "Age": "nan",
         "Case Number": "1850.10.21",
         "Case Number.1": "1850.10.21",
         "Country": "USA",
         "Date": "21-Oct-1850",
         "Injury": "FATAL",
         "Location": "nan",
         "Name": "a sailor",
         "Sex": "M",
         "Source": "Polynesian, 10/26/1850",
         "Species ": "nan",
         "State": "Hawaii",
         "Time": "nan",
         "Type": "Unprovoked",
         "Unnamed: 11": "Y",
         "Unnamed: 21": "nan",
         "Unnamed: 22": "nan",
         "Year": 1850,
         "_deepnote_index_column": 6657,
         "href": "http://sharkattackfile.net/spreadsheets/pdf_directory/1850.10.21-sailor.pdf",
         "href formula": "http://sharkattackfile.net/spreadsheets/pdf_directory/1850.10.21-sailor.pdf",
         "original order": 282,
         "pdf": "1850.10.21-sailor.pdf"
        },
        {
         "Activity": "Hard hat diving",
         "Age": "nan",
         "Case Number": "1851.00.00",
         "Case Number.1": "1851.00.00",
         "Country": "USA",
         "Date": "1851",
         "Injury": "3 toes severed",
         "Location": "San Francisco Bay (or San Leandro Bay), near cannery, Alameda County",
         "Name": "William Cortigan",
         "Sex": "M",
         "Source": "The Perry Chief, 10/16/1875",
         "Species ": "18' shark",
         "State": "California",
         "Time": "nan",
         "Type": "Unprovoked",
         "Unnamed: 11": "N",
         "Unnamed: 21": "nan",
         "Unnamed: 22": "nan",
         "Year": 1851,
         "_deepnote_index_column": 6656,
         "href": "http://sharkattackfile.net/spreadsheets/pdf_directory/1851.00.00-Cortigan.pdf",
         "href formula": "http://sharkattackfile.net/spreadsheets/pdf_directory/1851.00.00-Cortigan.pdf",
         "original order": 283,
         "pdf": "1851.00.00-Cortigan.pdf"
        },
        {
         "Activity": "Swimming",
         "Age": "nan",
         "Case Number": "1851.03.08.R",
         "Case Number.1": "1851.03.08.R",
         "Country": "USA",
         "Date": "Mar-1851",
         "Injury": "FATAL",
         "Location": "Honolulu Harbor",
         "Name": "James Kinney",
         "Sex": "M",
         "Source": "The Friend (Honolulu), 3/8/1851",
         "Species ": "nan",
         "State": "Hawaii",
         "Time": "nan",
         "Type": "Unprovoked",
         "Unnamed: 11": "Y",
         "Unnamed: 21": "nan",
         "Unnamed: 22": "nan",
         "Year": 1851,
         "_deepnote_index_column": 6655,
         "href": "http://sharkattackfile.net/spreadsheets/pdf_directory/1851.03.08.R-Kinney.pdf",
         "href formula": "http://sharkattackfile.net/spreadsheets/pdf_directory/1851.03.08.R-Kinney.pdf",
         "original order": 284,
         "pdf": "1851.03.08.R-Kinney.pdf"
        },
        {
         "Activity": "Bathing",
         "Age": "nan",
         "Case Number": "1851.06.16.R",
         "Case Number.1": "1851.06.16.R",
         "Country": "MEXICO",
         "Date": "Reported 16-Jun-1851",
         "Injury": "FATAL",
         "Location": "Tehuantepec Harbor",
         "Name": "John H. Gray & another member of the Tehuantepec surveying party",
         "Sex": "M",
         "Source": "Daily Free Democrat (Milwaukee, WI) 6/16/1851",
         "Species ": "nan",
         "State": "Oaxaca",
         "Time": "nan",
         "Type": "Unprovoked",
         "Unnamed: 11": "Y",
         "Unnamed: 21": "nan",
         "Unnamed: 22": "nan",
         "Year": 1851,
         "_deepnote_index_column": 6654,
         "href": "http://sharkattackfile.net/spreadsheets/pdf_directory/1851.06.16.R-JohnGray.pdf",
         "href formula": "http://sharkattackfile.net/spreadsheets/pdf_directory/1851.06.16.R-JohnGray.pdf",
         "original order": 285,
         "pdf": "1851.06.16.R-JohnGray.pdf"
        },
        {
         "Activity": "Swimming",
         "Age": "nan",
         "Case Number": "1852.12.19",
         "Case Number.1": "1852.12.19",
         "Country": "AUSTRALIA",
         "Date": "19-Dec-1852",
         "Injury": "Shark involvement prior to death was not confirmed",
         "Location": "Clark's Island, Sydney Harbor",
         "Name": "Edward Graham",
         "Sex": "M",
         "Source": "Maitland Mercury & Hunter River General Advertiser, 12/25/1952",
         "Species ": "Shark involvement prior to death unconfirmed",
         "State": "New South Wales",
         "Time": "nan",
         "Type": "Invalid",
         "Unnamed: 11": "nan",
         "Unnamed: 21": "nan",
         "Unnamed: 22": "nan",
         "Year": 1852,
         "_deepnote_index_column": 6644,
         "href": "http://sharkattackfile.net/spreadsheets/pdf_directory/1852.12.19-Graham.pdf",
         "href formula": "http://sharkattackfile.net/spreadsheets/pdf_directory/1852.12.19-Graham.pdf",
         "original order": 295,
         "pdf": "1852.12.19-Graham.pdf"
        },
        {
         "Activity": "Fishing",
         "Age": "nan",
         "Case Number": "1852.10.23.R",
         "Case Number.1": "1852.10.23.R",
         "Country": "PACIFIC OCEAN",
         "Date": "Reported 23-Oct-1852",
         "Injury": "Foot bitten by hooked shark PROVOKED INCIDENT",
         "Location": "nan",
         "Name": "William Stannard",
         "Sex": "M",
         "Source": "Maitland Mercury, 10/23/1852",
         "Species ": "nan",
         "State": "Between Australia & USA",
         "Time": "nan",
         "Type": "Provoked",
         "Unnamed: 11": "N",
         "Unnamed: 21": "nan",
         "Unnamed: 22": "nan",
         "Year": 1852,
         "_deepnote_index_column": 6645,
         "href": "http://sharkattackfile.net/spreadsheets/pdf_directory/1852.10.23.R-Stannard.pdf",
         "href formula": "http://sharkattackfile.net/spreadsheets/pdf_directory/1852.10.23.R-Stannard.pdf",
         "original order": 294,
         "pdf": "1852.10.23.R-Stannard.pdf"
        },
        {
         "Activity": "Fell overboard",
         "Age": "nan",
         "Case Number": "1852.08.07",
         "Case Number.1": "1852.08.07",
         "Country": "TONGA",
         "Date": "07-Aug-1852",
         "Injury": "FATAL",
         "Location": "nan",
         "Name": "Charles Weymouth",
         "Sex": "M",
         "Source": "Courier, 1/3/1853",
         "Species ": "nan",
         "State": "Tongatapu",
         "Time": "nan",
         "Type": "Unprovoked",
         "Unnamed: 11": "Y",
         "Unnamed: 21": "nan",
         "Unnamed: 22": "nan",
         "Year": 1852,
         "_deepnote_index_column": 6647,
         "href": "http://sharkattackfile.net/spreadsheets/pdf_directory/1852.08.07-Weymouth.pdf",
         "href formula": "http://sharkattackfile.net/spreadsheets/pdf_directory/1852.08.07-Weymouth.pdf",
         "original order": 292,
         "pdf": "1852.08.07-Weymouth.pdf"
        },
        {
         "Activity": "Swimming",
         "Age": "nan",
         "Case Number": "1852.08.00",
         "Case Number.1": "1852.08.00",
         "Country": "USA",
         "Date": "Aug-1852",
         "Injury": "FATAL",
         "Location": "Norfolk",
         "Name": "a deserter from the U.S. Pennsylvania",
         "Sex": "M",
         "Source": "Dixon Telegraph, 8/14/1852",
         "Species ": "nan",
         "State": "Virginia",
         "Time": "nan",
         "Type": "Unprovoked",
         "Unnamed: 11": "Y",
         "Unnamed: 21": "nan",
         "Unnamed: 22": "nan",
         "Year": 1852,
         "_deepnote_index_column": 6648,
         "href": "http://sharkattackfile.net/spreadsheets/pdf_directory/1852.08.00-Sailor.pdf",
         "href formula": "http://sharkattackfile.net/spreadsheets/pdf_directory/1852.08.00-Sailor.pdf",
         "original order": 291,
         "pdf": "1852.08.00-Sailor.pdf"
        },
        {
         "Activity": "Fell overboard",
         "Age": "nan",
         "Case Number": "1852.10.09.R",
         "Case Number.1": "1852.10.09.R",
         "Country": "AUSTRALIA",
         "Date": "Reported 09-Oct-1852",
         "Injury": "FATAL",
         "Location": "Coalcliff",
         "Name": "James Rogers",
         "Sex": "M",
         "Source": "Maitland Mercury, 10/09/1852",
         "Species ": "nan",
         "State": "New South Wales",
         "Time": "nan",
         "Type": "Unprovoked",
         "Unnamed: 11": "Y",
         "Unnamed: 21": "nan",
         "Unnamed: 22": "nan",
         "Year": 1852,
         "_deepnote_index_column": 6646,
         "href": "http://sharkattackfile.net/spreadsheets/pdf_directory/1852.10.09.R-Rogers.pdf",
         "href formula": "http://sharkattackfile.net/spreadsheets/pdf_directory/1852.10.09.R-Rogers.pdf",
         "original order": 293,
         "pdf": "1852.10.09.R-Rogers.pdf"
        },
        {
         "Activity": "Swimming from capsized boat",
         "Age": "nan",
         "Case Number": "1852.05.24",
         "Case Number.1": "1852.05.24",
         "Country": "SOUTH AFRICA",
         "Date": "24-May-1852",
         "Injury": "FATAL",
         "Location": "Durban Bay",
         "Name": "Mr. Messum's servant",
         "Sex": "M",
         "Source": "M. Levine, GSAF; Natal Times, 6/4/1852",
         "Species ": "nan",
         "State": "KwaZulu-Natal",
         "Time": "nan",
         "Type": "Unprovoked",
         "Unnamed: 11": "Y",
         "Unnamed: 21": "nan",
         "Unnamed: 22": "nan",
         "Year": 1852,
         "_deepnote_index_column": 6650,
         "href": "http://sharkattackfile.net/spreadsheets/pdf_directory/1852.05.24-Messum-servant.pdf",
         "href formula": "http://sharkattackfile.net/spreadsheets/pdf_directory/1852.05.24-Messum-servant.pdf",
         "original order": 289,
         "pdf": "1852.05.24-Messum-servant.pdf"
        },
        {
         "Activity": "Wreck of the steamship Birkenhead",
         "Age": "nan",
         "Case Number": "1852.02.26",
         "Case Number.1": "1852.02.26",
         "Country": "SOUTH AFRICA",
         "Date": "26-Feb-1852",
         "Injury": "FATAL. All of the women & children on board survived, but many of the 445 men that perished were taken by sharks",
         "Location": "Danger Point",
         "Name": "nan",
         "Sex": "M",
         "Source": "D. Davies, pp.182-184; M. Levine, GSAF",
         "Species ": "White sharks",
         "State": "Western Cape Province",
         "Time": "01h50",
         "Type": "Sea Disaster",
         "Unnamed: 11": "Y",
         "Unnamed: 21": "nan",
         "Unnamed: 22": "nan",
         "Year": 1852,
         "_deepnote_index_column": 6651,
         "href": "http://sharkattackfile.net/spreadsheets/pdf_directory/1852.02.26-Birkenhead.pdf",
         "href formula": "http://sharkattackfile.net/spreadsheets/pdf_directory/1852.02.26-Birkenhead.pdf",
         "original order": 288,
         "pdf": "1852.02.26-Birkenhead.pdf"
        },
        {
         "Activity": "Swimming",
         "Age": "nan",
         "Case Number": "1852.01.22",
         "Case Number.1": "1852.01.22",
         "Country": "NEW ZEALAND",
         "Date": "\"Anniversary Day\" 22-Jan-1850 or 1852",
         "Injury": "FATAL, posterior thigh bared to femur, kneecap lacerated ",
         "Location": "Wellington Harbor",
         "Name": "Johnny Balmer, a soldier from the 65th Regiment",
         "Sex": "M",
         "Source": "Ref: H. Blake, Sixty Years in New Zealand, pp. 112-116 V. M. Coppleson (1962], page 247 ",
         "Species ": "Said to involve a 6 m to 7.3 m [20' to 24'] shark",
         "State": "North Island",
         "Time": "nan",
         "Type": "Unprovoked",
         "Unnamed: 11": "Y",
         "Unnamed: 21": "nan",
         "Unnamed: 22": "nan",
         "Year": 1852,
         "_deepnote_index_column": 6652,
         "href": "http://sharkattackfile.net/spreadsheets/pdf_directory/1852.01.22-Balmer.pdf",
         "href formula": "http://sharkattackfile.net/spreadsheets/pdf_directory/1852.01.22-Balmer.pdf",
         "original order": 287,
         "pdf": "1852.01.22-Balmer.pdf"
        },
        {
         "Activity": "Vessel capsized, wading ashore carrying an oar",
         "Age": "nan",
         "Case Number": "1852.00.00",
         "Case Number.1": "1852.00.00",
         "Country": "USA",
         "Date": "1852",
         "Injury": "FATAL, body was not recovered",
         "Location": "Mount Pleasant, Charleston County",
         "Name": "Charles Chambers",
         "Sex": "M",
         "Source": "W. H. Gregg, p. 21",
         "Species ": "nan",
         "State": "South Carolina",
         "Time": "nan",
         "Type": "Unprovoked",
         "Unnamed: 11": "Y",
         "Unnamed: 21": "nan",
         "Unnamed: 22": "nan",
         "Year": 1852,
         "_deepnote_index_column": 6653,
         "href": "http://sharkattackfile.net/spreadsheets/pdf_directory/1852.00.00-Chambers.pdf",
         "href formula": "http://sharkattackfile.net/spreadsheets/pdf_directory/1852.00.00-Chambers.pdf",
         "original order": 286,
         "pdf": "1852.00.00-Chambers.pdf"
        },
        {
         "Activity": "nan",
         "Age": "1",
         "Case Number": "1852.07.28",
         "Case Number.1": "1852.07.28",
         "Country": "ATLANTIC OCEAN",
         "Date": "28-Jul-1952",
         "Injury": "Death preceded shark involvement",
         "Location": "nan",
         "Name": "Karen Bredesen Stræte ",
         "Sex": "F",
         "Source": "Norway Heritage",
         "Species ": "Invalid",
         "State": "nan",
         "Time": "nan",
         "Type": "Invalid",
         "Unnamed: 11": "nan",
         "Unnamed: 21": "nan",
         "Unnamed: 22": "nan",
         "Year": 1852,
         "_deepnote_index_column": 6649,
         "href": "http://sharkattackfile.net/spreadsheets/pdf_directory/1852.07.28-Karen.pdf",
         "href formula": "http://sharkattackfile.net/spreadsheets/pdf_directory/1852.07.28-Karen.pdf",
         "original order": 290,
         "pdf": "1852.07.28-Karen.pdf"
        },
        {
         "Activity": "Knocked overboard",
         "Age": "nan",
         "Case Number": "1853.00.00.a",
         "Case Number.1": "1853.00.00.a",
         "Country": "USA",
         "Date": "1853 or 1854",
         "Injury": "FATAL",
         "Location": "Near Fernandina Bar, Nassau County ",
         "Name": "Captain George Jacob Hanscheldt",
         "Sex": "M",
         "Source": "W. H. Gregg, p.22 ",
         "Species ": "nan",
         "State": "Florida",
         "Time": "nan",
         "Type": "Unprovoked",
         "Unnamed: 11": "Y",
         "Unnamed: 21": "nan",
         "Unnamed: 22": "nan",
         "Year": 1853,
         "_deepnote_index_column": 6643,
         "href": "http://sharkattackfile.net/spreadsheets/pdf_directory/1853.00.00.a-Hanscheldt.pdf",
         "href formula": "http://sharkattackfile.net/spreadsheets/pdf_directory/1853.00.00.a-Hanscheldt.pdf",
         "original order": 296,
         "pdf": "1853.00.00.a-Hanscheldt.pdf"
        },
        {
         "Activity": "He was fighting a shark when his boat capsized & he disappeared",
         "Age": "nan",
         "Case Number": "1853.00.00.b",
         "Case Number.1": "1853.00.00.b",
         "Country": "USA",
         "Date": "1853 ",
         "Injury": " His gold watch was later found in a shark but death may have been due to drowning",
         "Location": "Off the Battery",
         "Name": "a young man",
         "Sex": "M",
         "Source": "W. H. Gregg, p.21 ",
         "Species ": "Shark involvement prior to death unconfirmed",
         "State": "South Carolina",
         "Time": "nan",
         "Type": "Invalid",
         "Unnamed: 11": "nan",
         "Unnamed: 21": "nan",
         "Unnamed: 22": "nan",
         "Year": 1853,
         "_deepnote_index_column": 6642,
         "href": "http://sharkattackfile.net/spreadsheets/pdf_directory/1853.00.00.b-battery.pdf",
         "href formula": "http://sharkattackfile.net/spreadsheets/pdf_directory/1853.00.00.b-battery.pdf",
         "original order": 297,
         "pdf": "1853.00.00.b-battery.pdf"
        },
        {
         "Activity": "Hard hat diving",
         "Age": "nan",
         "Case Number": "1853.00.00.c",
         "Case Number.1": "1853.00.00.c",
         "Country": "USA",
         "Date": "Sep or Oct-1853",
         "Injury": "No injury, copper breastplate punctured",
         "Location": "Morehead, Carteret County",
         "Name": "Mark Dare",
         "Sex": "M",
         "Source": "Fort Wayne Gazette, 1/24/1897",
         "Species ": "White shark",
         "State": "North Carolina",
         "Time": "nan",
         "Type": "Unprovoked",
         "Unnamed: 11": "N",
         "Unnamed: 21": "nan",
         "Unnamed: 22": "nan",
         "Year": 1853,
         "_deepnote_index_column": 6641,
         "href": "http://sharkattackfile.net/spreadsheets/pdf_directory/1853.00.00.c-MarkDare.pdf",
         "href formula": "http://sharkattackfile.net/spreadsheets/pdf_directory/1853.00.00.c-MarkDare.pdf",
         "original order": 298,
         "pdf": "1853.00.00.c-MarkDare.pdf"
        },
        {
         "Activity": "Fell into the water",
         "Age": "nan",
         "Case Number": "1853.00.00.d",
         "Case Number.1": "1853.00.00.d",
         "Country": "AUSTRALIA",
         "Date": "1853",
         "Injury": "FATAL",
         "Location": "Moreton Bay",
         "Name": "James Hexton, pilot",
         "Sex": "M",
         "Source": "Brisbane Courier, 1/28/1909",
         "Species ": "nan",
         "State": "Queensland",
         "Time": "nan",
         "Type": "Unprovoked",
         "Unnamed: 11": "Y",
         "Unnamed: 21": "nan",
         "Unnamed: 22": "nan",
         "Year": 1853,
         "_deepnote_index_column": 6640,
         "href": "http://sharkattackfile.net/spreadsheets/pdf_directory/1853.00.00.d-Hexton.pdf",
         "href formula": "http://sharkattackfile.net/spreadsheets/pdf_directory/1853.00.00.d-Hexton.pdf",
         "original order": 299,
         "pdf": "1853.00.00.d-Hexton.pdf"
        },
        {
         "Activity": "Swimming",
         "Age": "nan",
         "Case Number": "1853.04.29",
         "Case Number.1": "1853,94.29",
         "Country": "GREECE",
         "Date": "29-Apr-1853",
         "Injury": "Leg severed at knee",
         "Location": "nan",
         "Name": "Hanson",
         "Sex": "M",
         "Source": "South Australian Register, 5/8/1854",
         "Species ": "234-lb shark",
         "State": "Corfu ",
         "Time": "nan",
         "Type": "Unprovoked",
         "Unnamed: 11": "N",
         "Unnamed: 21": "nan",
         "Unnamed: 22": "nan",
         "Year": 1853,
         "_deepnote_index_column": 6639,
         "href": "http://sharkattackfile.net/spreadsheets/pdf_directory/1853.04.29-Hanson.pdf",
         "href formula": "http://sharkattackfile.net/spreadsheets/pdf_directory/1853.04.29-Hanson.pdf",
         "original order": 300,
         "pdf": "1853.04.29-Hanson.pdf"
        }
       ]
      },
      "text/html": [
       "<div>\n",
       "<style scoped>\n",
       "    .dataframe tbody tr th:only-of-type {\n",
       "        vertical-align: middle;\n",
       "    }\n",
       "\n",
       "    .dataframe tbody tr th {\n",
       "        vertical-align: top;\n",
       "    }\n",
       "\n",
       "    .dataframe thead th {\n",
       "        text-align: right;\n",
       "    }\n",
       "</style>\n",
       "<table border=\"1\" class=\"dataframe\">\n",
       "  <thead>\n",
       "    <tr style=\"text-align: right;\">\n",
       "      <th></th>\n",
       "      <th>Date</th>\n",
       "      <th>Year</th>\n",
       "      <th>Type</th>\n",
       "      <th>Country</th>\n",
       "      <th>State</th>\n",
       "      <th>Location</th>\n",
       "      <th>Activity</th>\n",
       "      <th>Name</th>\n",
       "      <th>Sex</th>\n",
       "      <th>Age</th>\n",
       "      <th>...</th>\n",
       "      <th>Species</th>\n",
       "      <th>Source</th>\n",
       "      <th>pdf</th>\n",
       "      <th>href formula</th>\n",
       "      <th>href</th>\n",
       "      <th>Case Number</th>\n",
       "      <th>Case Number.1</th>\n",
       "      <th>original order</th>\n",
       "      <th>Unnamed: 21</th>\n",
       "      <th>Unnamed: 22</th>\n",
       "    </tr>\n",
       "  </thead>\n",
       "  <tbody>\n",
       "    <tr>\n",
       "      <th>0</th>\n",
       "      <td>14 Feb-2024</td>\n",
       "      <td>2024.0</td>\n",
       "      <td>Unprovoked</td>\n",
       "      <td>INDIA</td>\n",
       "      <td>Maharashtra</td>\n",
       "      <td>Vaitarna River, Palghar District</td>\n",
       "      <td>Fishing</td>\n",
       "      <td>Vicky Suresh Govari</td>\n",
       "      <td>M</td>\n",
       "      <td>32</td>\n",
       "      <td>...</td>\n",
       "      <td>Bull shark, 7'</td>\n",
       "      <td>Times of India, 2/14/2024</td>\n",
       "      <td>NaN</td>\n",
       "      <td>NaN</td>\n",
       "      <td>NaN</td>\n",
       "      <td>NaN</td>\n",
       "      <td>NaN</td>\n",
       "      <td>NaN</td>\n",
       "      <td>NaN</td>\n",
       "      <td>NaN</td>\n",
       "    </tr>\n",
       "    <tr>\n",
       "      <th>1</th>\n",
       "      <td>04-Feb-2024</td>\n",
       "      <td>2024.0</td>\n",
       "      <td>Provoked</td>\n",
       "      <td>TRINIDAD</td>\n",
       "      <td>NaN</td>\n",
       "      <td>NaN</td>\n",
       "      <td>Spearfishing</td>\n",
       "      <td>male</td>\n",
       "      <td>M</td>\n",
       "      <td>NaN</td>\n",
       "      <td>...</td>\n",
       "      <td>Blacktip reef shark</td>\n",
       "      <td>Trinidad Guardian, 2/11/2014</td>\n",
       "      <td>NaN</td>\n",
       "      <td>NaN</td>\n",
       "      <td>NaN</td>\n",
       "      <td>NaN</td>\n",
       "      <td>NaN</td>\n",
       "      <td>NaN</td>\n",
       "      <td>NaN</td>\n",
       "      <td>NaN</td>\n",
       "    </tr>\n",
       "    <tr>\n",
       "      <th>2</th>\n",
       "      <td>29 Jan-2024</td>\n",
       "      <td>2024.0</td>\n",
       "      <td>Unprovoked</td>\n",
       "      <td>AUSTRALIA</td>\n",
       "      <td>New  South Wales</td>\n",
       "      <td>Elizabeth Bay, Sydney Harbor</td>\n",
       "      <td>Swimming</td>\n",
       "      <td>Lauren O'Neill</td>\n",
       "      <td>F</td>\n",
       "      <td>29</td>\n",
       "      <td>...</td>\n",
       "      <td>Bull shark</td>\n",
       "      <td>Nine News, 12/31/2024</td>\n",
       "      <td>NaN</td>\n",
       "      <td>NaN</td>\n",
       "      <td>NaN</td>\n",
       "      <td>NaN</td>\n",
       "      <td>NaN</td>\n",
       "      <td>NaN</td>\n",
       "      <td>NaN</td>\n",
       "      <td>NaN</td>\n",
       "    </tr>\n",
       "    <tr>\n",
       "      <th>3</th>\n",
       "      <td>15 Jan-2024</td>\n",
       "      <td>2024.0</td>\n",
       "      <td>Unprovoked</td>\n",
       "      <td>BAHAMAS</td>\n",
       "      <td>Paradise Island</td>\n",
       "      <td>Paradise Island Resort</td>\n",
       "      <td>Swimming</td>\n",
       "      <td>male</td>\n",
       "      <td>M</td>\n",
       "      <td>10</td>\n",
       "      <td>...</td>\n",
       "      <td>NaN</td>\n",
       "      <td>Caribbean Loop News, 1/15;2024</td>\n",
       "      <td>NaN</td>\n",
       "      <td>NaN</td>\n",
       "      <td>NaN</td>\n",
       "      <td>NaN</td>\n",
       "      <td>NaN</td>\n",
       "      <td>NaN</td>\n",
       "      <td>NaN</td>\n",
       "      <td>NaN</td>\n",
       "    </tr>\n",
       "    <tr>\n",
       "      <th>4</th>\n",
       "      <td>09-Jan-2024</td>\n",
       "      <td>2024.0</td>\n",
       "      <td>Unprovoked</td>\n",
       "      <td>AUSTRALIA</td>\n",
       "      <td>South Australia</td>\n",
       "      <td>Walkers Beach, Elliston</td>\n",
       "      <td>Surfing</td>\n",
       "      <td>Murray Adams</td>\n",
       "      <td>M</td>\n",
       "      <td>64</td>\n",
       "      <td>...</td>\n",
       "      <td>White shark</td>\n",
       "      <td>A. Currie, GSAF</td>\n",
       "      <td>NaN</td>\n",
       "      <td>NaN</td>\n",
       "      <td>NaN</td>\n",
       "      <td>NaN</td>\n",
       "      <td>NaN</td>\n",
       "      <td>NaN</td>\n",
       "      <td>NaN</td>\n",
       "      <td>NaN</td>\n",
       "    </tr>\n",
       "    <tr>\n",
       "      <th>...</th>\n",
       "      <td>...</td>\n",
       "      <td>...</td>\n",
       "      <td>...</td>\n",
       "      <td>...</td>\n",
       "      <td>...</td>\n",
       "      <td>...</td>\n",
       "      <td>...</td>\n",
       "      <td>...</td>\n",
       "      <td>...</td>\n",
       "      <td>...</td>\n",
       "      <td>...</td>\n",
       "      <td>...</td>\n",
       "      <td>...</td>\n",
       "      <td>...</td>\n",
       "      <td>...</td>\n",
       "      <td>...</td>\n",
       "      <td>...</td>\n",
       "      <td>...</td>\n",
       "      <td>...</td>\n",
       "      <td>...</td>\n",
       "      <td>...</td>\n",
       "    </tr>\n",
       "    <tr>\n",
       "      <th>6960</th>\n",
       "      <td>NaN</td>\n",
       "      <td>NaN</td>\n",
       "      <td>NaN</td>\n",
       "      <td>NaN</td>\n",
       "      <td>NaN</td>\n",
       "      <td>NaN</td>\n",
       "      <td>NaN</td>\n",
       "      <td>NaN</td>\n",
       "      <td>NaN</td>\n",
       "      <td>NaN</td>\n",
       "      <td>...</td>\n",
       "      <td>NaN</td>\n",
       "      <td>NaN</td>\n",
       "      <td>NaN</td>\n",
       "      <td>http://sharkattackfile.net/spreadsheets/pdf_di...</td>\n",
       "      <td>NaN</td>\n",
       "      <td>NaN</td>\n",
       "      <td>NaN</td>\n",
       "      <td>NaN</td>\n",
       "      <td>NaN</td>\n",
       "      <td>NaN</td>\n",
       "    </tr>\n",
       "    <tr>\n",
       "      <th>6961</th>\n",
       "      <td>NaN</td>\n",
       "      <td>NaN</td>\n",
       "      <td>NaN</td>\n",
       "      <td>NaN</td>\n",
       "      <td>NaN</td>\n",
       "      <td>NaN</td>\n",
       "      <td>NaN</td>\n",
       "      <td>NaN</td>\n",
       "      <td>NaN</td>\n",
       "      <td>NaN</td>\n",
       "      <td>...</td>\n",
       "      <td>NaN</td>\n",
       "      <td>NaN</td>\n",
       "      <td>NaN</td>\n",
       "      <td>http://sharkattackfile.net/spreadsheets/pdf_di...</td>\n",
       "      <td>NaN</td>\n",
       "      <td>NaN</td>\n",
       "      <td>NaN</td>\n",
       "      <td>NaN</td>\n",
       "      <td>NaN</td>\n",
       "      <td>NaN</td>\n",
       "    </tr>\n",
       "    <tr>\n",
       "      <th>6962</th>\n",
       "      <td>NaN</td>\n",
       "      <td>NaN</td>\n",
       "      <td>NaN</td>\n",
       "      <td>NaN</td>\n",
       "      <td>NaN</td>\n",
       "      <td>NaN</td>\n",
       "      <td>NaN</td>\n",
       "      <td>NaN</td>\n",
       "      <td>NaN</td>\n",
       "      <td>NaN</td>\n",
       "      <td>...</td>\n",
       "      <td>NaN</td>\n",
       "      <td>NaN</td>\n",
       "      <td>NaN</td>\n",
       "      <td>http://sharkattackfile.net/spreadsheets/pdf_di...</td>\n",
       "      <td>NaN</td>\n",
       "      <td>NaN</td>\n",
       "      <td>NaN</td>\n",
       "      <td>NaN</td>\n",
       "      <td>NaN</td>\n",
       "      <td>NaN</td>\n",
       "    </tr>\n",
       "    <tr>\n",
       "      <th>6963</th>\n",
       "      <td>NaN</td>\n",
       "      <td>NaN</td>\n",
       "      <td>NaN</td>\n",
       "      <td>NaN</td>\n",
       "      <td>NaN</td>\n",
       "      <td>NaN</td>\n",
       "      <td>NaN</td>\n",
       "      <td>NaN</td>\n",
       "      <td>NaN</td>\n",
       "      <td>NaN</td>\n",
       "      <td>...</td>\n",
       "      <td>NaN</td>\n",
       "      <td>NaN</td>\n",
       "      <td>NaN</td>\n",
       "      <td>http://sharkattackfile.net/spreadsheets/pdf_di...</td>\n",
       "      <td>NaN</td>\n",
       "      <td>NaN</td>\n",
       "      <td>NaN</td>\n",
       "      <td>NaN</td>\n",
       "      <td>NaN</td>\n",
       "      <td>NaN</td>\n",
       "    </tr>\n",
       "    <tr>\n",
       "      <th>6964</th>\n",
       "      <td>NaN</td>\n",
       "      <td>NaN</td>\n",
       "      <td>NaN</td>\n",
       "      <td>NaN</td>\n",
       "      <td>NaN</td>\n",
       "      <td>NaN</td>\n",
       "      <td>NaN</td>\n",
       "      <td>NaN</td>\n",
       "      <td>NaN</td>\n",
       "      <td>NaN</td>\n",
       "      <td>...</td>\n",
       "      <td>NaN</td>\n",
       "      <td>NaN</td>\n",
       "      <td>NaN</td>\n",
       "      <td>http://sharkattackfile.net/spreadsheets/pdf_di...</td>\n",
       "      <td>NaN</td>\n",
       "      <td>NaN</td>\n",
       "      <td>NaN</td>\n",
       "      <td>NaN</td>\n",
       "      <td>NaN</td>\n",
       "      <td>NaN</td>\n",
       "    </tr>\n",
       "  </tbody>\n",
       "</table>\n",
       "<p>6965 rows × 23 columns</p>\n",
       "</div>"
      ],
      "text/plain": [
       "             Date    Year        Type    Country             State  \\\n",
       "0     14 Feb-2024  2024.0  Unprovoked      INDIA       Maharashtra   \n",
       "1     04-Feb-2024  2024.0    Provoked   TRINIDAD               NaN   \n",
       "2     29 Jan-2024  2024.0  Unprovoked  AUSTRALIA  New  South Wales   \n",
       "3     15 Jan-2024  2024.0  Unprovoked    BAHAMAS   Paradise Island   \n",
       "4     09-Jan-2024  2024.0  Unprovoked  AUSTRALIA   South Australia   \n",
       "...           ...     ...         ...        ...               ...   \n",
       "6960          NaN     NaN         NaN        NaN               NaN   \n",
       "6961          NaN     NaN         NaN        NaN               NaN   \n",
       "6962          NaN     NaN         NaN        NaN               NaN   \n",
       "6963          NaN     NaN         NaN        NaN               NaN   \n",
       "6964          NaN     NaN         NaN        NaN               NaN   \n",
       "\n",
       "                              Location      Activity                 Name  \\\n",
       "0     Vaitarna River, Palghar District       Fishing  Vicky Suresh Govari   \n",
       "1                                  NaN  Spearfishing                 male   \n",
       "2         Elizabeth Bay, Sydney Harbor      Swimming       Lauren O'Neill   \n",
       "3               Paradise Island Resort      Swimming                 male   \n",
       "4              Walkers Beach, Elliston       Surfing         Murray Adams   \n",
       "...                                ...           ...                  ...   \n",
       "6960                               NaN           NaN                  NaN   \n",
       "6961                               NaN           NaN                  NaN   \n",
       "6962                               NaN           NaN                  NaN   \n",
       "6963                               NaN           NaN                  NaN   \n",
       "6964                               NaN           NaN                  NaN   \n",
       "\n",
       "      Sex  Age  ...             Species                            Source  \\\n",
       "0       M   32  ...       Bull shark, 7'        Times of India, 2/14/2024   \n",
       "1       M  NaN  ...  Blacktip reef shark     Trinidad Guardian, 2/11/2014   \n",
       "2       F   29  ...           Bull shark            Nine News, 12/31/2024   \n",
       "3       M   10  ...                  NaN  Caribbean Loop News, 1/15;2024    \n",
       "4       M   64  ...          White shark                  A. Currie, GSAF   \n",
       "...   ...  ...  ...                  ...                              ...   \n",
       "6960  NaN  NaN  ...                  NaN                              NaN   \n",
       "6961  NaN  NaN  ...                  NaN                              NaN   \n",
       "6962  NaN  NaN  ...                  NaN                              NaN   \n",
       "6963  NaN  NaN  ...                  NaN                              NaN   \n",
       "6964  NaN  NaN  ...                  NaN                              NaN   \n",
       "\n",
       "      pdf                                       href formula href Case Number  \\\n",
       "0     NaN                                                NaN  NaN         NaN   \n",
       "1     NaN                                                NaN  NaN         NaN   \n",
       "2     NaN                                                NaN  NaN         NaN   \n",
       "3     NaN                                                NaN  NaN         NaN   \n",
       "4     NaN                                                NaN  NaN         NaN   \n",
       "...   ...                                                ...  ...         ...   \n",
       "6960  NaN  http://sharkattackfile.net/spreadsheets/pdf_di...  NaN         NaN   \n",
       "6961  NaN  http://sharkattackfile.net/spreadsheets/pdf_di...  NaN         NaN   \n",
       "6962  NaN  http://sharkattackfile.net/spreadsheets/pdf_di...  NaN         NaN   \n",
       "6963  NaN  http://sharkattackfile.net/spreadsheets/pdf_di...  NaN         NaN   \n",
       "6964  NaN  http://sharkattackfile.net/spreadsheets/pdf_di...  NaN         NaN   \n",
       "\n",
       "     Case Number.1 original order Unnamed: 21 Unnamed: 22  \n",
       "0              NaN            NaN         NaN         NaN  \n",
       "1              NaN            NaN         NaN         NaN  \n",
       "2              NaN            NaN         NaN         NaN  \n",
       "3              NaN            NaN         NaN         NaN  \n",
       "4              NaN            NaN         NaN         NaN  \n",
       "...            ...            ...         ...         ...  \n",
       "6960           NaN            NaN         NaN         NaN  \n",
       "6961           NaN            NaN         NaN         NaN  \n",
       "6962           NaN            NaN         NaN         NaN  \n",
       "6963           NaN            NaN         NaN         NaN  \n",
       "6964           NaN            NaN         NaN         NaN  \n",
       "\n",
       "[6965 rows x 23 columns]"
      ]
     },
     "metadata": {},
     "output_type": "display_data"
    }
   ],
   "source": [
    "import pandas as pd\n",
    "import numpy as np\n",
    "\n",
    "file_path = '/work/GSAF5.xls'  \n",
    "\n",
    "# Read the file into a DataFrame\n",
    "df = pd.read_excel(file_path)\n",
    "\n",
    "# Display the DataFrame\n",
    "display(df)\n",
    "\n",
    "\n"
   ]
  },
  {
   "cell_type": "markdown",
   "metadata": {
    "cell_id": "18a3cd354c2f433f83d1ce85179a142a",
    "deepnote_cell_type": "text-cell-h3",
    "formattedRanges": [
     {
      "fromCodePoint": 0,
      "marks": {
       "color": "#008E44"
      },
      "toCodePoint": 22,
      "type": "marks"
     }
    ]
   },
   "source": [
    "### Useful tool: Breakline"
   ]
  },
  {
   "cell_type": "code",
   "execution_count": null,
   "metadata": {
    "cell_id": "6518d51f2a834c4685c0785c79634670",
    "deepnote_cell_type": "code",
    "deepnote_to_be_reexecuted": false,
    "execution_millis": 619,
    "execution_start": 1709886690397,
    "source_hash": null
   },
   "outputs": [],
   "source": [
    "#breakline \n",
    "def breakline():\n",
    "  return print('\\n')\n",
    "# Loading the datasets"
   ]
  },
  {
   "cell_type": "markdown",
   "metadata": {
    "cell_id": "3cb76d24bb8f484bb57d5abfb7e45a6f",
    "deepnote_cell_type": "text-cell-h1",
    "formattedRanges": []
   },
   "source": [
    "# Exploratory Phase"
   ]
  },
  {
   "cell_type": "markdown",
   "metadata": {
    "cell_id": "3edfce2788ac4c23962a700b4a211a0a",
    "deepnote_cell_type": "text-cell-h2",
    "formattedRanges": []
   },
   "source": [
    "## Exploration of the dataset"
   ]
  },
  {
   "cell_type": "code",
   "execution_count": null,
   "metadata": {
    "cell_id": "bbb6f5e2d453418cbc1055cc5712cf36",
    "deepnote_cell_type": "code",
    "deepnote_table_loading": false,
    "deepnote_table_state": {
     "filters": [],
     "pageIndex": 0,
     "pageSize": 100,
     "sortBy": []
    },
    "deepnote_to_be_reexecuted": false,
    "execution_millis": 597,
    "execution_start": 1709886690420,
    "source_hash": null
   },
   "outputs": [
    {
     "name": "stdout",
     "output_type": "stream",
     "text": [
      "Shape of the df: \n",
      "(6965, 23)\n",
      "\n",
      "\n",
      "nb unique values per column: \n",
      "Date              5999\n",
      "Year               259\n",
      "Type                12\n",
      "Country            225\n",
      "State              902\n",
      "Location          4510\n",
      "Activity          1587\n",
      "Name              5681\n",
      "Sex                  8\n",
      "Age                243\n",
      "Injury            4078\n",
      "Unnamed: 11         12\n",
      "Time               410\n",
      "Species           1674\n",
      "Source            5298\n",
      "pdf               6789\n",
      "href formula      6785\n",
      "href              6776\n",
      "Case Number       6777\n",
      "Case Number.1     6775\n",
      "original order    6797\n",
      "Unnamed: 21          1\n",
      "Unnamed: 22          2\n",
      "dtype: int64\n",
      "\n",
      "\n",
      "dataframe columns list: \n",
      "Index(['Date', 'Year', 'Type', 'Country', 'State', 'Location', 'Activity',\n",
      "       'Name', 'Sex', 'Age', 'Injury', 'Unnamed: 11', 'Time', 'Species ',\n",
      "       'Source', 'pdf', 'href formula', 'href', 'Case Number', 'Case Number.1',\n",
      "       'original order', 'Unnamed: 21', 'Unnamed: 22'],\n",
      "      dtype='object')\n",
      "\n",
      "\n",
      "total Nan per column\n",
      "Date                25\n",
      "Year                27\n",
      "Type                43\n",
      "Country             75\n",
      "State              507\n",
      "Location           590\n",
      "Activity           610\n",
      "Name               244\n",
      "Sex                604\n",
      "Age               3018\n",
      "Injury              60\n",
      "Unnamed: 11        586\n",
      "Time              3550\n",
      "Species           3157\n",
      "Source              44\n",
      "pdf                166\n",
      "href formula       146\n",
      "href               169\n",
      "Case Number        167\n",
      "Case Number.1      168\n",
      "original order     166\n",
      "Unnamed: 21       6964\n",
      "Unnamed: 22       6963\n",
      "dtype: int64\n",
      "\n",
      "\n",
      "Analysis of the value counts: \n",
      "Year\n",
      "2015.0    143\n",
      "2017.0    139\n",
      "2016.0    131\n",
      "0.0       129\n",
      "2011.0    128\n",
      "         ... \n",
      "1784.0      1\n",
      "1783.0      1\n",
      "1780.0      1\n",
      "1779.0      1\n",
      "1819.0      1\n",
      "Name: count, Length: 259, dtype: int64\n",
      "\n",
      "\n",
      "Type\n",
      "Unprovoked             5103\n",
      "Provoked                635\n",
      "Invalid                 552\n",
      "Watercraft              355\n",
      "Sea Disaster            242\n",
      "Questionable             22\n",
      "Boat                      7\n",
      " Provoked                 2\n",
      "?                         1\n",
      "Unconfirmed               1\n",
      "Unverified                1\n",
      "Under investigation       1\n",
      "Name: count, dtype: int64\n",
      "\n",
      "\n",
      "Country\n",
      "CEYLON (SRI LANKA)             1\n",
      "ROATAN                         1\n",
      "Between PORTUGAL & INDIA       1\n",
      "GEORGIA                        1\n",
      "GREENLAND                      1\n",
      "                            ... \n",
      "PAPUA NEW GUINEA             136\n",
      "NEW ZEALAND                  144\n",
      "SOUTH AFRICA                 597\n",
      "AUSTRALIA                   1479\n",
      "USA                         2536\n",
      "Name: count, Length: 225, dtype: int64\n"
     ]
    }
   ],
   "source": [
    "# [EXPLORATORY PHASE]\n",
    "\n",
    "#View of nb(rows & columns)\n",
    "print(\"Shape of the df: \")\n",
    "print(df.shape)\n",
    "breakline()\n",
    "\n",
    "# NB of unique values for each column:\n",
    "print('nb unique values per column: ')\n",
    "print(df.nunique())\n",
    "breakline()\n",
    "\n",
    "\n",
    "# List of the columns\n",
    "print('dataframe columns list: ')\n",
    "print(df.columns)\n",
    "breakline()\n",
    "\n",
    "\n",
    "#Looking at the 'NaN' \n",
    "print('total Nan per column')\n",
    "print(df.isna().sum())\n",
    "breakline()\n",
    "\n",
    "\n",
    "# Use of the value_counts() function\n",
    "print(\"Analysis of the value counts: \")\n",
    "print(df['Year'].value_counts())\n",
    "breakline()\n",
    "print(df['Type'].value_counts())\n",
    "breakline()\n",
    "print(df['Country'].value_counts().sort_values())"
   ]
  },
  {
   "cell_type": "markdown",
   "metadata": {
    "cell_id": "668eb10e5d3a4702b19da905a99b3327",
    "deepnote_cell_type": "text-cell-p",
    "formattedRanges": []
   },
   "source": [
    "Let's now make a copy of df so in case of issues we can still go back to it"
   ]
  },
  {
   "cell_type": "markdown",
   "metadata": {
    "cell_id": "df6e7126fa8842be8035690be589b918",
    "deepnote_cell_type": "text-cell-h2",
    "formattedRanges": []
   },
   "source": [
    "## Copying the dataframe"
   ]
  },
  {
   "cell_type": "code",
   "execution_count": null,
   "metadata": {
    "cell_id": "a79c02d091bf4b9c8aa3c8f33bae584e",
    "deepnote_cell_type": "code",
    "deepnote_to_be_reexecuted": false,
    "execution_millis": 567,
    "execution_start": 1709886690450,
    "source_hash": null
   },
   "outputs": [],
   "source": [
    "#Let's now have a copy of the df under the name of 'shark' :\n",
    "\n",
    "shark = df.copy()"
   ]
  },
  {
   "cell_type": "markdown",
   "metadata": {
    "cell_id": "20219f71ceec438baa0b00c13601292d",
    "deepnote_cell_type": "text-cell-h1",
    "formattedRanges": []
   },
   "source": [
    "# Cleaning of the dataset -General"
   ]
  },
  {
   "cell_type": "markdown",
   "metadata": {
    "cell_id": "cc35cfa9e3eb4c3c8c89a3176b6e013d",
    "deepnote_cell_type": "text-cell-h2",
    "formattedRanges": []
   },
   "source": [
    "## Cleaning of the empty / full Nan rows"
   ]
  },
  {
   "cell_type": "code",
   "execution_count": null,
   "metadata": {
    "cell_id": "00c05971e1e04589b018b051071feaa9",
    "deepnote_cell_type": "code",
    "deepnote_to_be_reexecuted": false,
    "execution_millis": 568,
    "execution_start": 1709886690450,
    "source_hash": null
   },
   "outputs": [
    {
     "name": "stdout",
     "output_type": "stream",
     "text": [
      "dataset dimensions before cleaning: \n",
      "(6965, 23)\n",
      "dataset dimensions after cleaning: \n",
      "(6965, 23)\n"
     ]
    }
   ],
   "source": [
    "# Let's delete all the rows being full Nan\n",
    "# First let's remind the dimension of the df:\n",
    "\n",
    "print(\"dataset dimensions before cleaning: \")\n",
    "print(df.shape)\n",
    "\n",
    "\n",
    "#Now let's clean up !\n",
    "shark = shark.dropna(how='all')\n",
    "\n",
    "# and let's see what is the new number of rows:\n",
    "print(\"dataset dimensions after cleaning: \")\n",
    "print(shark.shape)"
   ]
  },
  {
   "cell_type": "markdown",
   "metadata": {
    "cell_id": "7076da3ce7074e82b34682e10dc23794",
    "deepnote_cell_type": "text-cell-p",
    "formattedRanges": []
   },
   "source": [
    "Conclusion: There's no Full 'NaN' row on the dataset"
   ]
  },
  {
   "cell_type": "markdown",
   "metadata": {
    "cell_id": "a71394da54004fb3a239971ffb458a18",
    "deepnote_cell_type": "text-cell-h2",
    "formattedRanges": []
   },
   "source": [
    "## Cleaning of the full Nan columns"
   ]
  },
  {
   "cell_type": "code",
   "execution_count": null,
   "metadata": {
    "cell_id": "60be1f2574884dcfb3e5022814055f92",
    "deepnote_cell_type": "code",
    "deepnote_to_be_reexecuted": false,
    "execution_millis": 530,
    "execution_start": 1709886690488,
    "source_hash": null
   },
   "outputs": [
    {
     "name": "stdout",
     "output_type": "stream",
     "text": [
      "dataset dimensions before cleaning: \n",
      "(6965, 23)\n",
      "dataset dimensions after cleaning: \n",
      "(6965, 23)\n"
     ]
    }
   ],
   "source": [
    "# Let's delete all the columns being full Nan\n",
    "# First let's remind the dimension of the df:\n",
    "\n",
    "print(\"dataset dimensions before cleaning: \")\n",
    "print(df.shape)\n",
    "\n",
    "#Now let's clean up !\n",
    "shark = shark.dropna(axis = 1, how='all')\n",
    "\n",
    "# and let's see what is the new number of rows:\n",
    "print(\"dataset dimensions after cleaning: \")\n",
    "print(shark.shape)"
   ]
  },
  {
   "cell_type": "markdown",
   "metadata": {
    "cell_id": "699e51c467fc4bf48fa6e7f619c56b60",
    "deepnote_cell_type": "text-cell-p",
    "formattedRanges": []
   },
   "source": [
    "Conclusion: There's no full NaN column on this dataset"
   ]
  },
  {
   "cell_type": "markdown",
   "metadata": {
    "cell_id": "b5bcf56b180440668ab5887191a4700e",
    "deepnote_cell_type": "text-cell-h2",
    "formattedRanges": []
   },
   "source": [
    "## [Vue utile de deep note pour faire le point]"
   ]
  },
  {
   "cell_type": "code",
   "execution_count": null,
   "metadata": {
    "cell_id": "c972a92478314ac5a9a0acc25233f189",
    "deepnote_cell_type": "code",
    "deepnote_to_be_reexecuted": false,
    "execution_millis": 498,
    "execution_start": 1709886690520,
    "source_hash": null
   },
   "outputs": [
    {
     "data": {
      "application/vnd.deepnote.dataframe.v3+json": {
       "column_count": 23,
       "columns": [
        {
         "dtype": "object",
         "name": "Date",
         "stats": {
          "categories": [
           {
            "count": 11,
            "name": "1957"
           },
           {
            "count": 6929,
            "name": "5968 others"
           },
           {
            "count": 25,
            "name": "Missing"
           }
          ],
          "nan_count": 25,
          "unique_count": 5999
         }
        },
        {
         "dtype": "float64",
         "name": "Year",
         "stats": {
          "histogram": [
           {
            "bin_end": 202.4,
            "bin_start": 0,
            "count": 131
           },
           {
            "bin_end": 404.8,
            "bin_start": 202.4,
            "count": 0
           },
           {
            "bin_end": 607.2,
            "bin_start": 404.8,
            "count": 0
           },
           {
            "bin_end": 809.6,
            "bin_start": 607.2,
            "count": 0
           },
           {
            "bin_end": 1012,
            "bin_start": 809.6,
            "count": 1
           },
           {
            "bin_end": 1214.4,
            "bin_start": 1012,
            "count": 0
           },
           {
            "bin_end": 1416.8,
            "bin_start": 1214.4,
            "count": 0
           },
           {
            "bin_end": 1619.2,
            "bin_start": 1416.8,
            "count": 8
           },
           {
            "bin_end": 1821.6000000000001,
            "bin_start": 1619.2,
            "count": 59
           },
           {
            "bin_end": 2024,
            "bin_start": 1821.6000000000001,
            "count": 6739
           }
          ],
          "max": "2024.0",
          "min": "0.0",
          "nan_count": 27,
          "unique_count": 259
         }
        },
        {
         "dtype": "object",
         "name": "Type",
         "stats": {
          "categories": [
           {
            "count": 5103,
            "name": "Unprovoked"
           },
           {
            "count": 1819,
            "name": "11 others"
           },
           {
            "count": 43,
            "name": "Missing"
           }
          ],
          "nan_count": 43,
          "unique_count": 12
         }
        },
        {
         "dtype": "object",
         "name": "Country",
         "stats": {
          "categories": [
           {
            "count": 2536,
            "name": "USA"
           },
           {
            "count": 4354,
            "name": "224 others"
           },
           {
            "count": 75,
            "name": "Missing"
           }
          ],
          "nan_count": 75,
          "unique_count": 225
         }
        },
        {
         "dtype": "object",
         "name": "State",
         "stats": {
          "categories": [
           {
            "count": 1178,
            "name": "Florida"
           },
           {
            "count": 5280,
            "name": "901 others"
           },
           {
            "count": 507,
            "name": "Missing"
           }
          ],
          "nan_count": 507,
          "unique_count": 902
         }
        },
        {
         "dtype": "object",
         "name": "Location",
         "stats": {
          "categories": [
           {
            "count": 191,
            "name": "New Smyrna Beach, Volusia County"
           },
           {
            "count": 6184,
            "name": "4509 others"
           },
           {
            "count": 590,
            "name": "Missing"
           }
          ],
          "nan_count": 590,
          "unique_count": 4510
         }
        },
        {
         "dtype": "object",
         "name": "Activity",
         "stats": {
          "categories": [
           {
            "count": 1120,
            "name": "Surfing"
           },
           {
            "count": 5235,
            "name": "1586 others"
           },
           {
            "count": 610,
            "name": "Missing"
           }
          ],
          "nan_count": 610,
          "unique_count": 1587
         }
        },
        {
         "dtype": "object",
         "name": "Name",
         "stats": {
          "categories": [
           {
            "count": 680,
            "name": "male"
           },
           {
            "count": 6041,
            "name": "5680 others"
           },
           {
            "count": 244,
            "name": "Missing"
           }
          ],
          "nan_count": 244,
          "unique_count": 5681
         }
        },
        {
         "dtype": "object",
         "name": "Sex",
         "stats": {
          "categories": [
           {
            "count": 5577,
            "name": "M"
           },
           {
            "count": 784,
            "name": "7 others"
           },
           {
            "count": 604,
            "name": "Missing"
           }
          ],
          "nan_count": 604,
          "unique_count": 8
         }
        },
        {
         "dtype": "object",
         "name": "Age",
         "stats": {
          "categories": [
           {
            "count": 173,
            "name": "17"
           },
           {
            "count": 3774,
            "name": "168 others"
           },
           {
            "count": 3018,
            "name": "Missing"
           }
          ],
          "nan_count": 3018,
          "unique_count": 243
         }
        },
        {
         "dtype": "object",
         "name": "Injury",
         "stats": {
          "categories": [
           {
            "count": 863,
            "name": "FATAL"
           },
           {
            "count": 6042,
            "name": "4077 others"
           },
           {
            "count": 60,
            "name": "Missing"
           }
          ],
          "nan_count": 60,
          "unique_count": 4078
         }
        },
        {
         "dtype": "object",
         "name": "Unnamed: 11",
         "stats": {
          "categories": [
           {
            "count": 4829,
            "name": "N"
           },
           {
            "count": 1550,
            "name": "11 others"
           },
           {
            "count": 586,
            "name": "Missing"
           }
          ],
          "nan_count": 586,
          "unique_count": 12
         }
        },
        {
         "dtype": "object",
         "name": "Time",
         "stats": {
          "categories": [
           {
            "count": 215,
            "name": "Afternoon"
           },
           {
            "count": 3200,
            "name": "409 others"
           },
           {
            "count": 3550,
            "name": "Missing"
           }
          ],
          "nan_count": 3550,
          "unique_count": 410
         }
        },
        {
         "dtype": "object",
         "name": "Species ",
         "stats": {
          "categories": [
           {
            "count": 194,
            "name": "White shark"
           },
           {
            "count": 3614,
            "name": "1673 others"
           },
           {
            "count": 3157,
            "name": "Missing"
           }
          ],
          "nan_count": 3157,
          "unique_count": 1674
         }
        },
        {
         "dtype": "object",
         "name": "Source"
        },
        {
         "dtype": "object",
         "name": "pdf"
        },
        {
         "dtype": "object",
         "name": "href formula"
        },
        {
         "dtype": "object",
         "name": "href"
        },
        {
         "dtype": "object",
         "name": "Case Number"
        },
        {
         "dtype": "object",
         "name": "Case Number.1"
        },
        {
         "dtype": "float64",
         "name": "original order"
        },
        {
         "dtype": "object",
         "name": "Unnamed: 21"
        },
        {
         "dtype": "object",
         "name": "Unnamed: 22"
        },
        {
         "dtype": "int64",
         "name": "_deepnote_index_column"
        }
       ],
       "row_count": 6965,
       "rows": [
        {
         "Activity": "Fishing",
         "Age": "32",
         "Case Number": "nan",
         "Case Number.1": "nan",
         "Country": "INDIA",
         "Date": "14 Feb-2024",
         "Injury": "Calf of lower left leg injured",
         "Location": "Vaitarna River, Palghar District",
         "Name": "Vicky Suresh Govari",
         "Sex": "M",
         "Source": "Times of India, 2/14/2024",
         "Species ": "Bull shark, 7'",
         "State": "Maharashtra",
         "Time": "nan",
         "Type": "Unprovoked",
         "Unnamed: 11": "N",
         "Unnamed: 21": "nan",
         "Unnamed: 22": "nan",
         "Year": 2024,
         "_deepnote_index_column": 0,
         "href": "nan",
         "href formula": "nan",
         "original order": "nan",
         "pdf": "nan"
        },
        {
         "Activity": "Spearfishing",
         "Age": "nan",
         "Case Number": "nan",
         "Case Number.1": "nan",
         "Country": "TRINIDAD",
         "Date": "04-Feb-2024",
         "Injury": "Shoulder bitten",
         "Location": "nan",
         "Name": "male",
         "Sex": "M",
         "Source": "Trinidad Guardian, 2/11/2014",
         "Species ": "Blacktip reef shark",
         "State": "nan",
         "Time": "06h30",
         "Type": " Provoked",
         "Unnamed: 11": "N",
         "Unnamed: 21": "nan",
         "Unnamed: 22": "nan",
         "Year": 2024,
         "_deepnote_index_column": 1,
         "href": "nan",
         "href formula": "nan",
         "original order": "nan",
         "pdf": "nan"
        },
        {
         "Activity": "Swimming",
         "Age": "29",
         "Case Number": "nan",
         "Case Number.1": "nan",
         "Country": "AUSTRALIA",
         "Date": "29 Jan-2024",
         "Injury": "Right leg bitten",
         "Location": "Elizabeth Bay, Sydney Harbor",
         "Name": "Lauren O'Neill",
         "Sex": "F",
         "Source": "Nine News, 12/31/2024",
         "Species ": "Bull shark",
         "State": "New  South Wales",
         "Time": "20h00",
         "Type": "Unprovoked",
         "Unnamed: 11": "N",
         "Unnamed: 21": "nan",
         "Unnamed: 22": "nan",
         "Year": 2024,
         "_deepnote_index_column": 2,
         "href": "nan",
         "href formula": "nan",
         "original order": "nan",
         "pdf": "nan"
        },
        {
         "Activity": "Swimming",
         "Age": "10",
         "Case Number": "nan",
         "Case Number.1": "nan",
         "Country": "BAHAMAS",
         "Date": "15 Jan-2024",
         "Injury": "Right leg injured ",
         "Location": "Paradise Island Resort",
         "Name": "male",
         "Sex": "M",
         "Source": "Caribbean Loop News, 1/15;2024 ",
         "Species ": "nan",
         "State": "Paradise Island",
         "Time": "16h00",
         "Type": "Unprovoked",
         "Unnamed: 11": "N",
         "Unnamed: 21": "nan",
         "Unnamed: 22": "nan",
         "Year": 2024,
         "_deepnote_index_column": 3,
         "href": "nan",
         "href formula": "nan",
         "original order": "nan",
         "pdf": "nan"
        },
        {
         "Activity": "Surfing",
         "Age": "64",
         "Case Number": "nan",
         "Case Number.1": "nan",
         "Country": "AUSTRALIA",
         "Date": "09-Jan-2024",
         "Injury": "Leg bitten",
         "Location": "Walkers Beach, Elliston",
         "Name": "Murray Adams",
         "Sex": "M",
         "Source": "A. Currie, GSAF",
         "Species ": "White shark",
         "State": "South Australia",
         "Time": "13h00",
         "Type": "Unprovoked",
         "Unnamed: 11": "N",
         "Unnamed: 21": "nan",
         "Unnamed: 22": "nan",
         "Year": 2024,
         "_deepnote_index_column": 4,
         "href": "nan",
         "href formula": "nan",
         "original order": "nan",
         "pdf": "nan"
        },
        {
         "Activity": "Fishing",
         "Age": "62",
         "Case Number": "nan",
         "Case Number.1": "nan",
         "Country": "SOUTH AFRICA",
         "Date": "05-Jan-2024",
         "Injury": "Provoked incident. Lacerations and puncture wounds to hand and calf from hooked shark ",
         "Location": "Papiesfontein",
         "Name": "male",
         "Sex": "M",
         "Source": "Jacaranda fm. 12/6/2024",
         "Species ": "Raggedtooth shark",
         "State": "Eastern Cape Province",
         "Time": "nan",
         "Type": "Provoked",
         "Unnamed: 11": "N",
         "Unnamed: 21": "nan",
         "Unnamed: 22": "nan",
         "Year": 2024,
         "_deepnote_index_column": 5,
         "href": "nan",
         "href formula": "nan",
         "original order": "nan",
         "pdf": "nan"
        },
        {
         "Activity": "Surfing",
         "Age": "39",
         "Case Number": "nan",
         "Case Number.1": "nan",
         "Country": "USA",
         "Date": "30 Dec-2023",
         "Injury": "FATAL",
         "Location": "Baby Beach, Maui",
         "Name": "Jason Carter",
         "Sex": "M",
         "Source": "Surfer, 12/31/2023",
         "Species ": "nan",
         "State": "Hawaii",
         "Time": "11h12",
         "Type": "Unprovoked",
         "Unnamed: 11": "Y",
         "Unnamed: 21": "nan",
         "Unnamed: 22": "nan",
         "Year": 2023,
         "_deepnote_index_column": 6,
         "href": "nan",
         "href formula": "nan",
         "original order": "nan",
         "pdf": "nan"
        },
        {
         "Activity": "Free diving",
         "Age": "22",
         "Case Number": "nan",
         "Case Number.1": "nan",
         "Country": "MEXICO",
         "Date": "29 Dec-2023",
         "Injury": "FATAL",
         "Location": "Tojahui Beach, Yavaros, Huatabampo",
         "Name": "Víctor Alejandro “N”",
         "Sex": "M",
         "Source": "EuroESEuro, 12/31/2023",
         "Species ": "White shark",
         "State": "Sonora",
         "Time": "13h00",
         "Type": "Unprovoked",
         "Unnamed: 11": "Y",
         "Unnamed: 21": "nan",
         "Unnamed: 22": "nan",
         "Year": 2023,
         "_deepnote_index_column": 7,
         "href": "nan",
         "href formula": "nan",
         "original order": "nan",
         "pdf": "nan"
        },
        {
         "Activity": "Surfing",
         "Age": "15",
         "Case Number": "nan",
         "Case Number.1": "nan",
         "Country": "AUSTRALIA",
         "Date": "28 Dec-2023",
         "Injury": "FATAL",
         "Location": "Ethel Beach",
         "Name": "Khai Cowley",
         "Sex": "M",
         "Source": "S. DeMarchi, GSAF",
         "Species ": "White shark, 13'",
         "State": "South Australia",
         "Time": "13h30",
         "Type": "Unprovoked",
         "Unnamed: 11": "Y",
         "Unnamed: 21": "nan",
         "Unnamed: 22": "nan",
         "Year": 2023,
         "_deepnote_index_column": 8,
         "href": "nan",
         "href formula": "nan",
         "original order": "nan",
         "pdf": "nan"
        },
        {
         "Activity": "Surfing",
         "Age": "16",
         "Case Number": "nan",
         "Case Number.1": "nan",
         "Country": "AUSTRALIA",
         "Date": "25 Dec-2023",
         "Injury": "Injury to right thigh",
         "Location": "Old Bar",
         "Name": "Julian McLennan",
         "Sex": "M",
         "Source": "9 News, 12/26/2023",
         "Species ": "nan",
         "State": "New South Wales",
         "Time": "16h30",
         "Type": "Unprovoked",
         "Unnamed: 11": "N",
         "Unnamed: 21": "nan",
         "Unnamed: 22": "nan",
         "Year": 2023,
         "_deepnote_index_column": 9,
         "href": "nan",
         "href formula": "nan",
         "original order": "nan",
         "pdf": "nan"
        },
        {
         "Activity": "Foil Boarding",
         "Age": "46",
         "Case Number": "nan",
         "Case Number.1": "nan",
         "Country": "AUSTRALIA",
         "Date": "24-Dec-2023",
         "Injury": "Puncture wounds to right ankle",
         "Location": "Wedge Island",
         "Name": "Troy Brown",
         "Sex": "M",
         "Source": "9 News, 12/25/2023",
         "Species ": "Broze whaler?",
         "State": "Western Australia",
         "Time": "15h00",
         "Type": "Unprovoked",
         "Unnamed: 11": "N",
         "Unnamed: 21": "nan",
         "Unnamed: 22": "nan",
         "Year": 2023,
         "_deepnote_index_column": 10,
         "href": "nan",
         "href formula": "nan",
         "original order": "nan",
         "pdf": "nan"
        },
        {
         "Activity": "Wading",
         "Age": "21",
         "Case Number": "nan",
         "Case Number.1": "nan",
         "Country": "NEW ZEALAND",
         "Date": "18 Dec-2023",
         "Injury": "Significant injury to leg",
         "Location": "Riverton",
         "Name": "female",
         "Sex": "F",
         "Source": "NZ Herald,  12/18/2023",
         "Species ": "Sevengill shark",
         "State": "South Island",
         "Time": "02h00",
         "Type": "Unprovoked",
         "Unnamed: 11": "N",
         "Unnamed: 21": "nan",
         "Unnamed: 22": "nan",
         "Year": 2023,
         "_deepnote_index_column": 11,
         "href": "nan",
         "href formula": "nan",
         "original order": "nan",
         "pdf": "nan"
        },
        {
         "Activity": "Swimming",
         "Age": "66",
         "Case Number": "nan",
         "Case Number.1": "nan",
         "Country": "MEXICO",
         "Date": "14  Dec-2023",
         "Injury": "FATAL",
         "Location": "Playa Quieta, Ixtapa, Zihuatanejo",
         "Name": "Joseph Leopold Bynens",
         "Sex": "M",
         "Source": "EL Pais, 12/15/2023",
         "Species ": "Shark involment not confirmed",
         "State": "Guerrero",
         "Time": "09h15",
         "Type": "Questionable",
         "Unnamed: 11": "Y",
         "Unnamed: 21": "nan",
         "Unnamed: 22": "nan",
         "Year": 2023,
         "_deepnote_index_column": 12,
         "href": "nan",
         "href formula": "nan",
         "original order": "nan",
         "pdf": "nan"
        },
        {
         "Activity": "Swimming",
         "Age": "52",
         "Case Number": "nan",
         "Case Number.1": "nan",
         "Country": "MEXICO",
         "Date": "14  Dec-2023",
         "Injury": "Injury to lower left leg",
         "Location": "Playa Quieta, Ixtapa, Zihuatanejo",
         "Name": "Valerie Haurowitz",
         "Sex": "F",
         "Source": "EL Pais, 12/15/2023",
         "Species ": "Shark involment not confirmed",
         "State": "Guerrero",
         "Time": "Early Morning",
         "Type": "Questionable",
         "Unnamed: 11": "N",
         "Unnamed: 21": "nan",
         "Unnamed: 22": "nan",
         "Year": 2023,
         "_deepnote_index_column": 13,
         "href": "nan",
         "href formula": "nan",
         "original order": "nan",
         "pdf": "nan"
        },
        {
         "Activity": "Snorkeling",
         "Age": "20",
         "Case Number": "nan",
         "Case Number.1": "nan",
         "Country": "AUSTRALIA",
         "Date": "08 Dec-2023",
         "Injury": "Leg severely  injured",
         "Location": "1770 ",
         "Name": "Matteo Mariotti",
         "Sex": "M",
         "Source": "B. Myatt, GSAF",
         "Species ": "nan",
         "State": "Queensland",
         "Time": "16h32",
         "Type": "Unprovoked",
         "Unnamed: 11": "N",
         "Unnamed: 21": "nan",
         "Unnamed: 22": "nan",
         "Year": 2023,
         "_deepnote_index_column": 14,
         "href": "nan",
         "href formula": "nan",
         "original order": "nan",
         "pdf": "nan"
        },
        {
         "Activity": "Paddle boarding",
         "Age": "44",
         "Case Number": "nan",
         "Case Number.1": "nan",
         "Country": "BAHAMAS",
         "Date": "04 Dec-2023",
         "Injury": "FATAL",
         "Location": "Sandals Resort",
         "Name": "Lauren Erickson Van Wart",
         "Sex": "F",
         "Source": "NBC News, 12/4/2023",
         "Species ": "nan",
         "State": "New Providence   Isoad",
         "Time": "11h00",
         "Type": "Unprovoked",
         "Unnamed: 11": "Y",
         "Unnamed: 21": "nan",
         "Unnamed: 22": "nan",
         "Year": 2023,
         "_deepnote_index_column": 15,
         "href": "nan",
         "href formula": "nan",
         "original order": "nan",
         "pdf": "nan"
        },
        {
         "Activity": "Swimming",
         "Age": "26",
         "Case Number": "nan",
         "Case Number.1": "nan",
         "Country": "MEXICO",
         "Date": "02 Dec-2023",
         "Injury": "FATAL",
         "Location": "San Patricio Melaque",
         "Name": "Maria Fernandez Martinez Jimenez",
         "Sex": "F",
         "Source": "News Channel 21, 12/3.2023",
         "Species ": "nan",
         "State": "Jalisco",
         "Time": "Morning",
         "Type": "Unprovoked",
         "Unnamed: 11": "Y",
         "Unnamed: 21": "nan",
         "Unnamed: 22": "nan",
         "Year": 2023,
         "_deepnote_index_column": 16,
         "href": "nan",
         "href formula": "nan",
         "original order": "nan",
         "pdf": "nan"
        },
        {
         "Activity": "Swimming",
         "Age": "21",
         "Case Number": "nan",
         "Case Number.1": "nan",
         "Country": "AUSTRALIA",
         "Date": "30 Nov-2023",
         "Injury": "Puncture wounds to right upper arm",
         "Location": "Clack Island",
         "Name": "Matthew Davitt",
         "Sex": "M",
         "Source": "ABC Net, 11/30/2023",
         "Species ": "1.8m bull shark",
         "State": "Queensland",
         "Time": "11h30",
         "Type": "Unprovoked",
         "Unnamed: 11": "N",
         "Unnamed: 21": "nan",
         "Unnamed: 22": "nan",
         "Year": 2023,
         "_deepnote_index_column": 17,
         "href": "nan",
         "href formula": "nan",
         "original order": "nan",
         "pdf": "nan"
        },
        {
         "Activity": "Scuba diving",
         "Age": "47",
         "Case Number": "nan",
         "Case Number.1": "nan",
         "Country": "BAHAMAS",
         "Date": "21 Nov-2023",
         "Injury": "FATAL",
         "Location": "Tiger Beach",
         "Name": "female",
         "Sex": "F",
         "Source": "Eye Witness News, 11/22/2023",
         "Species ": "nan",
         "State": "Grand  Bahama Island",
         "Time": "10h30",
         "Type": "Unprovoked",
         "Unnamed: 11": "Y",
         "Unnamed: 21": "nan",
         "Unnamed: 22": "nan",
         "Year": 2023,
         "_deepnote_index_column": 18,
         "href": "nan",
         "href formula": "nan",
         "original order": "nan",
         "pdf": "nan"
        },
        {
         "Activity": "Free diving",
         "Age": "32",
         "Case Number": "nan",
         "Case Number.1": "nan",
         "Country": "AUSTRALIA",
         "Date": "10 Nov-2023",
         "Injury": "Injuries to scalp and face",
         "Location": "Port Noarlunga",
         "Name": "Bridgette O’Shannessy",
         "Sex": "F",
         "Source": "S. DeMarchi. GSAF",
         "Species ": "nan",
         "State": "South Australia",
         "Time": "13h20",
         "Type": "Unprovoked",
         "Unnamed: 11": "N",
         "Unnamed: 21": "nan",
         "Unnamed: 22": "nan",
         "Year": 2023,
         "_deepnote_index_column": 19,
         "href": "nan",
         "href formula": "nan",
         "original order": "nan",
         "pdf": "nan"
        },
        {
         "Activity": "Swimming",
         "Age": "66",
         "Case Number": "nan",
         "Case Number.1": "nan",
         "Country": "USA",
         "Date": "05 Nov-2023",
         "Injury": "Lacerations to right forearm",
         "Location": "Juno Beach, Palm Beach County",
         "Name": "Steven Reinhardt",
         "Sex": "M",
         "Source": "ABC, 11/15/2023",
         "Species ": "nan",
         "State": "Florida",
         "Time": "10h30",
         "Type": "Unprovoked",
         "Unnamed: 11": "N",
         "Unnamed: 21": "nan",
         "Unnamed: 22": "nan",
         "Year": 2023,
         "_deepnote_index_column": 20,
         "href": "nan",
         "href formula": "nan",
         "original order": "nan",
         "pdf": "nan"
        },
        {
         "Activity": "Spearfishing",
         "Age": "nan",
         "Case Number": "nan",
         "Case Number.1": "nan",
         "Country": "AUSTRALIA",
         "Date": "03 Nov-2023",
         "Injury": "Minor injury",
         "Location": "Peak Island",
         "Name": "male",
         "Sex": "M",
         "Source": "Daily Mail, 11/3/2023",
         "Species ": "Lemon shark",
         "State": "Westerm Australia",
         "Time": "14h00",
         "Type": "Unprovoked",
         "Unnamed: 11": "N",
         "Unnamed: 21": "nan",
         "Unnamed: 22": "nan",
         "Year": 2023,
         "_deepnote_index_column": 21,
         "href": "nan",
         "href formula": "nan",
         "original order": "nan",
         "pdf": "nan"
        },
        {
         "Activity": "Free diving",
         "Age": "nan",
         "Case Number": "nan",
         "Case Number.1": "nan",
         "Country": "NEW ZEALAND",
         "Date": "02 Nov-2023",
         "Injury": "Minor injury. Wetsuit shredded",
         "Location": "Cape Pallister",
         "Name": "male",
         "Sex": "M",
         "Source": "NZ Herald, 11/2/2023",
         "Species ": "White shark",
         "State": "North Island",
         "Time": "09h00",
         "Type": "Unprovoked",
         "Unnamed: 11": "N",
         "Unnamed: 21": "nan",
         "Unnamed: 22": "nan",
         "Year": 2023,
         "_deepnote_index_column": 22,
         "href": "nan",
         "href formula": "nan",
         "original order": "nan",
         "pdf": "nan"
        },
        {
         "Activity": "Scuba diving",
         "Age": "66",
         "Case Number": "nan",
         "Case Number.1": "nan",
         "Country": "EGYPT",
         "Date": "Reported 02 Nov-2023",
         "Injury": "No injury. No attack; the shark  simply head-butted him",
         "Location": "Fury Shoal",
         "Name": "Gary Virgo",
         "Sex": "M",
         "Source": "Daily Mail, 11/2/2023",
         "Species ": "Oceanic whitetip shark",
         "State": "Southern Red Sea",
         "Time": "nan",
         "Type": "Questionable",
         "Unnamed: 11": "N",
         "Unnamed: 21": "nan",
         "Unnamed: 22": "nan",
         "Year": 2023,
         "_deepnote_index_column": 23,
         "href": "nan",
         "href formula": "nan",
         "original order": "nan",
         "pdf": "nan"
        },
        {
         "Activity": "Surfing",
         "Age": "55",
         "Case Number": "nan",
         "Case Number.1": "nan",
         "Country": "AUSTRALIA",
         "Date": "31 Oct-2023",
         "Injury": "FATAL",
         "Location": "Streaky Bay",
         "Name": "Todd Gendle",
         "Sex": "M",
         "Source": "S. DeMarchi. GSAF",
         "Species ": "White Shark, 4.5 m",
         "State": "South Australia",
         "Time": "10h20",
         "Type": "Unprovoked",
         "Unnamed: 11": "Y",
         "Unnamed: 21": "nan",
         "Unnamed: 22": "nan",
         "Year": 2023,
         "_deepnote_index_column": 24,
         "href": "nan",
         "href formula": "nan",
         "original order": "nan",
         "pdf": "nan"
        },
        {
         "Activity": "Surfing",
         "Age": "30",
         "Case Number": "nan",
         "Case Number.1": "nan",
         "Country": "USA",
         "Date": "25 Oct 2023",
         "Injury": "Bite to right thigh",
         "Location": "Pua’ena Point,  Haleiwa, Oahu",
         "Name": "male",
         "Sex": "M",
         "Source": "Surfer, 10/25/2023",
         "Species ": "8' tiger shark",
         "State": "Hawaii",
         "Time": "15h05",
         "Type": "Unprovoked",
         "Unnamed: 11": "N",
         "Unnamed: 21": "nan",
         "Unnamed: 22": "nan",
         "Year": 2023,
         "_deepnote_index_column": 25,
         "href": "nan",
         "href formula": "nan",
         "original order": "nan",
         "pdf": "nan"
        },
        {
         "Activity": "Fishing",
         "Age": "59",
         "Case Number": "nan",
         "Case Number.1": "nan",
         "Country": "Mexico",
         "Date": "23 Oct-2023",
         "Injury": "Both arms injured",
         "Location": "Banco Chinchorro Biosphere Reserve",
         "Name": "male",
         "Sex": "M",
         "Source": "TYT Newsroom. 10/26/2023",
         "Species ": "nan",
         "State": "Quintana Roo",
         "Time": "nan",
         "Type": "Provoked",
         "Unnamed: 11": "N",
         "Unnamed: 21": "nan",
         "Unnamed: 22": "nan",
         "Year": 2023,
         "_deepnote_index_column": 26,
         "href": "nan",
         "href formula": "nan",
         "original order": "nan",
         "pdf": "nan"
        },
        {
         "Activity": "Fishing",
         "Age": "nan",
         "Case Number": "nan",
         "Case Number.1": "nan",
         "Country": "AUSTRALIA",
         "Date": "21 Oct-2023",
         "Injury": " Dinghy damaged by shark. No injurty to the 5 men onboard",
         "Location": "Alexander Bay, Esperance",
         "Name": "Inflatatable dinghy",
         "Sex": "M",
         "Source": "ABC. 10/22/2023",
         "Species ": "Bronze whaler, 6'",
         "State": "Western Australia",
         "Time": "17h00",
         "Type": "Watercraft",
         "Unnamed: 11": "N",
         "Unnamed: 21": "nan",
         "Unnamed: 22": "nan",
         "Year": 2023,
         "_deepnote_index_column": 27,
         "href": "nan",
         "href formula": "nan",
         "original order": "nan",
         "pdf": "nan"
        },
        {
         "Activity": "Snorkeling",
         "Age": "8",
         "Case Number": "nan",
         "Case Number.1": "nan",
         "Country": "BELIZE",
         "Date": "20 Oct 2023",
         "Injury": "Foot injured",
         "Location": "San Pedro , Ambergris Caye",
         "Name": "Lila Claire Dinkel",
         "Sex": "F",
         "Source": "C. Dinkel",
         "Species ": "Nurse shark, 5' to 6'",
         "State": "Belize District",
         "Time": "nan",
         "Type": "Unprovoked",
         "Unnamed: 11": "N",
         "Unnamed: 21": "nan",
         "Unnamed: 22": "nan",
         "Year": 2023,
         "_deepnote_index_column": 28,
         "href": "nan",
         "href formula": "nan",
         "original order": "nan",
         "pdf": "nan"
        },
        {
         "Activity": "Surfing",
         "Age": "50",
         "Case Number": "nan",
         "Case Number.1": "nan",
         "Country": "USA",
         "Date": "15 Oct 2023",
         "Injury": "Left leg and hand injured",
         "Location": "Hanalei Bay, Kauai",
         "Name": "Kevin Kanehe",
         "Sex": "M",
         "Source": "Kaua'i Now, 10/15/2023",
         "Species ": "10' tiger shark",
         "State": "Hawaii",
         "Time": "16h00",
         "Type": "Unprovoked",
         "Unnamed: 11": "N",
         "Unnamed: 21": "nan",
         "Unnamed: 22": "nan",
         "Year": 2023,
         "_deepnote_index_column": 29,
         "href": "nan",
         "href formula": "nan",
         "original order": "nan",
         "pdf": "nan"
        },
        {
         "Activity": "Surfing",
         "Age": "52",
         "Case Number": "nan",
         "Case Number.1": "nan",
         "Country": "USA",
         "Date": "13 Oct-2023",
         "Injury": "Minor linjury to left lower leg ",
         "Location": "Linda Mar, Pacific State Beach, San Mateo County",
         "Name": "male",
         "Sex": "M",
         "Source": "R. Collier, GSAF",
         "Species ": "nan",
         "State": "California",
         "Time": "15h45",
         "Type": "Unprovoked",
         "Unnamed: 11": "N",
         "Unnamed: 21": "nan",
         "Unnamed: 22": "nan",
         "Year": 2023,
         "_deepnote_index_column": 30,
         "href": "nan",
         "href formula": "nan",
         "original order": "nan",
         "pdf": "nan"
        },
        {
         "Activity": "Surfing",
         "Age": "45",
         "Case Number": "nan",
         "Case Number.1": "nan",
         "Country": "USA",
         "Date": "02 Oct-2023",
         "Injury": "Minor injury. Shark bit surfboard",
         "Location": "Paia, Maui",
         "Name": "K. Cole",
         "Sex": "F",
         "Source": "The Beat of Hawaii, 10/2/2023",
         "Species ": "10' to 12' Galapagos shark",
         "State": "Hawaii",
         "Time": "13h00",
         "Type": "Unprovoked",
         "Unnamed: 11": "N",
         "Unnamed: 21": "nan",
         "Unnamed: 22": "nan",
         "Year": 2023,
         "_deepnote_index_column": 31,
         "href": "nan",
         "href formula": "nan",
         "original order": "nan",
         "pdf": "nan"
        },
        {
         "Activity": "Swimming",
         "Age": "64",
         "Case Number": "nan",
         "Case Number.1": "nan",
         "Country": "AUSTRALIA",
         "Date": "01 Oct-2023",
         "Injury": "Minor injury. Shark bit surfboard",
         "Location": "Beachport",
         "Name": "Pamela Cook",
         "Sex": "F",
         "Source": "B. Myatt, GSAF",
         "Species ": "nan",
         "State": "South Australia",
         "Time": "07h45",
         "Type": "Unprovoked",
         "Unnamed: 11": "N",
         "Unnamed: 21": "nan",
         "Unnamed: 22": "nan",
         "Year": 2023,
         "_deepnote_index_column": 32,
         "href": "nan",
         "href formula": "nan",
         "original order": "nan",
         "pdf": "nan"
        },
        {
         "Activity": "Swimming",
         "Age": "52",
         "Case Number": "nan",
         "Case Number.1": "nan",
         "Country": "USA",
         "Date": "01 Oct-2023",
         "Injury": "Body not recovered",
         "Location": "Wildcat Beach, Marin County",
         "Name": "Felix Louis N'Jai",
         "Sex": "M",
         "Source": "SF Chronicle, 10/10/2023",
         "Species ": "nan",
         "State": "California",
         "Time": "10h40",
         "Type": "Unprovoked",
         "Unnamed: 11": "Y",
         "Unnamed: 21": "nan",
         "Unnamed: 22": "nan",
         "Year": 2023,
         "_deepnote_index_column": 33,
         "href": "nan",
         "href formula": "nan",
         "original order": "nan",
         "pdf": "nan"
        },
        {
         "Activity": "Swimming",
         "Age": "nan",
         "Case Number": "nan",
         "Case Number.1": "nan",
         "Country": "USA",
         "Date": "18 Sep-2023",
         "Injury": "Non-lifethreatening injuries",
         "Location": "Myrtle Beach, Horry County",
         "Name": "male",
         "Sex": "M",
         "Source": "C. Creswell, GSAF",
         "Species ": "nan",
         "State": "South Carolina",
         "Time": "16h00",
         "Type": "Unprovoked",
         "Unnamed: 11": "N",
         "Unnamed: 21": "nan",
         "Unnamed: 22": "nan",
         "Year": 2023,
         "_deepnote_index_column": 34,
         "href": "nan",
         "href formula": "nan",
         "original order": "nan",
         "pdf": "nan"
        },
        {
         "Activity": "Swimming",
         "Age": "34",
         "Case Number": "nan",
         "Case Number.1": "nan",
         "Country": "EGYPT",
         "Date": "13 Sep-2023",
         "Injury": "Left arm severely bitten, surgically amputated",
         "Location": "Dahab",
         "Name": " Zainab Ahmed Mohammed",
         "Sex": "F",
         "Source": "M. Maaty",
         "Species ": "Tiger shark?",
         "State": "South Sinai",
         "Time": "nan",
         "Type": "Unprovoked",
         "Unnamed: 11": "N",
         "Unnamed: 21": "nan",
         "Unnamed: 22": "nan",
         "Year": 2023,
         "_deepnote_index_column": 35,
         "href": "nan",
         "href formula": "nan",
         "original order": "nan",
         "pdf": "nan"
        },
        {
         "Activity": "Surfing",
         "Age": "38",
         "Case Number": "nan",
         "Case Number.1": "nan",
         "Country": "USA",
         "Date": "12 Sep-2023",
         "Injury": "Llacerations to face and chin",
         "Location": "New Smyrna Beach, Volusia County",
         "Name": "Mark Summersett",
         "Sex": "M",
         "Source": "Daytona Beach News Journal, 9/13/2023",
         "Species ": "nan",
         "State": "Florida",
         "Time": "07h50",
         "Type": "Questionable",
         "Unnamed: 11": "N",
         "Unnamed: 21": "nan",
         "Unnamed: 22": "nan",
         "Year": 2023,
         "_deepnote_index_column": 36,
         "href": "nan",
         "href formula": "nan",
         "original order": "nan",
         "pdf": "nan"
        },
        {
         "Activity": "Surfing",
         "Age": "nan",
         "Case Number": "nan",
         "Case Number.1": "nan",
         "Country": "USA",
         "Date": "11 Sep-2023",
         "Injury": "Bite to lower back",
         "Location": "Satellite Beach, Brevard County",
         "Name": "Bill Eveland",
         "Sex": "M",
         "Source": "Fox 35,9/12/2-23",
         "Species ": "nan",
         "State": "Florida",
         "Time": "nan",
         "Type": "Unprovoked",
         "Unnamed: 11": "N",
         "Unnamed: 21": "nan",
         "Unnamed: 22": "nan",
         "Year": 2023,
         "_deepnote_index_column": 37,
         "href": "nan",
         "href formula": "nan",
         "original order": "nan",
         "pdf": "nan"
        },
        {
         "Activity": "Fishing",
         "Age": "nan",
         "Case Number": "nan",
         "Case Number.1": "nan",
         "Country": "PHILIPPINES",
         "Date": "09 Sep- 2023",
         "Injury": "Laceration to left thigh",
         "Location": "Pangasinan, Ilocos Norte, Luzon Island",
         "Name": "male",
         "Sex": "M",
         "Source": "Manila Bulletin, 9 /10/2023",
         "Species ": "nan",
         "State": "Bolinao",
         "Time": "nan",
         "Type": "Unprovoked",
         "Unnamed: 11": "M",
         "Unnamed: 21": "nan",
         "Unnamed: 22": "nan",
         "Year": 2023,
         "_deepnote_index_column": 38,
         "href": "nan",
         "href formula": "nan",
         "original order": "nan",
         "pdf": "nan"
        },
        {
         "Activity": "On a round-the-world expedition",
         "Age": "nan",
         "Case Number": "nan",
         "Case Number.1": "nan",
         "Country": "Coral Sea",
         "Date": "Reported 06-Sep-2023",
         "Injury": "Catamaran severely damaged by sharks. No injurty to the 3 men onboard",
         "Location": "nan",
         "Name": "9 m inflatable catamaran ",
         "Sex": "M",
         "Source": "B. Myatt, GSAF",
         "Species ": "Cookiecutter sharks",
         "State": "nan",
         "Time": "01h00",
         "Type": "Watercraft",
         "Unnamed: 11": "N",
         "Unnamed: 21": "nan",
         "Unnamed: 22": "nan",
         "Year": 2023,
         "_deepnote_index_column": 39,
         "href": "nan",
         "href formula": "nan",
         "original order": "nan",
         "pdf": "nan"
        },
        {
         "Activity": "Surfing",
         "Age": "30s",
         "Case Number": "nan",
         "Case Number.1": "nan",
         "Country": "USA",
         "Date": "04 Sep 2023",
         "Injury": "Left hand bitten",
         "Location": "Ponce Inlet, Volusia County",
         "Name": "male",
         "Sex": "M",
         "Source": "Click Orlando, 9/4/2023",
         "Species ": "nan",
         "State": "Florida",
         "Time": "nan",
         "Type": "Unprovoked",
         "Unnamed: 11": "N",
         "Unnamed: 21": "nan",
         "Unnamed: 22": "nan",
         "Year": 2023,
         "_deepnote_index_column": 40,
         "href": "nan",
         "href formula": "nan",
         "original order": "nan",
         "pdf": "nan"
        },
        {
         "Activity": "Wading",
         "Age": "37",
         "Case Number": "nan",
         "Case Number.1": "nan",
         "Country": "USA",
         "Date": "04 Sep 2023",
         "Injury": "Right foot bitten",
         "Location": "Ponce Inlet, Volusia County",
         "Name": "female",
         "Sex": "F",
         "Source": "Click Orlando, 9/4/2023",
         "Species ": "nan",
         "State": "Florida",
         "Time": "nan",
         "Type": "Unprovoked",
         "Unnamed: 11": "N",
         "Unnamed: 21": "nan",
         "Unnamed: 22": "nan",
         "Year": 2023,
         "_deepnote_index_column": 41,
         "href": "nan",
         "href formula": "nan",
         "original order": "nan",
         "pdf": "nan"
        },
        {
         "Activity": "Surfing",
         "Age": "44",
         "Case Number": "nan",
         "Case Number.1": "nan",
         "Country": "AUSTRALIA",
         "Date": "25 Aug 2023",
         "Injury": "Severe injuries to lower limbs",
         "Location": "Lighthouse Beach, Port Macquarie ",
         "Name": "Toby Begg",
         "Sex": "M",
         "Source": "B. Myatt, & M. Michaelson, GSAF",
         "Species ": "White shark, 3.8-4.2m",
         "State": "New South Wales",
         "Time": "10h00",
         "Type": "Unprovoked",
         "Unnamed: 11": "nan",
         "Unnamed: 21": "nan",
         "Unnamed: 22": "nan",
         "Year": 2023,
         "_deepnote_index_column": 42,
         "href": "nan",
         "href formula": "nan",
         "original order": "nan",
         "pdf": "nan"
        },
        {
         "Activity": "Wading",
         "Age": "9",
         "Case Number": "nan",
         "Case Number.1": "nan",
         "Country": "USA",
         "Date": "23 Aug-2023",
         "Injury": "Minor injury to shoulder",
         "Location": "Oak Island, Brunswick County",
         "Name": "child",
         "Sex": "nan",
         "Source": "C. Creswell, GSAF",
         "Species ": "nan",
         "State": "North Carolina",
         "Time": "09h00",
         "Type": "Unprovoked",
         "Unnamed: 11": "N",
         "Unnamed: 21": "nan",
         "Unnamed: 22": "nan",
         "Year": 2023,
         "_deepnote_index_column": 43,
         "href": "nan",
         "href formula": "nan",
         "original order": "nan",
         "pdf": "nan"
        },
        {
         "Activity": "Kayak fishing",
         "Age": "19",
         "Case Number": "nan",
         "Case Number.1": "nan",
         "Country": "USA",
         "Date": "22 Aug-2023",
         "Injury": "Shark bit kayak, no injury to occupant",
         "Location": "Pebble Beach, San Mateo County",
         "Name": "male",
         "Sex": "M",
         "Source": "MSN, 8/22/2023",
         "Species ": "nan",
         "State": "California",
         "Time": "13h00",
         "Type": "Watercraft",
         "Unnamed: 11": "N",
         "Unnamed: 21": "nan",
         "Unnamed: 22": "nan",
         "Year": 2023,
         "_deepnote_index_column": 44,
         "href": "nan",
         "href formula": "nan",
         "original order": "nan",
         "pdf": "nan"
        },
        {
         "Activity": "nan",
         "Age": "20/30",
         "Case Number": "nan",
         "Case Number.1": "nan",
         "Country": "BAHAMAS",
         "Date": "21 Aug-2023",
         "Injury": "Body found with shark bites. Possible drowning. Cause of Death Unknown",
         "Location": "Saunders Beach, Nassau",
         "Name": "male",
         "Sex": "M",
         "Source": "The Tribune, 8/21/2023",
         "Species ": "nan",
         "State": "New Providence   Isoad",
         "Time": "Morning",
         "Type": "Questionable",
         "Unnamed: 11": "nan",
         "Unnamed: 21": "nan",
         "Unnamed: 22": "nan",
         "Year": 2023,
         "_deepnote_index_column": 45,
         "href": "nan",
         "href formula": "nan",
         "original order": "nan",
         "pdf": "nan"
        },
        {
         "Activity": "Wading",
         "Age": "35",
         "Case Number": "nan",
         "Case Number.1": "nan",
         "Country": "SPAIN",
         "Date": "16 Aug-2023",
         "Injury": "Minor lacerations to right foot",
         "Location": "Rabdells Beach",
         "Name": "male",
         "Sex": "M",
         "Source": "Las Provincias",
         "Species ": "Blue shark",
         "State": "Valencia",
         "Time": "Afternoon",
         "Type": "Unprovoked",
         "Unnamed: 11": "N",
         "Unnamed: 21": "nan",
         "Unnamed: 22": "nan",
         "Year": 2023,
         "_deepnote_index_column": 46,
         "href": "nan",
         "href formula": "nan",
         "original order": "nan",
         "pdf": "nan"
        },
        {
         "Activity": "Fishing",
         "Age": "nan",
         "Case Number": "nan",
         "Case Number.1": "nan",
         "Country": "PORTUGAL",
         "Date": "16 Aug-2023",
         "Injury": "Leg bitten",
         "Location": " 9 nm off Vila do Conde ",
         "Name": "male",
         "Sex": "M",
         "Source": "Portugese Resident, 8/17/2023",
         "Species ": "Blue shark",
         "State": "Norte",
         "Time": "19h30",
         "Type": "Provoked",
         "Unnamed: 11": "N",
         "Unnamed: 21": "nan",
         "Unnamed: 22": "nan",
         "Year": 2023,
         "_deepnote_index_column": 47,
         "href": "nan",
         "href formula": "nan",
         "original order": "nan",
         "pdf": "nan"
        },
        {
         "Activity": "Towing a dead whale out to sea",
         "Age": "nan",
         "Case Number": "nan",
         "Case Number.1": "nan",
         "Country": "SAMOA",
         "Date": "12 Aug-2023",
         "Injury": "FATAL",
         "Location": "Lano",
         "Name": "Amoni Malaeulu ",
         "Sex": "M",
         "Source": "Samoa News,8/15/2023",
         "Species ": "nan",
         "State": "Savai'i island",
         "Time": "Evening",
         "Type": "Unprovoked",
         "Unnamed: 11": "Y",
         "Unnamed: 21": "nan",
         "Unnamed: 22": "nan",
         "Year": 2023,
         "_deepnote_index_column": 48,
         "href": "nan",
         "href formula": "nan",
         "original order": "nan",
         "pdf": "nan"
        },
        {
         "Activity": "Wading",
         "Age": "65",
         "Case Number": "nan",
         "Case Number.1": "nan",
         "Country": "USA",
         "Date": "07 Aug-2023",
         "Injury": "Laceration to left posterior thigh",
         "Location": "Rockaway",
         "Name": "Tatyana Koltunyuk",
         "Sex": "F",
         "Source": ".S. Curatolo- Wagemann, GSAFF",
         "Species ": "nan",
         "State": "New York",
         "Time": "17h50",
         "Type": "Unprovoked",
         "Unnamed: 11": "N",
         "Unnamed: 21": "nan",
         "Unnamed: 22": "nan",
         "Year": 2023,
         "_deepnote_index_column": 49,
         "href": "nan",
         "href formula": "nan",
         "original order": "nan",
         "pdf": "nan"
        },
        {
         "Activity": "Surfing",
         "Age": "22",
         "Case Number": "nan",
         "Case Number.1": "nan",
         "Country": "USA",
         "Date": "31 Jul-2023",
         "Injury": "Ankle injured",
         "Location": "New Smyrna Beach, Volusia County",
         "Name": "Brandon Boncore",
         "Sex": "M",
         "Source": "Fox35, 7/31/2023",
         "Species ": "nan",
         "State": "Florida",
         "Time": "09h30",
         "Type": "Unprovoked",
         "Unnamed: 11": "N",
         "Unnamed: 21": "nan",
         "Unnamed: 22": "nan",
         "Year": 2023,
         "_deepnote_index_column": 50,
         "href": "nan",
         "href formula": "nan",
         "original order": "nan",
         "pdf": "nan"
        },
        {
         "Activity": "Spearfishing",
         "Age": "22",
         "Case Number": "nan",
         "Case Number.1": "nan",
         "Country": "USA",
         "Date": "30 Jul-2023",
         "Injury": "Lower leg bitten",
         "Location": "Anna Maria Island, Manatee County",
         "Name": "male",
         "Sex": "M",
         "Source": "R. Babington, GSAF",
         "Species ": "nan",
         "State": "Florida",
         "Time": "15h30",
         "Type": "Unprovoked",
         "Unnamed: 11": "N",
         "Unnamed: 21": "nan",
         "Unnamed: 22": "nan",
         "Year": 2023,
         "_deepnote_index_column": 51,
         "href": "nan",
         "href formula": "nan",
         "original order": "nan",
         "pdf": "nan"
        },
        {
         "Activity": "Swimming",
         "Age": "26",
         "Case Number": "nan",
         "Case Number.1": "nan",
         "Country": "USA",
         "Date": "29 Jul-2023",
         "Injury": "Superficial injuries to abomen and thighs",
         "Location": "Tampa Bay",
         "Name": "Natalie Branda",
         "Sex": "F",
         "Source": "Fox12, 8/1/2023",
         "Species ": "nan",
         "State": "Florida",
         "Time": "20h00",
         "Type": "Unprovoked",
         "Unnamed: 11": "N",
         "Unnamed: 21": "nan",
         "Unnamed: 22": "nan",
         "Year": 2023,
         "_deepnote_index_column": 52,
         "href": "nan",
         "href formula": "nan",
         "original order": "nan",
         "pdf": "nan"
        },
        {
         "Activity": "Surfing",
         "Age": "20s",
         "Case Number": "nan",
         "Case Number.1": "nan",
         "Country": "AUSTRALIA",
         "Date": "24 Jul-2023",
         "Injury": "Laceration to leg",
         "Location": "Gnarabup Beach ",
         "Name": "Jack Frost",
         "Sex": "M",
         "Source": "B. Myatt, GSAF",
         "Species ": "Wfite shark",
         "State": "Western Australia",
         "Time": "08h45",
         "Type": "Unprovoked",
         "Unnamed: 11": "N",
         "Unnamed: 21": "nan",
         "Unnamed: 22": "nan",
         "Year": 2023,
         "_deepnote_index_column": 53,
         "href": "nan",
         "href formula": "nan",
         "original order": "nan",
         "pdf": "nan"
        },
        {
         "Activity": "Snorkeling",
         "Age": "77",
         "Case Number": "nan",
         "Case Number.1": "nan",
         "Country": "AUSTRALIA",
         "Date": "22 Jul-2023",
         "Injury": "Lower left leg bitten",
         "Location": "Yallingup Lagoon",
         "Name": "Richard Stubbs",
         "Sex": "M",
         "Source": "B. Myatt, GSAF",
         "Species ": "Wobbegong shark",
         "State": "Western Australia",
         "Time": "nan",
         "Type": "Unprovoked",
         "Unnamed: 11": "N",
         "Unnamed: 21": "nan",
         "Unnamed: 22": "nan",
         "Year": 2023,
         "_deepnote_index_column": 54,
         "href": "nan",
         "href formula": "nan",
         "original order": "nan",
         "pdf": "nan"
        },
        {
         "Activity": "Boogie boarding",
         "Age": "60",
         "Case Number": "nan",
         "Case Number.1": "nan",
         "Country": "USA",
         "Date": "21 Jul-2023",
         "Injury": "Right foot injured",
         "Location": "Sea Pines Beach, Hilton Head Island, Beaufort County",
         "Name": "John Mistler",
         "Sex": "M",
         "Source": "C. Creswell, GSAF",
         "Species ": "8' shark",
         "State": "South Carolina",
         "Time": "13h20",
         "Type": "Unprovoked",
         "Unnamed: 11": "N",
         "Unnamed: 21": "nan",
         "Unnamed: 22": "nan",
         "Year": 2023,
         "_deepnote_index_column": 55,
         "href": "nan",
         "href formula": "nan",
         "original order": "nan",
         "pdf": "nan"
        },
        {
         "Activity": "Freediving",
         "Age": "38",
         "Case Number": "nan",
         "Case Number.1": "nan",
         "Country": "COLOMBIA",
         "Date": "18 Jul-2023",
         "Injury": "Lower right leg bittenLa Patria, 7/20/2023w",
         "Location": "Nirvana",
         "Name": "Cristian Castaño",
         "Sex": "M",
         "Source": "La Patria, 7/20/2023",
         "Species ": "Oceanic whitetip shark",
         "State": "San Andrés Island",
         "Time": "\"Midday\"",
         "Type": "Unprovoked",
         "Unnamed: 11": "N",
         "Unnamed: 21": "nan",
         "Unnamed: 22": "nan",
         "Year": 2023,
         "_deepnote_index_column": 56,
         "href": "nan",
         "href formula": "nan",
         "original order": "nan",
         "pdf": "nan"
        },
        {
         "Activity": "Sitting",
         "Age": "49",
         "Case Number": "nan",
         "Case Number.1": "nan",
         "Country": "USA",
         "Date": "15 Jul-2023",
         "Injury": "Superficial injury to back",
         "Location": "New Smyrna Beach",
         "Name": "male",
         "Sex": "M",
         "Source": "Fox35, 7/15/2023",
         "Species ": "nan",
         "State": "Florida",
         "Time": "14h00",
         "Type": "Unprovoked",
         "Unnamed: 11": "N",
         "Unnamed: 21": "nan",
         "Unnamed: 22": "nan",
         "Year": 2023,
         "_deepnote_index_column": 57,
         "href": "nan",
         "href formula": "nan",
         "original order": "nan",
         "pdf": "nan"
        },
        {
         "Activity": "Surfing",
         "Age": "21",
         "Case Number": "nan",
         "Case Number.1": "nan",
         "Country": "USA",
         "Date": "14 Jul-2023",
         "Injury": "Severe injury to foot",
         "Location": "New Smyrna Beach",
         "Name": "Chris Pospisil",
         "Sex": "M",
         "Source": "Wesh2, 7/14/2023",
         "Species ": "nan",
         "State": "Florida",
         "Time": "15h00",
         "Type": "Unprovoked",
         "Unnamed: 11": "N",
         "Unnamed: 21": "nan",
         "Unnamed: 22": "nan",
         "Year": 2023,
         "_deepnote_index_column": 58,
         "href": "nan",
         "href formula": "nan",
         "original order": "nan",
         "pdf": "nan"
        },
        {
         "Activity": "Watching the sardine run",
         "Age": "nan",
         "Case Number": "nan",
         "Case Number.1": "nan",
         "Country": "SOUTH AFRICA",
         "Date": "Reported 14 Jul-2023",
         "Injury": "No injury to occupants, shark defated boat",
         "Location": "Chinta East ",
         "Name": "crew",
         "Sex": "nan",
         "Source": "Ladbible, 7/14/2023",
         "Species ": "nan",
         "State": "Eastern Cape Province",
         "Time": "nan",
         "Type": "Watercraft",
         "Unnamed: 11": "N",
         "Unnamed: 21": "nan",
         "Unnamed: 22": "nan",
         "Year": 2023,
         "_deepnote_index_column": 59,
         "href": "nan",
         "href formula": "nan",
         "original order": "nan",
         "pdf": "nan"
        },
        {
         "Activity": "Snorkeling",
         "Age": "42",
         "Case Number": "nan",
         "Case Number.1": "nan",
         "Country": "ECUADOR",
         "Date": "04 Jul-2023",
         "Injury": "Serious injury to right leg",
         "Location": "Mosquera Islet",
         "Name": "Delia Yriarte",
         "Sex": "F",
         "Source": "T. Smith, GSAF",
         "Species ": "nan",
         "State": "Galapagos Islands",
         "Time": "nan",
         "Type": "Unprovoked",
         "Unnamed: 11": "N",
         "Unnamed: 21": "nan",
         "Unnamed: 22": "nan",
         "Year": 2023,
         "_deepnote_index_column": 60,
         "href": "nan",
         "href formula": "nan",
         "original order": "nan",
         "pdf": "nan"
        },
        {
         "Activity": "Standing",
         "Age": "nan",
         "Case Number": "nan",
         "Case Number.1": "nan",
         "Country": "USA",
         "Date": "04 Jul-2023",
         "Injury": "Puncture wounds to thigh",
         "Location": "Cherry Grove, Suffolk County",
         "Name": "female",
         "Sex": "F",
         "Source": "S.S. Curatolo- Wagemann, GSAFF",
         "Species ": "4' shark",
         "State": "New York",
         "Time": "16h25",
         "Type": "Unprovoked",
         "Unnamed: 11": "N",
         "Unnamed: 21": "nan",
         "Unnamed: 22": "nan",
         "Year": 2023,
         "_deepnote_index_column": 61,
         "href": "nan",
         "href formula": "nan",
         "original order": "nan",
         "pdf": "nan"
        },
        {
         "Activity": "Swimming",
         "Age": "49",
         "Case Number": "nan",
         "Case Number.1": "nan",
         "Country": "USA",
         "Date": "04 Jul-2023",
         "Injury": "Injury to right hand",
         "Location": "Fire Island Pines, Suffolk County",
         "Name": "male",
         "Sex": "M",
         "Source": "S.S. Curatolo- Wagemann, GSAFF",
         "Species ": "3' shark",
         "State": "New York",
         "Time": "13h55",
         "Type": "Unprovoked",
         "Unnamed: 11": "N",
         "Unnamed: 21": "nan",
         "Unnamed: 22": "nan",
         "Year": 2023,
         "_deepnote_index_column": 62,
         "href": "nan",
         "href formula": "nan",
         "original order": "nan",
         "pdf": "nan"
        },
        {
         "Activity": "Swimming",
         "Age": "47",
         "Case Number": "nan",
         "Case Number.1": "nan",
         "Country": "USA",
         "Date": "04 Jul-2023",
         "Injury": "Laceration to right knee",
         "Location": "Quogue Village Beach, Suffolk County",
         "Name": "male",
         "Sex": "M",
         "Source": "S.S. Curatolo- Wagemann, GSAFF",
         "Species ": "nan",
         "State": "New York",
         "Time": "13h50",
         "Type": "Unprovoked",
         "Unnamed: 11": "N",
         "Unnamed: 21": "nan",
         "Unnamed: 22": "nan",
         "Year": 2023,
         "_deepnote_index_column": 63,
         "href": "nan",
         "href formula": "nan",
         "original order": "nan",
         "pdf": "nan"
        },
        {
         "Activity": "Surfing",
         "Age": "15",
         "Case Number": "nan",
         "Case Number.1": "nan",
         "Country": "USA",
         "Date": "03 Jul-2023",
         "Injury": "Injury to left heel and toes",
         "Location": "Kismet Beach, Suffolk County",
         "Name": "Peter Banculli",
         "Sex": "M",
         "Source": "S.S. Curatolo- Wagemann, GSAFF",
         "Species ": "nan",
         "State": "New York",
         "Time": "17h20",
         "Type": "Unprovoked",
         "Unnamed: 11": "N",
         "Unnamed: 21": "nan",
         "Unnamed: 22": "nan",
         "Year": 2023,
         "_deepnote_index_column": 64,
         "href": "nan",
         "href formula": "nan",
         "original order": "nan",
         "pdf": "nan"
        },
        {
         "Activity": "Swimming",
         "Age": "15",
         "Case Number": "nan",
         "Case Number.1": "nan",
         "Country": "USA",
         "Date": "03 Jul-2023",
         "Injury": "3 small puncture wounds to left leg",
         "Location": "Beach 3, Robert Moses State Park, Suffolk County",
         "Name": "female",
         "Sex": "F",
         "Source": "S.S. Curatolo- Wagemann, GSAFF",
         "Species ": "Sand tiger shark",
         "State": "New York",
         "Time": "13h45",
         "Type": "Unprovoked",
         "Unnamed: 11": "N",
         "Unnamed: 21": "nan",
         "Unnamed: 22": "nan",
         "Year": 2023,
         "_deepnote_index_column": 65,
         "href": "nan",
         "href formula": "nan",
         "original order": "nan",
         "pdf": "nan"
        },
        {
         "Activity": "Swimming",
         "Age": "!2",
         "Case Number": "nan",
         "Case Number.1": "nan",
         "Country": "USA",
         "Date": "23-Jun-2023",
         "Injury": "Multiple puncture wounds to right thigh",
         "Location": "Cocoa Beach, Brevard County",
         "Name": "Magnolia Woodhead",
         "Sex": "F",
         "Source": "Fox 35, 6/29/2023",
         "Species ": "nan",
         "State": "Florida",
         "Time": "nan",
         "Type": "Unprovoked",
         "Unnamed: 11": "N",
         "Unnamed: 21": "nan",
         "Unnamed: 22": "nan",
         "Year": 2023,
         "_deepnote_index_column": 66,
         "href": "nan",
         "href formula": "nan",
         "original order": "nan",
         "pdf": "nan"
        },
        {
         "Activity": "Fishing",
         "Age": "nan",
         "Case Number": "nan",
         "Case Number.1": "nan",
         "Country": "USA",
         "Date": "23-Jun-2023",
         "Injury": "Hand bitten",
         "Location": "Flamingo Marina, Homestead, Miami-Dade County",
         "Name": "Nick",
         "Sex": "M",
         "Source": "South Florida Sun Sentinel, 6/23/2023",
         "Species ": "nan",
         "State": "Florida",
         "Time": "10h10",
         "Type": "Unprovoked",
         "Unnamed: 11": "N",
         "Unnamed: 21": "nan",
         "Unnamed: 22": "nan",
         "Year": 2023,
         "_deepnote_index_column": 67,
         "href": "nan",
         "href formula": "nan",
         "original order": "nan",
         "pdf": "nan"
        },
        {
         "Activity": "Filming",
         "Age": "nan",
         "Case Number": "nan",
         "Case Number.1": "nan",
         "Country": "USA",
         "Date": "Reported 14-June 2023",
         "Injury": "Sharks bit their inflatable boats",
         "Location": "Laysan",
         "Name": "Netflix crew",
         "Sex": "M",
         "Source": "BBC, 6/14/2023",
         "Species ": "Tiger sharks",
         "State": "Hawaii",
         "Time": "nan",
         "Type": "Unprovoked",
         "Unnamed: 11": "N",
         "Unnamed: 21": "nan",
         "Unnamed: 22": "nan",
         "Year": 2023,
         "_deepnote_index_column": 68,
         "href": "nan",
         "href formula": "nan",
         "original order": "nan",
         "pdf": "nan"
        },
        {
         "Activity": "Swimming",
         "Age": "24",
         "Case Number": "nan",
         "Case Number.1": "nan",
         "Country": "EGYPT",
         "Date": "08-Jun 2023",
         "Injury": "Fatal",
         "Location": "Dream Beach, Hurguda",
         "Name": "Vladmir Popov",
         "Sex": "M",
         "Source": "M. Michaelson, et al,GSA",
         "Species ": "Tiger shark, 13'",
         "State": "Red Sea Protectorate",
         "Time": "15h00",
         "Type": "Unprovoked",
         "Unnamed: 11": "Y",
         "Unnamed: 21": "nan",
         "Unnamed: 22": "nan",
         "Year": 2023,
         "_deepnote_index_column": 69,
         "href": "nan",
         "href formula": "nan",
         "original order": "nan",
         "pdf": "nan"
        },
        {
         "Activity": "Scuba diving",
         "Age": "73",
         "Case Number": "nan",
         "Case Number.1": "nan",
         "Country": "BAHAMAS",
         "Date": "07-Jun-2023",
         "Injury": "Calf severely bitten",
         "Location": "Shark Junction",
         "Name": "Heidi Ernst",
         "Sex": "F",
         "Source": "J. Marchand, GSAF",
         "Species ": "Caribbean rreef shark",
         "State": "Freeport",
         "Time": "13h00",
         "Type": "Unprovoked",
         "Unnamed: 11": "nan",
         "Unnamed: 21": "nan",
         "Unnamed: 22": "nan",
         "Year": 2023,
         "_deepnote_index_column": 70,
         "href": "nan",
         "href formula": "nan",
         "original order": "nan",
         "pdf": "nan"
        },
        {
         "Activity": "Kite surfing",
         "Age": "25",
         "Case Number": "nan",
         "Case Number.1": "nan",
         "Country": "FRENCH POLYNESIA",
         "Date": "28-May 2023",
         "Injury": "Buttock bitten",
         "Location": "Matavai Bay, Arue, Papetee",
         "Name": "female",
         "Sex": "F",
         "Source": "J. Marchand, GSAF",
         "Species ": "Grey reef shark, 2 m",
         "State": "Tahiti",
         "Time": "14h35",
         "Type": "Unprovoked",
         "Unnamed: 11": "N",
         "Unnamed: 21": "nan",
         "Unnamed: 22": "nan",
         "Year": 2023,
         "_deepnote_index_column": 71,
         "href": "nan",
         "href formula": "nan",
         "original order": "nan",
         "pdf": "nan"
        },
        {
         "Activity": "Spearfishing",
         "Age": "42",
         "Case Number": "nan",
         "Case Number.1": "nan",
         "Country": "NEW CALEDONIA",
         "Date": "28-May 2023",
         "Injury": "Fatal, bite to leg, shoulder and head",
         "Location": "Twagne",
         "Name": "male",
         "Sex": "M",
         "Source": "J. Marchand, GSAF",
         "Species ": "nan",
         "State": "Poum",
         "Time": "11h00",
         "Type": "Unprovoked",
         "Unnamed: 11": "Y",
         "Unnamed: 21": "nan",
         "Unnamed: 22": "nan",
         "Year": 2023,
         "_deepnote_index_column": 72,
         "href": "nan",
         "href formula": "nan",
         "original order": "nan",
         "pdf": "nan"
        },
        {
         "Activity": "Snorkeling",
         "Age": "22",
         "Case Number": "nan",
         "Case Number.1": "nan",
         "Country": "TURKS and CaICOS",
         "Date": "24-May 2023",
         "Injury": "Left foot severed",
         "Location": "Grace Bay Beach",
         "Name": "Alexandra Truwit",
         "Sex": "F",
         "Source": "J. Marchand, GSAF",
         "Species ": "Caribbean reef shark",
         "State": "Providenciales Island",
         "Time": "15h00",
         "Type": "Unprovoked",
         "Unnamed: 11": "N",
         "Unnamed: 21": "nan",
         "Unnamed: 22": "nan",
         "Year": 2023,
         "_deepnote_index_column": 73,
         "href": "nan",
         "href formula": "nan",
         "original order": "nan",
         "pdf": "nan"
        },
        {
         "Activity": "Jumped overboard",
         "Age": "18",
         "Case Number": "nan",
         "Case Number.1": "nan",
         "Country": "BAHAMAS",
         "Date": "24 May 2023",
         "Injury": "Presumed fatal, body not recovered",
         "Location": "Athol Island",
         "Name": "Cameron Robbins",
         "Sex": "M",
         "Source": "J. Marchand, GSAF, B. Hendricks & A. Zafares, Lifeguard Systems",
         "Species ": "Shark involvement not confirmes",
         "State": "Lucayan Lucayan Archipelago",
         "Time": "Night",
         "Type": "Questionable",
         "Unnamed: 11": "Y",
         "Unnamed: 21": "nan",
         "Unnamed: 22": "nan",
         "Year": 2023,
         "_deepnote_index_column": 74,
         "href": "nan",
         "href formula": "nan",
         "original order": "nan",
         "pdf": "nan"
        },
        {
         "Activity": "Surfing",
         "Age": "15",
         "Case Number": "nan",
         "Case Number.1": "nan",
         "Country": "USA",
         "Date": "21-May 2023",
         "Injury": "Lacerations to left foot and calf",
         "Location": "Stone Harbor, Cape May County",
         "Name": "Maggie Drozdowski",
         "Sex": "F",
         "Source": "J. Marchand, GSAF",
         "Species ": "nan",
         "State": "New Jersey",
         "Time": "15h00",
         "Type": "Unprovoked",
         "Unnamed: 11": "N",
         "Unnamed: 21": "nan",
         "Unnamed: 22": "nan",
         "Year": 2023,
         "_deepnote_index_column": 75,
         "href": "nan",
         "href formula": "nan",
         "original order": "nan",
         "pdf": "nan"
        },
        {
         "Activity": "Fishing",
         "Age": "35",
         "Case Number": "nan",
         "Case Number.1": "nan",
         "Country": "USA",
         "Date": "19 -May 2023",
         "Injury": "PROVOKED INCIDENT   Hooked shark bit his foot",
         "Location": "Flagship Drive, Summerland Key, Monroe County",
         "Name": "male",
         "Sex": "M",
         "Source": "AP, 5/19/2023",
         "Species ": "nan",
         "State": "Florida",
         "Time": "20h00",
         "Type": "Provoked",
         "Unnamed: 11": "N",
         "Unnamed: 21": "nan",
         "Unnamed: 22": "nan",
         "Year": 2023,
         "_deepnote_index_column": 76,
         "href": "nan",
         "href formula": "nan",
         "original order": "nan",
         "pdf": "nan"
        },
        {
         "Activity": "Spearfishing",
         "Age": "20",
         "Case Number": "nan",
         "Case Number.1": "nan",
         "Country": "USA",
         "Date": "18-May-2023",
         "Injury": " ",
         "Location": "Marathon, Monroe County",
         "Name": "Kevin Blanco",
         "Sex": "M",
         "Source": "J. Marchand, GSAF",
         "Species ": "nan",
         "State": "Florida",
         "Time": "15h00",
         "Type": "Unprovoked",
         "Unnamed: 11": "N",
         "Unnamed: 21": "nan",
         "Unnamed: 22": "nan",
         "Year": 2023,
         "_deepnote_index_column": 77,
         "href": "nan",
         "href formula": "nan",
         "original order": "nan",
         "pdf": "nan"
        },
        {
         "Activity": "Swimming",
         "Age": "24",
         "Case Number": "nan",
         "Case Number.1": "nan",
         "Country": "USA",
         "Date": "14-May-2023",
         "Injury": "Minor inuries to right knee",
         "Location": "Isle of Palms, Charleston County",
         "Name": "Claire Gugerty",
         "Sex": "F",
         "Source": "The Island Eye, 5/15/2023",
         "Species ": "nan",
         "State": "South Carolina",
         "Time": "17h00",
         "Type": "Unprovoked",
         "Unnamed: 11": "N",
         "Unnamed: 21": "nan",
         "Unnamed: 22": "nan",
         "Year": 2023,
         "_deepnote_index_column": 78,
         "href": "nan",
         "href formula": "nan",
         "original order": "nan",
         "pdf": "nan"
        },
        {
         "Activity": "Surfing",
         "Age": "46",
         "Case Number": "nan",
         "Case Number.1": "nan",
         "Country": "AUSTRALIA",
         "Date": "13-May-2023",
         "Injury": "FATAL",
         "Location": "Elliston",
         "Name": "Simon Baccanello",
         "Sex": "M",
         "Source": "B. Myatt & S. De Marchi, GSAF",
         "Species ": "White shark",
         "State": "South Australia",
         "Time": "10h10",
         "Type": "Unprovoked",
         "Unnamed: 11": "Y",
         "Unnamed: 21": "nan",
         "Unnamed: 22": "nan",
         "Year": 2023,
         "_deepnote_index_column": 79,
         "href": "nan",
         "href formula": "nan",
         "original order": "nan",
         "pdf": "nan"
        },
        {
         "Activity": "Sitting",
         "Age": "13",
         "Case Number": "nan",
         "Case Number.1": "nan",
         "Country": "USA",
         "Date": "11-May-2023",
         "Injury": "Multiple bites",
         "Location": "Fort Pierce, St. Lucie County",
         "Name": "Ella Reed",
         "Sex": "F",
         "Source": ".A. Curriie, GSAF",
         "Species ": "Bull shark, 4'",
         "State": "Florida",
         "Time": "Afternoon",
         "Type": "Unprovoked",
         "Unnamed: 11": "N",
         "Unnamed: 21": "nan",
         "Unnamed: 22": "nan",
         "Year": 2023,
         "_deepnote_index_column": 80,
         "href": "nan",
         "href formula": "nan",
         "original order": "nan",
         "pdf": "nan"
        },
        {
         "Activity": "Kayak fishing",
         "Age": "nan",
         "Case Number": "nan",
         "Case Number.1": "nan",
         "Country": "USA",
         "Date": "11-May-2023",
         "Injury": "Shark bit kayak, no inury to occupant",
         "Location": "Kualoa, Oahu",
         "Name": "Scott Haraguchi",
         "Sex": "M",
         "Source": "J.Marcharnd, GSAF",
         "Species ": "Tiger shark",
         "State": "Hawaii",
         "Time": "nan",
         "Type": "Provoked",
         "Unnamed: 11": "N",
         "Unnamed: 21": "nan",
         "Unnamed: 22": "nan",
         "Year": 2023,
         "_deepnote_index_column": 81,
         "href": "nan",
         "href formula": "nan",
         "original order": "nan",
         "pdf": "nan"
        },
        {
         "Activity": "Spearfishing",
         "Age": "nan",
         "Case Number": "nan",
         "Case Number.1": "nan",
         "Country": "CUBA",
         "Date": "09 May-2023",
         "Injury": "FATAL",
         "Location": "Puerto Escondido",
         "Name": "Maro Alejandro Díaz Jiménez ",
         "Sex": "M",
         "Source": "Ciber Cuba, 5/10/.2023",
         "Species ": "Bull shark",
         "State": "Mayabeque",
         "Time": "nan",
         "Type": " Provoked",
         "Unnamed: 11": "Y",
         "Unnamed: 21": "nan",
         "Unnamed: 22": "nan",
         "Year": 2023,
         "_deepnote_index_column": 82,
         "href": "nan",
         "href formula": "nan",
         "original order": "nan",
         "pdf": "nan"
        },
        {
         "Activity": "Spearfishing",
         "Age": "22",
         "Case Number": "nan",
         "Case Number.1": "nan",
         "Country": "USA",
         "Date": "05-May-2023",
         "Injury": "Injury to lower leg",
         "Location": "Davis Reef, Islamorada, Monroe County",
         "Name": "Ethan Wilder",
         "Sex": "M",
         "Source": "News19, 5/5/2023",
         "Species ": "nan",
         "State": "Florida",
         "Time": "11h30",
         "Type": "Unprovoked",
         "Unnamed: 11": "N",
         "Unnamed: 21": "nan",
         "Unnamed: 22": "nan",
         "Year": 2023,
         "_deepnote_index_column": 83,
         "href": "nan",
         "href formula": "nan",
         "original order": "nan",
         "pdf": "nan"
        },
        {
         "Activity": "Surfing",
         "Age": "50s",
         "Case Number": "nan",
         "Case Number.1": "nan",
         "Country": "SOUTH AFRICA",
         "Date": "03-May-2023",
         "Injury": "Leg injured",
         "Location": "Supertubes, Jeffreys Bay",
         "Name": "male",
         "Sex": "M",
         "Source": "News 24, 5/3/2023",
         "Species ": "nan",
         "State": "Easten Cape Province",
         "Time": "19h15",
         "Type": "Unprovoked",
         "Unnamed: 11": "N",
         "Unnamed: 21": "nan",
         "Unnamed: 22": "nan",
         "Year": 2023,
         "_deepnote_index_column": 84,
         "href": "nan",
         "href formula": "nan",
         "original order": "nan",
         "pdf": "nan"
        },
        {
         "Activity": "Diving for crayfish",
         "Age": "39",
         "Case Number": "nan",
         "Case Number.1": "nan",
         "Country": "SOUTH AFRICA",
         "Date": "01-May-2023",
         "Injury": "Shoulder injured",
         "Location": "Mngcibe Beach",
         "Name": "Nkululeko Mphehlule",
         "Sex": "M",
         "Source": "News 24, 5/2/2023",
         "Species ": "nan",
         "State": "Easten Cape Province",
         "Time": "nan",
         "Type": "Unprovoked",
         "Unnamed: 11": "N",
         "Unnamed: 21": "nan",
         "Unnamed: 22": "nan",
         "Year": 2023,
         "_deepnote_index_column": 85,
         "href": "nan",
         "href formula": "nan",
         "original order": "nan",
         "pdf": "nan"
        },
        {
         "Activity": "Swimming",
         "Age": "nan",
         "Case Number": "nan",
         "Case Number.1": "nan",
         "Country": "AUSTRALIA",
         "Date": "29-Apr-2023",
         "Injury": "Minor injuries",
         "Location": "Yallingup, Busselton",
         "Name": "male",
         "Sex": "M",
         "Source": "The West Austalian, 4/30/2023",
         "Species ": "1m shark",
         "State": "Western Australia",
         "Time": "11h20",
         "Type": "Unprovoked",
         "Unnamed: 11": "N",
         "Unnamed: 21": "nan",
         "Unnamed: 22": "nan",
         "Year": 2023,
         "_deepnote_index_column": 86,
         "href": "nan",
         "href formula": "nan",
         "original order": "nan",
         "pdf": "nan"
        },
        {
         "Activity": "Snorkeling",
         "Age": "11",
         "Case Number": "nan",
         "Case Number.1": "nan",
         "Country": "AUSTRALIA",
         "Date": "29-Apr-2023",
         "Injury": "Cuts to leg",
         "Location": "Kurrajong Campground, Exnouth",
         "Name": "Archie Blake",
         "Sex": "M",
         "Source": "9 News, 4/29/20234%",
         "Species ": "nan",
         "State": "Western Australia",
         "Time": "15h00",
         "Type": "Unprovoked",
         "Unnamed: 11": "N",
         "Unnamed: 21": "nan",
         "Unnamed: 22": "nan",
         "Year": 2023,
         "_deepnote_index_column": 87,
         "href": "nan",
         "href formula": "nan",
         "original order": "nan",
         "pdf": "nan"
        },
        {
         "Activity": "Spearfishing",
         "Age": "nan",
         "Case Number": "nan",
         "Case Number.1": "nan",
         "Country": "USA",
         "Date": "23-Apr-2023",
         "Injury": "Minor injury to lower right leg",
         "Location": "Anna Maria Island, Manatee County",
         "Name": "Mike Stowe",
         "Sex": "M",
         "Source": "A. Currie, GSAF",
         "Species ": "Bull shark, 6'",
         "State": "Florida",
         "Time": "nan",
         "Type": "Unprovoked",
         "Unnamed: 11": "N",
         "Unnamed: 21": "nan",
         "Unnamed: 22": "nan",
         "Year": 2023,
         "_deepnote_index_column": 88,
         "href": "nan",
         "href formula": "nan",
         "original order": "nan",
         "pdf": "nan"
        },
        {
         "Activity": "Surfing",
         "Age": "30",
         "Case Number": "nan",
         "Case Number.1": "nan",
         "Country": "AUSTRALIA",
         "Date": "22-Apr-2023",
         "Injury": "Bite to right arm",
         "Location": "Lucy's Beach",
         "Name": "Max Marsden",
         "Sex": "M",
         "Source": "The West Australian, 4/22/2023",
         "Species ": "Bronze whaler shark, 1.5 m",
         "State": "Western Australia",
         "Time": "07h15",
         "Type": "Unprovoked",
         "Unnamed: 11": "N",
         "Unnamed: 21": "nan",
         "Unnamed: 22": "nan",
         "Year": 2023,
         "_deepnote_index_column": 89,
         "href": "nan",
         "href formula": "nan",
         "original order": "nan",
         "pdf": "nan"
        },
        {
         "Activity": "Windsurfing",
         "Age": "50s",
         "Case Number": "nan",
         "Case Number.1": "nan",
         "Country": "USA",
         "Date": "11-Apr-2023",
         "Injury": "Lacerations to leg",
         "Location": "Virginia Key, Monroe County",
         "Name": "male",
         "Sex": "F",
         "Source": "NBC-6,4/11/2023",
         "Species ": "nan",
         "State": "Florida",
         "Time": "15h00",
         "Type": "Unprovoked",
         "Unnamed: 11": "N",
         "Unnamed: 21": "nan",
         "Unnamed: 22": "nan",
         "Year": 2023,
         "_deepnote_index_column": 90,
         "href": "nan",
         "href formula": "nan",
         "original order": "nan",
         "pdf": "nan"
        },
        {
         "Activity": "Kayak fishing",
         "Age": "nan",
         "Case Number": "nan",
         "Case Number.1": "nan",
         "Country": "USA",
         "Date": "09-Apr-2023",
         "Injury": "No injury, kayak damaged",
         "Location": "Off Boca Raton. Palm Beach County",
         "Name": "Alex Duberti",
         "Sex": "M",
         "Source": "A/ Currie, GSAF",
         "Species ": "nan",
         "State": "Florida",
         "Time": "07h00",
         "Type": "Watercraft",
         "Unnamed: 11": "N",
         "Unnamed: 21": "nan",
         "Unnamed: 22": "nan",
         "Year": 2023,
         "_deepnote_index_column": 91,
         "href": "nan",
         "href formula": "nan",
         "original order": "nan",
         "pdf": "nan"
        },
        {
         "Activity": "Surfing",
         "Age": "58",
         "Case Number": "nan",
         "Case Number.1": "nan",
         "Country": "USA",
         "Date": "09-Apr-2023",
         "Injury": "Injuries to right foot ",
         "Location": "Kewalos, Oahu",
         "Name": "Mike Morita",
         "Sex": "M",
         "Source": "Khon2, 4/9/2023",
         "Species ": "Tiger shark, 8'-10'",
         "State": "Hawaii",
         "Time": "07h00",
         "Type": "Unprovoked",
         "Unnamed: 11": "N",
         "Unnamed: 21": "nan",
         "Unnamed: 22": "nan",
         "Year": 2023,
         "_deepnote_index_column": 92,
         "href": "nan",
         "href formula": "nan",
         "original order": "nan",
         "pdf": "nan"
        },
        {
         "Activity": "Kite-Surfing",
         "Age": "67",
         "Case Number": "nan",
         "Case Number.1": "nan",
         "Country": "USA",
         "Date": "25-Mar-2023",
         "Injury": "Lacertions to right calf",
         "Location": "Blue Fish Channel, Key West, Monroe County",
         "Name": "Kevin  Carlton Scott",
         "Sex": "M",
         "Source": "Yahoo News, 3/28/2023",
         "Species ": "nan",
         "State": "Florida",
         "Time": "14h00",
         "Type": "Unprovoked",
         "Unnamed: 11": "N",
         "Unnamed: 21": "nan",
         "Unnamed: 22": "nan",
         "Year": 2023,
         "_deepnote_index_column": 93,
         "href": "nan",
         "href formula": "nan",
         "original order": "nan",
         "pdf": "nan"
        },
        {
         "Activity": "Fishing",
         "Age": "17",
         "Case Number": "nan",
         "Case Number.1": "nan",
         "Country": "CUBA",
         "Date": "25-Mar-2023",
         "Injury": "Arm bitten",
         "Location": "Playa Majana ",
         "Name": "male",
         "Sex": "M",
         "Source": "EFE, 03/29/2023",
         "Species ": "nan",
         "State": "Artemisa",
         "Time": "nan",
         "Type": "Provoked",
         "Unnamed: 11": "N",
         "Unnamed: 21": "nan",
         "Unnamed: 22": "nan",
         "Year": 2023,
         "_deepnote_index_column": 94,
         "href": "nan",
         "href formula": "nan",
         "original order": "nan",
         "pdf": "nan"
        },
        {
         "Activity": "Wading",
         "Age": "30s",
         "Case Number": "nan",
         "Case Number.1": "nan",
         "Country": "AUSTRALIA",
         "Date": "22-Mar-2023",
         "Injury": "Lower left leg and foot injured",
         "Location": "Delta Island",
         "Name": "Adam Norton",
         "Sex": "M",
         "Source": "A. Currie, GSAF",
         "Species ": "nan",
         "State": "Western Australia",
         "Time": "18h00",
         "Type": "Unprovoked",
         "Unnamed: 11": "N",
         "Unnamed: 21": "nan",
         "Unnamed: 22": "nan",
         "Year": 2023,
         "_deepnote_index_column": 95,
         "href": "nan",
         "href formula": "nan",
         "original order": "nan",
         "pdf": "nan"
        },
        {
         "Activity": "Swimming",
         "Age": "60",
         "Case Number": "nan",
         "Case Number.1": "nan",
         "Country": "USA",
         "Date": "19-Mar-2023",
         "Injury": "Left hand and  left leg.",
         "Location": "Anaehoomalu Bay",
         "Name": "L. Livingston",
         "Sex": "M",
         "Source": "Khon2, 3/19/2023",
         "Species ": "Blacktip reef shark 5'",
         "State": "Hawaii",
         "Time": "12h30",
         "Type": "Unprovoked",
         "Unnamed: 11": "N",
         "Unnamed: 21": "nan",
         "Unnamed: 22": "nan",
         "Year": 2023,
         "_deepnote_index_column": 96,
         "href": "nan",
         "href formula": "nan",
         "original order": "nan",
         "pdf": "nan"
        },
        {
         "Activity": "Swimming",
         "Age": "10",
         "Case Number": "nan",
         "Case Number.1": "nan",
         "Country": "MEXICO",
         "Date": "17-Mar-2023",
         "Injury": "Significant  injury to leg ",
         "Location": "Cancún",
         "Name": "Dillon Armijo",
         "Sex": "M",
         "Source": "Denver7, 3/29/2023",
         "Species ": "Authorities report injury caused bya barracuda",
         "State": "Quintana Roo",
         "Time": "nan",
         "Type": "Questionable",
         "Unnamed: 11": "N",
         "Unnamed: 21": "nan",
         "Unnamed: 22": "nan",
         "Year": 2023,
         "_deepnote_index_column": 97,
         "href": "nan",
         "href formula": "nan",
         "original order": "nan",
         "pdf": "nan"
        },
        {
         "Activity": "Surf-sking",
         "Age": "nan",
         "Case Number": "nan",
         "Case Number.1": "nan",
         "Country": "AUSTRALIA",
         "Date": "16-Mar-2023",
         "Injury": "nan",
         "Location": "Cheynes Beach ",
         "Name": "female",
         "Sex": "F",
         "Source": "B. Myatt, GSAF",
         "Species ": "5m to 6m shark",
         "State": "Western Australia",
         "Time": "08h00",
         "Type": "Unprovoked",
         "Unnamed: 11": "N",
         "Unnamed: 21": "nan",
         "Unnamed: 22": "nan",
         "Year": 2023,
         "_deepnote_index_column": 98,
         "href": "nan",
         "href formula": "nan",
         "original order": "nan",
         "pdf": "nan"
        },
        {
         "Activity": "Swimming",
         "Age": "15",
         "Case Number": "nan",
         "Case Number.1": "nan",
         "Country": "BRAZIL",
         "Date": "06-Mar-2023",
         "Injury": "Left arm severly injured",
         "Location": "Piedade Beach",
         "Name": "Kaylane Timóteo Freitas",
         "Sex": "F",
         "Source": "JC, 3/6/2023",
         "Species ": "nan",
         "State": "Pernambuco",
         "Time": "14h20",
         "Type": "Unprovoked",
         "Unnamed: 11": "N",
         "Unnamed: 21": "nan",
         "Unnamed: 22": "nan",
         "Year": 2023,
         "_deepnote_index_column": 99,
         "href": "nan",
         "href formula": "nan",
         "original order": "nan",
         "pdf": "nan"
        }
       ]
      },
      "text/html": [
       "<div>\n",
       "<style scoped>\n",
       "    .dataframe tbody tr th:only-of-type {\n",
       "        vertical-align: middle;\n",
       "    }\n",
       "\n",
       "    .dataframe tbody tr th {\n",
       "        vertical-align: top;\n",
       "    }\n",
       "\n",
       "    .dataframe thead th {\n",
       "        text-align: right;\n",
       "    }\n",
       "</style>\n",
       "<table border=\"1\" class=\"dataframe\">\n",
       "  <thead>\n",
       "    <tr style=\"text-align: right;\">\n",
       "      <th></th>\n",
       "      <th>Date</th>\n",
       "      <th>Year</th>\n",
       "      <th>Type</th>\n",
       "      <th>Country</th>\n",
       "      <th>State</th>\n",
       "      <th>Location</th>\n",
       "      <th>Activity</th>\n",
       "      <th>Name</th>\n",
       "      <th>Sex</th>\n",
       "      <th>Age</th>\n",
       "      <th>...</th>\n",
       "      <th>Species</th>\n",
       "      <th>Source</th>\n",
       "      <th>pdf</th>\n",
       "      <th>href formula</th>\n",
       "      <th>href</th>\n",
       "      <th>Case Number</th>\n",
       "      <th>Case Number.1</th>\n",
       "      <th>original order</th>\n",
       "      <th>Unnamed: 21</th>\n",
       "      <th>Unnamed: 22</th>\n",
       "    </tr>\n",
       "  </thead>\n",
       "  <tbody>\n",
       "    <tr>\n",
       "      <th>0</th>\n",
       "      <td>14 Feb-2024</td>\n",
       "      <td>2024.0</td>\n",
       "      <td>Unprovoked</td>\n",
       "      <td>INDIA</td>\n",
       "      <td>Maharashtra</td>\n",
       "      <td>Vaitarna River, Palghar District</td>\n",
       "      <td>Fishing</td>\n",
       "      <td>Vicky Suresh Govari</td>\n",
       "      <td>M</td>\n",
       "      <td>32</td>\n",
       "      <td>...</td>\n",
       "      <td>Bull shark, 7'</td>\n",
       "      <td>Times of India, 2/14/2024</td>\n",
       "      <td>NaN</td>\n",
       "      <td>NaN</td>\n",
       "      <td>NaN</td>\n",
       "      <td>NaN</td>\n",
       "      <td>NaN</td>\n",
       "      <td>NaN</td>\n",
       "      <td>NaN</td>\n",
       "      <td>NaN</td>\n",
       "    </tr>\n",
       "    <tr>\n",
       "      <th>1</th>\n",
       "      <td>04-Feb-2024</td>\n",
       "      <td>2024.0</td>\n",
       "      <td>Provoked</td>\n",
       "      <td>TRINIDAD</td>\n",
       "      <td>NaN</td>\n",
       "      <td>NaN</td>\n",
       "      <td>Spearfishing</td>\n",
       "      <td>male</td>\n",
       "      <td>M</td>\n",
       "      <td>NaN</td>\n",
       "      <td>...</td>\n",
       "      <td>Blacktip reef shark</td>\n",
       "      <td>Trinidad Guardian, 2/11/2014</td>\n",
       "      <td>NaN</td>\n",
       "      <td>NaN</td>\n",
       "      <td>NaN</td>\n",
       "      <td>NaN</td>\n",
       "      <td>NaN</td>\n",
       "      <td>NaN</td>\n",
       "      <td>NaN</td>\n",
       "      <td>NaN</td>\n",
       "    </tr>\n",
       "    <tr>\n",
       "      <th>2</th>\n",
       "      <td>29 Jan-2024</td>\n",
       "      <td>2024.0</td>\n",
       "      <td>Unprovoked</td>\n",
       "      <td>AUSTRALIA</td>\n",
       "      <td>New  South Wales</td>\n",
       "      <td>Elizabeth Bay, Sydney Harbor</td>\n",
       "      <td>Swimming</td>\n",
       "      <td>Lauren O'Neill</td>\n",
       "      <td>F</td>\n",
       "      <td>29</td>\n",
       "      <td>...</td>\n",
       "      <td>Bull shark</td>\n",
       "      <td>Nine News, 12/31/2024</td>\n",
       "      <td>NaN</td>\n",
       "      <td>NaN</td>\n",
       "      <td>NaN</td>\n",
       "      <td>NaN</td>\n",
       "      <td>NaN</td>\n",
       "      <td>NaN</td>\n",
       "      <td>NaN</td>\n",
       "      <td>NaN</td>\n",
       "    </tr>\n",
       "    <tr>\n",
       "      <th>3</th>\n",
       "      <td>15 Jan-2024</td>\n",
       "      <td>2024.0</td>\n",
       "      <td>Unprovoked</td>\n",
       "      <td>BAHAMAS</td>\n",
       "      <td>Paradise Island</td>\n",
       "      <td>Paradise Island Resort</td>\n",
       "      <td>Swimming</td>\n",
       "      <td>male</td>\n",
       "      <td>M</td>\n",
       "      <td>10</td>\n",
       "      <td>...</td>\n",
       "      <td>NaN</td>\n",
       "      <td>Caribbean Loop News, 1/15;2024</td>\n",
       "      <td>NaN</td>\n",
       "      <td>NaN</td>\n",
       "      <td>NaN</td>\n",
       "      <td>NaN</td>\n",
       "      <td>NaN</td>\n",
       "      <td>NaN</td>\n",
       "      <td>NaN</td>\n",
       "      <td>NaN</td>\n",
       "    </tr>\n",
       "    <tr>\n",
       "      <th>4</th>\n",
       "      <td>09-Jan-2024</td>\n",
       "      <td>2024.0</td>\n",
       "      <td>Unprovoked</td>\n",
       "      <td>AUSTRALIA</td>\n",
       "      <td>South Australia</td>\n",
       "      <td>Walkers Beach, Elliston</td>\n",
       "      <td>Surfing</td>\n",
       "      <td>Murray Adams</td>\n",
       "      <td>M</td>\n",
       "      <td>64</td>\n",
       "      <td>...</td>\n",
       "      <td>White shark</td>\n",
       "      <td>A. Currie, GSAF</td>\n",
       "      <td>NaN</td>\n",
       "      <td>NaN</td>\n",
       "      <td>NaN</td>\n",
       "      <td>NaN</td>\n",
       "      <td>NaN</td>\n",
       "      <td>NaN</td>\n",
       "      <td>NaN</td>\n",
       "      <td>NaN</td>\n",
       "    </tr>\n",
       "    <tr>\n",
       "      <th>...</th>\n",
       "      <td>...</td>\n",
       "      <td>...</td>\n",
       "      <td>...</td>\n",
       "      <td>...</td>\n",
       "      <td>...</td>\n",
       "      <td>...</td>\n",
       "      <td>...</td>\n",
       "      <td>...</td>\n",
       "      <td>...</td>\n",
       "      <td>...</td>\n",
       "      <td>...</td>\n",
       "      <td>...</td>\n",
       "      <td>...</td>\n",
       "      <td>...</td>\n",
       "      <td>...</td>\n",
       "      <td>...</td>\n",
       "      <td>...</td>\n",
       "      <td>...</td>\n",
       "      <td>...</td>\n",
       "      <td>...</td>\n",
       "      <td>...</td>\n",
       "    </tr>\n",
       "    <tr>\n",
       "      <th>6960</th>\n",
       "      <td>NaN</td>\n",
       "      <td>NaN</td>\n",
       "      <td>NaN</td>\n",
       "      <td>NaN</td>\n",
       "      <td>NaN</td>\n",
       "      <td>NaN</td>\n",
       "      <td>NaN</td>\n",
       "      <td>NaN</td>\n",
       "      <td>NaN</td>\n",
       "      <td>NaN</td>\n",
       "      <td>...</td>\n",
       "      <td>NaN</td>\n",
       "      <td>NaN</td>\n",
       "      <td>NaN</td>\n",
       "      <td>http://sharkattackfile.net/spreadsheets/pdf_di...</td>\n",
       "      <td>NaN</td>\n",
       "      <td>NaN</td>\n",
       "      <td>NaN</td>\n",
       "      <td>NaN</td>\n",
       "      <td>NaN</td>\n",
       "      <td>NaN</td>\n",
       "    </tr>\n",
       "    <tr>\n",
       "      <th>6961</th>\n",
       "      <td>NaN</td>\n",
       "      <td>NaN</td>\n",
       "      <td>NaN</td>\n",
       "      <td>NaN</td>\n",
       "      <td>NaN</td>\n",
       "      <td>NaN</td>\n",
       "      <td>NaN</td>\n",
       "      <td>NaN</td>\n",
       "      <td>NaN</td>\n",
       "      <td>NaN</td>\n",
       "      <td>...</td>\n",
       "      <td>NaN</td>\n",
       "      <td>NaN</td>\n",
       "      <td>NaN</td>\n",
       "      <td>http://sharkattackfile.net/spreadsheets/pdf_di...</td>\n",
       "      <td>NaN</td>\n",
       "      <td>NaN</td>\n",
       "      <td>NaN</td>\n",
       "      <td>NaN</td>\n",
       "      <td>NaN</td>\n",
       "      <td>NaN</td>\n",
       "    </tr>\n",
       "    <tr>\n",
       "      <th>6962</th>\n",
       "      <td>NaN</td>\n",
       "      <td>NaN</td>\n",
       "      <td>NaN</td>\n",
       "      <td>NaN</td>\n",
       "      <td>NaN</td>\n",
       "      <td>NaN</td>\n",
       "      <td>NaN</td>\n",
       "      <td>NaN</td>\n",
       "      <td>NaN</td>\n",
       "      <td>NaN</td>\n",
       "      <td>...</td>\n",
       "      <td>NaN</td>\n",
       "      <td>NaN</td>\n",
       "      <td>NaN</td>\n",
       "      <td>http://sharkattackfile.net/spreadsheets/pdf_di...</td>\n",
       "      <td>NaN</td>\n",
       "      <td>NaN</td>\n",
       "      <td>NaN</td>\n",
       "      <td>NaN</td>\n",
       "      <td>NaN</td>\n",
       "      <td>NaN</td>\n",
       "    </tr>\n",
       "    <tr>\n",
       "      <th>6963</th>\n",
       "      <td>NaN</td>\n",
       "      <td>NaN</td>\n",
       "      <td>NaN</td>\n",
       "      <td>NaN</td>\n",
       "      <td>NaN</td>\n",
       "      <td>NaN</td>\n",
       "      <td>NaN</td>\n",
       "      <td>NaN</td>\n",
       "      <td>NaN</td>\n",
       "      <td>NaN</td>\n",
       "      <td>...</td>\n",
       "      <td>NaN</td>\n",
       "      <td>NaN</td>\n",
       "      <td>NaN</td>\n",
       "      <td>http://sharkattackfile.net/spreadsheets/pdf_di...</td>\n",
       "      <td>NaN</td>\n",
       "      <td>NaN</td>\n",
       "      <td>NaN</td>\n",
       "      <td>NaN</td>\n",
       "      <td>NaN</td>\n",
       "      <td>NaN</td>\n",
       "    </tr>\n",
       "    <tr>\n",
       "      <th>6964</th>\n",
       "      <td>NaN</td>\n",
       "      <td>NaN</td>\n",
       "      <td>NaN</td>\n",
       "      <td>NaN</td>\n",
       "      <td>NaN</td>\n",
       "      <td>NaN</td>\n",
       "      <td>NaN</td>\n",
       "      <td>NaN</td>\n",
       "      <td>NaN</td>\n",
       "      <td>NaN</td>\n",
       "      <td>...</td>\n",
       "      <td>NaN</td>\n",
       "      <td>NaN</td>\n",
       "      <td>NaN</td>\n",
       "      <td>http://sharkattackfile.net/spreadsheets/pdf_di...</td>\n",
       "      <td>NaN</td>\n",
       "      <td>NaN</td>\n",
       "      <td>NaN</td>\n",
       "      <td>NaN</td>\n",
       "      <td>NaN</td>\n",
       "      <td>NaN</td>\n",
       "    </tr>\n",
       "  </tbody>\n",
       "</table>\n",
       "<p>6965 rows × 23 columns</p>\n",
       "</div>"
      ],
      "text/plain": [
       "             Date    Year        Type    Country             State  \\\n",
       "0     14 Feb-2024  2024.0  Unprovoked      INDIA       Maharashtra   \n",
       "1     04-Feb-2024  2024.0    Provoked   TRINIDAD               NaN   \n",
       "2     29 Jan-2024  2024.0  Unprovoked  AUSTRALIA  New  South Wales   \n",
       "3     15 Jan-2024  2024.0  Unprovoked    BAHAMAS   Paradise Island   \n",
       "4     09-Jan-2024  2024.0  Unprovoked  AUSTRALIA   South Australia   \n",
       "...           ...     ...         ...        ...               ...   \n",
       "6960          NaN     NaN         NaN        NaN               NaN   \n",
       "6961          NaN     NaN         NaN        NaN               NaN   \n",
       "6962          NaN     NaN         NaN        NaN               NaN   \n",
       "6963          NaN     NaN         NaN        NaN               NaN   \n",
       "6964          NaN     NaN         NaN        NaN               NaN   \n",
       "\n",
       "                              Location      Activity                 Name  \\\n",
       "0     Vaitarna River, Palghar District       Fishing  Vicky Suresh Govari   \n",
       "1                                  NaN  Spearfishing                 male   \n",
       "2         Elizabeth Bay, Sydney Harbor      Swimming       Lauren O'Neill   \n",
       "3               Paradise Island Resort      Swimming                 male   \n",
       "4              Walkers Beach, Elliston       Surfing         Murray Adams   \n",
       "...                                ...           ...                  ...   \n",
       "6960                               NaN           NaN                  NaN   \n",
       "6961                               NaN           NaN                  NaN   \n",
       "6962                               NaN           NaN                  NaN   \n",
       "6963                               NaN           NaN                  NaN   \n",
       "6964                               NaN           NaN                  NaN   \n",
       "\n",
       "      Sex  Age  ...             Species                            Source  \\\n",
       "0       M   32  ...       Bull shark, 7'        Times of India, 2/14/2024   \n",
       "1       M  NaN  ...  Blacktip reef shark     Trinidad Guardian, 2/11/2014   \n",
       "2       F   29  ...           Bull shark            Nine News, 12/31/2024   \n",
       "3       M   10  ...                  NaN  Caribbean Loop News, 1/15;2024    \n",
       "4       M   64  ...          White shark                  A. Currie, GSAF   \n",
       "...   ...  ...  ...                  ...                              ...   \n",
       "6960  NaN  NaN  ...                  NaN                              NaN   \n",
       "6961  NaN  NaN  ...                  NaN                              NaN   \n",
       "6962  NaN  NaN  ...                  NaN                              NaN   \n",
       "6963  NaN  NaN  ...                  NaN                              NaN   \n",
       "6964  NaN  NaN  ...                  NaN                              NaN   \n",
       "\n",
       "      pdf                                       href formula href Case Number  \\\n",
       "0     NaN                                                NaN  NaN         NaN   \n",
       "1     NaN                                                NaN  NaN         NaN   \n",
       "2     NaN                                                NaN  NaN         NaN   \n",
       "3     NaN                                                NaN  NaN         NaN   \n",
       "4     NaN                                                NaN  NaN         NaN   \n",
       "...   ...                                                ...  ...         ...   \n",
       "6960  NaN  http://sharkattackfile.net/spreadsheets/pdf_di...  NaN         NaN   \n",
       "6961  NaN  http://sharkattackfile.net/spreadsheets/pdf_di...  NaN         NaN   \n",
       "6962  NaN  http://sharkattackfile.net/spreadsheets/pdf_di...  NaN         NaN   \n",
       "6963  NaN  http://sharkattackfile.net/spreadsheets/pdf_di...  NaN         NaN   \n",
       "6964  NaN  http://sharkattackfile.net/spreadsheets/pdf_di...  NaN         NaN   \n",
       "\n",
       "     Case Number.1 original order Unnamed: 21 Unnamed: 22  \n",
       "0              NaN            NaN         NaN         NaN  \n",
       "1              NaN            NaN         NaN         NaN  \n",
       "2              NaN            NaN         NaN         NaN  \n",
       "3              NaN            NaN         NaN         NaN  \n",
       "4              NaN            NaN         NaN         NaN  \n",
       "...            ...            ...         ...         ...  \n",
       "6960           NaN            NaN         NaN         NaN  \n",
       "6961           NaN            NaN         NaN         NaN  \n",
       "6962           NaN            NaN         NaN         NaN  \n",
       "6963           NaN            NaN         NaN         NaN  \n",
       "6964           NaN            NaN         NaN         NaN  \n",
       "\n",
       "[6965 rows x 23 columns]"
      ]
     },
     "execution_count": 8,
     "metadata": {},
     "output_type": "execute_result"
    }
   ],
   "source": [
    "shark"
   ]
  },
  {
   "cell_type": "markdown",
   "metadata": {
    "cell_id": "0a264c6558024d0ca0ba62e717715c3c",
    "deepnote_cell_type": "text-cell-h2",
    "formattedRanges": []
   },
   "source": [
    "## Deleting useless columns"
   ]
  },
  {
   "cell_type": "code",
   "execution_count": null,
   "metadata": {
    "cell_id": "bf85b5a4436848f8b6ed7c84ec463a25",
    "deepnote_cell_type": "code",
    "deepnote_to_be_reexecuted": false,
    "execution_millis": 376,
    "execution_start": 1709886690643,
    "source_hash": null
   },
   "outputs": [
    {
     "data": {
      "text/plain": [
       "Index(['Date', 'Year', 'Type', 'Country', 'State', 'Location', 'Activity',\n",
       "       'Name', 'Sex', 'Age', 'Injury', 'Unnamed: 11', 'Time', 'Species '],\n",
       "      dtype='object')"
      ]
     },
     "execution_count": 9,
     "metadata": {},
     "output_type": "execute_result"
    }
   ],
   "source": [
    "# Let's delete the last columns as we don't want them (completely useless):\n",
    "\n",
    "#Declare the column names list\n",
    "columns_to_drop = ['Source', 'pdf', 'href formula', 'href', 'Case Number', 'Case Number.1', 'original order', 'Unnamed: 21', 'Unnamed: 22']\n",
    "\n",
    "#Drop that list\n",
    "shark = shark.drop(columns = columns_to_drop)\n",
    "\n",
    "#Have a view of the remaining columns\n",
    "shark.columns"
   ]
  },
  {
   "cell_type": "markdown",
   "metadata": {
    "cell_id": "29b23d7dc0bc4b3aa8e09e50b5913adf",
    "deepnote_cell_type": "text-cell-h2",
    "formattedRanges": []
   },
   "source": [
    "## Removing the duplicate rows"
   ]
  },
  {
   "cell_type": "markdown",
   "metadata": {
    "cell_id": "07cda4ad974846058fbdd8dc267509e6",
    "deepnote_cell_type": "text-cell-p",
    "formattedRanges": []
   },
   "source": [
    "Let's remove the duplicate rows and see what happens"
   ]
  },
  {
   "cell_type": "code",
   "execution_count": null,
   "metadata": {
    "cell_id": "4d4e95ea4a44438f8292634d4c03751c",
    "deepnote_cell_type": "code",
    "deepnote_to_be_reexecuted": false,
    "execution_millis": 375,
    "execution_start": 1709886690645,
    "source_hash": null
   },
   "outputs": [
    {
     "name": "stdout",
     "output_type": "stream",
     "text": [
      "before cleaning the duplicate rows: \n",
      "(6965, 23)\n",
      "after cleaning the duplicate rows: \n",
      "(6941, 23)\n"
     ]
    }
   ],
   "source": [
    "# Dimension of the df before removing the duplicate rows:\n",
    "print('before cleaning the duplicate rows: ')\n",
    "print(df.shape)\n",
    "\n",
    "# Let's clean the duplicate rows:\n",
    "shark = df.drop_duplicates()\n",
    "\n",
    "# Dimension of the df after removing the duplicate rows:\n",
    "print('after cleaning the duplicate rows: ')\n",
    "print(shark.shape)"
   ]
  },
  {
   "cell_type": "markdown",
   "metadata": {
    "cell_id": "f690284e9d7a4b54a3564b4ea24974a5",
    "deepnote_cell_type": "text-cell-p",
    "formattedRanges": []
   },
   "source": [
    "Conclusion: we removed 24 duplicate rows"
   ]
  },
  {
   "cell_type": "markdown",
   "metadata": {
    "cell_id": "bb199b03b39d4dfb8bf426aebe50ecc7",
    "deepnote_cell_type": "text-cell-h2",
    "formattedRanges": []
   },
   "source": [
    "## Empty column / Unnamed: 11 : let's rename it to \"Fatality\""
   ]
  },
  {
   "cell_type": "code",
   "execution_count": null,
   "metadata": {
    "cell_id": "43248032c4034167afe953152cff38be",
    "deepnote_cell_type": "code",
    "deepnote_to_be_reexecuted": false,
    "execution_millis": 917,
    "execution_start": 1709886690717,
    "source_hash": null
   },
   "outputs": [
    {
     "data": {
      "application/vnd.deepnote.dataframe.v3+json": {
       "column_count": 23,
       "columns": [
        {
         "dtype": "object",
         "name": "Date",
         "stats": {
          "categories": [
           {
            "count": 1,
            "name": "14 Feb-2024"
           },
           {
            "count": 1,
            "name": "04-Feb-2024"
           },
           {
            "count": 3,
            "name": "3 others"
           }
          ],
          "nan_count": 0,
          "unique_count": 5
         }
        },
        {
         "dtype": "float64",
         "name": "Year",
         "stats": {
          "histogram": [
           {
            "bin_end": 2023.6,
            "bin_start": 2023.5,
            "count": 0
           },
           {
            "bin_end": 2023.7,
            "bin_start": 2023.6,
            "count": 0
           },
           {
            "bin_end": 2023.8,
            "bin_start": 2023.7,
            "count": 0
           },
           {
            "bin_end": 2023.9,
            "bin_start": 2023.8,
            "count": 0
           },
           {
            "bin_end": 2024,
            "bin_start": 2023.9,
            "count": 0
           },
           {
            "bin_end": 2024.1,
            "bin_start": 2024,
            "count": 5
           },
           {
            "bin_end": 2024.2,
            "bin_start": 2024.1,
            "count": 0
           },
           {
            "bin_end": 2024.3,
            "bin_start": 2024.2,
            "count": 0
           },
           {
            "bin_end": 2024.4,
            "bin_start": 2024.3,
            "count": 0
           },
           {
            "bin_end": 2024.5,
            "bin_start": 2024.4,
            "count": 0
           }
          ],
          "max": "2024.0",
          "min": "2024.0",
          "nan_count": 0,
          "unique_count": 1
         }
        },
        {
         "dtype": "object",
         "name": "Type",
         "stats": {
          "categories": [
           {
            "count": 4,
            "name": "Unprovoked"
           },
           {
            "count": 1,
            "name": " Provoked"
           }
          ],
          "nan_count": 0,
          "unique_count": 2
         }
        },
        {
         "dtype": "object",
         "name": "Country",
         "stats": {
          "categories": [
           {
            "count": 2,
            "name": "AUSTRALIA"
           },
           {
            "count": 1,
            "name": "INDIA"
           },
           {
            "count": 2,
            "name": "2 others"
           }
          ],
          "nan_count": 0,
          "unique_count": 4
         }
        },
        {
         "dtype": "object",
         "name": "State",
         "stats": {
          "categories": [
           {
            "count": 1,
            "name": "Maharashtra"
           },
           {
            "count": 3,
            "name": "3 others"
           },
           {
            "count": 1,
            "name": "Missing"
           }
          ],
          "nan_count": 1,
          "unique_count": 4
         }
        },
        {
         "dtype": "object",
         "name": "Location",
         "stats": {
          "categories": [
           {
            "count": 1,
            "name": "Vaitarna River, Palghar District"
           },
           {
            "count": 3,
            "name": "3 others"
           },
           {
            "count": 1,
            "name": "Missing"
           }
          ],
          "nan_count": 1,
          "unique_count": 4
         }
        },
        {
         "dtype": "object",
         "name": "Activity",
         "stats": {
          "categories": [
           {
            "count": 2,
            "name": "Swimming"
           },
           {
            "count": 1,
            "name": "Fishing"
           },
           {
            "count": 2,
            "name": "2 others"
           }
          ],
          "nan_count": 0,
          "unique_count": 4
         }
        },
        {
         "dtype": "object",
         "name": "Name",
         "stats": {
          "categories": [
           {
            "count": 2,
            "name": "male"
           },
           {
            "count": 1,
            "name": "Vicky Suresh Govari"
           },
           {
            "count": 2,
            "name": "2 others"
           }
          ],
          "nan_count": 0,
          "unique_count": 4
         }
        },
        {
         "dtype": "object",
         "name": "Sex",
         "stats": {
          "categories": [
           {
            "count": 4,
            "name": "M"
           },
           {
            "count": 1,
            "name": "F"
           }
          ],
          "nan_count": 0,
          "unique_count": 2
         }
        },
        {
         "dtype": "object",
         "name": "Age",
         "stats": {
          "categories": [
           {
            "count": 1,
            "name": "32"
           },
           {
            "count": 3,
            "name": "3 others"
           },
           {
            "count": 1,
            "name": "Missing"
           }
          ],
          "nan_count": 1,
          "unique_count": 4
         }
        },
        {
         "dtype": "object",
         "name": "Injury",
         "stats": {
          "categories": [
           {
            "count": 1,
            "name": "Calf of lower left leg injured"
           },
           {
            "count": 1,
            "name": "Shoulder bitten"
           },
           {
            "count": 3,
            "name": "3 others"
           }
          ],
          "nan_count": 0,
          "unique_count": 5
         }
        },
        {
         "dtype": "object",
         "name": "fatality",
         "stats": {
          "categories": [
           {
            "count": 5,
            "name": "N"
           }
          ],
          "nan_count": 0,
          "unique_count": 1
         }
        },
        {
         "dtype": "object",
         "name": "Time",
         "stats": {
          "categories": [
           {
            "count": 1,
            "name": "06h30"
           },
           {
            "count": 3,
            "name": "3 others"
           },
           {
            "count": 1,
            "name": "Missing"
           }
          ],
          "nan_count": 1,
          "unique_count": 4
         }
        },
        {
         "dtype": "object",
         "name": "Species ",
         "stats": {
          "categories": [
           {
            "count": 1,
            "name": "Bull shark, 7'"
           },
           {
            "count": 3,
            "name": "3 others"
           },
           {
            "count": 1,
            "name": "Missing"
           }
          ],
          "nan_count": 1,
          "unique_count": 4
         }
        },
        {
         "dtype": "object",
         "name": "Source",
         "stats": {
          "categories": [
           {
            "count": 1,
            "name": "Times of India, 2/14/2024"
           },
           {
            "count": 1,
            "name": "Trinidad Guardian, 2/11/2014"
           },
           {
            "count": 3,
            "name": "3 others"
           }
          ],
          "nan_count": 0,
          "unique_count": 5
         }
        },
        {
         "dtype": "object",
         "name": "pdf",
         "stats": {
          "categories": [
           {
            "count": 5,
            "name": "Missing"
           }
          ],
          "nan_count": 5,
          "unique_count": 0
         }
        },
        {
         "dtype": "object",
         "name": "href formula",
         "stats": {
          "categories": [
           {
            "count": 5,
            "name": "Missing"
           }
          ],
          "nan_count": 5,
          "unique_count": 0
         }
        },
        {
         "dtype": "object",
         "name": "href",
         "stats": {
          "categories": [
           {
            "count": 5,
            "name": "Missing"
           }
          ],
          "nan_count": 5,
          "unique_count": 0
         }
        },
        {
         "dtype": "object",
         "name": "Case Number",
         "stats": {
          "categories": [
           {
            "count": 5,
            "name": "Missing"
           }
          ],
          "nan_count": 5,
          "unique_count": 0
         }
        },
        {
         "dtype": "object",
         "name": "Case Number.1",
         "stats": {
          "categories": [
           {
            "count": 5,
            "name": "Missing"
           }
          ],
          "nan_count": 5,
          "unique_count": 0
         }
        },
        {
         "dtype": "float64",
         "name": "original order",
         "stats": {
          "histogram": [
           {
            "bin_end": 0.1,
            "bin_start": 0,
            "count": 0
           },
           {
            "bin_end": 0.2,
            "bin_start": 0.1,
            "count": 0
           },
           {
            "bin_end": 0.30000000000000004,
            "bin_start": 0.2,
            "count": 0
           },
           {
            "bin_end": 0.4,
            "bin_start": 0.30000000000000004,
            "count": 0
           },
           {
            "bin_end": 0.5,
            "bin_start": 0.4,
            "count": 0
           },
           {
            "bin_end": 0.6000000000000001,
            "bin_start": 0.5,
            "count": 0
           },
           {
            "bin_end": 0.7000000000000001,
            "bin_start": 0.6000000000000001,
            "count": 0
           },
           {
            "bin_end": 0.8,
            "bin_start": 0.7000000000000001,
            "count": 0
           },
           {
            "bin_end": 0.9,
            "bin_start": 0.8,
            "count": 0
           },
           {
            "bin_end": 1,
            "bin_start": 0.9,
            "count": 0
           }
          ],
          "max": null,
          "min": null,
          "nan_count": 5,
          "unique_count": 0
         }
        },
        {
         "dtype": "object",
         "name": "Unnamed: 21",
         "stats": {
          "categories": [
           {
            "count": 5,
            "name": "Missing"
           }
          ],
          "nan_count": 5,
          "unique_count": 0
         }
        },
        {
         "dtype": "object",
         "name": "Unnamed: 22",
         "stats": {
          "categories": [
           {
            "count": 5,
            "name": "Missing"
           }
          ],
          "nan_count": 5,
          "unique_count": 0
         }
        },
        {
         "dtype": "int64",
         "name": "_deepnote_index_column"
        }
       ],
       "row_count": 5,
       "rows": [
        {
         "Activity": "Fishing",
         "Age": "32",
         "Case Number": "nan",
         "Case Number.1": "nan",
         "Country": "INDIA",
         "Date": "14 Feb-2024",
         "Injury": "Calf of lower left leg injured",
         "Location": "Vaitarna River, Palghar District",
         "Name": "Vicky Suresh Govari",
         "Sex": "M",
         "Source": "Times of India, 2/14/2024",
         "Species ": "Bull shark, 7'",
         "State": "Maharashtra",
         "Time": "nan",
         "Type": "Unprovoked",
         "Unnamed: 21": "nan",
         "Unnamed: 22": "nan",
         "Year": 2024,
         "_deepnote_index_column": 0,
         "fatality": "N",
         "href": "nan",
         "href formula": "nan",
         "original order": "nan",
         "pdf": "nan"
        },
        {
         "Activity": "Spearfishing",
         "Age": "nan",
         "Case Number": "nan",
         "Case Number.1": "nan",
         "Country": "TRINIDAD",
         "Date": "04-Feb-2024",
         "Injury": "Shoulder bitten",
         "Location": "nan",
         "Name": "male",
         "Sex": "M",
         "Source": "Trinidad Guardian, 2/11/2014",
         "Species ": "Blacktip reef shark",
         "State": "nan",
         "Time": "06h30",
         "Type": " Provoked",
         "Unnamed: 21": "nan",
         "Unnamed: 22": "nan",
         "Year": 2024,
         "_deepnote_index_column": 1,
         "fatality": "N",
         "href": "nan",
         "href formula": "nan",
         "original order": "nan",
         "pdf": "nan"
        },
        {
         "Activity": "Swimming",
         "Age": "29",
         "Case Number": "nan",
         "Case Number.1": "nan",
         "Country": "AUSTRALIA",
         "Date": "29 Jan-2024",
         "Injury": "Right leg bitten",
         "Location": "Elizabeth Bay, Sydney Harbor",
         "Name": "Lauren O'Neill",
         "Sex": "F",
         "Source": "Nine News, 12/31/2024",
         "Species ": "Bull shark",
         "State": "New  South Wales",
         "Time": "20h00",
         "Type": "Unprovoked",
         "Unnamed: 21": "nan",
         "Unnamed: 22": "nan",
         "Year": 2024,
         "_deepnote_index_column": 2,
         "fatality": "N",
         "href": "nan",
         "href formula": "nan",
         "original order": "nan",
         "pdf": "nan"
        },
        {
         "Activity": "Swimming",
         "Age": "10",
         "Case Number": "nan",
         "Case Number.1": "nan",
         "Country": "BAHAMAS",
         "Date": "15 Jan-2024",
         "Injury": "Right leg injured ",
         "Location": "Paradise Island Resort",
         "Name": "male",
         "Sex": "M",
         "Source": "Caribbean Loop News, 1/15;2024 ",
         "Species ": "nan",
         "State": "Paradise Island",
         "Time": "16h00",
         "Type": "Unprovoked",
         "Unnamed: 21": "nan",
         "Unnamed: 22": "nan",
         "Year": 2024,
         "_deepnote_index_column": 3,
         "fatality": "N",
         "href": "nan",
         "href formula": "nan",
         "original order": "nan",
         "pdf": "nan"
        },
        {
         "Activity": "Surfing",
         "Age": "64",
         "Case Number": "nan",
         "Case Number.1": "nan",
         "Country": "AUSTRALIA",
         "Date": "09-Jan-2024",
         "Injury": "Leg bitten",
         "Location": "Walkers Beach, Elliston",
         "Name": "Murray Adams",
         "Sex": "M",
         "Source": "A. Currie, GSAF",
         "Species ": "White shark",
         "State": "South Australia",
         "Time": "13h00",
         "Type": "Unprovoked",
         "Unnamed: 21": "nan",
         "Unnamed: 22": "nan",
         "Year": 2024,
         "_deepnote_index_column": 4,
         "fatality": "N",
         "href": "nan",
         "href formula": "nan",
         "original order": "nan",
         "pdf": "nan"
        }
       ]
      },
      "text/html": [
       "<div>\n",
       "<style scoped>\n",
       "    .dataframe tbody tr th:only-of-type {\n",
       "        vertical-align: middle;\n",
       "    }\n",
       "\n",
       "    .dataframe tbody tr th {\n",
       "        vertical-align: top;\n",
       "    }\n",
       "\n",
       "    .dataframe thead th {\n",
       "        text-align: right;\n",
       "    }\n",
       "</style>\n",
       "<table border=\"1\" class=\"dataframe\">\n",
       "  <thead>\n",
       "    <tr style=\"text-align: right;\">\n",
       "      <th></th>\n",
       "      <th>Date</th>\n",
       "      <th>Year</th>\n",
       "      <th>Type</th>\n",
       "      <th>Country</th>\n",
       "      <th>State</th>\n",
       "      <th>Location</th>\n",
       "      <th>Activity</th>\n",
       "      <th>Name</th>\n",
       "      <th>Sex</th>\n",
       "      <th>Age</th>\n",
       "      <th>...</th>\n",
       "      <th>Species</th>\n",
       "      <th>Source</th>\n",
       "      <th>pdf</th>\n",
       "      <th>href formula</th>\n",
       "      <th>href</th>\n",
       "      <th>Case Number</th>\n",
       "      <th>Case Number.1</th>\n",
       "      <th>original order</th>\n",
       "      <th>Unnamed: 21</th>\n",
       "      <th>Unnamed: 22</th>\n",
       "    </tr>\n",
       "  </thead>\n",
       "  <tbody>\n",
       "    <tr>\n",
       "      <th>0</th>\n",
       "      <td>14 Feb-2024</td>\n",
       "      <td>2024.0</td>\n",
       "      <td>Unprovoked</td>\n",
       "      <td>INDIA</td>\n",
       "      <td>Maharashtra</td>\n",
       "      <td>Vaitarna River, Palghar District</td>\n",
       "      <td>Fishing</td>\n",
       "      <td>Vicky Suresh Govari</td>\n",
       "      <td>M</td>\n",
       "      <td>32</td>\n",
       "      <td>...</td>\n",
       "      <td>Bull shark, 7'</td>\n",
       "      <td>Times of India, 2/14/2024</td>\n",
       "      <td>NaN</td>\n",
       "      <td>NaN</td>\n",
       "      <td>NaN</td>\n",
       "      <td>NaN</td>\n",
       "      <td>NaN</td>\n",
       "      <td>NaN</td>\n",
       "      <td>NaN</td>\n",
       "      <td>NaN</td>\n",
       "    </tr>\n",
       "    <tr>\n",
       "      <th>1</th>\n",
       "      <td>04-Feb-2024</td>\n",
       "      <td>2024.0</td>\n",
       "      <td>Provoked</td>\n",
       "      <td>TRINIDAD</td>\n",
       "      <td>NaN</td>\n",
       "      <td>NaN</td>\n",
       "      <td>Spearfishing</td>\n",
       "      <td>male</td>\n",
       "      <td>M</td>\n",
       "      <td>NaN</td>\n",
       "      <td>...</td>\n",
       "      <td>Blacktip reef shark</td>\n",
       "      <td>Trinidad Guardian, 2/11/2014</td>\n",
       "      <td>NaN</td>\n",
       "      <td>NaN</td>\n",
       "      <td>NaN</td>\n",
       "      <td>NaN</td>\n",
       "      <td>NaN</td>\n",
       "      <td>NaN</td>\n",
       "      <td>NaN</td>\n",
       "      <td>NaN</td>\n",
       "    </tr>\n",
       "    <tr>\n",
       "      <th>2</th>\n",
       "      <td>29 Jan-2024</td>\n",
       "      <td>2024.0</td>\n",
       "      <td>Unprovoked</td>\n",
       "      <td>AUSTRALIA</td>\n",
       "      <td>New  South Wales</td>\n",
       "      <td>Elizabeth Bay, Sydney Harbor</td>\n",
       "      <td>Swimming</td>\n",
       "      <td>Lauren O'Neill</td>\n",
       "      <td>F</td>\n",
       "      <td>29</td>\n",
       "      <td>...</td>\n",
       "      <td>Bull shark</td>\n",
       "      <td>Nine News, 12/31/2024</td>\n",
       "      <td>NaN</td>\n",
       "      <td>NaN</td>\n",
       "      <td>NaN</td>\n",
       "      <td>NaN</td>\n",
       "      <td>NaN</td>\n",
       "      <td>NaN</td>\n",
       "      <td>NaN</td>\n",
       "      <td>NaN</td>\n",
       "    </tr>\n",
       "    <tr>\n",
       "      <th>3</th>\n",
       "      <td>15 Jan-2024</td>\n",
       "      <td>2024.0</td>\n",
       "      <td>Unprovoked</td>\n",
       "      <td>BAHAMAS</td>\n",
       "      <td>Paradise Island</td>\n",
       "      <td>Paradise Island Resort</td>\n",
       "      <td>Swimming</td>\n",
       "      <td>male</td>\n",
       "      <td>M</td>\n",
       "      <td>10</td>\n",
       "      <td>...</td>\n",
       "      <td>NaN</td>\n",
       "      <td>Caribbean Loop News, 1/15;2024</td>\n",
       "      <td>NaN</td>\n",
       "      <td>NaN</td>\n",
       "      <td>NaN</td>\n",
       "      <td>NaN</td>\n",
       "      <td>NaN</td>\n",
       "      <td>NaN</td>\n",
       "      <td>NaN</td>\n",
       "      <td>NaN</td>\n",
       "    </tr>\n",
       "    <tr>\n",
       "      <th>4</th>\n",
       "      <td>09-Jan-2024</td>\n",
       "      <td>2024.0</td>\n",
       "      <td>Unprovoked</td>\n",
       "      <td>AUSTRALIA</td>\n",
       "      <td>South Australia</td>\n",
       "      <td>Walkers Beach, Elliston</td>\n",
       "      <td>Surfing</td>\n",
       "      <td>Murray Adams</td>\n",
       "      <td>M</td>\n",
       "      <td>64</td>\n",
       "      <td>...</td>\n",
       "      <td>White shark</td>\n",
       "      <td>A. Currie, GSAF</td>\n",
       "      <td>NaN</td>\n",
       "      <td>NaN</td>\n",
       "      <td>NaN</td>\n",
       "      <td>NaN</td>\n",
       "      <td>NaN</td>\n",
       "      <td>NaN</td>\n",
       "      <td>NaN</td>\n",
       "      <td>NaN</td>\n",
       "    </tr>\n",
       "  </tbody>\n",
       "</table>\n",
       "<p>5 rows × 23 columns</p>\n",
       "</div>"
      ],
      "text/plain": [
       "          Date    Year        Type    Country             State  \\\n",
       "0  14 Feb-2024  2024.0  Unprovoked      INDIA       Maharashtra   \n",
       "1  04-Feb-2024  2024.0    Provoked   TRINIDAD               NaN   \n",
       "2  29 Jan-2024  2024.0  Unprovoked  AUSTRALIA  New  South Wales   \n",
       "3  15 Jan-2024  2024.0  Unprovoked    BAHAMAS   Paradise Island   \n",
       "4  09-Jan-2024  2024.0  Unprovoked  AUSTRALIA   South Australia   \n",
       "\n",
       "                           Location      Activity                 Name Sex  \\\n",
       "0  Vaitarna River, Palghar District       Fishing  Vicky Suresh Govari   M   \n",
       "1                               NaN  Spearfishing                 male   M   \n",
       "2      Elizabeth Bay, Sydney Harbor      Swimming       Lauren O'Neill   F   \n",
       "3            Paradise Island Resort      Swimming                 male   M   \n",
       "4           Walkers Beach, Elliston       Surfing         Murray Adams   M   \n",
       "\n",
       "   Age  ...             Species                            Source  pdf  \\\n",
       "0   32  ...       Bull shark, 7'        Times of India, 2/14/2024  NaN   \n",
       "1  NaN  ...  Blacktip reef shark     Trinidad Guardian, 2/11/2014  NaN   \n",
       "2   29  ...           Bull shark            Nine News, 12/31/2024  NaN   \n",
       "3   10  ...                  NaN  Caribbean Loop News, 1/15;2024   NaN   \n",
       "4   64  ...          White shark                  A. Currie, GSAF  NaN   \n",
       "\n",
       "  href formula href Case Number Case Number.1 original order Unnamed: 21  \\\n",
       "0          NaN  NaN         NaN           NaN            NaN         NaN   \n",
       "1          NaN  NaN         NaN           NaN            NaN         NaN   \n",
       "2          NaN  NaN         NaN           NaN            NaN         NaN   \n",
       "3          NaN  NaN         NaN           NaN            NaN         NaN   \n",
       "4          NaN  NaN         NaN           NaN            NaN         NaN   \n",
       "\n",
       "  Unnamed: 22  \n",
       "0         NaN  \n",
       "1         NaN  \n",
       "2         NaN  \n",
       "3         NaN  \n",
       "4         NaN  \n",
       "\n",
       "[5 rows x 23 columns]"
      ]
     },
     "execution_count": 11,
     "metadata": {},
     "output_type": "execute_result"
    }
   ],
   "source": [
    "# Let's rename our 'Unnamed: 11 (empty on Excel) to \"Fatality\": \n",
    "shark = shark.rename(columns={'Unnamed: 11': 'fatality'})\n",
    "\n",
    "#Let's verify\n",
    "shark.head()"
   ]
  },
  {
   "cell_type": "markdown",
   "metadata": {
    "cell_id": "ff4363d1bf6448488016d61b91cbc9f4",
    "deepnote_cell_type": "text-cell-p",
    "formattedRanges": []
   },
   "source": [
    "'Unnamed: 11 has been effictively renamed to 'Fatality'"
   ]
  },
  {
   "cell_type": "markdown",
   "metadata": {
    "cell_id": "1ed5745bccf14b0d88d93eef0b9b282d",
    "deepnote_cell_type": "text-cell-h2",
    "formattedRanges": []
   },
   "source": [
    "## Reformat the name of our columns in Title format"
   ]
  },
  {
   "cell_type": "code",
   "execution_count": null,
   "metadata": {
    "cell_id": "7686d7a2b54d41f4af6308e4382a755b",
    "deepnote_cell_type": "code",
    "deepnote_to_be_reexecuted": false,
    "execution_millis": 850,
    "execution_start": 1709886690785,
    "source_hash": null
   },
   "outputs": [
    {
     "data": {
      "application/vnd.deepnote.dataframe.v3+json": {
       "column_count": 23,
       "columns": [
        {
         "dtype": "object",
         "name": "date",
         "stats": {
          "categories": [
           {
            "count": 1,
            "name": "14 Feb-2024"
           },
           {
            "count": 1,
            "name": "04-Feb-2024"
           },
           {
            "count": 3,
            "name": "3 others"
           }
          ],
          "nan_count": 0,
          "unique_count": 5
         }
        },
        {
         "dtype": "float64",
         "name": "year",
         "stats": {
          "histogram": [
           {
            "bin_end": 2023.6,
            "bin_start": 2023.5,
            "count": 0
           },
           {
            "bin_end": 2023.7,
            "bin_start": 2023.6,
            "count": 0
           },
           {
            "bin_end": 2023.8,
            "bin_start": 2023.7,
            "count": 0
           },
           {
            "bin_end": 2023.9,
            "bin_start": 2023.8,
            "count": 0
           },
           {
            "bin_end": 2024,
            "bin_start": 2023.9,
            "count": 0
           },
           {
            "bin_end": 2024.1,
            "bin_start": 2024,
            "count": 5
           },
           {
            "bin_end": 2024.2,
            "bin_start": 2024.1,
            "count": 0
           },
           {
            "bin_end": 2024.3,
            "bin_start": 2024.2,
            "count": 0
           },
           {
            "bin_end": 2024.4,
            "bin_start": 2024.3,
            "count": 0
           },
           {
            "bin_end": 2024.5,
            "bin_start": 2024.4,
            "count": 0
           }
          ],
          "max": "2024.0",
          "min": "2024.0",
          "nan_count": 0,
          "unique_count": 1
         }
        },
        {
         "dtype": "object",
         "name": "type",
         "stats": {
          "categories": [
           {
            "count": 4,
            "name": "Unprovoked"
           },
           {
            "count": 1,
            "name": " Provoked"
           }
          ],
          "nan_count": 0,
          "unique_count": 2
         }
        },
        {
         "dtype": "object",
         "name": "country",
         "stats": {
          "categories": [
           {
            "count": 2,
            "name": "AUSTRALIA"
           },
           {
            "count": 1,
            "name": "INDIA"
           },
           {
            "count": 2,
            "name": "2 others"
           }
          ],
          "nan_count": 0,
          "unique_count": 4
         }
        },
        {
         "dtype": "object",
         "name": "state",
         "stats": {
          "categories": [
           {
            "count": 1,
            "name": "Maharashtra"
           },
           {
            "count": 3,
            "name": "3 others"
           },
           {
            "count": 1,
            "name": "Missing"
           }
          ],
          "nan_count": 1,
          "unique_count": 4
         }
        },
        {
         "dtype": "object",
         "name": "location",
         "stats": {
          "categories": [
           {
            "count": 1,
            "name": "Vaitarna River, Palghar District"
           },
           {
            "count": 3,
            "name": "3 others"
           },
           {
            "count": 1,
            "name": "Missing"
           }
          ],
          "nan_count": 1,
          "unique_count": 4
         }
        },
        {
         "dtype": "object",
         "name": "activity",
         "stats": {
          "categories": [
           {
            "count": 2,
            "name": "Swimming"
           },
           {
            "count": 1,
            "name": "Fishing"
           },
           {
            "count": 2,
            "name": "2 others"
           }
          ],
          "nan_count": 0,
          "unique_count": 4
         }
        },
        {
         "dtype": "object",
         "name": "name",
         "stats": {
          "categories": [
           {
            "count": 2,
            "name": "male"
           },
           {
            "count": 1,
            "name": "Vicky Suresh Govari"
           },
           {
            "count": 2,
            "name": "2 others"
           }
          ],
          "nan_count": 0,
          "unique_count": 4
         }
        },
        {
         "dtype": "object",
         "name": "sex",
         "stats": {
          "categories": [
           {
            "count": 4,
            "name": "M"
           },
           {
            "count": 1,
            "name": "F"
           }
          ],
          "nan_count": 0,
          "unique_count": 2
         }
        },
        {
         "dtype": "object",
         "name": "age",
         "stats": {
          "categories": [
           {
            "count": 1,
            "name": "32"
           },
           {
            "count": 3,
            "name": "3 others"
           },
           {
            "count": 1,
            "name": "Missing"
           }
          ],
          "nan_count": 1,
          "unique_count": 4
         }
        },
        {
         "dtype": "object",
         "name": "injury",
         "stats": {
          "categories": [
           {
            "count": 1,
            "name": "Calf of lower left leg injured"
           },
           {
            "count": 1,
            "name": "Shoulder bitten"
           },
           {
            "count": 3,
            "name": "3 others"
           }
          ],
          "nan_count": 0,
          "unique_count": 5
         }
        },
        {
         "dtype": "object",
         "name": "fatality",
         "stats": {
          "categories": [
           {
            "count": 5,
            "name": "N"
           }
          ],
          "nan_count": 0,
          "unique_count": 1
         }
        },
        {
         "dtype": "object",
         "name": "time",
         "stats": {
          "categories": [
           {
            "count": 1,
            "name": "06h30"
           },
           {
            "count": 3,
            "name": "3 others"
           },
           {
            "count": 1,
            "name": "Missing"
           }
          ],
          "nan_count": 1,
          "unique_count": 4
         }
        },
        {
         "dtype": "object",
         "name": "species",
         "stats": {
          "categories": [
           {
            "count": 1,
            "name": "Bull shark, 7'"
           },
           {
            "count": 3,
            "name": "3 others"
           },
           {
            "count": 1,
            "name": "Missing"
           }
          ],
          "nan_count": 1,
          "unique_count": 4
         }
        },
        {
         "dtype": "object",
         "name": "source",
         "stats": {
          "categories": [
           {
            "count": 1,
            "name": "Times of India, 2/14/2024"
           },
           {
            "count": 1,
            "name": "Trinidad Guardian, 2/11/2014"
           },
           {
            "count": 3,
            "name": "3 others"
           }
          ],
          "nan_count": 0,
          "unique_count": 5
         }
        },
        {
         "dtype": "object",
         "name": "pdf",
         "stats": {
          "categories": [
           {
            "count": 5,
            "name": "Missing"
           }
          ],
          "nan_count": 5,
          "unique_count": 0
         }
        },
        {
         "dtype": "object",
         "name": "href formula",
         "stats": {
          "categories": [
           {
            "count": 5,
            "name": "Missing"
           }
          ],
          "nan_count": 5,
          "unique_count": 0
         }
        },
        {
         "dtype": "object",
         "name": "href",
         "stats": {
          "categories": [
           {
            "count": 5,
            "name": "Missing"
           }
          ],
          "nan_count": 5,
          "unique_count": 0
         }
        },
        {
         "dtype": "object",
         "name": "case number",
         "stats": {
          "categories": [
           {
            "count": 5,
            "name": "Missing"
           }
          ],
          "nan_count": 5,
          "unique_count": 0
         }
        },
        {
         "dtype": "object",
         "name": "case number.1",
         "stats": {
          "categories": [
           {
            "count": 5,
            "name": "Missing"
           }
          ],
          "nan_count": 5,
          "unique_count": 0
         }
        },
        {
         "dtype": "float64",
         "name": "original order",
         "stats": {
          "histogram": [
           {
            "bin_end": 0.1,
            "bin_start": 0,
            "count": 0
           },
           {
            "bin_end": 0.2,
            "bin_start": 0.1,
            "count": 0
           },
           {
            "bin_end": 0.30000000000000004,
            "bin_start": 0.2,
            "count": 0
           },
           {
            "bin_end": 0.4,
            "bin_start": 0.30000000000000004,
            "count": 0
           },
           {
            "bin_end": 0.5,
            "bin_start": 0.4,
            "count": 0
           },
           {
            "bin_end": 0.6000000000000001,
            "bin_start": 0.5,
            "count": 0
           },
           {
            "bin_end": 0.7000000000000001,
            "bin_start": 0.6000000000000001,
            "count": 0
           },
           {
            "bin_end": 0.8,
            "bin_start": 0.7000000000000001,
            "count": 0
           },
           {
            "bin_end": 0.9,
            "bin_start": 0.8,
            "count": 0
           },
           {
            "bin_end": 1,
            "bin_start": 0.9,
            "count": 0
           }
          ],
          "max": null,
          "min": null,
          "nan_count": 5,
          "unique_count": 0
         }
        },
        {
         "dtype": "object",
         "name": "unnamed: 21",
         "stats": {
          "categories": [
           {
            "count": 5,
            "name": "Missing"
           }
          ],
          "nan_count": 5,
          "unique_count": 0
         }
        },
        {
         "dtype": "object",
         "name": "unnamed: 22",
         "stats": {
          "categories": [
           {
            "count": 5,
            "name": "Missing"
           }
          ],
          "nan_count": 5,
          "unique_count": 0
         }
        },
        {
         "dtype": "int64",
         "name": "_deepnote_index_column"
        }
       ],
       "row_count": 5,
       "rows": [
        {
         "_deepnote_index_column": 0,
         "activity": "Fishing",
         "age": "32",
         "case number": "nan",
         "case number.1": "nan",
         "country": "INDIA",
         "date": "14 Feb-2024",
         "fatality": "N",
         "href": "nan",
         "href formula": "nan",
         "injury": "Calf of lower left leg injured",
         "location": "Vaitarna River, Palghar District",
         "name": "Vicky Suresh Govari",
         "original order": "nan",
         "pdf": "nan",
         "sex": "M",
         "source": "Times of India, 2/14/2024",
         "species": "Bull shark, 7'",
         "state": "Maharashtra",
         "time": "nan",
         "type": "Unprovoked",
         "unnamed: 21": "nan",
         "unnamed: 22": "nan",
         "year": 2024
        },
        {
         "_deepnote_index_column": 1,
         "activity": "Spearfishing",
         "age": "nan",
         "case number": "nan",
         "case number.1": "nan",
         "country": "TRINIDAD",
         "date": "04-Feb-2024",
         "fatality": "N",
         "href": "nan",
         "href formula": "nan",
         "injury": "Shoulder bitten",
         "location": "nan",
         "name": "male",
         "original order": "nan",
         "pdf": "nan",
         "sex": "M",
         "source": "Trinidad Guardian, 2/11/2014",
         "species": "Blacktip reef shark",
         "state": "nan",
         "time": "06h30",
         "type": " Provoked",
         "unnamed: 21": "nan",
         "unnamed: 22": "nan",
         "year": 2024
        },
        {
         "_deepnote_index_column": 2,
         "activity": "Swimming",
         "age": "29",
         "case number": "nan",
         "case number.1": "nan",
         "country": "AUSTRALIA",
         "date": "29 Jan-2024",
         "fatality": "N",
         "href": "nan",
         "href formula": "nan",
         "injury": "Right leg bitten",
         "location": "Elizabeth Bay, Sydney Harbor",
         "name": "Lauren O'Neill",
         "original order": "nan",
         "pdf": "nan",
         "sex": "F",
         "source": "Nine News, 12/31/2024",
         "species": "Bull shark",
         "state": "New  South Wales",
         "time": "20h00",
         "type": "Unprovoked",
         "unnamed: 21": "nan",
         "unnamed: 22": "nan",
         "year": 2024
        },
        {
         "_deepnote_index_column": 3,
         "activity": "Swimming",
         "age": "10",
         "case number": "nan",
         "case number.1": "nan",
         "country": "BAHAMAS",
         "date": "15 Jan-2024",
         "fatality": "N",
         "href": "nan",
         "href formula": "nan",
         "injury": "Right leg injured ",
         "location": "Paradise Island Resort",
         "name": "male",
         "original order": "nan",
         "pdf": "nan",
         "sex": "M",
         "source": "Caribbean Loop News, 1/15;2024 ",
         "species": "nan",
         "state": "Paradise Island",
         "time": "16h00",
         "type": "Unprovoked",
         "unnamed: 21": "nan",
         "unnamed: 22": "nan",
         "year": 2024
        },
        {
         "_deepnote_index_column": 4,
         "activity": "Surfing",
         "age": "64",
         "case number": "nan",
         "case number.1": "nan",
         "country": "AUSTRALIA",
         "date": "09-Jan-2024",
         "fatality": "N",
         "href": "nan",
         "href formula": "nan",
         "injury": "Leg bitten",
         "location": "Walkers Beach, Elliston",
         "name": "Murray Adams",
         "original order": "nan",
         "pdf": "nan",
         "sex": "M",
         "source": "A. Currie, GSAF",
         "species": "White shark",
         "state": "South Australia",
         "time": "13h00",
         "type": "Unprovoked",
         "unnamed: 21": "nan",
         "unnamed: 22": "nan",
         "year": 2024
        }
       ]
      },
      "text/html": [
       "<div>\n",
       "<style scoped>\n",
       "    .dataframe tbody tr th:only-of-type {\n",
       "        vertical-align: middle;\n",
       "    }\n",
       "\n",
       "    .dataframe tbody tr th {\n",
       "        vertical-align: top;\n",
       "    }\n",
       "\n",
       "    .dataframe thead th {\n",
       "        text-align: right;\n",
       "    }\n",
       "</style>\n",
       "<table border=\"1\" class=\"dataframe\">\n",
       "  <thead>\n",
       "    <tr style=\"text-align: right;\">\n",
       "      <th></th>\n",
       "      <th>date</th>\n",
       "      <th>year</th>\n",
       "      <th>type</th>\n",
       "      <th>country</th>\n",
       "      <th>state</th>\n",
       "      <th>location</th>\n",
       "      <th>activity</th>\n",
       "      <th>name</th>\n",
       "      <th>sex</th>\n",
       "      <th>age</th>\n",
       "      <th>...</th>\n",
       "      <th>species</th>\n",
       "      <th>source</th>\n",
       "      <th>pdf</th>\n",
       "      <th>href formula</th>\n",
       "      <th>href</th>\n",
       "      <th>case number</th>\n",
       "      <th>case number.1</th>\n",
       "      <th>original order</th>\n",
       "      <th>unnamed: 21</th>\n",
       "      <th>unnamed: 22</th>\n",
       "    </tr>\n",
       "  </thead>\n",
       "  <tbody>\n",
       "    <tr>\n",
       "      <th>0</th>\n",
       "      <td>14 Feb-2024</td>\n",
       "      <td>2024.0</td>\n",
       "      <td>Unprovoked</td>\n",
       "      <td>INDIA</td>\n",
       "      <td>Maharashtra</td>\n",
       "      <td>Vaitarna River, Palghar District</td>\n",
       "      <td>Fishing</td>\n",
       "      <td>Vicky Suresh Govari</td>\n",
       "      <td>M</td>\n",
       "      <td>32</td>\n",
       "      <td>...</td>\n",
       "      <td>Bull shark, 7'</td>\n",
       "      <td>Times of India, 2/14/2024</td>\n",
       "      <td>NaN</td>\n",
       "      <td>NaN</td>\n",
       "      <td>NaN</td>\n",
       "      <td>NaN</td>\n",
       "      <td>NaN</td>\n",
       "      <td>NaN</td>\n",
       "      <td>NaN</td>\n",
       "      <td>NaN</td>\n",
       "    </tr>\n",
       "    <tr>\n",
       "      <th>1</th>\n",
       "      <td>04-Feb-2024</td>\n",
       "      <td>2024.0</td>\n",
       "      <td>Provoked</td>\n",
       "      <td>TRINIDAD</td>\n",
       "      <td>NaN</td>\n",
       "      <td>NaN</td>\n",
       "      <td>Spearfishing</td>\n",
       "      <td>male</td>\n",
       "      <td>M</td>\n",
       "      <td>NaN</td>\n",
       "      <td>...</td>\n",
       "      <td>Blacktip reef shark</td>\n",
       "      <td>Trinidad Guardian, 2/11/2014</td>\n",
       "      <td>NaN</td>\n",
       "      <td>NaN</td>\n",
       "      <td>NaN</td>\n",
       "      <td>NaN</td>\n",
       "      <td>NaN</td>\n",
       "      <td>NaN</td>\n",
       "      <td>NaN</td>\n",
       "      <td>NaN</td>\n",
       "    </tr>\n",
       "    <tr>\n",
       "      <th>2</th>\n",
       "      <td>29 Jan-2024</td>\n",
       "      <td>2024.0</td>\n",
       "      <td>Unprovoked</td>\n",
       "      <td>AUSTRALIA</td>\n",
       "      <td>New  South Wales</td>\n",
       "      <td>Elizabeth Bay, Sydney Harbor</td>\n",
       "      <td>Swimming</td>\n",
       "      <td>Lauren O'Neill</td>\n",
       "      <td>F</td>\n",
       "      <td>29</td>\n",
       "      <td>...</td>\n",
       "      <td>Bull shark</td>\n",
       "      <td>Nine News, 12/31/2024</td>\n",
       "      <td>NaN</td>\n",
       "      <td>NaN</td>\n",
       "      <td>NaN</td>\n",
       "      <td>NaN</td>\n",
       "      <td>NaN</td>\n",
       "      <td>NaN</td>\n",
       "      <td>NaN</td>\n",
       "      <td>NaN</td>\n",
       "    </tr>\n",
       "    <tr>\n",
       "      <th>3</th>\n",
       "      <td>15 Jan-2024</td>\n",
       "      <td>2024.0</td>\n",
       "      <td>Unprovoked</td>\n",
       "      <td>BAHAMAS</td>\n",
       "      <td>Paradise Island</td>\n",
       "      <td>Paradise Island Resort</td>\n",
       "      <td>Swimming</td>\n",
       "      <td>male</td>\n",
       "      <td>M</td>\n",
       "      <td>10</td>\n",
       "      <td>...</td>\n",
       "      <td>NaN</td>\n",
       "      <td>Caribbean Loop News, 1/15;2024</td>\n",
       "      <td>NaN</td>\n",
       "      <td>NaN</td>\n",
       "      <td>NaN</td>\n",
       "      <td>NaN</td>\n",
       "      <td>NaN</td>\n",
       "      <td>NaN</td>\n",
       "      <td>NaN</td>\n",
       "      <td>NaN</td>\n",
       "    </tr>\n",
       "    <tr>\n",
       "      <th>4</th>\n",
       "      <td>09-Jan-2024</td>\n",
       "      <td>2024.0</td>\n",
       "      <td>Unprovoked</td>\n",
       "      <td>AUSTRALIA</td>\n",
       "      <td>South Australia</td>\n",
       "      <td>Walkers Beach, Elliston</td>\n",
       "      <td>Surfing</td>\n",
       "      <td>Murray Adams</td>\n",
       "      <td>M</td>\n",
       "      <td>64</td>\n",
       "      <td>...</td>\n",
       "      <td>White shark</td>\n",
       "      <td>A. Currie, GSAF</td>\n",
       "      <td>NaN</td>\n",
       "      <td>NaN</td>\n",
       "      <td>NaN</td>\n",
       "      <td>NaN</td>\n",
       "      <td>NaN</td>\n",
       "      <td>NaN</td>\n",
       "      <td>NaN</td>\n",
       "      <td>NaN</td>\n",
       "    </tr>\n",
       "  </tbody>\n",
       "</table>\n",
       "<p>5 rows × 23 columns</p>\n",
       "</div>"
      ],
      "text/plain": [
       "          date    year        type    country             state  \\\n",
       "0  14 Feb-2024  2024.0  Unprovoked      INDIA       Maharashtra   \n",
       "1  04-Feb-2024  2024.0    Provoked   TRINIDAD               NaN   \n",
       "2  29 Jan-2024  2024.0  Unprovoked  AUSTRALIA  New  South Wales   \n",
       "3  15 Jan-2024  2024.0  Unprovoked    BAHAMAS   Paradise Island   \n",
       "4  09-Jan-2024  2024.0  Unprovoked  AUSTRALIA   South Australia   \n",
       "\n",
       "                           location      activity                 name sex  \\\n",
       "0  Vaitarna River, Palghar District       Fishing  Vicky Suresh Govari   M   \n",
       "1                               NaN  Spearfishing                 male   M   \n",
       "2      Elizabeth Bay, Sydney Harbor      Swimming       Lauren O'Neill   F   \n",
       "3            Paradise Island Resort      Swimming                 male   M   \n",
       "4           Walkers Beach, Elliston       Surfing         Murray Adams   M   \n",
       "\n",
       "   age  ...              species                           source  pdf  \\\n",
       "0   32  ...       Bull shark, 7'        Times of India, 2/14/2024  NaN   \n",
       "1  NaN  ...  Blacktip reef shark     Trinidad Guardian, 2/11/2014  NaN   \n",
       "2   29  ...           Bull shark            Nine News, 12/31/2024  NaN   \n",
       "3   10  ...                  NaN  Caribbean Loop News, 1/15;2024   NaN   \n",
       "4   64  ...          White shark                  A. Currie, GSAF  NaN   \n",
       "\n",
       "  href formula href case number case number.1 original order unnamed: 21  \\\n",
       "0          NaN  NaN         NaN           NaN            NaN         NaN   \n",
       "1          NaN  NaN         NaN           NaN            NaN         NaN   \n",
       "2          NaN  NaN         NaN           NaN            NaN         NaN   \n",
       "3          NaN  NaN         NaN           NaN            NaN         NaN   \n",
       "4          NaN  NaN         NaN           NaN            NaN         NaN   \n",
       "\n",
       "  unnamed: 22  \n",
       "0         NaN  \n",
       "1         NaN  \n",
       "2         NaN  \n",
       "3         NaN  \n",
       "4         NaN  \n",
       "\n",
       "[5 rows x 23 columns]"
      ]
     },
     "metadata": {},
     "output_type": "display_data"
    }
   ],
   "source": [
    "# Re formating the names our our columns to a Title format\n",
    "\n",
    "shark_columns = shark.columns.str.strip().str.lower()\n",
    "shark.columns = shark_columns\n",
    "\n",
    "#Checking the result:\n",
    "display(shark.head())"
   ]
  },
  {
   "cell_type": "markdown",
   "metadata": {
    "cell_id": "723b5645831747f5b4747d42af549bd7",
    "deepnote_cell_type": "text-cell-p",
    "formattedRanges": []
   },
   "source": [
    "Success ! Now all the columns have the same \"lower\" format "
   ]
  },
  {
   "cell_type": "markdown",
   "metadata": {
    "cell_id": "cfe709f359de4ca985a76b8c26af34b7",
    "deepnote_cell_type": "text-cell-h2",
    "formattedRanges": []
   },
   "source": [
    "## Reorganize the order of the columns"
   ]
  },
  {
   "cell_type": "markdown",
   "metadata": {
    "cell_id": "0f74e868973a49e9b2b7da008c0f1f85",
    "deepnote_cell_type": "text-cell-p",
    "formattedRanges": [
     {
      "fromCodePoint": 0,
      "marks": {
       "bold": true,
       "color": "#F63E8E"
      },
      "toCodePoint": 56,
      "type": "marks"
     }
    ]
   },
   "source": [
    "This is a personal  helpful note, please don't take care"
   ]
  },
  {
   "cell_type": "code",
   "execution_count": null,
   "metadata": {
    "cell_id": "ff7d81720140470ab989b6ad4990712e",
    "deepnote_cell_type": "code",
    "deepnote_to_be_reexecuted": false,
    "execution_millis": 797,
    "execution_start": 1709886690838,
    "source_hash": null
   },
   "outputs": [],
   "source": [
    "# Assuming your DataFrame is named df\n",
    "# desired_column_order = ['Column1', 'Column2', 'Column3', ...]  # Replace with your desired order\n",
    "\n",
    "# Reorganize the columns\n",
    "# df = df[desired_column_order]\n",
    "\n",
    "# Display the updated DataFrame\n",
    "# print(df.head())"
   ]
  },
  {
   "cell_type": "markdown",
   "metadata": {
    "cell_id": "f0b32fb67a0847d09051b0883263c3dd",
    "deepnote_cell_type": "text-cell-p",
    "formattedRanges": []
   },
   "source": [
    "View of the column names list"
   ]
  },
  {
   "cell_type": "code",
   "execution_count": null,
   "metadata": {
    "cell_id": "ac72728087494153af6dfe382ddd4839",
    "deepnote_cell_type": "code",
    "deepnote_to_be_reexecuted": false,
    "execution_millis": 798,
    "execution_start": 1709886690838,
    "source_hash": null
   },
   "outputs": [
    {
     "data": {
      "application/vnd.deepnote.dataframe.v3+json": {
       "column_count": 23,
       "columns": [
        {
         "dtype": "object",
         "name": "date",
         "stats": {
          "categories": [
           {
            "count": 1,
            "name": "14 Feb-2024"
           },
           {
            "count": 1,
            "name": "04-Feb-2024"
           }
          ],
          "nan_count": 0,
          "unique_count": 2
         }
        },
        {
         "dtype": "float64",
         "name": "year",
         "stats": {
          "histogram": [
           {
            "bin_end": 2023.6,
            "bin_start": 2023.5,
            "count": 0
           },
           {
            "bin_end": 2023.7,
            "bin_start": 2023.6,
            "count": 0
           },
           {
            "bin_end": 2023.8,
            "bin_start": 2023.7,
            "count": 0
           },
           {
            "bin_end": 2023.9,
            "bin_start": 2023.8,
            "count": 0
           },
           {
            "bin_end": 2024,
            "bin_start": 2023.9,
            "count": 0
           },
           {
            "bin_end": 2024.1,
            "bin_start": 2024,
            "count": 2
           },
           {
            "bin_end": 2024.2,
            "bin_start": 2024.1,
            "count": 0
           },
           {
            "bin_end": 2024.3,
            "bin_start": 2024.2,
            "count": 0
           },
           {
            "bin_end": 2024.4,
            "bin_start": 2024.3,
            "count": 0
           },
           {
            "bin_end": 2024.5,
            "bin_start": 2024.4,
            "count": 0
           }
          ],
          "max": "2024.0",
          "min": "2024.0",
          "nan_count": 0,
          "unique_count": 1
         }
        },
        {
         "dtype": "object",
         "name": "type",
         "stats": {
          "categories": [
           {
            "count": 1,
            "name": "Unprovoked"
           },
           {
            "count": 1,
            "name": " Provoked"
           }
          ],
          "nan_count": 0,
          "unique_count": 2
         }
        },
        {
         "dtype": "object",
         "name": "country",
         "stats": {
          "categories": [
           {
            "count": 1,
            "name": "INDIA"
           },
           {
            "count": 1,
            "name": "TRINIDAD"
           }
          ],
          "nan_count": 0,
          "unique_count": 2
         }
        },
        {
         "dtype": "object",
         "name": "state",
         "stats": {
          "categories": [
           {
            "count": 1,
            "name": "Maharashtra"
           },
           {
            "count": 1,
            "name": "Missing"
           }
          ],
          "nan_count": 1,
          "unique_count": 1
         }
        },
        {
         "dtype": "object",
         "name": "location",
         "stats": {
          "categories": [
           {
            "count": 1,
            "name": "Vaitarna River, Palghar District"
           },
           {
            "count": 1,
            "name": "Missing"
           }
          ],
          "nan_count": 1,
          "unique_count": 1
         }
        },
        {
         "dtype": "object",
         "name": "activity",
         "stats": {
          "categories": [
           {
            "count": 1,
            "name": "Fishing"
           },
           {
            "count": 1,
            "name": "Spearfishing"
           }
          ],
          "nan_count": 0,
          "unique_count": 2
         }
        },
        {
         "dtype": "object",
         "name": "name",
         "stats": {
          "categories": [
           {
            "count": 1,
            "name": "Vicky Suresh Govari"
           },
           {
            "count": 1,
            "name": "male"
           }
          ],
          "nan_count": 0,
          "unique_count": 2
         }
        },
        {
         "dtype": "object",
         "name": "sex",
         "stats": {
          "categories": [
           {
            "count": 2,
            "name": "M"
           }
          ],
          "nan_count": 0,
          "unique_count": 1
         }
        },
        {
         "dtype": "object",
         "name": "age",
         "stats": {
          "categories": [
           {
            "count": 1,
            "name": "32"
           },
           {
            "count": 1,
            "name": "Missing"
           }
          ],
          "nan_count": 1,
          "unique_count": 1
         }
        },
        {
         "dtype": "object",
         "name": "injury",
         "stats": {
          "categories": [
           {
            "count": 1,
            "name": "Calf of lower left leg injured"
           },
           {
            "count": 1,
            "name": "Shoulder bitten"
           }
          ],
          "nan_count": 0,
          "unique_count": 2
         }
        },
        {
         "dtype": "object",
         "name": "fatality",
         "stats": {
          "categories": [
           {
            "count": 2,
            "name": "N"
           }
          ],
          "nan_count": 0,
          "unique_count": 1
         }
        },
        {
         "dtype": "object",
         "name": "time",
         "stats": {
          "categories": [
           {
            "count": 1,
            "name": "06h30"
           },
           {
            "count": 1,
            "name": "Missing"
           }
          ],
          "nan_count": 1,
          "unique_count": 1
         }
        },
        {
         "dtype": "object",
         "name": "species",
         "stats": {
          "categories": [
           {
            "count": 1,
            "name": "Bull shark, 7'"
           },
           {
            "count": 1,
            "name": "Blacktip reef shark"
           }
          ],
          "nan_count": 0,
          "unique_count": 2
         }
        },
        {
         "dtype": "object",
         "name": "source",
         "stats": {
          "categories": [
           {
            "count": 1,
            "name": "Times of India, 2/14/2024"
           },
           {
            "count": 1,
            "name": "Trinidad Guardian, 2/11/2014"
           }
          ],
          "nan_count": 0,
          "unique_count": 2
         }
        },
        {
         "dtype": "object",
         "name": "pdf",
         "stats": {
          "categories": [
           {
            "count": 2,
            "name": "Missing"
           }
          ],
          "nan_count": 2,
          "unique_count": 0
         }
        },
        {
         "dtype": "object",
         "name": "href formula",
         "stats": {
          "categories": [
           {
            "count": 2,
            "name": "Missing"
           }
          ],
          "nan_count": 2,
          "unique_count": 0
         }
        },
        {
         "dtype": "object",
         "name": "href",
         "stats": {
          "categories": [
           {
            "count": 2,
            "name": "Missing"
           }
          ],
          "nan_count": 2,
          "unique_count": 0
         }
        },
        {
         "dtype": "object",
         "name": "case number",
         "stats": {
          "categories": [
           {
            "count": 2,
            "name": "Missing"
           }
          ],
          "nan_count": 2,
          "unique_count": 0
         }
        },
        {
         "dtype": "object",
         "name": "case number.1",
         "stats": {
          "categories": [
           {
            "count": 2,
            "name": "Missing"
           }
          ],
          "nan_count": 2,
          "unique_count": 0
         }
        },
        {
         "dtype": "float64",
         "name": "original order",
         "stats": {
          "histogram": [
           {
            "bin_end": 0.1,
            "bin_start": 0,
            "count": 0
           },
           {
            "bin_end": 0.2,
            "bin_start": 0.1,
            "count": 0
           },
           {
            "bin_end": 0.30000000000000004,
            "bin_start": 0.2,
            "count": 0
           },
           {
            "bin_end": 0.4,
            "bin_start": 0.30000000000000004,
            "count": 0
           },
           {
            "bin_end": 0.5,
            "bin_start": 0.4,
            "count": 0
           },
           {
            "bin_end": 0.6000000000000001,
            "bin_start": 0.5,
            "count": 0
           },
           {
            "bin_end": 0.7000000000000001,
            "bin_start": 0.6000000000000001,
            "count": 0
           },
           {
            "bin_end": 0.8,
            "bin_start": 0.7000000000000001,
            "count": 0
           },
           {
            "bin_end": 0.9,
            "bin_start": 0.8,
            "count": 0
           },
           {
            "bin_end": 1,
            "bin_start": 0.9,
            "count": 0
           }
          ],
          "max": null,
          "min": null,
          "nan_count": 2,
          "unique_count": 0
         }
        },
        {
         "dtype": "object",
         "name": "unnamed: 21",
         "stats": {
          "categories": [
           {
            "count": 2,
            "name": "Missing"
           }
          ],
          "nan_count": 2,
          "unique_count": 0
         }
        },
        {
         "dtype": "object",
         "name": "unnamed: 22",
         "stats": {
          "categories": [
           {
            "count": 2,
            "name": "Missing"
           }
          ],
          "nan_count": 2,
          "unique_count": 0
         }
        },
        {
         "dtype": "int64",
         "name": "_deepnote_index_column"
        }
       ],
       "row_count": 2,
       "rows": [
        {
         "_deepnote_index_column": 0,
         "activity": "Fishing",
         "age": "32",
         "case number": "nan",
         "case number.1": "nan",
         "country": "INDIA",
         "date": "14 Feb-2024",
         "fatality": "N",
         "href": "nan",
         "href formula": "nan",
         "injury": "Calf of lower left leg injured",
         "location": "Vaitarna River, Palghar District",
         "name": "Vicky Suresh Govari",
         "original order": "nan",
         "pdf": "nan",
         "sex": "M",
         "source": "Times of India, 2/14/2024",
         "species": "Bull shark, 7'",
         "state": "Maharashtra",
         "time": "nan",
         "type": "Unprovoked",
         "unnamed: 21": "nan",
         "unnamed: 22": "nan",
         "year": 2024
        },
        {
         "_deepnote_index_column": 1,
         "activity": "Spearfishing",
         "age": "nan",
         "case number": "nan",
         "case number.1": "nan",
         "country": "TRINIDAD",
         "date": "04-Feb-2024",
         "fatality": "N",
         "href": "nan",
         "href formula": "nan",
         "injury": "Shoulder bitten",
         "location": "nan",
         "name": "male",
         "original order": "nan",
         "pdf": "nan",
         "sex": "M",
         "source": "Trinidad Guardian, 2/11/2014",
         "species": "Blacktip reef shark",
         "state": "nan",
         "time": "06h30",
         "type": " Provoked",
         "unnamed: 21": "nan",
         "unnamed: 22": "nan",
         "year": 2024
        }
       ]
      },
      "text/html": [
       "<div>\n",
       "<style scoped>\n",
       "    .dataframe tbody tr th:only-of-type {\n",
       "        vertical-align: middle;\n",
       "    }\n",
       "\n",
       "    .dataframe tbody tr th {\n",
       "        vertical-align: top;\n",
       "    }\n",
       "\n",
       "    .dataframe thead th {\n",
       "        text-align: right;\n",
       "    }\n",
       "</style>\n",
       "<table border=\"1\" class=\"dataframe\">\n",
       "  <thead>\n",
       "    <tr style=\"text-align: right;\">\n",
       "      <th></th>\n",
       "      <th>date</th>\n",
       "      <th>year</th>\n",
       "      <th>type</th>\n",
       "      <th>country</th>\n",
       "      <th>state</th>\n",
       "      <th>location</th>\n",
       "      <th>activity</th>\n",
       "      <th>name</th>\n",
       "      <th>sex</th>\n",
       "      <th>age</th>\n",
       "      <th>...</th>\n",
       "      <th>species</th>\n",
       "      <th>source</th>\n",
       "      <th>pdf</th>\n",
       "      <th>href formula</th>\n",
       "      <th>href</th>\n",
       "      <th>case number</th>\n",
       "      <th>case number.1</th>\n",
       "      <th>original order</th>\n",
       "      <th>unnamed: 21</th>\n",
       "      <th>unnamed: 22</th>\n",
       "    </tr>\n",
       "  </thead>\n",
       "  <tbody>\n",
       "    <tr>\n",
       "      <th>0</th>\n",
       "      <td>14 Feb-2024</td>\n",
       "      <td>2024.0</td>\n",
       "      <td>Unprovoked</td>\n",
       "      <td>INDIA</td>\n",
       "      <td>Maharashtra</td>\n",
       "      <td>Vaitarna River, Palghar District</td>\n",
       "      <td>Fishing</td>\n",
       "      <td>Vicky Suresh Govari</td>\n",
       "      <td>M</td>\n",
       "      <td>32</td>\n",
       "      <td>...</td>\n",
       "      <td>Bull shark, 7'</td>\n",
       "      <td>Times of India, 2/14/2024</td>\n",
       "      <td>NaN</td>\n",
       "      <td>NaN</td>\n",
       "      <td>NaN</td>\n",
       "      <td>NaN</td>\n",
       "      <td>NaN</td>\n",
       "      <td>NaN</td>\n",
       "      <td>NaN</td>\n",
       "      <td>NaN</td>\n",
       "    </tr>\n",
       "    <tr>\n",
       "      <th>1</th>\n",
       "      <td>04-Feb-2024</td>\n",
       "      <td>2024.0</td>\n",
       "      <td>Provoked</td>\n",
       "      <td>TRINIDAD</td>\n",
       "      <td>NaN</td>\n",
       "      <td>NaN</td>\n",
       "      <td>Spearfishing</td>\n",
       "      <td>male</td>\n",
       "      <td>M</td>\n",
       "      <td>NaN</td>\n",
       "      <td>...</td>\n",
       "      <td>Blacktip reef shark</td>\n",
       "      <td>Trinidad Guardian, 2/11/2014</td>\n",
       "      <td>NaN</td>\n",
       "      <td>NaN</td>\n",
       "      <td>NaN</td>\n",
       "      <td>NaN</td>\n",
       "      <td>NaN</td>\n",
       "      <td>NaN</td>\n",
       "      <td>NaN</td>\n",
       "      <td>NaN</td>\n",
       "    </tr>\n",
       "  </tbody>\n",
       "</table>\n",
       "<p>2 rows × 23 columns</p>\n",
       "</div>"
      ],
      "text/plain": [
       "          date    year        type   country        state  \\\n",
       "0  14 Feb-2024  2024.0  Unprovoked     INDIA  Maharashtra   \n",
       "1  04-Feb-2024  2024.0    Provoked  TRINIDAD          NaN   \n",
       "\n",
       "                           location      activity                 name sex  \\\n",
       "0  Vaitarna River, Palghar District       Fishing  Vicky Suresh Govari   M   \n",
       "1                               NaN  Spearfishing                 male   M   \n",
       "\n",
       "   age  ...              species                        source  pdf  \\\n",
       "0   32  ...       Bull shark, 7'     Times of India, 2/14/2024  NaN   \n",
       "1  NaN  ...  Blacktip reef shark  Trinidad Guardian, 2/11/2014  NaN   \n",
       "\n",
       "  href formula href case number case number.1 original order unnamed: 21  \\\n",
       "0          NaN  NaN         NaN           NaN            NaN         NaN   \n",
       "1          NaN  NaN         NaN           NaN            NaN         NaN   \n",
       "\n",
       "  unnamed: 22  \n",
       "0         NaN  \n",
       "1         NaN  \n",
       "\n",
       "[2 rows x 23 columns]"
      ]
     },
     "metadata": {},
     "output_type": "display_data"
    },
    {
     "name": "stdout",
     "output_type": "stream",
     "text": [
      "['date', 'year', 'type', 'country', 'state', 'location', 'activity', 'name', 'sex', 'age', 'injury', 'fatality', 'time', 'species', 'source', 'pdf', 'href formula', 'href', 'case number', 'case number.1', 'original order', 'unnamed: 21', 'unnamed: 22']\n"
     ]
    }
   ],
   "source": [
    "# Let's first generate a list of the different columns of the current dataset:\n",
    "display(shark.head(2))\n",
    "\n",
    "print(shark. columns. values. tolist())"
   ]
  },
  {
   "cell_type": "markdown",
   "metadata": {
    "cell_id": "3e4e5364a68648af867d06dc726cb03b",
    "deepnote_cell_type": "text-cell-p",
    "formattedRanges": []
   },
   "source": [
    "Now let's do some reorganization:"
   ]
  },
  {
   "cell_type": "code",
   "execution_count": null,
   "metadata": {
    "cell_id": "72f96f606ae24e3db490647715495f00",
    "deepnote_cell_type": "code",
    "deepnote_to_be_reexecuted": false,
    "execution_millis": 694,
    "execution_start": 1709886690942,
    "source_hash": null
   },
   "outputs": [
    {
     "data": {
      "application/vnd.deepnote.dataframe.v3+json": {
       "column_count": 13,
       "columns": [
        {
         "dtype": "object",
         "name": "date",
         "stats": {
          "categories": [
           {
            "count": 1,
            "name": "14 Feb-2024"
           },
           {
            "count": 1,
            "name": "04-Feb-2024"
           },
           {
            "count": 3,
            "name": "3 others"
           }
          ],
          "nan_count": 0,
          "unique_count": 5
         }
        },
        {
         "dtype": "float64",
         "name": "year",
         "stats": {
          "histogram": [
           {
            "bin_end": 2023.6,
            "bin_start": 2023.5,
            "count": 0
           },
           {
            "bin_end": 2023.7,
            "bin_start": 2023.6,
            "count": 0
           },
           {
            "bin_end": 2023.8,
            "bin_start": 2023.7,
            "count": 0
           },
           {
            "bin_end": 2023.9,
            "bin_start": 2023.8,
            "count": 0
           },
           {
            "bin_end": 2024,
            "bin_start": 2023.9,
            "count": 0
           },
           {
            "bin_end": 2024.1,
            "bin_start": 2024,
            "count": 5
           },
           {
            "bin_end": 2024.2,
            "bin_start": 2024.1,
            "count": 0
           },
           {
            "bin_end": 2024.3,
            "bin_start": 2024.2,
            "count": 0
           },
           {
            "bin_end": 2024.4,
            "bin_start": 2024.3,
            "count": 0
           },
           {
            "bin_end": 2024.5,
            "bin_start": 2024.4,
            "count": 0
           }
          ],
          "max": "2024.0",
          "min": "2024.0",
          "nan_count": 0,
          "unique_count": 1
         }
        },
        {
         "dtype": "object",
         "name": "time",
         "stats": {
          "categories": [
           {
            "count": 1,
            "name": "06h30"
           },
           {
            "count": 3,
            "name": "3 others"
           },
           {
            "count": 1,
            "name": "Missing"
           }
          ],
          "nan_count": 1,
          "unique_count": 4
         }
        },
        {
         "dtype": "object",
         "name": "country",
         "stats": {
          "categories": [
           {
            "count": 2,
            "name": "AUSTRALIA"
           },
           {
            "count": 1,
            "name": "INDIA"
           },
           {
            "count": 2,
            "name": "2 others"
           }
          ],
          "nan_count": 0,
          "unique_count": 4
         }
        },
        {
         "dtype": "object",
         "name": "state",
         "stats": {
          "categories": [
           {
            "count": 1,
            "name": "Maharashtra"
           },
           {
            "count": 3,
            "name": "3 others"
           },
           {
            "count": 1,
            "name": "Missing"
           }
          ],
          "nan_count": 1,
          "unique_count": 4
         }
        },
        {
         "dtype": "object",
         "name": "location",
         "stats": {
          "categories": [
           {
            "count": 1,
            "name": "Vaitarna River, Palghar District"
           },
           {
            "count": 3,
            "name": "3 others"
           },
           {
            "count": 1,
            "name": "Missing"
           }
          ],
          "nan_count": 1,
          "unique_count": 4
         }
        },
        {
         "dtype": "object",
         "name": "name",
         "stats": {
          "categories": [
           {
            "count": 2,
            "name": "male"
           },
           {
            "count": 1,
            "name": "Vicky Suresh Govari"
           },
           {
            "count": 2,
            "name": "2 others"
           }
          ],
          "nan_count": 0,
          "unique_count": 4
         }
        },
        {
         "dtype": "object",
         "name": "sex",
         "stats": {
          "categories": [
           {
            "count": 4,
            "name": "M"
           },
           {
            "count": 1,
            "name": "F"
           }
          ],
          "nan_count": 0,
          "unique_count": 2
         }
        },
        {
         "dtype": "object",
         "name": "type",
         "stats": {
          "categories": [
           {
            "count": 4,
            "name": "Unprovoked"
           },
           {
            "count": 1,
            "name": " Provoked"
           }
          ],
          "nan_count": 0,
          "unique_count": 2
         }
        },
        {
         "dtype": "object",
         "name": "activity",
         "stats": {
          "categories": [
           {
            "count": 2,
            "name": "Swimming"
           },
           {
            "count": 1,
            "name": "Fishing"
           },
           {
            "count": 2,
            "name": "2 others"
           }
          ],
          "nan_count": 0,
          "unique_count": 4
         }
        },
        {
         "dtype": "object",
         "name": "injury",
         "stats": {
          "categories": [
           {
            "count": 1,
            "name": "Calf of lower left leg injured"
           },
           {
            "count": 1,
            "name": "Shoulder bitten"
           },
           {
            "count": 3,
            "name": "3 others"
           }
          ],
          "nan_count": 0,
          "unique_count": 5
         }
        },
        {
         "dtype": "object",
         "name": "fatality",
         "stats": {
          "categories": [
           {
            "count": 5,
            "name": "N"
           }
          ],
          "nan_count": 0,
          "unique_count": 1
         }
        },
        {
         "dtype": "object",
         "name": "species",
         "stats": {
          "categories": [
           {
            "count": 1,
            "name": "Bull shark, 7'"
           },
           {
            "count": 3,
            "name": "3 others"
           },
           {
            "count": 1,
            "name": "Missing"
           }
          ],
          "nan_count": 1,
          "unique_count": 4
         }
        },
        {
         "dtype": "int64",
         "name": "_deepnote_index_column"
        }
       ],
       "row_count": 5,
       "rows": [
        {
         "_deepnote_index_column": 0,
         "activity": "Fishing",
         "country": "INDIA",
         "date": "14 Feb-2024",
         "fatality": "N",
         "injury": "Calf of lower left leg injured",
         "location": "Vaitarna River, Palghar District",
         "name": "Vicky Suresh Govari",
         "sex": "M",
         "species": "Bull shark, 7'",
         "state": "Maharashtra",
         "time": "nan",
         "type": "Unprovoked",
         "year": 2024
        },
        {
         "_deepnote_index_column": 1,
         "activity": "Spearfishing",
         "country": "TRINIDAD",
         "date": "04-Feb-2024",
         "fatality": "N",
         "injury": "Shoulder bitten",
         "location": "nan",
         "name": "male",
         "sex": "M",
         "species": "Blacktip reef shark",
         "state": "nan",
         "time": "06h30",
         "type": " Provoked",
         "year": 2024
        },
        {
         "_deepnote_index_column": 2,
         "activity": "Swimming",
         "country": "AUSTRALIA",
         "date": "29 Jan-2024",
         "fatality": "N",
         "injury": "Right leg bitten",
         "location": "Elizabeth Bay, Sydney Harbor",
         "name": "Lauren O'Neill",
         "sex": "F",
         "species": "Bull shark",
         "state": "New  South Wales",
         "time": "20h00",
         "type": "Unprovoked",
         "year": 2024
        },
        {
         "_deepnote_index_column": 3,
         "activity": "Swimming",
         "country": "BAHAMAS",
         "date": "15 Jan-2024",
         "fatality": "N",
         "injury": "Right leg injured ",
         "location": "Paradise Island Resort",
         "name": "male",
         "sex": "M",
         "species": "nan",
         "state": "Paradise Island",
         "time": "16h00",
         "type": "Unprovoked",
         "year": 2024
        },
        {
         "_deepnote_index_column": 4,
         "activity": "Surfing",
         "country": "AUSTRALIA",
         "date": "09-Jan-2024",
         "fatality": "N",
         "injury": "Leg bitten",
         "location": "Walkers Beach, Elliston",
         "name": "Murray Adams",
         "sex": "M",
         "species": "White shark",
         "state": "South Australia",
         "time": "13h00",
         "type": "Unprovoked",
         "year": 2024
        }
       ]
      },
      "text/html": [
       "<div>\n",
       "<style scoped>\n",
       "    .dataframe tbody tr th:only-of-type {\n",
       "        vertical-align: middle;\n",
       "    }\n",
       "\n",
       "    .dataframe tbody tr th {\n",
       "        vertical-align: top;\n",
       "    }\n",
       "\n",
       "    .dataframe thead th {\n",
       "        text-align: right;\n",
       "    }\n",
       "</style>\n",
       "<table border=\"1\" class=\"dataframe\">\n",
       "  <thead>\n",
       "    <tr style=\"text-align: right;\">\n",
       "      <th></th>\n",
       "      <th>date</th>\n",
       "      <th>year</th>\n",
       "      <th>time</th>\n",
       "      <th>country</th>\n",
       "      <th>state</th>\n",
       "      <th>location</th>\n",
       "      <th>name</th>\n",
       "      <th>sex</th>\n",
       "      <th>type</th>\n",
       "      <th>activity</th>\n",
       "      <th>injury</th>\n",
       "      <th>fatality</th>\n",
       "      <th>species</th>\n",
       "    </tr>\n",
       "  </thead>\n",
       "  <tbody>\n",
       "    <tr>\n",
       "      <th>0</th>\n",
       "      <td>14 Feb-2024</td>\n",
       "      <td>2024.0</td>\n",
       "      <td>NaN</td>\n",
       "      <td>INDIA</td>\n",
       "      <td>Maharashtra</td>\n",
       "      <td>Vaitarna River, Palghar District</td>\n",
       "      <td>Vicky Suresh Govari</td>\n",
       "      <td>M</td>\n",
       "      <td>Unprovoked</td>\n",
       "      <td>Fishing</td>\n",
       "      <td>Calf of lower left leg injured</td>\n",
       "      <td>N</td>\n",
       "      <td>Bull shark, 7'</td>\n",
       "    </tr>\n",
       "    <tr>\n",
       "      <th>1</th>\n",
       "      <td>04-Feb-2024</td>\n",
       "      <td>2024.0</td>\n",
       "      <td>06h30</td>\n",
       "      <td>TRINIDAD</td>\n",
       "      <td>NaN</td>\n",
       "      <td>NaN</td>\n",
       "      <td>male</td>\n",
       "      <td>M</td>\n",
       "      <td>Provoked</td>\n",
       "      <td>Spearfishing</td>\n",
       "      <td>Shoulder bitten</td>\n",
       "      <td>N</td>\n",
       "      <td>Blacktip reef shark</td>\n",
       "    </tr>\n",
       "    <tr>\n",
       "      <th>2</th>\n",
       "      <td>29 Jan-2024</td>\n",
       "      <td>2024.0</td>\n",
       "      <td>20h00</td>\n",
       "      <td>AUSTRALIA</td>\n",
       "      <td>New  South Wales</td>\n",
       "      <td>Elizabeth Bay, Sydney Harbor</td>\n",
       "      <td>Lauren O'Neill</td>\n",
       "      <td>F</td>\n",
       "      <td>Unprovoked</td>\n",
       "      <td>Swimming</td>\n",
       "      <td>Right leg bitten</td>\n",
       "      <td>N</td>\n",
       "      <td>Bull shark</td>\n",
       "    </tr>\n",
       "    <tr>\n",
       "      <th>3</th>\n",
       "      <td>15 Jan-2024</td>\n",
       "      <td>2024.0</td>\n",
       "      <td>16h00</td>\n",
       "      <td>BAHAMAS</td>\n",
       "      <td>Paradise Island</td>\n",
       "      <td>Paradise Island Resort</td>\n",
       "      <td>male</td>\n",
       "      <td>M</td>\n",
       "      <td>Unprovoked</td>\n",
       "      <td>Swimming</td>\n",
       "      <td>Right leg injured</td>\n",
       "      <td>N</td>\n",
       "      <td>NaN</td>\n",
       "    </tr>\n",
       "    <tr>\n",
       "      <th>4</th>\n",
       "      <td>09-Jan-2024</td>\n",
       "      <td>2024.0</td>\n",
       "      <td>13h00</td>\n",
       "      <td>AUSTRALIA</td>\n",
       "      <td>South Australia</td>\n",
       "      <td>Walkers Beach, Elliston</td>\n",
       "      <td>Murray Adams</td>\n",
       "      <td>M</td>\n",
       "      <td>Unprovoked</td>\n",
       "      <td>Surfing</td>\n",
       "      <td>Leg bitten</td>\n",
       "      <td>N</td>\n",
       "      <td>White shark</td>\n",
       "    </tr>\n",
       "  </tbody>\n",
       "</table>\n",
       "</div>"
      ],
      "text/plain": [
       "          date    year   time    country             state  \\\n",
       "0  14 Feb-2024  2024.0    NaN      INDIA       Maharashtra   \n",
       "1  04-Feb-2024  2024.0  06h30   TRINIDAD               NaN   \n",
       "2  29 Jan-2024  2024.0  20h00  AUSTRALIA  New  South Wales   \n",
       "3  15 Jan-2024  2024.0  16h00    BAHAMAS   Paradise Island   \n",
       "4  09-Jan-2024  2024.0  13h00  AUSTRALIA   South Australia   \n",
       "\n",
       "                           location                 name sex        type  \\\n",
       "0  Vaitarna River, Palghar District  Vicky Suresh Govari   M  Unprovoked   \n",
       "1                               NaN                 male   M    Provoked   \n",
       "2      Elizabeth Bay, Sydney Harbor       Lauren O'Neill   F  Unprovoked   \n",
       "3            Paradise Island Resort                 male   M  Unprovoked   \n",
       "4           Walkers Beach, Elliston         Murray Adams   M  Unprovoked   \n",
       "\n",
       "       activity                          injury fatality              species  \n",
       "0       Fishing  Calf of lower left leg injured        N       Bull shark, 7'  \n",
       "1  Spearfishing                 Shoulder bitten        N  Blacktip reef shark  \n",
       "2      Swimming                Right leg bitten        N           Bull shark  \n",
       "3      Swimming              Right leg injured         N                  NaN  \n",
       "4       Surfing                      Leg bitten        N          White shark  "
      ]
     },
     "metadata": {},
     "output_type": "display_data"
    }
   ],
   "source": [
    "#List of the columns desired order:\n",
    "reordered_list = ['date', 'year', 'time', 'country','state', 'location', 'name', 'sex', 'type', 'activity','injury', 'fatality', 'species']\n",
    "\n",
    "# Apply the reorganization:\n",
    "shark = shark[reordered_list]\n",
    "\n",
    "#Observation of the result:\n",
    "display(shark.head())"
   ]
  },
  {
   "cell_type": "markdown",
   "metadata": {
    "cell_id": "a8328bf33d914222a0125ce5c109787e",
    "deepnote_cell_type": "text-cell-h2",
    "formattedRanges": []
   },
   "source": [
    "## Droping the the remaining full 'NaN' rows"
   ]
  },
  {
   "cell_type": "markdown",
   "metadata": {
    "cell_id": "c839751069ec4347b1f89122c58d5563",
    "deepnote_cell_type": "text-cell-p",
    "formattedRanges": []
   },
   "source": [
    "Now we have our cleaned dataset, let's one last time delete the potential full 'NaN' rows remaining"
   ]
  },
  {
   "cell_type": "code",
   "execution_count": null,
   "metadata": {
    "cell_id": "5fa23f002cd5418a8bc74e7742be5f5a",
    "deepnote_cell_type": "code",
    "deepnote_to_be_reexecuted": false,
    "execution_millis": 663,
    "execution_start": 1709886690973,
    "source_hash": null
   },
   "outputs": [
    {
     "name": "stdout",
     "output_type": "stream",
     "text": [
      "dataset shape before full 'NaN' rows droping: \n",
      "(6941, 13)\n",
      "\n",
      "\n",
      "dataset shape after full 'NaN' rows droping: \n",
      "(6940, 13)\n"
     ]
    }
   ],
   "source": [
    "#Observe the shape before this cleaning:\n",
    "print(\"dataset shape before full 'NaN' rows droping: \")\n",
    "print(shark.shape)\n",
    "breakline()\n",
    "\n",
    "#Now let's clean up !\n",
    "shark = shark.dropna(how='all')\n",
    "\n",
    "#Observe the shape after this cleaning:\n",
    "print(\"dataset shape after full 'NaN' rows droping: \")\n",
    "print(shark.shape)"
   ]
  },
  {
   "cell_type": "markdown",
   "metadata": {
    "cell_id": "31ef4057a40f427094c4fa1b9b0fca13",
    "deepnote_cell_type": "text-cell-p",
    "formattedRanges": []
   },
   "source": [
    "As we could expect this second ' full 'NaN' rows cleaning' did'nt change anything ;)  "
   ]
  },
  {
   "cell_type": "markdown",
   "metadata": {
    "cell_id": "6d1faafb0de744b293bb4b59566f60c8",
    "deepnote_cell_type": "text-cell-h2",
    "formattedRanges": [
     {
      "fromCodePoint": 0,
      "marks": {
       "color": "#008E44"
      },
      "toCodePoint": 46,
      "type": "marks"
     }
    ]
   },
   "source": [
    "## [Safety Net] --> Intermediary save of the df !"
   ]
  },
  {
   "cell_type": "markdown",
   "metadata": {
    "cell_id": "5f9c915ef93640039a45f32ab9b73b4b",
    "deepnote_cell_type": "text-cell-p",
    "formattedRanges": []
   },
   "source": [
    "Now we've done the general cleaning of our dataset, and before moving to our next step 'cleaning each columns', let's first create a saving of our dataset, so we can go_back to it in case of troubles"
   ]
  },
  {
   "cell_type": "code",
   "execution_count": null,
   "metadata": {
    "cell_id": "cd10474b94ee43f48d2e3ed0fa5521be",
    "deepnote_cell_type": "code",
    "deepnote_to_be_reexecuted": false,
    "execution_millis": 631,
    "execution_start": 1709886691006,
    "source_hash": null
   },
   "outputs": [
    {
     "data": {
      "application/vnd.deepnote.dataframe.v3+json": {
       "column_count": 13,
       "columns": [
        {
         "dtype": "object",
         "name": "date",
         "stats": {
          "categories": [
           {
            "count": 1,
            "name": "14 Feb-2024"
           },
           {
            "count": 1,
            "name": "04-Feb-2024"
           },
           {
            "count": 3,
            "name": "3 others"
           }
          ],
          "nan_count": 0,
          "unique_count": 5
         }
        },
        {
         "dtype": "float64",
         "name": "year",
         "stats": {
          "histogram": [
           {
            "bin_end": 2023.6,
            "bin_start": 2023.5,
            "count": 0
           },
           {
            "bin_end": 2023.7,
            "bin_start": 2023.6,
            "count": 0
           },
           {
            "bin_end": 2023.8,
            "bin_start": 2023.7,
            "count": 0
           },
           {
            "bin_end": 2023.9,
            "bin_start": 2023.8,
            "count": 0
           },
           {
            "bin_end": 2024,
            "bin_start": 2023.9,
            "count": 0
           },
           {
            "bin_end": 2024.1,
            "bin_start": 2024,
            "count": 5
           },
           {
            "bin_end": 2024.2,
            "bin_start": 2024.1,
            "count": 0
           },
           {
            "bin_end": 2024.3,
            "bin_start": 2024.2,
            "count": 0
           },
           {
            "bin_end": 2024.4,
            "bin_start": 2024.3,
            "count": 0
           },
           {
            "bin_end": 2024.5,
            "bin_start": 2024.4,
            "count": 0
           }
          ],
          "max": "2024.0",
          "min": "2024.0",
          "nan_count": 0,
          "unique_count": 1
         }
        },
        {
         "dtype": "object",
         "name": "time",
         "stats": {
          "categories": [
           {
            "count": 1,
            "name": "06h30"
           },
           {
            "count": 3,
            "name": "3 others"
           },
           {
            "count": 1,
            "name": "Missing"
           }
          ],
          "nan_count": 1,
          "unique_count": 4
         }
        },
        {
         "dtype": "object",
         "name": "country",
         "stats": {
          "categories": [
           {
            "count": 2,
            "name": "AUSTRALIA"
           },
           {
            "count": 1,
            "name": "INDIA"
           },
           {
            "count": 2,
            "name": "2 others"
           }
          ],
          "nan_count": 0,
          "unique_count": 4
         }
        },
        {
         "dtype": "object",
         "name": "state",
         "stats": {
          "categories": [
           {
            "count": 1,
            "name": "Maharashtra"
           },
           {
            "count": 3,
            "name": "3 others"
           },
           {
            "count": 1,
            "name": "Missing"
           }
          ],
          "nan_count": 1,
          "unique_count": 4
         }
        },
        {
         "dtype": "object",
         "name": "location",
         "stats": {
          "categories": [
           {
            "count": 1,
            "name": "Vaitarna River, Palghar District"
           },
           {
            "count": 3,
            "name": "3 others"
           },
           {
            "count": 1,
            "name": "Missing"
           }
          ],
          "nan_count": 1,
          "unique_count": 4
         }
        },
        {
         "dtype": "object",
         "name": "name",
         "stats": {
          "categories": [
           {
            "count": 2,
            "name": "male"
           },
           {
            "count": 1,
            "name": "Vicky Suresh Govari"
           },
           {
            "count": 2,
            "name": "2 others"
           }
          ],
          "nan_count": 0,
          "unique_count": 4
         }
        },
        {
         "dtype": "object",
         "name": "sex",
         "stats": {
          "categories": [
           {
            "count": 4,
            "name": "M"
           },
           {
            "count": 1,
            "name": "F"
           }
          ],
          "nan_count": 0,
          "unique_count": 2
         }
        },
        {
         "dtype": "object",
         "name": "type",
         "stats": {
          "categories": [
           {
            "count": 4,
            "name": "Unprovoked"
           },
           {
            "count": 1,
            "name": " Provoked"
           }
          ],
          "nan_count": 0,
          "unique_count": 2
         }
        },
        {
         "dtype": "object",
         "name": "activity",
         "stats": {
          "categories": [
           {
            "count": 2,
            "name": "Swimming"
           },
           {
            "count": 1,
            "name": "Fishing"
           },
           {
            "count": 2,
            "name": "2 others"
           }
          ],
          "nan_count": 0,
          "unique_count": 4
         }
        },
        {
         "dtype": "object",
         "name": "injury",
         "stats": {
          "categories": [
           {
            "count": 1,
            "name": "Calf of lower left leg injured"
           },
           {
            "count": 1,
            "name": "Shoulder bitten"
           },
           {
            "count": 3,
            "name": "3 others"
           }
          ],
          "nan_count": 0,
          "unique_count": 5
         }
        },
        {
         "dtype": "object",
         "name": "fatality",
         "stats": {
          "categories": [
           {
            "count": 5,
            "name": "N"
           }
          ],
          "nan_count": 0,
          "unique_count": 1
         }
        },
        {
         "dtype": "object",
         "name": "species",
         "stats": {
          "categories": [
           {
            "count": 1,
            "name": "Bull shark, 7'"
           },
           {
            "count": 3,
            "name": "3 others"
           },
           {
            "count": 1,
            "name": "Missing"
           }
          ],
          "nan_count": 1,
          "unique_count": 4
         }
        },
        {
         "dtype": "int64",
         "name": "_deepnote_index_column"
        }
       ],
       "row_count": 5,
       "rows": [
        {
         "_deepnote_index_column": 0,
         "activity": "Fishing",
         "country": "INDIA",
         "date": "14 Feb-2024",
         "fatality": "N",
         "injury": "Calf of lower left leg injured",
         "location": "Vaitarna River, Palghar District",
         "name": "Vicky Suresh Govari",
         "sex": "M",
         "species": "Bull shark, 7'",
         "state": "Maharashtra",
         "time": "nan",
         "type": "Unprovoked",
         "year": 2024
        },
        {
         "_deepnote_index_column": 1,
         "activity": "Spearfishing",
         "country": "TRINIDAD",
         "date": "04-Feb-2024",
         "fatality": "N",
         "injury": "Shoulder bitten",
         "location": "nan",
         "name": "male",
         "sex": "M",
         "species": "Blacktip reef shark",
         "state": "nan",
         "time": "06h30",
         "type": " Provoked",
         "year": 2024
        },
        {
         "_deepnote_index_column": 2,
         "activity": "Swimming",
         "country": "AUSTRALIA",
         "date": "29 Jan-2024",
         "fatality": "N",
         "injury": "Right leg bitten",
         "location": "Elizabeth Bay, Sydney Harbor",
         "name": "Lauren O'Neill",
         "sex": "F",
         "species": "Bull shark",
         "state": "New  South Wales",
         "time": "20h00",
         "type": "Unprovoked",
         "year": 2024
        },
        {
         "_deepnote_index_column": 3,
         "activity": "Swimming",
         "country": "BAHAMAS",
         "date": "15 Jan-2024",
         "fatality": "N",
         "injury": "Right leg injured ",
         "location": "Paradise Island Resort",
         "name": "male",
         "sex": "M",
         "species": "nan",
         "state": "Paradise Island",
         "time": "16h00",
         "type": "Unprovoked",
         "year": 2024
        },
        {
         "_deepnote_index_column": 4,
         "activity": "Surfing",
         "country": "AUSTRALIA",
         "date": "09-Jan-2024",
         "fatality": "N",
         "injury": "Leg bitten",
         "location": "Walkers Beach, Elliston",
         "name": "Murray Adams",
         "sex": "M",
         "species": "White shark",
         "state": "South Australia",
         "time": "13h00",
         "type": "Unprovoked",
         "year": 2024
        }
       ]
      },
      "text/html": [
       "<div>\n",
       "<style scoped>\n",
       "    .dataframe tbody tr th:only-of-type {\n",
       "        vertical-align: middle;\n",
       "    }\n",
       "\n",
       "    .dataframe tbody tr th {\n",
       "        vertical-align: top;\n",
       "    }\n",
       "\n",
       "    .dataframe thead th {\n",
       "        text-align: right;\n",
       "    }\n",
       "</style>\n",
       "<table border=\"1\" class=\"dataframe\">\n",
       "  <thead>\n",
       "    <tr style=\"text-align: right;\">\n",
       "      <th></th>\n",
       "      <th>date</th>\n",
       "      <th>year</th>\n",
       "      <th>time</th>\n",
       "      <th>country</th>\n",
       "      <th>state</th>\n",
       "      <th>location</th>\n",
       "      <th>name</th>\n",
       "      <th>sex</th>\n",
       "      <th>type</th>\n",
       "      <th>activity</th>\n",
       "      <th>injury</th>\n",
       "      <th>fatality</th>\n",
       "      <th>species</th>\n",
       "    </tr>\n",
       "  </thead>\n",
       "  <tbody>\n",
       "    <tr>\n",
       "      <th>0</th>\n",
       "      <td>14 Feb-2024</td>\n",
       "      <td>2024.0</td>\n",
       "      <td>NaN</td>\n",
       "      <td>INDIA</td>\n",
       "      <td>Maharashtra</td>\n",
       "      <td>Vaitarna River, Palghar District</td>\n",
       "      <td>Vicky Suresh Govari</td>\n",
       "      <td>M</td>\n",
       "      <td>Unprovoked</td>\n",
       "      <td>Fishing</td>\n",
       "      <td>Calf of lower left leg injured</td>\n",
       "      <td>N</td>\n",
       "      <td>Bull shark, 7'</td>\n",
       "    </tr>\n",
       "    <tr>\n",
       "      <th>1</th>\n",
       "      <td>04-Feb-2024</td>\n",
       "      <td>2024.0</td>\n",
       "      <td>06h30</td>\n",
       "      <td>TRINIDAD</td>\n",
       "      <td>NaN</td>\n",
       "      <td>NaN</td>\n",
       "      <td>male</td>\n",
       "      <td>M</td>\n",
       "      <td>Provoked</td>\n",
       "      <td>Spearfishing</td>\n",
       "      <td>Shoulder bitten</td>\n",
       "      <td>N</td>\n",
       "      <td>Blacktip reef shark</td>\n",
       "    </tr>\n",
       "    <tr>\n",
       "      <th>2</th>\n",
       "      <td>29 Jan-2024</td>\n",
       "      <td>2024.0</td>\n",
       "      <td>20h00</td>\n",
       "      <td>AUSTRALIA</td>\n",
       "      <td>New  South Wales</td>\n",
       "      <td>Elizabeth Bay, Sydney Harbor</td>\n",
       "      <td>Lauren O'Neill</td>\n",
       "      <td>F</td>\n",
       "      <td>Unprovoked</td>\n",
       "      <td>Swimming</td>\n",
       "      <td>Right leg bitten</td>\n",
       "      <td>N</td>\n",
       "      <td>Bull shark</td>\n",
       "    </tr>\n",
       "    <tr>\n",
       "      <th>3</th>\n",
       "      <td>15 Jan-2024</td>\n",
       "      <td>2024.0</td>\n",
       "      <td>16h00</td>\n",
       "      <td>BAHAMAS</td>\n",
       "      <td>Paradise Island</td>\n",
       "      <td>Paradise Island Resort</td>\n",
       "      <td>male</td>\n",
       "      <td>M</td>\n",
       "      <td>Unprovoked</td>\n",
       "      <td>Swimming</td>\n",
       "      <td>Right leg injured</td>\n",
       "      <td>N</td>\n",
       "      <td>NaN</td>\n",
       "    </tr>\n",
       "    <tr>\n",
       "      <th>4</th>\n",
       "      <td>09-Jan-2024</td>\n",
       "      <td>2024.0</td>\n",
       "      <td>13h00</td>\n",
       "      <td>AUSTRALIA</td>\n",
       "      <td>South Australia</td>\n",
       "      <td>Walkers Beach, Elliston</td>\n",
       "      <td>Murray Adams</td>\n",
       "      <td>M</td>\n",
       "      <td>Unprovoked</td>\n",
       "      <td>Surfing</td>\n",
       "      <td>Leg bitten</td>\n",
       "      <td>N</td>\n",
       "      <td>White shark</td>\n",
       "    </tr>\n",
       "  </tbody>\n",
       "</table>\n",
       "</div>"
      ],
      "text/plain": [
       "          date    year   time    country             state  \\\n",
       "0  14 Feb-2024  2024.0    NaN      INDIA       Maharashtra   \n",
       "1  04-Feb-2024  2024.0  06h30   TRINIDAD               NaN   \n",
       "2  29 Jan-2024  2024.0  20h00  AUSTRALIA  New  South Wales   \n",
       "3  15 Jan-2024  2024.0  16h00    BAHAMAS   Paradise Island   \n",
       "4  09-Jan-2024  2024.0  13h00  AUSTRALIA   South Australia   \n",
       "\n",
       "                           location                 name sex        type  \\\n",
       "0  Vaitarna River, Palghar District  Vicky Suresh Govari   M  Unprovoked   \n",
       "1                               NaN                 male   M    Provoked   \n",
       "2      Elizabeth Bay, Sydney Harbor       Lauren O'Neill   F  Unprovoked   \n",
       "3            Paradise Island Resort                 male   M  Unprovoked   \n",
       "4           Walkers Beach, Elliston         Murray Adams   M  Unprovoked   \n",
       "\n",
       "       activity                          injury fatality              species  \n",
       "0       Fishing  Calf of lower left leg injured        N       Bull shark, 7'  \n",
       "1  Spearfishing                 Shoulder bitten        N  Blacktip reef shark  \n",
       "2      Swimming                Right leg bitten        N           Bull shark  \n",
       "3      Swimming              Right leg injured         N                  NaN  \n",
       "4       Surfing                      Leg bitten        N          White shark  "
      ]
     },
     "execution_count": 17,
     "metadata": {},
     "output_type": "execute_result"
    }
   ],
   "source": [
    "df2 = shark.copy()\n",
    "df2.head()"
   ]
  },
  {
   "cell_type": "markdown",
   "metadata": {
    "cell_id": "ba85207a19e14f73ae1cdc286b9cca2c",
    "deepnote_cell_type": "text-cell-p",
    "formattedRanges": []
   },
   "source": [
    "Now, in case of trouble we can start from df2 :-) !"
   ]
  },
  {
   "cell_type": "markdown",
   "metadata": {
    "cell_id": "e66eee7ca8fc4dfe979f651e948d7d18",
    "deepnote_cell_type": "text-cell-h1",
    "formattedRanges": []
   },
   "source": [
    "# Cleaning of the dataset - Focus on the columns"
   ]
  },
  {
   "cell_type": "markdown",
   "metadata": {
    "cell_id": "3632d41fc3ac44d4a9fffc6290fe0c7f",
    "deepnote_cell_type": "text-cell-h2",
    "formattedRanges": []
   },
   "source": [
    "## General overview - before starting"
   ]
  },
  {
   "cell_type": "code",
   "execution_count": null,
   "metadata": {
    "cell_id": "fd9f6d3fa4be42cabe5a102f9cb8ff71",
    "deepnote_cell_type": "code",
    "deepnote_table_invalid": false,
    "deepnote_table_loading": false,
    "deepnote_table_state": {
     "filters": [
      {
       "id": "date",
       "type": "contains",
       "value": ""
      }
     ],
     "pageIndex": 0,
     "pageSize": 10,
     "sortBy": []
    },
    "deepnote_to_be_reexecuted": false,
    "execution_millis": 1066,
    "execution_start": 1709886691071,
    "source_hash": null
   },
   "outputs": [
    {
     "data": {
      "application/vnd.deepnote.dataframe.v3+json": {
       "column_count": 13,
       "columns": [
        {
         "dtype": "object",
         "name": "date",
         "stats": {
          "categories": [
           {
            "count": 11,
            "name": "1957"
           },
           {
            "count": 9,
            "name": "1942"
           },
           {
            "count": 6920,
            "name": "5967 others"
           }
          ],
          "nan_count": 0,
          "unique_count": 5999
         }
        },
        {
         "dtype": "float64",
         "name": "year",
         "stats": {
          "histogram": [
           {
            "bin_end": 202.4,
            "bin_start": 0,
            "count": 131
           },
           {
            "bin_end": 404.8,
            "bin_start": 202.4,
            "count": 0
           },
           {
            "bin_end": 607.2,
            "bin_start": 404.8,
            "count": 0
           },
           {
            "bin_end": 809.6,
            "bin_start": 607.2,
            "count": 0
           },
           {
            "bin_end": 1012,
            "bin_start": 809.6,
            "count": 1
           },
           {
            "bin_end": 1214.4,
            "bin_start": 1012,
            "count": 0
           },
           {
            "bin_end": 1416.8,
            "bin_start": 1214.4,
            "count": 0
           },
           {
            "bin_end": 1619.2,
            "bin_start": 1416.8,
            "count": 8
           },
           {
            "bin_end": 1821.6000000000001,
            "bin_start": 1619.2,
            "count": 59
           },
           {
            "bin_end": 2024,
            "bin_start": 1821.6000000000001,
            "count": 6739
           }
          ],
          "max": "2024.0",
          "min": "0.0",
          "nan_count": 2,
          "unique_count": 259
         }
        },
        {
         "dtype": "object",
         "name": "time",
         "stats": {
          "categories": [
           {
            "count": 215,
            "name": "Afternoon"
           },
           {
            "count": 3200,
            "name": "409 others"
           },
           {
            "count": 3525,
            "name": "Missing"
           }
          ],
          "nan_count": 3525,
          "unique_count": 410
         }
        },
        {
         "dtype": "object",
         "name": "country",
         "stats": {
          "categories": [
           {
            "count": 2536,
            "name": "USA"
           },
           {
            "count": 4354,
            "name": "224 others"
           },
           {
            "count": 50,
            "name": "Missing"
           }
          ],
          "nan_count": 50,
          "unique_count": 225
         }
        },
        {
         "dtype": "object",
         "name": "state",
         "stats": {
          "categories": [
           {
            "count": 1178,
            "name": "Florida"
           },
           {
            "count": 5280,
            "name": "901 others"
           },
           {
            "count": 482,
            "name": "Missing"
           }
          ],
          "nan_count": 482,
          "unique_count": 902
         }
        },
        {
         "dtype": "object",
         "name": "location",
         "stats": {
          "categories": [
           {
            "count": 191,
            "name": "New Smyrna Beach, Volusia County"
           },
           {
            "count": 6184,
            "name": "4509 others"
           },
           {
            "count": 565,
            "name": "Missing"
           }
          ],
          "nan_count": 565,
          "unique_count": 4510
         }
        },
        {
         "dtype": "object",
         "name": "name",
         "stats": {
          "categories": [
           {
            "count": 680,
            "name": "male"
           },
           {
            "count": 6041,
            "name": "5680 others"
           },
           {
            "count": 219,
            "name": "Missing"
           }
          ],
          "nan_count": 219,
          "unique_count": 5681
         }
        },
        {
         "dtype": "object",
         "name": "sex",
         "stats": {
          "categories": [
           {
            "count": 5577,
            "name": "M"
           },
           {
            "count": 784,
            "name": "7 others"
           },
           {
            "count": 579,
            "name": "Missing"
           }
          ],
          "nan_count": 579,
          "unique_count": 8
         }
        },
        {
         "dtype": "object",
         "name": "type",
         "stats": {
          "categories": [
           {
            "count": 5103,
            "name": "Unprovoked"
           },
           {
            "count": 1819,
            "name": "11 others"
           },
           {
            "count": 18,
            "name": "Missing"
           }
          ],
          "nan_count": 18,
          "unique_count": 12
         }
        },
        {
         "dtype": "object",
         "name": "activity",
         "stats": {
          "categories": [
           {
            "count": 1120,
            "name": "Surfing"
           },
           {
            "count": 5235,
            "name": "1586 others"
           },
           {
            "count": 585,
            "name": "Missing"
           }
          ],
          "nan_count": 585,
          "unique_count": 1587
         }
        },
        {
         "dtype": "object",
         "name": "injury",
         "stats": {
          "categories": [
           {
            "count": 863,
            "name": "FATAL"
           },
           {
            "count": 6042,
            "name": "4077 others"
           },
           {
            "count": 35,
            "name": "Missing"
           }
          ],
          "nan_count": 35,
          "unique_count": 4078
         }
        },
        {
         "dtype": "object",
         "name": "fatality",
         "stats": {
          "categories": [
           {
            "count": 4829,
            "name": "N"
           },
           {
            "count": 1550,
            "name": "11 others"
           },
           {
            "count": 561,
            "name": "Missing"
           }
          ],
          "nan_count": 561,
          "unique_count": 12
         }
        },
        {
         "dtype": "object",
         "name": "species",
         "stats": {
          "categories": [
           {
            "count": 194,
            "name": "White shark"
           },
           {
            "count": 3614,
            "name": "1673 others"
           },
           {
            "count": 3132,
            "name": "Missing"
           }
          ],
          "nan_count": 3132,
          "unique_count": 1674
         }
        },
        {
         "dtype": "int64",
         "name": "_deepnote_index_column"
        }
       ],
       "row_count": 6940,
       "rows": [
        {
         "_deepnote_index_column": 0,
         "activity": "Fishing",
         "country": "INDIA",
         "date": "14 Feb-2024",
         "fatality": "N",
         "injury": "Calf of lower left leg injured",
         "location": "Vaitarna River, Palghar District",
         "name": "Vicky Suresh Govari",
         "sex": "M",
         "species": "Bull shark, 7'",
         "state": "Maharashtra",
         "time": "nan",
         "type": "Unprovoked",
         "year": 2024
        },
        {
         "_deepnote_index_column": 1,
         "activity": "Spearfishing",
         "country": "TRINIDAD",
         "date": "04-Feb-2024",
         "fatality": "N",
         "injury": "Shoulder bitten",
         "location": "nan",
         "name": "male",
         "sex": "M",
         "species": "Blacktip reef shark",
         "state": "nan",
         "time": "06h30",
         "type": " Provoked",
         "year": 2024
        },
        {
         "_deepnote_index_column": 2,
         "activity": "Swimming",
         "country": "AUSTRALIA",
         "date": "29 Jan-2024",
         "fatality": "N",
         "injury": "Right leg bitten",
         "location": "Elizabeth Bay, Sydney Harbor",
         "name": "Lauren O'Neill",
         "sex": "F",
         "species": "Bull shark",
         "state": "New  South Wales",
         "time": "20h00",
         "type": "Unprovoked",
         "year": 2024
        },
        {
         "_deepnote_index_column": 3,
         "activity": "Swimming",
         "country": "BAHAMAS",
         "date": "15 Jan-2024",
         "fatality": "N",
         "injury": "Right leg injured ",
         "location": "Paradise Island Resort",
         "name": "male",
         "sex": "M",
         "species": "nan",
         "state": "Paradise Island",
         "time": "16h00",
         "type": "Unprovoked",
         "year": 2024
        },
        {
         "_deepnote_index_column": 4,
         "activity": "Surfing",
         "country": "AUSTRALIA",
         "date": "09-Jan-2024",
         "fatality": "N",
         "injury": "Leg bitten",
         "location": "Walkers Beach, Elliston",
         "name": "Murray Adams",
         "sex": "M",
         "species": "White shark",
         "state": "South Australia",
         "time": "13h00",
         "type": "Unprovoked",
         "year": 2024
        },
        {
         "_deepnote_index_column": 5,
         "activity": "Fishing",
         "country": "SOUTH AFRICA",
         "date": "05-Jan-2024",
         "fatality": "N",
         "injury": "Provoked incident. Lacerations and puncture wounds to hand and calf from hooked shark ",
         "location": "Papiesfontein",
         "name": "male",
         "sex": "M",
         "species": "Raggedtooth shark",
         "state": "Eastern Cape Province",
         "time": "nan",
         "type": "Provoked",
         "year": 2024
        },
        {
         "_deepnote_index_column": 6,
         "activity": "Surfing",
         "country": "USA",
         "date": "30 Dec-2023",
         "fatality": "Y",
         "injury": "FATAL",
         "location": "Baby Beach, Maui",
         "name": "Jason Carter",
         "sex": "M",
         "species": "nan",
         "state": "Hawaii",
         "time": "11h12",
         "type": "Unprovoked",
         "year": 2023
        },
        {
         "_deepnote_index_column": 7,
         "activity": "Free diving",
         "country": "MEXICO",
         "date": "29 Dec-2023",
         "fatality": "Y",
         "injury": "FATAL",
         "location": "Tojahui Beach, Yavaros, Huatabampo",
         "name": "Víctor Alejandro “N”",
         "sex": "M",
         "species": "White shark",
         "state": "Sonora",
         "time": "13h00",
         "type": "Unprovoked",
         "year": 2023
        },
        {
         "_deepnote_index_column": 8,
         "activity": "Surfing",
         "country": "AUSTRALIA",
         "date": "28 Dec-2023",
         "fatality": "Y",
         "injury": "FATAL",
         "location": "Ethel Beach",
         "name": "Khai Cowley",
         "sex": "M",
         "species": "White shark, 13'",
         "state": "South Australia",
         "time": "13h30",
         "type": "Unprovoked",
         "year": 2023
        },
        {
         "_deepnote_index_column": 9,
         "activity": "Surfing",
         "country": "AUSTRALIA",
         "date": "25 Dec-2023",
         "fatality": "N",
         "injury": "Injury to right thigh",
         "location": "Old Bar",
         "name": "Julian McLennan",
         "sex": "M",
         "species": "nan",
         "state": "New South Wales",
         "time": "16h30",
         "type": "Unprovoked",
         "year": 2023
        }
       ]
      },
      "text/html": [
       "<div>\n",
       "<style scoped>\n",
       "    .dataframe tbody tr th:only-of-type {\n",
       "        vertical-align: middle;\n",
       "    }\n",
       "\n",
       "    .dataframe tbody tr th {\n",
       "        vertical-align: top;\n",
       "    }\n",
       "\n",
       "    .dataframe thead th {\n",
       "        text-align: right;\n",
       "    }\n",
       "</style>\n",
       "<table border=\"1\" class=\"dataframe\">\n",
       "  <thead>\n",
       "    <tr style=\"text-align: right;\">\n",
       "      <th></th>\n",
       "      <th>date</th>\n",
       "      <th>year</th>\n",
       "      <th>time</th>\n",
       "      <th>country</th>\n",
       "      <th>state</th>\n",
       "      <th>location</th>\n",
       "      <th>name</th>\n",
       "      <th>sex</th>\n",
       "      <th>type</th>\n",
       "      <th>activity</th>\n",
       "      <th>injury</th>\n",
       "      <th>fatality</th>\n",
       "      <th>species</th>\n",
       "    </tr>\n",
       "  </thead>\n",
       "  <tbody>\n",
       "    <tr>\n",
       "      <th>0</th>\n",
       "      <td>14 Feb-2024</td>\n",
       "      <td>2024.0</td>\n",
       "      <td>NaN</td>\n",
       "      <td>INDIA</td>\n",
       "      <td>Maharashtra</td>\n",
       "      <td>Vaitarna River, Palghar District</td>\n",
       "      <td>Vicky Suresh Govari</td>\n",
       "      <td>M</td>\n",
       "      <td>Unprovoked</td>\n",
       "      <td>Fishing</td>\n",
       "      <td>Calf of lower left leg injured</td>\n",
       "      <td>N</td>\n",
       "      <td>Bull shark, 7'</td>\n",
       "    </tr>\n",
       "    <tr>\n",
       "      <th>1</th>\n",
       "      <td>04-Feb-2024</td>\n",
       "      <td>2024.0</td>\n",
       "      <td>06h30</td>\n",
       "      <td>TRINIDAD</td>\n",
       "      <td>NaN</td>\n",
       "      <td>NaN</td>\n",
       "      <td>male</td>\n",
       "      <td>M</td>\n",
       "      <td>Provoked</td>\n",
       "      <td>Spearfishing</td>\n",
       "      <td>Shoulder bitten</td>\n",
       "      <td>N</td>\n",
       "      <td>Blacktip reef shark</td>\n",
       "    </tr>\n",
       "    <tr>\n",
       "      <th>2</th>\n",
       "      <td>29 Jan-2024</td>\n",
       "      <td>2024.0</td>\n",
       "      <td>20h00</td>\n",
       "      <td>AUSTRALIA</td>\n",
       "      <td>New  South Wales</td>\n",
       "      <td>Elizabeth Bay, Sydney Harbor</td>\n",
       "      <td>Lauren O'Neill</td>\n",
       "      <td>F</td>\n",
       "      <td>Unprovoked</td>\n",
       "      <td>Swimming</td>\n",
       "      <td>Right leg bitten</td>\n",
       "      <td>N</td>\n",
       "      <td>Bull shark</td>\n",
       "    </tr>\n",
       "    <tr>\n",
       "      <th>3</th>\n",
       "      <td>15 Jan-2024</td>\n",
       "      <td>2024.0</td>\n",
       "      <td>16h00</td>\n",
       "      <td>BAHAMAS</td>\n",
       "      <td>Paradise Island</td>\n",
       "      <td>Paradise Island Resort</td>\n",
       "      <td>male</td>\n",
       "      <td>M</td>\n",
       "      <td>Unprovoked</td>\n",
       "      <td>Swimming</td>\n",
       "      <td>Right leg injured</td>\n",
       "      <td>N</td>\n",
       "      <td>NaN</td>\n",
       "    </tr>\n",
       "    <tr>\n",
       "      <th>4</th>\n",
       "      <td>09-Jan-2024</td>\n",
       "      <td>2024.0</td>\n",
       "      <td>13h00</td>\n",
       "      <td>AUSTRALIA</td>\n",
       "      <td>South Australia</td>\n",
       "      <td>Walkers Beach, Elliston</td>\n",
       "      <td>Murray Adams</td>\n",
       "      <td>M</td>\n",
       "      <td>Unprovoked</td>\n",
       "      <td>Surfing</td>\n",
       "      <td>Leg bitten</td>\n",
       "      <td>N</td>\n",
       "      <td>White shark</td>\n",
       "    </tr>\n",
       "    <tr>\n",
       "      <th>...</th>\n",
       "      <td>...</td>\n",
       "      <td>...</td>\n",
       "      <td>...</td>\n",
       "      <td>...</td>\n",
       "      <td>...</td>\n",
       "      <td>...</td>\n",
       "      <td>...</td>\n",
       "      <td>...</td>\n",
       "      <td>...</td>\n",
       "      <td>...</td>\n",
       "      <td>...</td>\n",
       "      <td>...</td>\n",
       "      <td>...</td>\n",
       "    </tr>\n",
       "    <tr>\n",
       "      <th>6935</th>\n",
       "      <td>Before 1903</td>\n",
       "      <td>0.0</td>\n",
       "      <td>NaN</td>\n",
       "      <td>AUSTRALIA</td>\n",
       "      <td>Western Australia</td>\n",
       "      <td>Roebuck Bay</td>\n",
       "      <td>male</td>\n",
       "      <td>M</td>\n",
       "      <td>Unprovoked</td>\n",
       "      <td>Diving</td>\n",
       "      <td>FATAL</td>\n",
       "      <td>Y</td>\n",
       "      <td>NaN</td>\n",
       "    </tr>\n",
       "    <tr>\n",
       "      <th>6936</th>\n",
       "      <td>Before 1903</td>\n",
       "      <td>0.0</td>\n",
       "      <td>NaN</td>\n",
       "      <td>AUSTRALIA</td>\n",
       "      <td>Western Australia</td>\n",
       "      <td>NaN</td>\n",
       "      <td>Ahmun</td>\n",
       "      <td>M</td>\n",
       "      <td>Unprovoked</td>\n",
       "      <td>Pearl diving</td>\n",
       "      <td>FATAL</td>\n",
       "      <td>Y</td>\n",
       "      <td>NaN</td>\n",
       "    </tr>\n",
       "    <tr>\n",
       "      <th>6937</th>\n",
       "      <td>1900-1905</td>\n",
       "      <td>0.0</td>\n",
       "      <td>NaN</td>\n",
       "      <td>USA</td>\n",
       "      <td>North Carolina</td>\n",
       "      <td>Ocracoke Inlet</td>\n",
       "      <td>Coast Guard personnel</td>\n",
       "      <td>M</td>\n",
       "      <td>Unprovoked</td>\n",
       "      <td>Swimming</td>\n",
       "      <td>FATAL</td>\n",
       "      <td>Y</td>\n",
       "      <td>NaN</td>\n",
       "    </tr>\n",
       "    <tr>\n",
       "      <th>6938</th>\n",
       "      <td>1883-1889</td>\n",
       "      <td>0.0</td>\n",
       "      <td>NaN</td>\n",
       "      <td>PANAMA</td>\n",
       "      <td>NaN</td>\n",
       "      <td>Panama Bay 8ºN, 79ºW</td>\n",
       "      <td>Jules Patterson</td>\n",
       "      <td>M</td>\n",
       "      <td>Unprovoked</td>\n",
       "      <td>NaN</td>\n",
       "      <td>FATAL</td>\n",
       "      <td>Y</td>\n",
       "      <td>NaN</td>\n",
       "    </tr>\n",
       "    <tr>\n",
       "      <th>6939</th>\n",
       "      <td>1845-1853</td>\n",
       "      <td>0.0</td>\n",
       "      <td>NaN</td>\n",
       "      <td>CEYLON (SRI LANKA)</td>\n",
       "      <td>Eastern Province</td>\n",
       "      <td>Below the English fort, Trincomalee</td>\n",
       "      <td>male</td>\n",
       "      <td>M</td>\n",
       "      <td>Unprovoked</td>\n",
       "      <td>Swimming</td>\n",
       "      <td>FATAL. \"Shark bit him in half, carrying away t...</td>\n",
       "      <td>Y</td>\n",
       "      <td>NaN</td>\n",
       "    </tr>\n",
       "  </tbody>\n",
       "</table>\n",
       "<p>6940 rows × 13 columns</p>\n",
       "</div>"
      ],
      "text/plain": [
       "             date    year   time             country              state  \\\n",
       "0     14 Feb-2024  2024.0    NaN               INDIA        Maharashtra   \n",
       "1     04-Feb-2024  2024.0  06h30            TRINIDAD                NaN   \n",
       "2     29 Jan-2024  2024.0  20h00           AUSTRALIA   New  South Wales   \n",
       "3     15 Jan-2024  2024.0  16h00             BAHAMAS    Paradise Island   \n",
       "4     09-Jan-2024  2024.0  13h00           AUSTRALIA    South Australia   \n",
       "...           ...     ...    ...                 ...                ...   \n",
       "6935  Before 1903     0.0    NaN           AUSTRALIA  Western Australia   \n",
       "6936  Before 1903     0.0    NaN           AUSTRALIA  Western Australia   \n",
       "6937    1900-1905     0.0    NaN                 USA     North Carolina   \n",
       "6938    1883-1889     0.0    NaN              PANAMA                NaN   \n",
       "6939    1845-1853     0.0    NaN  CEYLON (SRI LANKA)   Eastern Province   \n",
       "\n",
       "                                 location                   name sex  \\\n",
       "0        Vaitarna River, Palghar District    Vicky Suresh Govari   M   \n",
       "1                                     NaN                   male   M   \n",
       "2            Elizabeth Bay, Sydney Harbor         Lauren O'Neill   F   \n",
       "3                  Paradise Island Resort                   male   M   \n",
       "4                 Walkers Beach, Elliston           Murray Adams   M   \n",
       "...                                   ...                    ...  ..   \n",
       "6935                          Roebuck Bay                   male   M   \n",
       "6936                                  NaN                  Ahmun   M   \n",
       "6937                       Ocracoke Inlet  Coast Guard personnel   M   \n",
       "6938                 Panama Bay 8ºN, 79ºW        Jules Patterson   M   \n",
       "6939  Below the English fort, Trincomalee                   male   M   \n",
       "\n",
       "            type      activity  \\\n",
       "0     Unprovoked       Fishing   \n",
       "1       Provoked  Spearfishing   \n",
       "2     Unprovoked      Swimming   \n",
       "3     Unprovoked      Swimming   \n",
       "4     Unprovoked       Surfing   \n",
       "...          ...           ...   \n",
       "6935  Unprovoked        Diving   \n",
       "6936  Unprovoked  Pearl diving   \n",
       "6937  Unprovoked      Swimming   \n",
       "6938  Unprovoked           NaN   \n",
       "6939  Unprovoked      Swimming   \n",
       "\n",
       "                                                 injury fatality  \\\n",
       "0                        Calf of lower left leg injured        N   \n",
       "1                                       Shoulder bitten        N   \n",
       "2                                      Right leg bitten        N   \n",
       "3                                    Right leg injured         N   \n",
       "4                                            Leg bitten        N   \n",
       "...                                                 ...      ...   \n",
       "6935                                              FATAL        Y   \n",
       "6936                                              FATAL        Y   \n",
       "6937                                              FATAL        Y   \n",
       "6938                                              FATAL        Y   \n",
       "6939  FATAL. \"Shark bit him in half, carrying away t...        Y   \n",
       "\n",
       "                  species  \n",
       "0          Bull shark, 7'  \n",
       "1     Blacktip reef shark  \n",
       "2              Bull shark  \n",
       "3                     NaN  \n",
       "4             White shark  \n",
       "...                   ...  \n",
       "6935                  NaN  \n",
       "6936                  NaN  \n",
       "6937                  NaN  \n",
       "6938                  NaN  \n",
       "6939                  NaN  \n",
       "\n",
       "[6940 rows x 13 columns]"
      ]
     },
     "metadata": {},
     "output_type": "display_data"
    }
   ],
   "source": [
    "# Let's have a global overview of our current dataframe so we know exactly what we want to do for our columns:\n",
    "\n",
    "display(shark)"
   ]
  },
  {
   "cell_type": "markdown",
   "metadata": {
    "cell_id": "efad4ac30a274cefbfa28b59346a25de",
    "deepnote_cell_type": "text-cell-p",
    "formattedRanges": []
   },
   "source": []
  },
  {
   "cell_type": "markdown",
   "metadata": {
    "cell_id": "38fb1b4893474a5f871be17dae7d9463",
    "deepnote_cell_type": "text-cell-p",
    "formattedRanges": []
   },
   "source": [
    "Idéee général : pour une ou certaines colonnes sur lesquelles nous voulons orienter notre étude, on veut dégager les lignes du DF sur lesquelles leurss valeurs sont Nan (None /Null/ empty) '''"
   ]
  },
  {
   "cell_type": "markdown",
   "metadata": {
    "cell_id": "83176600529840509bc7b90b176ec3ed",
    "deepnote_cell_type": "text-cell-h2",
    "formattedRanges": []
   },
   "source": [
    "## Cleaning of \"Activity\""
   ]
  },
  {
   "cell_type": "markdown",
   "metadata": {
    "cell_id": "0f2ea4e5a9664b91844effe7647c8f03",
    "deepnote_cell_type": "text-cell-p",
    "formattedRanges": [
     {
      "fromCodePoint": 0,
      "marks": {
       "bold": true
      },
      "toCodePoint": 5,
      "type": "marks"
     }
    ]
   },
   "source": [
    "Goals: "
   ]
  },
  {
   "cell_type": "markdown",
   "metadata": {
    "cell_id": "2a5586f06ef240e9b29453f88838887a",
    "deepnote_cell_type": "text-cell-bullet",
    "formattedRanges": []
   },
   "source": [
    "- Keeping only the the rows for which the activity values are --> surfing, fishing, swimming, diving or snorkeling"
   ]
  },
  {
   "cell_type": "markdown",
   "metadata": {
    "cell_id": "fa7a7475a9be42508791abc5afdd136e",
    "deepnote_cell_type": "text-cell-bullet",
    "formattedRanges": []
   },
   "source": [
    "- Create a specific new column \" Main activity\"  (categorizing) that associate the values to one of the above activity value"
   ]
  },
  {
   "cell_type": "markdown",
   "metadata": {
    "cell_id": "f19d99084ed94b66aeb3eb1653a1d87d",
    "deepnote_cell_type": "text-cell-bullet",
    "formattedRanges": []
   },
   "source": [
    "- For the other values not checking surf, fish, swim etc.. --> return them to 'not defined'"
   ]
  },
  {
   "cell_type": "code",
   "execution_count": null,
   "metadata": {
    "cell_id": "2fbb098e9ad84f8b8afbadba2ec2b2ec",
    "deepnote_cell_type": "code",
    "deepnote_to_be_reexecuted": false,
    "execution_millis": 974,
    "execution_start": 1709886691164,
    "source_hash": null
   },
   "outputs": [],
   "source": [
    "def activity_type (string):\n",
    "    \n",
    "    activities = ['surf','fishing', 'swimming', 'diving', 'snorkeling']\n",
    "    \n",
    "    if isinstance(string, str):\n",
    "        for activity in activities:\n",
    "            if activity in string.lower():\n",
    "                return activity\n",
    "            else:\n",
    "                pass\n",
    "        return \"not_defined\"\n",
    "    \n",
    "    return None\n",
    "\n",
    "shark['main_activity'] = shark['activity'].apply(activity_type)"
   ]
  },
  {
   "cell_type": "markdown",
   "metadata": {
    "cell_id": "3a25df5c2ea64dd2962b20bd66a6be93",
    "deepnote_app_block_visible": false,
    "deepnote_cell_type": "text-cell-h3",
    "formattedRanges": [],
    "is_collapsed": false
   },
   "source": [
    "### Personal test  to correct - don't pay attention"
   ]
  },
  {
   "cell_type": "code",
   "execution_count": null,
   "metadata": {
    "cell_id": "7d154170dfee4872997eea5cb9823cd3",
    "deepnote_cell_type": "code",
    "deepnote_to_be_reexecuted": false,
    "execution_millis": 967,
    "execution_start": 1709886691173,
    "source_hash": null
   },
   "outputs": [],
   "source": [
    "# # Assuming your DataFrame is named shark_test\n",
    "# # First step: Normalize the 'Activity' column\n",
    "\n",
    "# shark_test = shark.copy()\n",
    "\n",
    "# # check values inside\n",
    "# print(shark_test['activity'].value_counts)\n",
    "\n",
    "\n",
    "# #first step: normalize the values\n",
    "# shark_test['activity'] = shark_test['activity'].str.strip().str.lower()\n",
    "\n",
    "# # Second step: Create the 'activity_segment' column\n",
    "# def categorize_activity(activity):\n",
    "#     if activity.str.contains('fish'):\n",
    "#         return 'fishing'\n",
    "#     elif activity.str.contains('dive'):\n",
    "#         return 'diving'\n",
    "#     elif activity.str.contains('swim'):\n",
    "#         return 'swimming'\n",
    "#     elif activity.str.contains('snork'):\n",
    "#         return 'snorkeling'\n",
    "#     else:\n",
    "#         return 'other'\n",
    "\n",
    "# shark_test['activity_segment'] = shark_test['activity'].apply(categorize_activity)\n",
    "\n",
    "\n",
    "# # check after what happens:\n",
    "# print(shark_test['activity_segment'].value_counts)\n",
    "\n",
    "# # Display the updated DataFrame\n",
    "# print(shark_test[['activity', 'activity_segment']].head())"
   ]
  },
  {
   "cell_type": "markdown",
   "metadata": {
    "cell_id": "5cc82835984441f9ab65de9c9003ef72",
    "deepnote_cell_type": "text-cell-h2",
    "formattedRanges": []
   },
   "source": [
    "## Cleaning of 'Year'"
   ]
  },
  {
   "cell_type": "markdown",
   "metadata": {
    "cell_id": "c9845e587f6b40c2abb052290a11009e",
    "deepnote_cell_type": "text-cell-p",
    "formattedRanges": [
     {
      "fromCodePoint": 0,
      "marks": {
       "bold": true
      },
      "toCodePoint": 4,
      "type": "marks"
     }
    ]
   },
   "source": [
    "Goal: keeping only columns from the 1950's to nowadays"
   ]
  },
  {
   "cell_type": "code",
   "execution_count": null,
   "metadata": {
    "cell_id": "d96e37f59269455680e7f88274ec1fb4",
    "deepnote_cell_type": "code",
    "deepnote_to_be_reexecuted": false,
    "execution_millis": 288,
    "execution_start": 1709886878689,
    "source_hash": null
   },
   "outputs": [
    {
     "data": {
      "application/vnd.deepnote.dataframe.v3+json": {
       "column_count": 18,
       "columns": [
        {
         "dtype": "object",
         "name": "date",
         "stats": {
          "categories": [
           {
            "count": 1,
            "name": "14 Feb-2024"
           },
           {
            "count": 1,
            "name": "04-Feb-2024"
           },
           {
            "count": 3,
            "name": "3 others"
           }
          ],
          "nan_count": 0,
          "unique_count": 5
         }
        },
        {
         "dtype": "object",
         "name": "year",
         "stats": {
          "categories": [
           {
            "count": 5,
            "name": "2024.0"
           }
          ],
          "nan_count": 0,
          "unique_count": 1
         }
        },
        {
         "dtype": "object",
         "name": "time",
         "stats": {
          "categories": [
           {
            "count": 1,
            "name": "06h30"
           },
           {
            "count": 3,
            "name": "3 others"
           },
           {
            "count": 1,
            "name": "Missing"
           }
          ],
          "nan_count": 1,
          "unique_count": 4
         }
        },
        {
         "dtype": "object",
         "name": "country",
         "stats": {
          "categories": [
           {
            "count": 2,
            "name": "AUSTRALIA"
           },
           {
            "count": 1,
            "name": "INDIA"
           },
           {
            "count": 2,
            "name": "2 others"
           }
          ],
          "nan_count": 0,
          "unique_count": 4
         }
        },
        {
         "dtype": "object",
         "name": "state",
         "stats": {
          "categories": [
           {
            "count": 1,
            "name": "Maharashtra"
           },
           {
            "count": 3,
            "name": "3 others"
           },
           {
            "count": 1,
            "name": "Missing"
           }
          ],
          "nan_count": 1,
          "unique_count": 4
         }
        },
        {
         "dtype": "object",
         "name": "location",
         "stats": {
          "categories": [
           {
            "count": 1,
            "name": "Vaitarna River, Palghar District"
           },
           {
            "count": 3,
            "name": "3 others"
           },
           {
            "count": 1,
            "name": "Missing"
           }
          ],
          "nan_count": 1,
          "unique_count": 4
         }
        },
        {
         "dtype": "object",
         "name": "name",
         "stats": {
          "categories": [
           {
            "count": 2,
            "name": "male"
           },
           {
            "count": 1,
            "name": "Vicky Suresh Govari"
           },
           {
            "count": 2,
            "name": "2 others"
           }
          ],
          "nan_count": 0,
          "unique_count": 4
         }
        },
        {
         "dtype": "object",
         "name": "sex",
         "stats": {
          "categories": [
           {
            "count": 4,
            "name": "M"
           },
           {
            "count": 1,
            "name": "F"
           }
          ],
          "nan_count": 0,
          "unique_count": 2
         }
        },
        {
         "dtype": "object",
         "name": "type",
         "stats": {
          "categories": [
           {
            "count": 4,
            "name": "unprovoked"
           },
           {
            "count": 1,
            "name": "provoked"
           }
          ],
          "nan_count": 0,
          "unique_count": 2
         }
        },
        {
         "dtype": "object",
         "name": "activity",
         "stats": {
          "categories": [
           {
            "count": 2,
            "name": "Swimming"
           },
           {
            "count": 1,
            "name": "Fishing"
           },
           {
            "count": 2,
            "name": "2 others"
           }
          ],
          "nan_count": 0,
          "unique_count": 4
         }
        },
        {
         "dtype": "object",
         "name": "injury",
         "stats": {
          "categories": [
           {
            "count": 1,
            "name": "Calf of lower left leg injured"
           },
           {
            "count": 1,
            "name": "Shoulder bitten"
           },
           {
            "count": 3,
            "name": "3 others"
           }
          ],
          "nan_count": 0,
          "unique_count": 5
         }
        },
        {
         "dtype": "object",
         "name": "fatality",
         "stats": {
          "categories": [
           {
            "count": 5,
            "name": "n"
           }
          ],
          "nan_count": 0,
          "unique_count": 1
         }
        },
        {
         "dtype": "object",
         "name": "species",
         "stats": {
          "categories": [
           {
            "count": 1,
            "name": "Bull shark, 7'"
           },
           {
            "count": 3,
            "name": "3 others"
           },
           {
            "count": 1,
            "name": "Missing"
           }
          ],
          "nan_count": 1,
          "unique_count": 4
         }
        },
        {
         "dtype": "object",
         "name": "main_activity",
         "stats": {
          "categories": [
           {
            "count": 2,
            "name": "fishing"
           },
           {
            "count": 2,
            "name": "swimming"
           },
           {
            "count": 1,
            "name": "surf"
           }
          ],
          "nan_count": 0,
          "unique_count": 3
         }
        },
        {
         "dtype": "float64",
         "name": "year_fixed",
         "stats": {
          "histogram": [
           {
            "bin_end": 2023.6,
            "bin_start": 2023.5,
            "count": 0
           },
           {
            "bin_end": 2023.7,
            "bin_start": 2023.6,
            "count": 0
           },
           {
            "bin_end": 2023.8,
            "bin_start": 2023.7,
            "count": 0
           },
           {
            "bin_end": 2023.9,
            "bin_start": 2023.8,
            "count": 0
           },
           {
            "bin_end": 2024,
            "bin_start": 2023.9,
            "count": 0
           },
           {
            "bin_end": 2024.1,
            "bin_start": 2024,
            "count": 5
           },
           {
            "bin_end": 2024.2,
            "bin_start": 2024.1,
            "count": 0
           },
           {
            "bin_end": 2024.3,
            "bin_start": 2024.2,
            "count": 0
           },
           {
            "bin_end": 2024.4,
            "bin_start": 2024.3,
            "count": 0
           },
           {
            "bin_end": 2024.5,
            "bin_start": 2024.4,
            "count": 0
           }
          ],
          "max": "2024.0",
          "min": "2024.0",
          "nan_count": 0,
          "unique_count": 1
         }
        },
        {
         "dtype": "object",
         "name": "shark_group",
         "stats": {
          "categories": [
           {
            "count": 2,
            "name": "bull"
           },
           {
            "count": 2,
            "name": "2 others"
           },
           {
            "count": 1,
            "name": "Missing"
           }
          ],
          "nan_count": 1,
          "unique_count": 3
         }
        },
        {
         "dtype": "object",
         "name": "new_country",
         "stats": {
          "categories": [
           {
            "count": 2,
            "name": "Not used"
           },
           {
            "count": 2,
            "name": "AUSTRALIA"
           },
           {
            "count": 1,
            "name": "BAHAMAS"
           }
          ],
          "nan_count": 0,
          "unique_count": 3
         }
        },
        {
         "dtype": "Int64",
         "name": "decade",
         "stats": {
          "categories": [
           {
            "count": 5,
            "name": "2020"
           }
          ],
          "nan_count": 0,
          "unique_count": 1
         }
        },
        {
         "dtype": "int64",
         "name": "_deepnote_index_column"
        }
       ],
       "row_count": 5,
       "rows": [
        {
         "_deepnote_index_column": 0,
         "activity": "Fishing",
         "country": "INDIA",
         "date": "14 Feb-2024",
         "decade": "2020",
         "fatality": "n",
         "injury": "Calf of lower left leg injured",
         "location": "Vaitarna River, Palghar District",
         "main_activity": "fishing",
         "name": "Vicky Suresh Govari",
         "new_country": "Not used",
         "sex": "M",
         "shark_group": "bull",
         "species": "Bull shark, 7'",
         "state": "Maharashtra",
         "time": "nan",
         "type": "unprovoked",
         "year": "2024.0",
         "year_fixed": 2024
        },
        {
         "_deepnote_index_column": 1,
         "activity": "Spearfishing",
         "country": "TRINIDAD",
         "date": "04-Feb-2024",
         "decade": "2020",
         "fatality": "n",
         "injury": "Shoulder bitten",
         "location": "nan",
         "main_activity": "fishing",
         "name": "male",
         "new_country": "Not used",
         "sex": "M",
         "shark_group": "black",
         "species": "Blacktip reef shark",
         "state": "nan",
         "time": "06h30",
         "type": "provoked",
         "year": "2024.0",
         "year_fixed": 2024
        },
        {
         "_deepnote_index_column": 2,
         "activity": "Swimming",
         "country": "AUSTRALIA",
         "date": "29 Jan-2024",
         "decade": "2020",
         "fatality": "n",
         "injury": "Right leg bitten",
         "location": "Elizabeth Bay, Sydney Harbor",
         "main_activity": "swimming",
         "name": "Lauren O'Neill",
         "new_country": "AUSTRALIA",
         "sex": "F",
         "shark_group": "bull",
         "species": "Bull shark",
         "state": "New  South Wales",
         "time": "20h00",
         "type": "unprovoked",
         "year": "2024.0",
         "year_fixed": 2024
        },
        {
         "_deepnote_index_column": 3,
         "activity": "Swimming",
         "country": "BAHAMAS",
         "date": "15 Jan-2024",
         "decade": "2020",
         "fatality": "n",
         "injury": "Right leg injured ",
         "location": "Paradise Island Resort",
         "main_activity": "swimming",
         "name": "male",
         "new_country": "BAHAMAS",
         "sex": "M",
         "shark_group": "None",
         "species": "nan",
         "state": "Paradise Island",
         "time": "16h00",
         "type": "unprovoked",
         "year": "2024.0",
         "year_fixed": 2024
        },
        {
         "_deepnote_index_column": 4,
         "activity": "Surfing",
         "country": "AUSTRALIA",
         "date": "09-Jan-2024",
         "decade": "2020",
         "fatality": "n",
         "injury": "Leg bitten",
         "location": "Walkers Beach, Elliston",
         "main_activity": "surf",
         "name": "Murray Adams",
         "new_country": "AUSTRALIA",
         "sex": "M",
         "shark_group": "white",
         "species": "White shark",
         "state": "South Australia",
         "time": "13h00",
         "type": "unprovoked",
         "year": "2024.0",
         "year_fixed": 2024
        }
       ]
      },
      "text/html": [
       "<div>\n",
       "<style scoped>\n",
       "    .dataframe tbody tr th:only-of-type {\n",
       "        vertical-align: middle;\n",
       "    }\n",
       "\n",
       "    .dataframe tbody tr th {\n",
       "        vertical-align: top;\n",
       "    }\n",
       "\n",
       "    .dataframe thead th {\n",
       "        text-align: right;\n",
       "    }\n",
       "</style>\n",
       "<table border=\"1\" class=\"dataframe\">\n",
       "  <thead>\n",
       "    <tr style=\"text-align: right;\">\n",
       "      <th></th>\n",
       "      <th>date</th>\n",
       "      <th>year</th>\n",
       "      <th>time</th>\n",
       "      <th>country</th>\n",
       "      <th>state</th>\n",
       "      <th>location</th>\n",
       "      <th>name</th>\n",
       "      <th>sex</th>\n",
       "      <th>type</th>\n",
       "      <th>activity</th>\n",
       "      <th>injury</th>\n",
       "      <th>fatality</th>\n",
       "      <th>species</th>\n",
       "      <th>main_activity</th>\n",
       "      <th>year_fixed</th>\n",
       "      <th>shark_group</th>\n",
       "      <th>new_country</th>\n",
       "      <th>decade</th>\n",
       "    </tr>\n",
       "  </thead>\n",
       "  <tbody>\n",
       "    <tr>\n",
       "      <th>0</th>\n",
       "      <td>14 Feb-2024</td>\n",
       "      <td>2024.0</td>\n",
       "      <td>NaN</td>\n",
       "      <td>INDIA</td>\n",
       "      <td>Maharashtra</td>\n",
       "      <td>Vaitarna River, Palghar District</td>\n",
       "      <td>Vicky Suresh Govari</td>\n",
       "      <td>M</td>\n",
       "      <td>unprovoked</td>\n",
       "      <td>Fishing</td>\n",
       "      <td>Calf of lower left leg injured</td>\n",
       "      <td>n</td>\n",
       "      <td>Bull shark, 7'</td>\n",
       "      <td>fishing</td>\n",
       "      <td>2024.0</td>\n",
       "      <td>bull</td>\n",
       "      <td>Not used</td>\n",
       "      <td>2020</td>\n",
       "    </tr>\n",
       "    <tr>\n",
       "      <th>1</th>\n",
       "      <td>04-Feb-2024</td>\n",
       "      <td>2024.0</td>\n",
       "      <td>06h30</td>\n",
       "      <td>TRINIDAD</td>\n",
       "      <td>NaN</td>\n",
       "      <td>NaN</td>\n",
       "      <td>male</td>\n",
       "      <td>M</td>\n",
       "      <td>provoked</td>\n",
       "      <td>Spearfishing</td>\n",
       "      <td>Shoulder bitten</td>\n",
       "      <td>n</td>\n",
       "      <td>Blacktip reef shark</td>\n",
       "      <td>fishing</td>\n",
       "      <td>2024.0</td>\n",
       "      <td>black</td>\n",
       "      <td>Not used</td>\n",
       "      <td>2020</td>\n",
       "    </tr>\n",
       "    <tr>\n",
       "      <th>2</th>\n",
       "      <td>29 Jan-2024</td>\n",
       "      <td>2024.0</td>\n",
       "      <td>20h00</td>\n",
       "      <td>AUSTRALIA</td>\n",
       "      <td>New  South Wales</td>\n",
       "      <td>Elizabeth Bay, Sydney Harbor</td>\n",
       "      <td>Lauren O'Neill</td>\n",
       "      <td>F</td>\n",
       "      <td>unprovoked</td>\n",
       "      <td>Swimming</td>\n",
       "      <td>Right leg bitten</td>\n",
       "      <td>n</td>\n",
       "      <td>Bull shark</td>\n",
       "      <td>swimming</td>\n",
       "      <td>2024.0</td>\n",
       "      <td>bull</td>\n",
       "      <td>AUSTRALIA</td>\n",
       "      <td>2020</td>\n",
       "    </tr>\n",
       "    <tr>\n",
       "      <th>3</th>\n",
       "      <td>15 Jan-2024</td>\n",
       "      <td>2024.0</td>\n",
       "      <td>16h00</td>\n",
       "      <td>BAHAMAS</td>\n",
       "      <td>Paradise Island</td>\n",
       "      <td>Paradise Island Resort</td>\n",
       "      <td>male</td>\n",
       "      <td>M</td>\n",
       "      <td>unprovoked</td>\n",
       "      <td>Swimming</td>\n",
       "      <td>Right leg injured</td>\n",
       "      <td>n</td>\n",
       "      <td>NaN</td>\n",
       "      <td>swimming</td>\n",
       "      <td>2024.0</td>\n",
       "      <td>None</td>\n",
       "      <td>BAHAMAS</td>\n",
       "      <td>2020</td>\n",
       "    </tr>\n",
       "    <tr>\n",
       "      <th>4</th>\n",
       "      <td>09-Jan-2024</td>\n",
       "      <td>2024.0</td>\n",
       "      <td>13h00</td>\n",
       "      <td>AUSTRALIA</td>\n",
       "      <td>South Australia</td>\n",
       "      <td>Walkers Beach, Elliston</td>\n",
       "      <td>Murray Adams</td>\n",
       "      <td>M</td>\n",
       "      <td>unprovoked</td>\n",
       "      <td>Surfing</td>\n",
       "      <td>Leg bitten</td>\n",
       "      <td>n</td>\n",
       "      <td>White shark</td>\n",
       "      <td>surf</td>\n",
       "      <td>2024.0</td>\n",
       "      <td>white</td>\n",
       "      <td>AUSTRALIA</td>\n",
       "      <td>2020</td>\n",
       "    </tr>\n",
       "  </tbody>\n",
       "</table>\n",
       "</div>"
      ],
      "text/plain": [
       "          date    year   time    country             state  \\\n",
       "0  14 Feb-2024  2024.0    NaN      INDIA       Maharashtra   \n",
       "1  04-Feb-2024  2024.0  06h30   TRINIDAD               NaN   \n",
       "2  29 Jan-2024  2024.0  20h00  AUSTRALIA  New  South Wales   \n",
       "3  15 Jan-2024  2024.0  16h00    BAHAMAS   Paradise Island   \n",
       "4  09-Jan-2024  2024.0  13h00  AUSTRALIA   South Australia   \n",
       "\n",
       "                           location                 name sex        type  \\\n",
       "0  Vaitarna River, Palghar District  Vicky Suresh Govari   M  unprovoked   \n",
       "1                               NaN                 male   M    provoked   \n",
       "2      Elizabeth Bay, Sydney Harbor       Lauren O'Neill   F  unprovoked   \n",
       "3            Paradise Island Resort                 male   M  unprovoked   \n",
       "4           Walkers Beach, Elliston         Murray Adams   M  unprovoked   \n",
       "\n",
       "       activity                          injury fatality              species  \\\n",
       "0       Fishing  Calf of lower left leg injured        n       Bull shark, 7'   \n",
       "1  Spearfishing                 Shoulder bitten        n  Blacktip reef shark   \n",
       "2      Swimming                Right leg bitten        n           Bull shark   \n",
       "3      Swimming              Right leg injured         n                  NaN   \n",
       "4       Surfing                      Leg bitten        n          White shark   \n",
       "\n",
       "  main_activity  year_fixed shark_group new_country  decade  \n",
       "0       fishing      2024.0        bull    Not used    2020  \n",
       "1       fishing      2024.0       black    Not used    2020  \n",
       "2      swimming      2024.0        bull   AUSTRALIA    2020  \n",
       "3      swimming      2024.0        None     BAHAMAS    2020  \n",
       "4          surf      2024.0       white   AUSTRALIA    2020  "
      ]
     },
     "metadata": {},
     "output_type": "display_data"
    },
    {
     "name": "stdout",
     "output_type": "stream",
     "text": [
      "\n",
      "\n"
     ]
    },
    {
     "data": {
      "text/plain": [
       "dtype('O')"
      ]
     },
     "execution_count": 38,
     "metadata": {},
     "output_type": "execute_result"
    }
   ],
   "source": [
    "# Let's first have a view of our df + a quick view of the 'Year' type\n",
    "\n",
    "#Df view\n",
    "display(shark.head())\n",
    "breakline()\n",
    "\n",
    "# Year type:\n",
    "shark['year'].dtypes"
   ]
  },
  {
   "cell_type": "code",
   "execution_count": null,
   "metadata": {
    "cell_id": "0c079effdf3e445f96ac9c16d8f2eb92",
    "deepnote_cell_type": "code",
    "deepnote_to_be_reexecuted": false,
    "execution_millis": 949,
    "execution_start": 1709886691193,
    "source_hash": null
   },
   "outputs": [
    {
     "data": {
      "text/plain": [
       "array([2024., 2023., 2022., 2021., 2020., 2019., 2018., 2017.,   nan,\n",
       "       2016., 2015., 2014., 2013., 2012., 2011., 2010., 2009., 2008.,\n",
       "       2007., 2006., 2005., 2004., 2003., 2002., 2001., 2000., 1999.,\n",
       "       1998., 1997., 1996., 1995., 1984., 1994., 1993., 1992., 1991.,\n",
       "       1990., 1989., 1969., 1988., 1987., 1986., 1985., 1983., 1982.,\n",
       "       1981., 1980., 1979., 1978., 1977., 1976., 1975., 1974., 1973.,\n",
       "       1972., 1971., 1970., 1968., 1967., 1966., 1965., 1964., 1963.,\n",
       "       1962., 1961., 1960., 1959., 1958., 1957., 1956., 1955., 1954.,\n",
       "       1953., 1952., 1951., 1950.])"
      ]
     },
     "execution_count": 22,
     "metadata": {},
     "output_type": "execute_result"
    }
   ],
   "source": [
    "# Assuming 'shark' DataFrame is already defined\n",
    "\n",
    "# Convert 'year' column to string\n",
    "shark['year'] = shark['year'].astype(str)\n",
    "\n",
    "# Convert 'year' column to integers, coerce invalid values to NaN\n",
    "shark['year_fixed'] = pd.to_numeric(shark['year'], errors='coerce')\n",
    "\n",
    "def clean_date(year):\n",
    "    if pd.isna(year):\n",
    "        return None\n",
    "    elif year > 1949:\n",
    "        return year\n",
    "    else:\n",
    "        return None\n",
    "\n",
    "# Apply clean_date function to 'year_fixed' column\n",
    "shark['year_fixed'] = shark['year_fixed'].apply(clean_date)\n",
    "\n",
    "shark.year_fixed.unique()\n",
    "\n"
   ]
  },
  {
   "cell_type": "markdown",
   "metadata": {
    "cell_id": "7417c22c2eb34377b992db27249e12bd",
    "deepnote_cell_type": "text-cell-h2",
    "formattedRanges": []
   },
   "source": [
    "## Cleaning of \"Fatality\""
   ]
  },
  {
   "cell_type": "markdown",
   "metadata": {
    "cell_id": "bbce2c35e02646d2911618dab215a4ae",
    "deepnote_cell_type": "text-cell-p",
    "formattedRanges": []
   },
   "source": [
    "Expliquer ce qu'on veut faire"
   ]
  },
  {
   "cell_type": "code",
   "execution_count": null,
   "metadata": {
    "cell_id": "717d4301b097486c8a93160483bf70c2",
    "deepnote_cell_type": "code",
    "deepnote_to_be_reexecuted": false,
    "execution_millis": 870,
    "execution_start": 1709886691272,
    "source_hash": null
   },
   "outputs": [
    {
     "name": "stdout",
     "output_type": "stream",
     "text": [
      "fatality values before the cleaning\n",
      "fatality\n",
      "N          4829\n",
      "Y          1460\n",
      "UNKNOWN      71\n",
      " N            7\n",
      "M             3\n",
      "F             3\n",
      "n             1\n",
      "Nq            1\n",
      "2017          1\n",
      "Y x 2         1\n",
      "N             1\n",
      "y             1\n",
      "Name: count, dtype: int64\n",
      "\n",
      "\n",
      "fatality values after the cleaning\n",
      "fatality\n",
      "n          4527\n",
      "y          1351\n",
      "unknown      36\n",
      "Name: count, dtype: int64\n"
     ]
    }
   ],
   "source": [
    "# Before cleaning, let's observe the different values inside the fatality column before cleaning:\n",
    "print(\"fatality values before the cleaning\")\n",
    "print(shark.fatality.value_counts())\n",
    "breakline()\n",
    "\n",
    "\n",
    "#[CLEANING PHASE] !\n",
    "# 1. Create a function to \"normalize\" the values\n",
    "# 1bis --> for values not being y, n or unknow, they go 'NaN'\n",
    "def clean_fatality(string):\n",
    "    if pd.isna(string):\n",
    "        return None\n",
    "    string = str(string).strip().lower()\n",
    "    if string == 'y' or string == 'n' or string == 'unknown':\n",
    "        pass\n",
    "    else:\n",
    "        string = None\n",
    "    return string\n",
    "\n",
    "# 2. We apply the function to 'fatality' column (Serie):\n",
    "shark.fatality = shark.fatality.apply(clean_fatality)\n",
    "\n",
    "# Dropping the lines with no value for 'activity':\n",
    "shark = shark.dropna(subset=['activity'])\n",
    "\n",
    "# Now, let's see the difference after the cleaning:\n",
    "print(\"fatality values after the cleaning\")\n",
    "print(shark.fatality.value_counts())"
   ]
  },
  {
   "cell_type": "markdown",
   "metadata": {
    "cell_id": "07149d7037b644e2bcafcbcde8e825d1",
    "deepnote_cell_type": "text-cell-p",
    "formattedRanges": []
   },
   "source": [
    "As we can observe, it worked ! We now only have either 'y', 'n', or 'unknown' as values"
   ]
  },
  {
   "cell_type": "markdown",
   "metadata": {
    "cell_id": "3d79f0ee71dd459db955deccbcfb309a",
    "deepnote_cell_type": "text-cell-h2",
    "formattedRanges": []
   },
   "source": [
    "## Cleaning of \"Type\""
   ]
  },
  {
   "cell_type": "markdown",
   "metadata": {
    "cell_id": "f668e378651a4e40937c370430ae4194",
    "deepnote_cell_type": "text-cell-p",
    "formattedRanges": []
   },
   "source": [
    "To clean the 'Type' column, we want to keep only the values being \"provoked\" or \"unprovoked\"."
   ]
  },
  {
   "cell_type": "markdown",
   "metadata": {
    "cell_id": "b5f7b823aba54ca4859b5c8c6a9c6363",
    "deepnote_cell_type": "text-cell-p",
    "formattedRanges": []
   },
   "source": [
    "To reach such a goal, we'll first drop the 'NaN' values of the column / Serie (if the cell is empty) + \"normalize\" the format"
   ]
  },
  {
   "cell_type": "code",
   "execution_count": null,
   "metadata": {
    "cell_id": "f7e51afc29b74ad2b0e0b3266d7e2e0e",
    "deepnote_cell_type": "code",
    "deepnote_to_be_reexecuted": false,
    "execution_millis": 845,
    "execution_start": 1709886691298,
    "source_hash": null
   },
   "outputs": [
    {
     "name": "stdout",
     "output_type": "stream",
     "text": [
      "values of 'type' column before cleaning: \n",
      "type\n",
      "Unprovoked             4744\n",
      "Provoked                597\n",
      "Invalid                 430\n",
      "Watercraft              311\n",
      "Sea Disaster            230\n",
      "Questionable             17\n",
      "Boat                      6\n",
      " Provoked                 2\n",
      "?                         1\n",
      "Unconfirmed               1\n",
      "Unverified                1\n",
      "Under investigation       1\n",
      "Name: count, dtype: int64\n",
      "\n",
      "\n",
      "values of type column after cleaning: \n",
      "type\n",
      "unprovoked    4744\n",
      "provoked       599\n",
      "Name: count, dtype: int64\n"
     ]
    }
   ],
   "source": [
    "#Before starting the cleaning, let's check the different values inside the 'Type' column:\n",
    "print(\"values of 'type' column before cleaning: \")\n",
    "print(shark.type.value_counts())\n",
    "breakline()\n",
    "\n",
    "# CLEANING\n",
    "# 1. Let's apply our clean through a function:\n",
    "def clean_type(string):\n",
    "    if pd.isna(string):\n",
    "        return None\n",
    "    string = string.strip().lower()\n",
    "    if string == 'unprovoked' or string == 'provoked' or string == 'unknown':\n",
    "        pass\n",
    "    else:\n",
    "        string = None\n",
    "    return string\n",
    "\n",
    "#2. Now, we want to apply the cleaning function to the Type column:\n",
    "shark.type = shark.type.apply(clean_type)\n",
    "\n",
    "\n",
    "# And now, let's check if the cleaning worked as we wanted\n",
    "print(\"values of type column after cleaning: \")\n",
    "print(shark.type.value_counts()) "
   ]
  },
  {
   "cell_type": "markdown",
   "metadata": {
    "cell_id": "46c3aa42515a4388917aa4dda9c8769e",
    "deepnote_cell_type": "text-cell-h2",
    "formattedRanges": []
   },
   "source": [
    "## Cleaning of 'Sex'"
   ]
  },
  {
   "cell_type": "markdown",
   "metadata": {
    "cell_id": "c2bbbf79d32642889212934cffd98adf",
    "deepnote_cell_type": "text-cell-p",
    "formattedRanges": []
   },
   "source": [
    "Ici on va ne conserver que les valeurs 'M' ou 'F'"
   ]
  },
  {
   "cell_type": "code",
   "execution_count": null,
   "metadata": {
    "cell_id": "cee4a408b04f42a0815e31fa94fcc94e",
    "deepnote_cell_type": "code",
    "deepnote_to_be_reexecuted": false,
    "execution_millis": 845,
    "execution_start": 1709886691299,
    "source_hash": null
   },
   "outputs": [
    {
     "name": "stdout",
     "output_type": "stream",
     "text": [
      "number of 'NaN'values before cleaning: \n",
      "425\n",
      "\n",
      "\n",
      "values inside 'sex'column before cleaning: \n",
      "['M' 'F' nan 'M ' 'lli' 'M x 2' 'N' '.']\n",
      "\n",
      "\n",
      "\n",
      "\n",
      "values inside 'sex'column after cleaning: \n",
      "['M' 'F' 'Unknown']\n",
      "\n",
      "\n",
      "number of 'NaN'values after cleaning: \n",
      "0\n",
      "\n",
      "\n"
     ]
    }
   ],
   "source": [
    "#Let's check how many 'NaN' we have into the 'Sex' column:\n",
    "print(\"number of 'NaN'values before cleaning: \")\n",
    "print(shark['sex'].isna().sum())\n",
    "breakline()\n",
    "\n",
    "#Let's observe the values before the cleaning:\n",
    "print(\"values inside 'sex'column before cleaning: \")\n",
    "print(shark['sex'].unique())\n",
    "breakline()\n",
    "\n",
    "# CLEANING:\n",
    "# 1. replacing values to Unknown\n",
    "shark.sex = shark.sex.str.strip().str.replace('M x 2','M').str.replace('lli','Unknown').str.replace('N','Unknown').str.replace('.','Unknown')\n",
    "# 2. Let's now drop the lines containg NaN values:\n",
    "shark.sex = shark['sex'].fillna(\"Unknown\")\n",
    "breakline()\n",
    "\n",
    "#after cleaning:\n",
    "print(\"values inside 'sex'column after cleaning: \")\n",
    "print(shark['sex'].unique())\n",
    "breakline()\n",
    "\n",
    "#Let's now check how many 'NaN' we have into the 'Sex' column:\n",
    "print(\"number of 'NaN'values after cleaning: \")\n",
    "print(shark['sex'].isna().sum())\n",
    "breakline()"
   ]
  },
  {
   "cell_type": "markdown",
   "metadata": {
    "cell_id": "58dfba70fcfa427e841bbb78813f60ca",
    "deepnote_cell_type": "text-cell-p",
    "formattedRanges": []
   },
   "source": [
    "Since we didn't delete any rows but just replaces their values, it's totally normal to have the same number of 'NaN' before and after the cleaning ;) "
   ]
  },
  {
   "cell_type": "markdown",
   "metadata": {
    "cell_id": "2859f5e590c54369b348fc95d911a352",
    "deepnote_cell_type": "text-cell-h2",
    "formattedRanges": []
   },
   "source": [
    "## Cleaning of 'Species'"
   ]
  },
  {
   "cell_type": "code",
   "execution_count": null,
   "metadata": {
    "cell_id": "2dbead7d39d845b5b279ddefb964f08d",
    "deepnote_cell_type": "code",
    "deepnote_to_be_reexecuted": false,
    "execution_millis": 818,
    "execution_start": 1709886691327,
    "source_hash": null
   },
   "outputs": [],
   "source": [
    "#Exploration perso: ne pas runner\n",
    "\n",
    "'''\n",
    "# to visualize the number of each species\n",
    "\n",
    "def species_draft(my_list):\n",
    "    num_species = []\n",
    "    for specie in my_list:\n",
    "        n = shark['species'].str.lower().str.contains(specie).value_counts()\n",
    "        print(f'there are {n[1]} occurences with {specie}')\n",
    "        num_species.append(n[1])\n",
    "    return num_species\n",
    "\n",
    "test_list= ['white', 'whitetip', 'tiger', 'bull', 'black', 'nurse', 'blue',  'hammer', 'bronze', 'mako', 'spinner', 'lemon', 'grey', 'gray','brown','galapagos']\n",
    "num_spec= species_draft(test_list)\n",
    "\n",
    "sum(num_spec)\n",
    "'''\n",
    "\n",
    "\n",
    "\n",
    "# To create Shark Groups\n",
    "def species_filter(string):\n",
    "    \n",
    "    species = ['whitetip','white', 'tiger', 'bull', 'black', 'nurse', 'blue',  'hammer', 'bronze', 'mako', 'spinner', 'lemon', 'grey', 'gray','brown','galapagos']\n",
    "    \n",
    "    if isinstance(string, str):\n",
    "        for specie in species:\n",
    "            if specie in string.lower():\n",
    "                return specie\n",
    "            else:\n",
    "                pass\n",
    "        return \"other_or_not_def\"\n",
    "    \n",
    "    return None\n",
    "shark['shark_group'] = shark['species'].apply(species_filter)"
   ]
  },
  {
   "cell_type": "markdown",
   "metadata": {
    "cell_id": "bee1cb312c4f4f4f8c19934c65c79a47",
    "deepnote_cell_type": "text-cell-h2",
    "formattedRanges": []
   },
   "source": [
    "## Cleaning of 'Country'"
   ]
  },
  {
   "cell_type": "code",
   "execution_count": null,
   "metadata": {
    "cell_id": "880a7611b1374571af72815f5f42c953",
    "deepnote_cell_type": "code",
    "deepnote_to_be_reexecuted": false,
    "execution_millis": 799,
    "execution_start": 1709886691347,
    "source_hash": null
   },
   "outputs": [],
   "source": [
    "#Vas-y Javier ;) \n",
    "# To clean countries\n",
    "def country_filter(string):\n",
    "    surf_countries = ['australia', 'usa', 'brazil','indonesia', 'portugal', 'south africa','france','new caledonia', 'costa rica', 'mexico', 'spain', 'fiji', 'new zealand', 'bahamas']\n",
    "        \n",
    "    if isinstance(string, str):\n",
    "        for country in surf_countries:\n",
    "            if country in string.lower():\n",
    "                return country.upper()\n",
    "            else:\n",
    "                pass\n",
    "        return \"Not used\"\n",
    "    \n",
    "    return None\n",
    "\n",
    "shark['new_country'] = shark['country'].apply(country_filter)"
   ]
  },
  {
   "cell_type": "code",
   "execution_count": null,
   "metadata": {
    "cell_id": "1d18b283f794486e90dcc6e1c344f46f",
    "deepnote_cell_type": "code",
    "deepnote_to_be_reexecuted": false,
    "execution_millis": 799,
    "execution_start": 1709886691348,
    "source_hash": null
   },
   "outputs": [
    {
     "data": {
      "application/vnd.deepnote.dataframe.v3+json": {
       "column_count": 17,
       "columns": [
        {
         "dtype": "object",
         "name": "date",
         "stats": {
          "categories": [
           {
            "count": 8,
            "name": "1957"
           },
           {
            "count": 7,
            "name": "1950"
           },
           {
            "count": 6340,
            "name": "5518 others"
           }
          ],
          "nan_count": 0,
          "unique_count": 5544
         }
        },
        {
         "dtype": "object",
         "name": "year",
         "stats": {
          "categories": [
           {
            "count": 137,
            "name": "2015.0"
           },
           {
            "count": 133,
            "name": "2017.0"
           },
           {
            "count": 6085,
            "name": "235 others"
           }
          ],
          "nan_count": 0,
          "unique_count": 237
         }
        },
        {
         "dtype": "object",
         "name": "time",
         "stats": {
          "categories": [
           {
            "count": 204,
            "name": "Afternoon"
           },
           {
            "count": 3124,
            "name": "403 others"
           },
           {
            "count": 3027,
            "name": "Missing"
           }
          ],
          "nan_count": 3027,
          "unique_count": 404
         }
        },
        {
         "dtype": "object",
         "name": "country",
         "stats": {
          "categories": [
           {
            "count": 2381,
            "name": "USA"
           },
           {
            "count": 3931,
            "name": "217 others"
           },
           {
            "count": 43,
            "name": "Missing"
           }
          ],
          "nan_count": 43,
          "unique_count": 218
         }
        },
        {
         "dtype": "object",
         "name": "state",
         "stats": {
          "categories": [
           {
            "count": 1103,
            "name": "Florida"
           },
           {
            "count": 4854,
            "name": "841 others"
           },
           {
            "count": 398,
            "name": "Missing"
           }
          ],
          "nan_count": 398,
          "unique_count": 842
         }
        },
        {
         "dtype": "object",
         "name": "location",
         "stats": {
          "categories": [
           {
            "count": 186,
            "name": "New Smyrna Beach, Volusia County"
           },
           {
            "count": 5696,
            "name": "4222 others"
           },
           {
            "count": 473,
            "name": "Missing"
           }
          ],
          "nan_count": 473,
          "unique_count": 4223
         }
        },
        {
         "dtype": "object",
         "name": "name",
         "stats": {
          "categories": [
           {
            "count": 586,
            "name": "male"
           },
           {
            "count": 5612,
            "name": "5326 others"
           },
           {
            "count": 157,
            "name": "Missing"
           }
          ],
          "nan_count": 157,
          "unique_count": 5327
         }
        },
        {
         "dtype": "object",
         "name": "sex",
         "stats": {
          "categories": [
           {
            "count": 5213,
            "name": "M"
           },
           {
            "count": 713,
            "name": "F"
           },
           {
            "count": 429,
            "name": "Unknown"
           }
          ],
          "nan_count": 0,
          "unique_count": 3
         }
        },
        {
         "dtype": "object",
         "name": "type",
         "stats": {
          "categories": [
           {
            "count": 4744,
            "name": "unprovoked"
           },
           {
            "count": 599,
            "name": "provoked"
           },
           {
            "count": 1012,
            "name": "Missing"
           }
          ],
          "nan_count": 1012,
          "unique_count": 2
         }
        },
        {
         "dtype": "object",
         "name": "activity",
         "stats": {
          "categories": [
           {
            "count": 1120,
            "name": "Surfing"
           },
           {
            "count": 974,
            "name": "Swimming"
           },
           {
            "count": 4261,
            "name": "1585 others"
           }
          ],
          "nan_count": 0,
          "unique_count": 1587
         }
        },
        {
         "dtype": "object",
         "name": "injury",
         "stats": {
          "categories": [
           {
            "count": 781,
            "name": "FATAL"
           },
           {
            "count": 5555,
            "name": "3799 others"
           },
           {
            "count": 19,
            "name": "Missing"
           }
          ],
          "nan_count": 19,
          "unique_count": 3800
         }
        },
        {
         "dtype": "object",
         "name": "fatality",
         "stats": {
          "categories": [
           {
            "count": 4527,
            "name": "n"
           },
           {
            "count": 1387,
            "name": "2 others"
           },
           {
            "count": 441,
            "name": "Missing"
           }
          ],
          "nan_count": 441,
          "unique_count": 3
         }
        },
        {
         "dtype": "object",
         "name": "species",
         "stats": {
          "categories": [
           {
            "count": 188,
            "name": "White shark"
           },
           {
            "count": 3378,
            "name": "1622 others"
           },
           {
            "count": 2789,
            "name": "Missing"
           }
          ],
          "nan_count": 2789,
          "unique_count": 1623
         }
        },
        {
         "dtype": "object",
         "name": "main_activity",
         "stats": {
          "categories": [
           {
            "count": 1785,
            "name": "not_defined"
           },
           {
            "count": 1432,
            "name": "surf"
           },
           {
            "count": 3138,
            "name": "4 others"
           }
          ],
          "nan_count": 0,
          "unique_count": 6
         }
        },
        {
         "dtype": "float64",
         "name": "year_fixed",
         "stats": {
          "histogram": [
           {
            "bin_end": 1957.4,
            "bin_start": 1950,
            "count": 287
           },
           {
            "bin_end": 1964.8,
            "bin_start": 1957.4,
            "count": 484
           },
           {
            "bin_end": 1972.2,
            "bin_start": 1964.8,
            "count": 295
           },
           {
            "bin_end": 1979.6,
            "bin_start": 1972.2,
            "count": 198
           },
           {
            "bin_end": 1987,
            "bin_start": 1979.6,
            "count": 270
           },
           {
            "bin_end": 1994.4,
            "bin_start": 1987,
            "count": 366
           },
           {
            "bin_end": 2001.8,
            "bin_start": 1994.4,
            "count": 478
           },
           {
            "bin_end": 2009.2,
            "bin_start": 2001.8,
            "count": 801
           },
           {
            "bin_end": 2016.6,
            "bin_start": 2009.2,
            "count": 829
           },
           {
            "bin_end": 2024,
            "bin_start": 2016.6,
            "count": 760
           }
          ],
          "max": "2024.0",
          "min": "1950.0",
          "nan_count": 1587,
          "unique_count": 75
         }
        },
        {
         "dtype": "object",
         "name": "shark_group"
        },
        {
         "dtype": "object",
         "name": "new_country"
        },
        {
         "dtype": "int64",
         "name": "_deepnote_index_column"
        }
       ],
       "row_count": 6355,
       "rows": [
        {
         "_deepnote_index_column": 0,
         "activity": "Fishing",
         "country": "INDIA",
         "date": "14 Feb-2024",
         "fatality": "n",
         "injury": "Calf of lower left leg injured",
         "location": "Vaitarna River, Palghar District",
         "main_activity": "fishing",
         "name": "Vicky Suresh Govari",
         "new_country": "Not used",
         "sex": "M",
         "shark_group": "bull",
         "species": "Bull shark, 7'",
         "state": "Maharashtra",
         "time": "nan",
         "type": "unprovoked",
         "year": "2024.0",
         "year_fixed": 2024
        },
        {
         "_deepnote_index_column": 1,
         "activity": "Spearfishing",
         "country": "TRINIDAD",
         "date": "04-Feb-2024",
         "fatality": "n",
         "injury": "Shoulder bitten",
         "location": "nan",
         "main_activity": "fishing",
         "name": "male",
         "new_country": "Not used",
         "sex": "M",
         "shark_group": "black",
         "species": "Blacktip reef shark",
         "state": "nan",
         "time": "06h30",
         "type": "provoked",
         "year": "2024.0",
         "year_fixed": 2024
        },
        {
         "_deepnote_index_column": 2,
         "activity": "Swimming",
         "country": "AUSTRALIA",
         "date": "29 Jan-2024",
         "fatality": "n",
         "injury": "Right leg bitten",
         "location": "Elizabeth Bay, Sydney Harbor",
         "main_activity": "swimming",
         "name": "Lauren O'Neill",
         "new_country": "AUSTRALIA",
         "sex": "F",
         "shark_group": "bull",
         "species": "Bull shark",
         "state": "New  South Wales",
         "time": "20h00",
         "type": "unprovoked",
         "year": "2024.0",
         "year_fixed": 2024
        },
        {
         "_deepnote_index_column": 3,
         "activity": "Swimming",
         "country": "BAHAMAS",
         "date": "15 Jan-2024",
         "fatality": "n",
         "injury": "Right leg injured ",
         "location": "Paradise Island Resort",
         "main_activity": "swimming",
         "name": "male",
         "new_country": "BAHAMAS",
         "sex": "M",
         "shark_group": "None",
         "species": "nan",
         "state": "Paradise Island",
         "time": "16h00",
         "type": "unprovoked",
         "year": "2024.0",
         "year_fixed": 2024
        },
        {
         "_deepnote_index_column": 4,
         "activity": "Surfing",
         "country": "AUSTRALIA",
         "date": "09-Jan-2024",
         "fatality": "n",
         "injury": "Leg bitten",
         "location": "Walkers Beach, Elliston",
         "main_activity": "surf",
         "name": "Murray Adams",
         "new_country": "AUSTRALIA",
         "sex": "M",
         "shark_group": "white",
         "species": "White shark",
         "state": "South Australia",
         "time": "13h00",
         "type": "unprovoked",
         "year": "2024.0",
         "year_fixed": 2024
        },
        {
         "_deepnote_index_column": 5,
         "activity": "Fishing",
         "country": "SOUTH AFRICA",
         "date": "05-Jan-2024",
         "fatality": "n",
         "injury": "Provoked incident. Lacerations and puncture wounds to hand and calf from hooked shark ",
         "location": "Papiesfontein",
         "main_activity": "fishing",
         "name": "male",
         "new_country": "SOUTH AFRICA",
         "sex": "M",
         "shark_group": "other_or_not_def",
         "species": "Raggedtooth shark",
         "state": "Eastern Cape Province",
         "time": "nan",
         "type": "provoked",
         "year": "2024.0",
         "year_fixed": 2024
        },
        {
         "_deepnote_index_column": 6,
         "activity": "Surfing",
         "country": "USA",
         "date": "30 Dec-2023",
         "fatality": "y",
         "injury": "FATAL",
         "location": "Baby Beach, Maui",
         "main_activity": "surf",
         "name": "Jason Carter",
         "new_country": "USA",
         "sex": "M",
         "shark_group": "None",
         "species": "nan",
         "state": "Hawaii",
         "time": "11h12",
         "type": "unprovoked",
         "year": "2023.0",
         "year_fixed": 2023
        },
        {
         "_deepnote_index_column": 7,
         "activity": "Free diving",
         "country": "MEXICO",
         "date": "29 Dec-2023",
         "fatality": "y",
         "injury": "FATAL",
         "location": "Tojahui Beach, Yavaros, Huatabampo",
         "main_activity": "diving",
         "name": "Víctor Alejandro “N”",
         "new_country": "MEXICO",
         "sex": "M",
         "shark_group": "white",
         "species": "White shark",
         "state": "Sonora",
         "time": "13h00",
         "type": "unprovoked",
         "year": "2023.0",
         "year_fixed": 2023
        },
        {
         "_deepnote_index_column": 8,
         "activity": "Surfing",
         "country": "AUSTRALIA",
         "date": "28 Dec-2023",
         "fatality": "y",
         "injury": "FATAL",
         "location": "Ethel Beach",
         "main_activity": "surf",
         "name": "Khai Cowley",
         "new_country": "AUSTRALIA",
         "sex": "M",
         "shark_group": "white",
         "species": "White shark, 13'",
         "state": "South Australia",
         "time": "13h30",
         "type": "unprovoked",
         "year": "2023.0",
         "year_fixed": 2023
        },
        {
         "_deepnote_index_column": 9,
         "activity": "Surfing",
         "country": "AUSTRALIA",
         "date": "25 Dec-2023",
         "fatality": "n",
         "injury": "Injury to right thigh",
         "location": "Old Bar",
         "main_activity": "surf",
         "name": "Julian McLennan",
         "new_country": "AUSTRALIA",
         "sex": "M",
         "shark_group": "None",
         "species": "nan",
         "state": "New South Wales",
         "time": "16h30",
         "type": "unprovoked",
         "year": "2023.0",
         "year_fixed": 2023
        }
       ]
      },
      "text/html": [
       "<div>\n",
       "<style scoped>\n",
       "    .dataframe tbody tr th:only-of-type {\n",
       "        vertical-align: middle;\n",
       "    }\n",
       "\n",
       "    .dataframe tbody tr th {\n",
       "        vertical-align: top;\n",
       "    }\n",
       "\n",
       "    .dataframe thead th {\n",
       "        text-align: right;\n",
       "    }\n",
       "</style>\n",
       "<table border=\"1\" class=\"dataframe\">\n",
       "  <thead>\n",
       "    <tr style=\"text-align: right;\">\n",
       "      <th></th>\n",
       "      <th>date</th>\n",
       "      <th>year</th>\n",
       "      <th>time</th>\n",
       "      <th>country</th>\n",
       "      <th>state</th>\n",
       "      <th>location</th>\n",
       "      <th>name</th>\n",
       "      <th>sex</th>\n",
       "      <th>type</th>\n",
       "      <th>activity</th>\n",
       "      <th>injury</th>\n",
       "      <th>fatality</th>\n",
       "      <th>species</th>\n",
       "      <th>main_activity</th>\n",
       "      <th>year_fixed</th>\n",
       "      <th>shark_group</th>\n",
       "      <th>new_country</th>\n",
       "    </tr>\n",
       "  </thead>\n",
       "  <tbody>\n",
       "    <tr>\n",
       "      <th>0</th>\n",
       "      <td>14 Feb-2024</td>\n",
       "      <td>2024.0</td>\n",
       "      <td>NaN</td>\n",
       "      <td>INDIA</td>\n",
       "      <td>Maharashtra</td>\n",
       "      <td>Vaitarna River, Palghar District</td>\n",
       "      <td>Vicky Suresh Govari</td>\n",
       "      <td>M</td>\n",
       "      <td>unprovoked</td>\n",
       "      <td>Fishing</td>\n",
       "      <td>Calf of lower left leg injured</td>\n",
       "      <td>n</td>\n",
       "      <td>Bull shark, 7'</td>\n",
       "      <td>fishing</td>\n",
       "      <td>2024.0</td>\n",
       "      <td>bull</td>\n",
       "      <td>Not used</td>\n",
       "    </tr>\n",
       "    <tr>\n",
       "      <th>1</th>\n",
       "      <td>04-Feb-2024</td>\n",
       "      <td>2024.0</td>\n",
       "      <td>06h30</td>\n",
       "      <td>TRINIDAD</td>\n",
       "      <td>NaN</td>\n",
       "      <td>NaN</td>\n",
       "      <td>male</td>\n",
       "      <td>M</td>\n",
       "      <td>provoked</td>\n",
       "      <td>Spearfishing</td>\n",
       "      <td>Shoulder bitten</td>\n",
       "      <td>n</td>\n",
       "      <td>Blacktip reef shark</td>\n",
       "      <td>fishing</td>\n",
       "      <td>2024.0</td>\n",
       "      <td>black</td>\n",
       "      <td>Not used</td>\n",
       "    </tr>\n",
       "    <tr>\n",
       "      <th>2</th>\n",
       "      <td>29 Jan-2024</td>\n",
       "      <td>2024.0</td>\n",
       "      <td>20h00</td>\n",
       "      <td>AUSTRALIA</td>\n",
       "      <td>New  South Wales</td>\n",
       "      <td>Elizabeth Bay, Sydney Harbor</td>\n",
       "      <td>Lauren O'Neill</td>\n",
       "      <td>F</td>\n",
       "      <td>unprovoked</td>\n",
       "      <td>Swimming</td>\n",
       "      <td>Right leg bitten</td>\n",
       "      <td>n</td>\n",
       "      <td>Bull shark</td>\n",
       "      <td>swimming</td>\n",
       "      <td>2024.0</td>\n",
       "      <td>bull</td>\n",
       "      <td>AUSTRALIA</td>\n",
       "    </tr>\n",
       "    <tr>\n",
       "      <th>3</th>\n",
       "      <td>15 Jan-2024</td>\n",
       "      <td>2024.0</td>\n",
       "      <td>16h00</td>\n",
       "      <td>BAHAMAS</td>\n",
       "      <td>Paradise Island</td>\n",
       "      <td>Paradise Island Resort</td>\n",
       "      <td>male</td>\n",
       "      <td>M</td>\n",
       "      <td>unprovoked</td>\n",
       "      <td>Swimming</td>\n",
       "      <td>Right leg injured</td>\n",
       "      <td>n</td>\n",
       "      <td>NaN</td>\n",
       "      <td>swimming</td>\n",
       "      <td>2024.0</td>\n",
       "      <td>None</td>\n",
       "      <td>BAHAMAS</td>\n",
       "    </tr>\n",
       "    <tr>\n",
       "      <th>4</th>\n",
       "      <td>09-Jan-2024</td>\n",
       "      <td>2024.0</td>\n",
       "      <td>13h00</td>\n",
       "      <td>AUSTRALIA</td>\n",
       "      <td>South Australia</td>\n",
       "      <td>Walkers Beach, Elliston</td>\n",
       "      <td>Murray Adams</td>\n",
       "      <td>M</td>\n",
       "      <td>unprovoked</td>\n",
       "      <td>Surfing</td>\n",
       "      <td>Leg bitten</td>\n",
       "      <td>n</td>\n",
       "      <td>White shark</td>\n",
       "      <td>surf</td>\n",
       "      <td>2024.0</td>\n",
       "      <td>white</td>\n",
       "      <td>AUSTRALIA</td>\n",
       "    </tr>\n",
       "    <tr>\n",
       "      <th>...</th>\n",
       "      <td>...</td>\n",
       "      <td>...</td>\n",
       "      <td>...</td>\n",
       "      <td>...</td>\n",
       "      <td>...</td>\n",
       "      <td>...</td>\n",
       "      <td>...</td>\n",
       "      <td>...</td>\n",
       "      <td>...</td>\n",
       "      <td>...</td>\n",
       "      <td>...</td>\n",
       "      <td>...</td>\n",
       "      <td>...</td>\n",
       "      <td>...</td>\n",
       "      <td>...</td>\n",
       "      <td>...</td>\n",
       "      <td>...</td>\n",
       "    </tr>\n",
       "    <tr>\n",
       "      <th>6934</th>\n",
       "      <td>Before 1906</td>\n",
       "      <td>0.0</td>\n",
       "      <td>NaN</td>\n",
       "      <td>AUSTRALIA</td>\n",
       "      <td>New South Wales</td>\n",
       "      <td></td>\n",
       "      <td>Arab boy</td>\n",
       "      <td>M</td>\n",
       "      <td>unprovoked</td>\n",
       "      <td>Swimming</td>\n",
       "      <td>FATAL</td>\n",
       "      <td>y</td>\n",
       "      <td>Said to involve a grey nurse shark that leapt ...</td>\n",
       "      <td>swimming</td>\n",
       "      <td>NaN</td>\n",
       "      <td>nurse</td>\n",
       "      <td>AUSTRALIA</td>\n",
       "    </tr>\n",
       "    <tr>\n",
       "      <th>6935</th>\n",
       "      <td>Before 1903</td>\n",
       "      <td>0.0</td>\n",
       "      <td>NaN</td>\n",
       "      <td>AUSTRALIA</td>\n",
       "      <td>Western Australia</td>\n",
       "      <td>Roebuck Bay</td>\n",
       "      <td>male</td>\n",
       "      <td>M</td>\n",
       "      <td>unprovoked</td>\n",
       "      <td>Diving</td>\n",
       "      <td>FATAL</td>\n",
       "      <td>y</td>\n",
       "      <td>NaN</td>\n",
       "      <td>diving</td>\n",
       "      <td>NaN</td>\n",
       "      <td>None</td>\n",
       "      <td>AUSTRALIA</td>\n",
       "    </tr>\n",
       "    <tr>\n",
       "      <th>6936</th>\n",
       "      <td>Before 1903</td>\n",
       "      <td>0.0</td>\n",
       "      <td>NaN</td>\n",
       "      <td>AUSTRALIA</td>\n",
       "      <td>Western Australia</td>\n",
       "      <td>NaN</td>\n",
       "      <td>Ahmun</td>\n",
       "      <td>M</td>\n",
       "      <td>unprovoked</td>\n",
       "      <td>Pearl diving</td>\n",
       "      <td>FATAL</td>\n",
       "      <td>y</td>\n",
       "      <td>NaN</td>\n",
       "      <td>diving</td>\n",
       "      <td>NaN</td>\n",
       "      <td>None</td>\n",
       "      <td>AUSTRALIA</td>\n",
       "    </tr>\n",
       "    <tr>\n",
       "      <th>6937</th>\n",
       "      <td>1900-1905</td>\n",
       "      <td>0.0</td>\n",
       "      <td>NaN</td>\n",
       "      <td>USA</td>\n",
       "      <td>North Carolina</td>\n",
       "      <td>Ocracoke Inlet</td>\n",
       "      <td>Coast Guard personnel</td>\n",
       "      <td>M</td>\n",
       "      <td>unprovoked</td>\n",
       "      <td>Swimming</td>\n",
       "      <td>FATAL</td>\n",
       "      <td>y</td>\n",
       "      <td>NaN</td>\n",
       "      <td>swimming</td>\n",
       "      <td>NaN</td>\n",
       "      <td>None</td>\n",
       "      <td>USA</td>\n",
       "    </tr>\n",
       "    <tr>\n",
       "      <th>6939</th>\n",
       "      <td>1845-1853</td>\n",
       "      <td>0.0</td>\n",
       "      <td>NaN</td>\n",
       "      <td>CEYLON (SRI LANKA)</td>\n",
       "      <td>Eastern Province</td>\n",
       "      <td>Below the English fort, Trincomalee</td>\n",
       "      <td>male</td>\n",
       "      <td>M</td>\n",
       "      <td>unprovoked</td>\n",
       "      <td>Swimming</td>\n",
       "      <td>FATAL. \"Shark bit him in half, carrying away t...</td>\n",
       "      <td>y</td>\n",
       "      <td>NaN</td>\n",
       "      <td>swimming</td>\n",
       "      <td>NaN</td>\n",
       "      <td>None</td>\n",
       "      <td>Not used</td>\n",
       "    </tr>\n",
       "  </tbody>\n",
       "</table>\n",
       "<p>6355 rows × 17 columns</p>\n",
       "</div>"
      ],
      "text/plain": [
       "             date    year   time             country              state  \\\n",
       "0     14 Feb-2024  2024.0    NaN               INDIA        Maharashtra   \n",
       "1     04-Feb-2024  2024.0  06h30            TRINIDAD                NaN   \n",
       "2     29 Jan-2024  2024.0  20h00           AUSTRALIA   New  South Wales   \n",
       "3     15 Jan-2024  2024.0  16h00             BAHAMAS    Paradise Island   \n",
       "4     09-Jan-2024  2024.0  13h00           AUSTRALIA    South Australia   \n",
       "...           ...     ...    ...                 ...                ...   \n",
       "6934  Before 1906     0.0    NaN           AUSTRALIA    New South Wales   \n",
       "6935  Before 1903     0.0    NaN           AUSTRALIA  Western Australia   \n",
       "6936  Before 1903     0.0    NaN           AUSTRALIA  Western Australia   \n",
       "6937    1900-1905     0.0    NaN                 USA     North Carolina   \n",
       "6939    1845-1853     0.0    NaN  CEYLON (SRI LANKA)   Eastern Province   \n",
       "\n",
       "                                 location                   name sex  \\\n",
       "0        Vaitarna River, Palghar District    Vicky Suresh Govari   M   \n",
       "1                                     NaN                   male   M   \n",
       "2            Elizabeth Bay, Sydney Harbor         Lauren O'Neill   F   \n",
       "3                  Paradise Island Resort                   male   M   \n",
       "4                 Walkers Beach, Elliston           Murray Adams   M   \n",
       "...                                   ...                    ...  ..   \n",
       "6934                                                    Arab boy   M   \n",
       "6935                          Roebuck Bay                   male   M   \n",
       "6936                                  NaN                  Ahmun   M   \n",
       "6937                       Ocracoke Inlet  Coast Guard personnel   M   \n",
       "6939  Below the English fort, Trincomalee                   male   M   \n",
       "\n",
       "            type      activity  \\\n",
       "0     unprovoked       Fishing   \n",
       "1       provoked  Spearfishing   \n",
       "2     unprovoked      Swimming   \n",
       "3     unprovoked      Swimming   \n",
       "4     unprovoked       Surfing   \n",
       "...          ...           ...   \n",
       "6934  unprovoked      Swimming   \n",
       "6935  unprovoked        Diving   \n",
       "6936  unprovoked  Pearl diving   \n",
       "6937  unprovoked      Swimming   \n",
       "6939  unprovoked      Swimming   \n",
       "\n",
       "                                                 injury fatality  \\\n",
       "0                        Calf of lower left leg injured        n   \n",
       "1                                       Shoulder bitten        n   \n",
       "2                                      Right leg bitten        n   \n",
       "3                                    Right leg injured         n   \n",
       "4                                            Leg bitten        n   \n",
       "...                                                 ...      ...   \n",
       "6934                                              FATAL        y   \n",
       "6935                                              FATAL        y   \n",
       "6936                                              FATAL        y   \n",
       "6937                                              FATAL        y   \n",
       "6939  FATAL. \"Shark bit him in half, carrying away t...        y   \n",
       "\n",
       "                                                species main_activity  \\\n",
       "0                                        Bull shark, 7'       fishing   \n",
       "1                                   Blacktip reef shark       fishing   \n",
       "2                                            Bull shark      swimming   \n",
       "3                                                   NaN      swimming   \n",
       "4                                           White shark          surf   \n",
       "...                                                 ...           ...   \n",
       "6934  Said to involve a grey nurse shark that leapt ...      swimming   \n",
       "6935                                                NaN        diving   \n",
       "6936                                                NaN        diving   \n",
       "6937                                                NaN      swimming   \n",
       "6939                                                NaN      swimming   \n",
       "\n",
       "      year_fixed shark_group new_country  \n",
       "0         2024.0        bull    Not used  \n",
       "1         2024.0       black    Not used  \n",
       "2         2024.0        bull   AUSTRALIA  \n",
       "3         2024.0        None     BAHAMAS  \n",
       "4         2024.0       white   AUSTRALIA  \n",
       "...          ...         ...         ...  \n",
       "6934         NaN       nurse   AUSTRALIA  \n",
       "6935         NaN        None   AUSTRALIA  \n",
       "6936         NaN        None   AUSTRALIA  \n",
       "6937         NaN        None         USA  \n",
       "6939         NaN        None    Not used  \n",
       "\n",
       "[6355 rows x 17 columns]"
      ]
     },
     "metadata": {},
     "output_type": "display_data"
    }
   ],
   "source": [
    "display(shark)"
   ]
  },
  {
   "cell_type": "markdown",
   "metadata": {
    "cell_id": "bdfc44f398114e8d84ac4d614e881191",
    "deepnote_cell_type": "text-cell-h1",
    "formattedRanges": []
   },
   "source": [
    "# Visualizations:"
   ]
  },
  {
   "cell_type": "markdown",
   "metadata": {
    "cell_id": "9130a0baba394923b9413a4ccdd6258d",
    "deepnote_cell_type": "text-cell-h2",
    "formattedRanges": []
   },
   "source": [
    "## Attacks per specie per country"
   ]
  },
  {
   "cell_type": "code",
   "execution_count": null,
   "metadata": {
    "cell_id": "8c4ea5855e994f34bf039975bf7a5008",
    "deepnote_cell_type": "code",
    "deepnote_table_loading": false,
    "deepnote_table_state": {
     "filters": [],
     "pageIndex": 0,
     "pageSize": 100,
     "sortBy": []
    },
    "deepnote_to_be_reexecuted": false,
    "execution_millis": 64,
    "execution_start": 1709887817485,
    "source_hash": null
   },
   "outputs": [
    {
     "data": {
      "application/vnd.deepnote.dataframe.v3+json": {
       "column_count": 6,
       "columns": [
        {
         "dtype": "float64",
         "name": "fatality blue",
         "stats": {
          "histogram": [
           {
            "bin_end": 3.6,
            "bin_start": 3.5,
            "count": 0
           },
           {
            "bin_end": 3.7,
            "bin_start": 3.6,
            "count": 0
           },
           {
            "bin_end": 3.8,
            "bin_start": 3.7,
            "count": 0
           },
           {
            "bin_end": 3.9,
            "bin_start": 3.8,
            "count": 0
           },
           {
            "bin_end": 4,
            "bin_start": 3.9,
            "count": 0
           },
           {
            "bin_end": 4.1,
            "bin_start": 4,
            "count": 2
           },
           {
            "bin_end": 4.2,
            "bin_start": 4.1,
            "count": 0
           },
           {
            "bin_end": 4.3,
            "bin_start": 4.2,
            "count": 0
           },
           {
            "bin_end": 4.4,
            "bin_start": 4.3,
            "count": 0
           },
           {
            "bin_end": 4.5,
            "bin_start": 4.4,
            "count": 0
           }
          ],
          "max": "4.0",
          "min": "4.0",
          "nan_count": 6,
          "unique_count": 1
         }
        },
        {
         "dtype": "float64",
         "name": "fatality bull",
         "stats": {
          "histogram": [
           {
            "bin_end": 3,
            "bin_start": 1,
            "count": 2
           },
           {
            "bin_end": 5,
            "bin_start": 3,
            "count": 0
           },
           {
            "bin_end": 7,
            "bin_start": 5,
            "count": 1
           },
           {
            "bin_end": 9,
            "bin_start": 7,
            "count": 0
           },
           {
            "bin_end": 11,
            "bin_start": 9,
            "count": 0
           },
           {
            "bin_end": 13,
            "bin_start": 11,
            "count": 0
           },
           {
            "bin_end": 15,
            "bin_start": 13,
            "count": 1
           },
           {
            "bin_end": 17,
            "bin_start": 15,
            "count": 0
           },
           {
            "bin_end": 19,
            "bin_start": 17,
            "count": 0
           },
           {
            "bin_end": 21,
            "bin_start": 19,
            "count": 1
           }
          ],
          "max": "21.0",
          "min": "1.0",
          "nan_count": 3,
          "unique_count": 5
         }
        },
        {
         "dtype": "float64",
         "name": "fatality other_or_not_def",
         "stats": {
          "histogram": [
           {
            "bin_end": 9.6,
            "bin_start": 2,
            "count": 3
           },
           {
            "bin_end": 17.2,
            "bin_start": 9.6,
            "count": 1
           },
           {
            "bin_end": 24.799999999999997,
            "bin_start": 17.2,
            "count": 1
           },
           {
            "bin_end": 32.4,
            "bin_start": 24.799999999999997,
            "count": 0
           },
           {
            "bin_end": 40,
            "bin_start": 32.4,
            "count": 1
           },
           {
            "bin_end": 47.599999999999994,
            "bin_start": 40,
            "count": 0
           },
           {
            "bin_end": 55.199999999999996,
            "bin_start": 47.599999999999994,
            "count": 0
           },
           {
            "bin_end": 62.8,
            "bin_start": 55.199999999999996,
            "count": 0
           },
           {
            "bin_end": 70.39999999999999,
            "bin_start": 62.8,
            "count": 0
           },
           {
            "bin_end": 78,
            "bin_start": 70.39999999999999,
            "count": 1
           }
          ],
          "max": "78.0",
          "min": "2.0",
          "nan_count": 1,
          "unique_count": 7
         }
        },
        {
         "dtype": "float64",
         "name": "fatality tiger",
         "stats": {
          "histogram": [
           {
            "bin_end": 5.9,
            "bin_start": 2,
            "count": 2
           },
           {
            "bin_end": 9.8,
            "bin_start": 5.9,
            "count": 1
           },
           {
            "bin_end": 13.7,
            "bin_start": 9.8,
            "count": 0
           },
           {
            "bin_end": 17.6,
            "bin_start": 13.7,
            "count": 2
           },
           {
            "bin_end": 21.5,
            "bin_start": 17.6,
            "count": 0
           },
           {
            "bin_end": 25.4,
            "bin_start": 21.5,
            "count": 0
           },
           {
            "bin_end": 29.3,
            "bin_start": 25.4,
            "count": 0
           },
           {
            "bin_end": 33.2,
            "bin_start": 29.3,
            "count": 0
           },
           {
            "bin_end": 37.1,
            "bin_start": 33.2,
            "count": 0
           },
           {
            "bin_end": 41,
            "bin_start": 37.1,
            "count": 1
           }
          ],
          "max": "41.0",
          "min": "2.0",
          "nan_count": 2,
          "unique_count": 6
         }
        },
        {
         "dtype": "float64",
         "name": "fatality white",
         "stats": {
          "histogram": [
           {
            "bin_end": 13.4,
            "bin_start": 1,
            "count": 3
           },
           {
            "bin_end": 25.8,
            "bin_start": 13.4,
            "count": 1
           },
           {
            "bin_end": 38.2,
            "bin_start": 25.8,
            "count": 1
           },
           {
            "bin_end": 50.6,
            "bin_start": 38.2,
            "count": 0
           },
           {
            "bin_end": 63,
            "bin_start": 50.6,
            "count": 1
           },
           {
            "bin_end": 75.4,
            "bin_start": 63,
            "count": 0
           },
           {
            "bin_end": 87.8,
            "bin_start": 75.4,
            "count": 0
           },
           {
            "bin_end": 100.2,
            "bin_start": 87.8,
            "count": 0
           },
           {
            "bin_end": 112.60000000000001,
            "bin_start": 100.2,
            "count": 0
           },
           {
            "bin_end": 125,
            "bin_start": 112.60000000000001,
            "count": 1
           }
          ],
          "max": "125.0",
          "min": "1.0",
          "nan_count": 1,
          "unique_count": 7
         }
        },
        {
         "dtype": "int64",
         "name": "fatality All",
         "stats": {
          "histogram": [
           {
            "bin_end": 29.6,
            "bin_start": 3,
            "count": 4
           },
           {
            "bin_end": 56.2,
            "bin_start": 29.6,
            "count": 1
           },
           {
            "bin_end": 82.80000000000001,
            "bin_start": 56.2,
            "count": 1
           },
           {
            "bin_end": 109.4,
            "bin_start": 82.80000000000001,
            "count": 0
           },
           {
            "bin_end": 136,
            "bin_start": 109.4,
            "count": 1
           },
           {
            "bin_end": 162.60000000000002,
            "bin_start": 136,
            "count": 0
           },
           {
            "bin_end": 189.20000000000002,
            "bin_start": 162.60000000000002,
            "count": 0
           },
           {
            "bin_end": 215.8,
            "bin_start": 189.20000000000002,
            "count": 0
           },
           {
            "bin_end": 242.4,
            "bin_start": 215.8,
            "count": 0
           },
           {
            "bin_end": 269,
            "bin_start": 242.4,
            "count": 1
           }
          ],
          "max": "269",
          "min": "3",
          "nan_count": 0,
          "unique_count": 8
         }
        },
        {
         "dtype": "object",
         "name": "_deepnote_index_column"
        }
       ],
       "row_count": 8,
       "rows": [
        {
         "_deepnote_index_column": "AUSTRALIA",
         "fatality All": 124,
         "fatality blue": 4,
         "fatality bull": 13,
         "fatality other_or_not_def": 34,
         "fatality tiger": 14,
         "fatality white": 59
        },
        {
         "_deepnote_index_column": "BAHAMAS",
         "fatality All": 6,
         "fatality blue": "nan",
         "fatality bull": 2,
         "fatality other_or_not_def": 4,
         "fatality tiger": "nan",
         "fatality white": "nan"
        },
        {
         "_deepnote_index_column": "BRAZIL",
         "fatality All": 3,
         "fatality blue": "nan",
         "fatality bull": "nan",
         "fatality other_or_not_def": "nan",
         "fatality tiger": 2,
         "fatality white": 1
        },
        {
         "_deepnote_index_column": "MEXICO",
         "fatality All": 12,
         "fatality blue": "nan",
         "fatality bull": "nan",
         "fatality other_or_not_def": 7,
         "fatality tiger": 3,
         "fatality white": 2
        },
        {
         "_deepnote_index_column": "NEW ZEALAND",
         "fatality All": 7,
         "fatality blue": "nan",
         "fatality bull": "nan",
         "fatality other_or_not_def": 2,
         "fatality tiger": "nan",
         "fatality white": 5
        },
        {
         "_deepnote_index_column": "SOUTH AFRICA",
         "fatality All": 52,
         "fatality blue": "nan",
         "fatality bull": 1,
         "fatality other_or_not_def": 10,
         "fatality tiger": 6,
         "fatality white": 35
        },
        {
         "_deepnote_index_column": "USA",
         "fatality All": 65,
         "fatality blue": "nan",
         "fatality bull": 5,
         "fatality other_or_not_def": 21,
         "fatality tiger": 16,
         "fatality white": 23
        },
        {
         "_deepnote_index_column": "All",
         "fatality All": 269,
         "fatality blue": 4,
         "fatality bull": 21,
         "fatality other_or_not_def": 78,
         "fatality tiger": 41,
         "fatality white": 125
        }
       ]
      },
      "text/html": [
       "<div>\n",
       "<style scoped>\n",
       "    .dataframe tbody tr th:only-of-type {\n",
       "        vertical-align: middle;\n",
       "    }\n",
       "\n",
       "    .dataframe tbody tr th {\n",
       "        vertical-align: top;\n",
       "    }\n",
       "\n",
       "    .dataframe thead tr th {\n",
       "        text-align: left;\n",
       "    }\n",
       "\n",
       "    .dataframe thead tr:last-of-type th {\n",
       "        text-align: right;\n",
       "    }\n",
       "</style>\n",
       "<table border=\"1\" class=\"dataframe\">\n",
       "  <thead>\n",
       "    <tr>\n",
       "      <th></th>\n",
       "      <th colspan=\"6\" halign=\"left\">fatality</th>\n",
       "    </tr>\n",
       "    <tr>\n",
       "      <th>shark_group</th>\n",
       "      <th>blue</th>\n",
       "      <th>bull</th>\n",
       "      <th>other_or_not_def</th>\n",
       "      <th>tiger</th>\n",
       "      <th>white</th>\n",
       "      <th>All</th>\n",
       "    </tr>\n",
       "    <tr>\n",
       "      <th>new_country</th>\n",
       "      <th></th>\n",
       "      <th></th>\n",
       "      <th></th>\n",
       "      <th></th>\n",
       "      <th></th>\n",
       "      <th></th>\n",
       "    </tr>\n",
       "  </thead>\n",
       "  <tbody>\n",
       "    <tr>\n",
       "      <th>AUSTRALIA</th>\n",
       "      <td>4.0</td>\n",
       "      <td>13.0</td>\n",
       "      <td>34.0</td>\n",
       "      <td>14.0</td>\n",
       "      <td>59.0</td>\n",
       "      <td>124</td>\n",
       "    </tr>\n",
       "    <tr>\n",
       "      <th>BAHAMAS</th>\n",
       "      <td>NaN</td>\n",
       "      <td>2.0</td>\n",
       "      <td>4.0</td>\n",
       "      <td>NaN</td>\n",
       "      <td>NaN</td>\n",
       "      <td>6</td>\n",
       "    </tr>\n",
       "    <tr>\n",
       "      <th>BRAZIL</th>\n",
       "      <td>NaN</td>\n",
       "      <td>NaN</td>\n",
       "      <td>NaN</td>\n",
       "      <td>2.0</td>\n",
       "      <td>1.0</td>\n",
       "      <td>3</td>\n",
       "    </tr>\n",
       "    <tr>\n",
       "      <th>MEXICO</th>\n",
       "      <td>NaN</td>\n",
       "      <td>NaN</td>\n",
       "      <td>7.0</td>\n",
       "      <td>3.0</td>\n",
       "      <td>2.0</td>\n",
       "      <td>12</td>\n",
       "    </tr>\n",
       "    <tr>\n",
       "      <th>NEW ZEALAND</th>\n",
       "      <td>NaN</td>\n",
       "      <td>NaN</td>\n",
       "      <td>2.0</td>\n",
       "      <td>NaN</td>\n",
       "      <td>5.0</td>\n",
       "      <td>7</td>\n",
       "    </tr>\n",
       "    <tr>\n",
       "      <th>SOUTH AFRICA</th>\n",
       "      <td>NaN</td>\n",
       "      <td>1.0</td>\n",
       "      <td>10.0</td>\n",
       "      <td>6.0</td>\n",
       "      <td>35.0</td>\n",
       "      <td>52</td>\n",
       "    </tr>\n",
       "    <tr>\n",
       "      <th>USA</th>\n",
       "      <td>NaN</td>\n",
       "      <td>5.0</td>\n",
       "      <td>21.0</td>\n",
       "      <td>16.0</td>\n",
       "      <td>23.0</td>\n",
       "      <td>65</td>\n",
       "    </tr>\n",
       "    <tr>\n",
       "      <th>All</th>\n",
       "      <td>4.0</td>\n",
       "      <td>21.0</td>\n",
       "      <td>78.0</td>\n",
       "      <td>41.0</td>\n",
       "      <td>125.0</td>\n",
       "      <td>269</td>\n",
       "    </tr>\n",
       "  </tbody>\n",
       "</table>\n",
       "</div>"
      ],
      "text/plain": [
       "             fatality                                         \n",
       "shark_group      blue  bull other_or_not_def tiger  white  All\n",
       "new_country                                                   \n",
       "AUSTRALIA         4.0  13.0             34.0  14.0   59.0  124\n",
       "BAHAMAS           NaN   2.0              4.0   NaN    NaN    6\n",
       "BRAZIL            NaN   NaN              NaN   2.0    1.0    3\n",
       "MEXICO            NaN   NaN              7.0   3.0    2.0   12\n",
       "NEW ZEALAND       NaN   NaN              2.0   NaN    5.0    7\n",
       "SOUTH AFRICA      NaN   1.0             10.0   6.0   35.0   52\n",
       "USA               NaN   5.0             21.0  16.0   23.0   65\n",
       "All               4.0  21.0             78.0  41.0  125.0  269"
      ]
     },
     "execution_count": 46,
     "metadata": {},
     "output_type": "execute_result"
    }
   ],
   "source": [
    "main_country=[\"USA\",\"AUSTRALIA\",\"BRAZIL\",\"SOUTH AFRICA\",\"NEW ZEALAND\",\"BAHAMAS\",\"MEXICO\"]\n",
    "shark_top5=[\"white\",\"tiger\",\"bull\", \"other_or_not_def\",\"blue\"] \n",
    "mask_y_top5= (shark['fatality']=='y')& (shark['new_country'].isin(main_country) & (shark['shark_group'].isin(shark_top5)))\n",
    "\n",
    "pivot_shark1 = shark[mask_y_top5].pivot_table(index='new_country', columns='shark_group', values=['fatality'], aggfunc='count',margins=True)\n",
    "pivot_shark1\n",
    "\n"
   ]
  },
  {
   "cell_type": "markdown",
   "metadata": {
    "cell_id": "42881a6254b24ecda7470066be49a484",
    "deepnote_cell_type": "text-cell-h2",
    "formattedRanges": []
   },
   "source": [
    "## Number of death per activity"
   ]
  },
  {
   "cell_type": "code",
   "execution_count": null,
   "metadata": {
    "cell_id": "3d5a938d6858428da1f6ec4a24690099",
    "deepnote_cell_type": "code",
    "deepnote_to_be_reexecuted": false,
    "execution_millis": 642,
    "execution_start": 1709886691507,
    "source_hash": null
   },
   "outputs": [
    {
     "data": {
      "application/vnd.deepnote.dataframe.v3+json": {
       "column_count": 6,
       "columns": [
        {
         "dtype": "float64",
         "name": "diving",
         "stats": {
          "histogram": [
           {
            "bin_end": 39.9,
            "bin_start": 4,
            "count": 1
           },
           {
            "bin_end": 75.8,
            "bin_start": 39.9,
            "count": 0
           },
           {
            "bin_end": 111.69999999999999,
            "bin_start": 75.8,
            "count": 0
           },
           {
            "bin_end": 147.6,
            "bin_start": 111.69999999999999,
            "count": 1
           },
           {
            "bin_end": 183.5,
            "bin_start": 147.6,
            "count": 0
           },
           {
            "bin_end": 219.39999999999998,
            "bin_start": 183.5,
            "count": 0
           },
           {
            "bin_end": 255.29999999999998,
            "bin_start": 219.39999999999998,
            "count": 0
           },
           {
            "bin_end": 291.2,
            "bin_start": 255.29999999999998,
            "count": 0
           },
           {
            "bin_end": 327.09999999999997,
            "bin_start": 291.2,
            "count": 0
           },
           {
            "bin_end": 363,
            "bin_start": 327.09999999999997,
            "count": 1
           }
          ],
          "max": "363.0",
          "min": "4.0",
          "nan_count": 0,
          "unique_count": 3
         }
        },
        {
         "dtype": "float64",
         "name": "fishing",
         "stats": {
          "histogram": [
           {
            "bin_end": 104.5,
            "bin_start": 5,
            "count": 1
           },
           {
            "bin_end": 204,
            "bin_start": 104.5,
            "count": 1
           },
           {
            "bin_end": 303.5,
            "bin_start": 204,
            "count": 0
           },
           {
            "bin_end": 403,
            "bin_start": 303.5,
            "count": 0
           },
           {
            "bin_end": 502.5,
            "bin_start": 403,
            "count": 0
           },
           {
            "bin_end": 602,
            "bin_start": 502.5,
            "count": 0
           },
           {
            "bin_end": 701.5,
            "bin_start": 602,
            "count": 0
           },
           {
            "bin_end": 801,
            "bin_start": 701.5,
            "count": 0
           },
           {
            "bin_end": 900.5,
            "bin_start": 801,
            "count": 0
           },
           {
            "bin_end": 1000,
            "bin_start": 900.5,
            "count": 1
           }
          ],
          "max": "1000.0",
          "min": "5.0",
          "nan_count": 0,
          "unique_count": 3
         }
        },
        {
         "dtype": "float64",
         "name": "not_defined",
         "stats": {
          "histogram": [
           {
            "bin_end": 116.7,
            "bin_start": 7,
            "count": 1
           },
           {
            "bin_end": 226.4,
            "bin_start": 116.7,
            "count": 0
           },
           {
            "bin_end": 336.1,
            "bin_start": 226.4,
            "count": 0
           },
           {
            "bin_end": 445.8,
            "bin_start": 336.1,
            "count": 0
           },
           {
            "bin_end": 555.5,
            "bin_start": 445.8,
            "count": 1
           },
           {
            "bin_end": 665.2,
            "bin_start": 555.5,
            "count": 0
           },
           {
            "bin_end": 774.9,
            "bin_start": 665.2,
            "count": 0
           },
           {
            "bin_end": 884.6,
            "bin_start": 774.9,
            "count": 0
           },
           {
            "bin_end": 994.3000000000001,
            "bin_start": 884.6,
            "count": 0
           },
           {
            "bin_end": 1104,
            "bin_start": 994.3000000000001,
            "count": 1
           }
          ],
          "max": "1104.0",
          "min": "7.0",
          "nan_count": 0,
          "unique_count": 3
         }
        },
        {
         "dtype": "float64",
         "name": "snorkeling",
         "stats": {
          "histogram": [
           {
            "bin_end": 28.1,
            "bin_start": 19,
            "count": 1
           },
           {
            "bin_end": 37.2,
            "bin_start": 28.1,
            "count": 0
           },
           {
            "bin_end": 46.3,
            "bin_start": 37.2,
            "count": 0
           },
           {
            "bin_end": 55.4,
            "bin_start": 46.3,
            "count": 0
           },
           {
            "bin_end": 64.5,
            "bin_start": 55.4,
            "count": 0
           },
           {
            "bin_end": 73.6,
            "bin_start": 64.5,
            "count": 0
           },
           {
            "bin_end": 82.69999999999999,
            "bin_start": 73.6,
            "count": 0
           },
           {
            "bin_end": 91.8,
            "bin_start": 82.69999999999999,
            "count": 0
           },
           {
            "bin_end": 100.89999999999999,
            "bin_start": 91.8,
            "count": 0
           },
           {
            "bin_end": 110,
            "bin_start": 100.89999999999999,
            "count": 1
           }
          ],
          "max": "110.0",
          "min": "19.0",
          "nan_count": 1,
          "unique_count": 2
         }
        },
        {
         "dtype": "float64",
         "name": "surf",
         "stats": {
          "histogram": [
           {
            "bin_end": 131.2,
            "bin_start": 3,
            "count": 2
           },
           {
            "bin_end": 259.4,
            "bin_start": 131.2,
            "count": 0
           },
           {
            "bin_end": 387.59999999999997,
            "bin_start": 259.4,
            "count": 0
           },
           {
            "bin_end": 515.8,
            "bin_start": 387.59999999999997,
            "count": 0
           },
           {
            "bin_end": 644,
            "bin_start": 515.8,
            "count": 0
           },
           {
            "bin_end": 772.1999999999999,
            "bin_start": 644,
            "count": 0
           },
           {
            "bin_end": 900.3999999999999,
            "bin_start": 772.1999999999999,
            "count": 0
           },
           {
            "bin_end": 1028.6,
            "bin_start": 900.3999999999999,
            "count": 0
           },
           {
            "bin_end": 1156.8,
            "bin_start": 1028.6,
            "count": 0
           },
           {
            "bin_end": 1285,
            "bin_start": 1156.8,
            "count": 1
           }
          ],
          "max": "1285.0",
          "min": "3.0",
          "nan_count": 0,
          "unique_count": 3
         }
        },
        {
         "dtype": "float64",
         "name": "swimming",
         "stats": {
          "histogram": [
           {
            "bin_end": 72.5,
            "bin_start": 7,
            "count": 1
           },
           {
            "bin_end": 138,
            "bin_start": 72.5,
            "count": 0
           },
           {
            "bin_end": 203.5,
            "bin_start": 138,
            "count": 0
           },
           {
            "bin_end": 269,
            "bin_start": 203.5,
            "count": 0
           },
           {
            "bin_end": 334.5,
            "bin_start": 269,
            "count": 0
           },
           {
            "bin_end": 400,
            "bin_start": 334.5,
            "count": 0
           },
           {
            "bin_end": 465.5,
            "bin_start": 400,
            "count": 1
           },
           {
            "bin_end": 531,
            "bin_start": 465.5,
            "count": 0
           },
           {
            "bin_end": 596.5,
            "bin_start": 531,
            "count": 0
           },
           {
            "bin_end": 662,
            "bin_start": 596.5,
            "count": 1
           }
          ],
          "max": "662.0",
          "min": "7.0",
          "nan_count": 0,
          "unique_count": 3
         }
        },
        {
         "dtype": "object",
         "name": "_deepnote_index_column"
        }
       ],
       "row_count": 3,
       "rows": [
        {
         "_deepnote_index_column": "n",
         "diving": 363,
         "fishing": 1000,
         "not_defined": 1104,
         "snorkeling": 110,
         "surf": 1285,
         "swimming": 662
        },
        {
         "_deepnote_index_column": "unknown",
         "diving": 4,
         "fishing": 5,
         "not_defined": 7,
         "snorkeling": "nan",
         "surf": 3,
         "swimming": 7
        },
        {
         "_deepnote_index_column": "y",
         "diving": 119,
         "fishing": 172,
         "not_defined": 527,
         "snorkeling": 19,
         "surf": 90,
         "swimming": 423
        }
       ]
      },
      "text/html": [
       "<div>\n",
       "<style scoped>\n",
       "    .dataframe tbody tr th:only-of-type {\n",
       "        vertical-align: middle;\n",
       "    }\n",
       "\n",
       "    .dataframe tbody tr th {\n",
       "        vertical-align: top;\n",
       "    }\n",
       "\n",
       "    .dataframe thead th {\n",
       "        text-align: right;\n",
       "    }\n",
       "</style>\n",
       "<table border=\"1\" class=\"dataframe\">\n",
       "  <thead>\n",
       "    <tr style=\"text-align: right;\">\n",
       "      <th>main_activity</th>\n",
       "      <th>diving</th>\n",
       "      <th>fishing</th>\n",
       "      <th>not_defined</th>\n",
       "      <th>snorkeling</th>\n",
       "      <th>surf</th>\n",
       "      <th>swimming</th>\n",
       "    </tr>\n",
       "    <tr>\n",
       "      <th>fatality</th>\n",
       "      <th></th>\n",
       "      <th></th>\n",
       "      <th></th>\n",
       "      <th></th>\n",
       "      <th></th>\n",
       "      <th></th>\n",
       "    </tr>\n",
       "  </thead>\n",
       "  <tbody>\n",
       "    <tr>\n",
       "      <th>n</th>\n",
       "      <td>363.0</td>\n",
       "      <td>1000.0</td>\n",
       "      <td>1104.0</td>\n",
       "      <td>110.0</td>\n",
       "      <td>1285.0</td>\n",
       "      <td>662.0</td>\n",
       "    </tr>\n",
       "    <tr>\n",
       "      <th>unknown</th>\n",
       "      <td>4.0</td>\n",
       "      <td>5.0</td>\n",
       "      <td>7.0</td>\n",
       "      <td>NaN</td>\n",
       "      <td>3.0</td>\n",
       "      <td>7.0</td>\n",
       "    </tr>\n",
       "    <tr>\n",
       "      <th>y</th>\n",
       "      <td>119.0</td>\n",
       "      <td>172.0</td>\n",
       "      <td>527.0</td>\n",
       "      <td>19.0</td>\n",
       "      <td>90.0</td>\n",
       "      <td>423.0</td>\n",
       "    </tr>\n",
       "  </tbody>\n",
       "</table>\n",
       "</div>"
      ],
      "text/plain": [
       "main_activity  diving  fishing  not_defined  snorkeling    surf  swimming\n",
       "fatality                                                                 \n",
       "n               363.0   1000.0       1104.0       110.0  1285.0     662.0\n",
       "unknown           4.0      5.0          7.0         NaN     3.0       7.0\n",
       "y               119.0    172.0        527.0        19.0    90.0     423.0"
      ]
     },
     "execution_count": 30,
     "metadata": {},
     "output_type": "execute_result"
    }
   ],
   "source": [
    "#Nombre d'attaques par activité et mortalité  (groupby) \n",
    "\n",
    "shark.groupby(['fatality','main_activity'])['injury'].count().unstack()\n"
   ]
  },
  {
   "cell_type": "markdown",
   "metadata": {
    "cell_id": "745d82689eeb492795c0f97a6ea70ac8",
    "deepnote_cell_type": "text-cell-h3",
    "formattedRanges": []
   },
   "source": [
    "### "
   ]
  },
  {
   "cell_type": "markdown",
   "metadata": {
    "cell_id": "728a2ee45d814f39995e3f6a32ab96d3",
    "deepnote_cell_type": "text-cell-h2",
    "formattedRanges": []
   },
   "source": [
    "## Number of attacks per species per year"
   ]
  },
  {
   "cell_type": "code",
   "execution_count": null,
   "metadata": {
    "cell_id": "ffe2845b95364656b0e16fde39553006",
    "deepnote_cell_type": "code",
    "deepnote_to_be_reexecuted": false,
    "execution_millis": 611,
    "execution_start": 1709886691539,
    "source_hash": null
   },
   "outputs": [
    {
     "data": {
      "application/vnd.deepnote.dataframe.v3+json": {
       "column_count": 18,
       "columns": [
        {
         "dtype": "float64",
         "name": "injury black",
         "stats": {
          "histogram": [
           {
            "bin_end": 15,
            "bin_start": 2,
            "count": 4
           },
           {
            "bin_end": 28,
            "bin_start": 15,
            "count": 2
           },
           {
            "bin_end": 41,
            "bin_start": 28,
            "count": 2
           },
           {
            "bin_end": 54,
            "bin_start": 41,
            "count": 0
           },
           {
            "bin_end": 67,
            "bin_start": 54,
            "count": 0
           },
           {
            "bin_end": 80,
            "bin_start": 67,
            "count": 0
           },
           {
            "bin_end": 93,
            "bin_start": 80,
            "count": 0
           },
           {
            "bin_end": 106,
            "bin_start": 93,
            "count": 0
           },
           {
            "bin_end": 119,
            "bin_start": 106,
            "count": 0
           },
           {
            "bin_end": 132,
            "bin_start": 119,
            "count": 1
           }
          ],
          "max": "132.0",
          "min": "2.0",
          "nan_count": 0,
          "unique_count": 8
         }
        },
        {
         "dtype": "float64",
         "name": "injury blue",
         "stats": {
          "histogram": [
           {
            "bin_end": 6.3,
            "bin_start": 3,
            "count": 5
           },
           {
            "bin_end": 9.6,
            "bin_start": 6.3,
            "count": 1
           },
           {
            "bin_end": 12.899999999999999,
            "bin_start": 9.6,
            "count": 1
           },
           {
            "bin_end": 16.2,
            "bin_start": 12.899999999999999,
            "count": 0
           },
           {
            "bin_end": 19.5,
            "bin_start": 16.2,
            "count": 0
           },
           {
            "bin_end": 22.799999999999997,
            "bin_start": 19.5,
            "count": 0
           },
           {
            "bin_end": 26.099999999999998,
            "bin_start": 22.799999999999997,
            "count": 0
           },
           {
            "bin_end": 29.4,
            "bin_start": 26.099999999999998,
            "count": 0
           },
           {
            "bin_end": 32.7,
            "bin_start": 29.4,
            "count": 0
           },
           {
            "bin_end": 36,
            "bin_start": 32.7,
            "count": 1
           }
          ],
          "max": "36.0",
          "min": "3.0",
          "nan_count": 1,
          "unique_count": 6
         }
        },
        {
         "dtype": "float64",
         "name": "injury bronze",
         "stats": {
          "histogram": [
           {
            "bin_end": 8.1,
            "bin_start": 1,
            "count": 5
           },
           {
            "bin_end": 15.2,
            "bin_start": 8.1,
            "count": 2
           },
           {
            "bin_end": 22.299999999999997,
            "bin_start": 15.2,
            "count": 0
           },
           {
            "bin_end": 29.4,
            "bin_start": 22.299999999999997,
            "count": 1
           },
           {
            "bin_end": 36.5,
            "bin_start": 29.4,
            "count": 0
           },
           {
            "bin_end": 43.599999999999994,
            "bin_start": 36.5,
            "count": 0
           },
           {
            "bin_end": 50.699999999999996,
            "bin_start": 43.599999999999994,
            "count": 0
           },
           {
            "bin_end": 57.8,
            "bin_start": 50.699999999999996,
            "count": 0
           },
           {
            "bin_end": 64.9,
            "bin_start": 57.8,
            "count": 0
           },
           {
            "bin_end": 72,
            "bin_start": 64.9,
            "count": 1
           }
          ],
          "max": "72.0",
          "min": "1.0",
          "nan_count": 0,
          "unique_count": 8
         }
        },
        {
         "dtype": "float64",
         "name": "injury brown",
         "stats": {
          "histogram": [
           {
            "bin_end": 1.5,
            "bin_start": 1,
            "count": 1
           },
           {
            "bin_end": 2,
            "bin_start": 1.5,
            "count": 0
           },
           {
            "bin_end": 2.5,
            "bin_start": 2,
            "count": 1
           },
           {
            "bin_end": 3,
            "bin_start": 2.5,
            "count": 0
           },
           {
            "bin_end": 3.5,
            "bin_start": 3,
            "count": 1
           },
           {
            "bin_end": 4,
            "bin_start": 3.5,
            "count": 0
           },
           {
            "bin_end": 4.5,
            "bin_start": 4,
            "count": 0
           },
           {
            "bin_end": 5,
            "bin_start": 4.5,
            "count": 0
           },
           {
            "bin_end": 5.5,
            "bin_start": 5,
            "count": 0
           },
           {
            "bin_end": 6,
            "bin_start": 5.5,
            "count": 1
           }
          ],
          "max": "6.0",
          "min": "1.0",
          "nan_count": 5,
          "unique_count": 4
         }
        },
        {
         "dtype": "float64",
         "name": "injury bull",
         "stats": {
          "histogram": [
           {
            "bin_end": 22.7,
            "bin_start": 4,
            "count": 5
           },
           {
            "bin_end": 41.4,
            "bin_start": 22.7,
            "count": 1
           },
           {
            "bin_end": 60.099999999999994,
            "bin_start": 41.4,
            "count": 1
           },
           {
            "bin_end": 78.8,
            "bin_start": 60.099999999999994,
            "count": 1
           },
           {
            "bin_end": 97.5,
            "bin_start": 78.8,
            "count": 0
           },
           {
            "bin_end": 116.19999999999999,
            "bin_start": 97.5,
            "count": 0
           },
           {
            "bin_end": 134.9,
            "bin_start": 116.19999999999999,
            "count": 0
           },
           {
            "bin_end": 153.6,
            "bin_start": 134.9,
            "count": 0
           },
           {
            "bin_end": 172.29999999999998,
            "bin_start": 153.6,
            "count": 0
           },
           {
            "bin_end": 191,
            "bin_start": 172.29999999999998,
            "count": 1
           }
          ],
          "max": "191.0",
          "min": "4.0",
          "nan_count": 0,
          "unique_count": 7
         }
        },
        {
         "dtype": "float64",
         "name": "injury galapagos",
         "stats": {
          "histogram": [
           {
            "bin_end": 1.7,
            "bin_start": 1,
            "count": 1
           },
           {
            "bin_end": 2.4,
            "bin_start": 1.7,
            "count": 1
           },
           {
            "bin_end": 3.0999999999999996,
            "bin_start": 2.4,
            "count": 0
           },
           {
            "bin_end": 3.8,
            "bin_start": 3.0999999999999996,
            "count": 0
           },
           {
            "bin_end": 4.5,
            "bin_start": 3.8,
            "count": 0
           },
           {
            "bin_end": 5.199999999999999,
            "bin_start": 4.5,
            "count": 1
           },
           {
            "bin_end": 5.8999999999999995,
            "bin_start": 5.199999999999999,
            "count": 0
           },
           {
            "bin_end": 6.6,
            "bin_start": 5.8999999999999995,
            "count": 0
           },
           {
            "bin_end": 7.3,
            "bin_start": 6.6,
            "count": 0
           },
           {
            "bin_end": 8,
            "bin_start": 7.3,
            "count": 1
           }
          ],
          "max": "8.0",
          "min": "1.0",
          "nan_count": 5,
          "unique_count": 4
         }
        },
        {
         "dtype": "float64",
         "name": "injury gray",
         "stats": {
          "histogram": [
           {
            "bin_end": 1.4,
            "bin_start": 1,
            "count": 3
           },
           {
            "bin_end": 1.8,
            "bin_start": 1.4,
            "count": 0
           },
           {
            "bin_end": 2.2,
            "bin_start": 1.8,
            "count": 1
           },
           {
            "bin_end": 2.6,
            "bin_start": 2.2,
            "count": 0
           },
           {
            "bin_end": 3,
            "bin_start": 2.6,
            "count": 0
           },
           {
            "bin_end": 3.4000000000000004,
            "bin_start": 3,
            "count": 0
           },
           {
            "bin_end": 3.8000000000000003,
            "bin_start": 3.4000000000000004,
            "count": 0
           },
           {
            "bin_end": 4.2,
            "bin_start": 3.8000000000000003,
            "count": 0
           },
           {
            "bin_end": 4.6,
            "bin_start": 4.2,
            "count": 0
           },
           {
            "bin_end": 5,
            "bin_start": 4.6,
            "count": 1
           }
          ],
          "max": "5.0",
          "min": "1.0",
          "nan_count": 4,
          "unique_count": 3
         }
        },
        {
         "dtype": "float64",
         "name": "injury grey",
         "stats": {
          "histogram": [
           {
            "bin_end": 3.5,
            "bin_start": 1,
            "count": 4
           },
           {
            "bin_end": 6,
            "bin_start": 3.5,
            "count": 1
           },
           {
            "bin_end": 8.5,
            "bin_start": 6,
            "count": 2
           },
           {
            "bin_end": 11,
            "bin_start": 8.5,
            "count": 0
           },
           {
            "bin_end": 13.5,
            "bin_start": 11,
            "count": 0
           },
           {
            "bin_end": 16,
            "bin_start": 13.5,
            "count": 0
           },
           {
            "bin_end": 18.5,
            "bin_start": 16,
            "count": 0
           },
           {
            "bin_end": 21,
            "bin_start": 18.5,
            "count": 0
           },
           {
            "bin_end": 23.5,
            "bin_start": 21,
            "count": 0
           },
           {
            "bin_end": 26,
            "bin_start": 23.5,
            "count": 1
           }
          ],
          "max": "26.0",
          "min": "1.0",
          "nan_count": 1,
          "unique_count": 6
         }
        },
        {
         "dtype": "float64",
         "name": "injury hammer",
         "stats": {
          "histogram": [
           {
            "bin_end": 7.6,
            "bin_start": 4,
            "count": 3
           },
           {
            "bin_end": 11.2,
            "bin_start": 7.6,
            "count": 3
           },
           {
            "bin_end": 14.8,
            "bin_start": 11.2,
            "count": 0
           },
           {
            "bin_end": 18.4,
            "bin_start": 14.8,
            "count": 0
           },
           {
            "bin_end": 22,
            "bin_start": 18.4,
            "count": 0
           },
           {
            "bin_end": 25.6,
            "bin_start": 22,
            "count": 0
           },
           {
            "bin_end": 29.2,
            "bin_start": 25.6,
            "count": 0
           },
           {
            "bin_end": 32.8,
            "bin_start": 29.2,
            "count": 0
           },
           {
            "bin_end": 36.4,
            "bin_start": 32.8,
            "count": 0
           },
           {
            "bin_end": 40,
            "bin_start": 36.4,
            "count": 1
           }
          ],
          "max": "40.0",
          "min": "4.0",
          "nan_count": 2,
          "unique_count": 5
         }
        },
        {
         "dtype": "float64",
         "name": "injury lemon",
         "stats": {
          "histogram": [
           {
            "bin_end": 5.9,
            "bin_start": 2,
            "count": 5
           },
           {
            "bin_end": 9.8,
            "bin_start": 5.9,
            "count": 1
           },
           {
            "bin_end": 13.7,
            "bin_start": 9.8,
            "count": 0
           },
           {
            "bin_end": 17.6,
            "bin_start": 13.7,
            "count": 1
           },
           {
            "bin_end": 21.5,
            "bin_start": 17.6,
            "count": 0
           },
           {
            "bin_end": 25.4,
            "bin_start": 21.5,
            "count": 0
           },
           {
            "bin_end": 29.3,
            "bin_start": 25.4,
            "count": 0
           },
           {
            "bin_end": 33.2,
            "bin_start": 29.3,
            "count": 0
           },
           {
            "bin_end": 37.1,
            "bin_start": 33.2,
            "count": 0
           },
           {
            "bin_end": 41,
            "bin_start": 37.1,
            "count": 1
           }
          ],
          "max": "41.0",
          "min": "2.0",
          "nan_count": 1,
          "unique_count": 7
         }
        },
        {
         "dtype": "float64",
         "name": "injury mako",
         "stats": {
          "histogram": [
           {
            "bin_end": 6.3,
            "bin_start": 2,
            "count": 6
           },
           {
            "bin_end": 10.6,
            "bin_start": 6.3,
            "count": 1
           },
           {
            "bin_end": 14.899999999999999,
            "bin_start": 10.6,
            "count": 1
           },
           {
            "bin_end": 19.2,
            "bin_start": 14.899999999999999,
            "count": 0
           },
           {
            "bin_end": 23.5,
            "bin_start": 19.2,
            "count": 0
           },
           {
            "bin_end": 27.799999999999997,
            "bin_start": 23.5,
            "count": 0
           },
           {
            "bin_end": 32.099999999999994,
            "bin_start": 27.799999999999997,
            "count": 0
           },
           {
            "bin_end": 36.4,
            "bin_start": 32.099999999999994,
            "count": 0
           },
           {
            "bin_end": 40.699999999999996,
            "bin_start": 36.4,
            "count": 0
           },
           {
            "bin_end": 45,
            "bin_start": 40.699999999999996,
            "count": 1
           }
          ],
          "max": "45.0",
          "min": "2.0",
          "nan_count": 0,
          "unique_count": 8
         }
        },
        {
         "dtype": "float64",
         "name": "injury nurse",
         "stats": {
          "histogram": [
           {
            "bin_end": 10.6,
            "bin_start": 2,
            "count": 5
           },
           {
            "bin_end": 19.2,
            "bin_start": 10.6,
            "count": 1
           },
           {
            "bin_end": 27.799999999999997,
            "bin_start": 19.2,
            "count": 2
           },
           {
            "bin_end": 36.4,
            "bin_start": 27.799999999999997,
            "count": 0
           },
           {
            "bin_end": 45,
            "bin_start": 36.4,
            "count": 0
           },
           {
            "bin_end": 53.599999999999994,
            "bin_start": 45,
            "count": 0
           },
           {
            "bin_end": 62.199999999999996,
            "bin_start": 53.599999999999994,
            "count": 0
           },
           {
            "bin_end": 70.8,
            "bin_start": 62.199999999999996,
            "count": 0
           },
           {
            "bin_end": 79.39999999999999,
            "bin_start": 70.8,
            "count": 0
           },
           {
            "bin_end": 88,
            "bin_start": 79.39999999999999,
            "count": 1
           }
          ],
          "max": "88.0",
          "min": "2.0",
          "nan_count": 0,
          "unique_count": 9
         }
        },
        {
         "dtype": "float64",
         "name": "injury other_or_not_def",
         "stats": {
          "histogram": [
           {
            "bin_end": 200.7,
            "bin_start": 65,
            "count": 5
           },
           {
            "bin_end": 336.4,
            "bin_start": 200.7,
            "count": 3
           },
           {
            "bin_end": 472.09999999999997,
            "bin_start": 336.4,
            "count": 0
           },
           {
            "bin_end": 607.8,
            "bin_start": 472.09999999999997,
            "count": 0
           },
           {
            "bin_end": 743.5,
            "bin_start": 607.8,
            "count": 0
           },
           {
            "bin_end": 879.1999999999999,
            "bin_start": 743.5,
            "count": 0
           },
           {
            "bin_end": 1014.8999999999999,
            "bin_start": 879.1999999999999,
            "count": 0
           },
           {
            "bin_end": 1150.6,
            "bin_start": 1014.8999999999999,
            "count": 0
           },
           {
            "bin_end": 1286.3,
            "bin_start": 1150.6,
            "count": 0
           },
           {
            "bin_end": 1422,
            "bin_start": 1286.3,
            "count": 1
           }
          ],
          "max": "1422.0",
          "min": "65.0",
          "nan_count": 0,
          "unique_count": 9
         }
        },
        {
         "dtype": "float64",
         "name": "injury spinner",
         "stats": {
          "histogram": [
           {
            "bin_end": 3.3,
            "bin_start": 1,
            "count": 2
           },
           {
            "bin_end": 5.6,
            "bin_start": 3.3,
            "count": 1
           },
           {
            "bin_end": 7.8999999999999995,
            "bin_start": 5.6,
            "count": 1
           },
           {
            "bin_end": 10.2,
            "bin_start": 7.8999999999999995,
            "count": 1
           },
           {
            "bin_end": 12.5,
            "bin_start": 10.2,
            "count": 0
           },
           {
            "bin_end": 14.799999999999999,
            "bin_start": 12.5,
            "count": 0
           },
           {
            "bin_end": 17.099999999999998,
            "bin_start": 14.799999999999999,
            "count": 0
           },
           {
            "bin_end": 19.4,
            "bin_start": 17.099999999999998,
            "count": 0
           },
           {
            "bin_end": 21.7,
            "bin_start": 19.4,
            "count": 0
           },
           {
            "bin_end": 24,
            "bin_start": 21.7,
            "count": 1
           }
          ],
          "max": "24.0",
          "min": "1.0",
          "nan_count": 3,
          "unique_count": 6
         }
        },
        {
         "dtype": "float64",
         "name": "injury tiger",
         "stats": {
          "histogram": [
           {
            "bin_end": 30.8,
            "bin_start": 4,
            "count": 5
           },
           {
            "bin_end": 57.6,
            "bin_start": 30.8,
            "count": 1
           },
           {
            "bin_end": 84.4,
            "bin_start": 57.6,
            "count": 2
           },
           {
            "bin_end": 111.2,
            "bin_start": 84.4,
            "count": 0
           },
           {
            "bin_end": 138,
            "bin_start": 111.2,
            "count": 0
           },
           {
            "bin_end": 164.8,
            "bin_start": 138,
            "count": 0
           },
           {
            "bin_end": 191.6,
            "bin_start": 164.8,
            "count": 0
           },
           {
            "bin_end": 218.4,
            "bin_start": 191.6,
            "count": 0
           },
           {
            "bin_end": 245.20000000000002,
            "bin_start": 218.4,
            "count": 0
           },
           {
            "bin_end": 272,
            "bin_start": 245.20000000000002,
            "count": 1
           }
          ],
          "max": "272.0",
          "min": "4.0",
          "nan_count": 0,
          "unique_count": 9
         }
        },
        {
         "dtype": "float64",
         "name": "injury white",
         "stats": {
          "histogram": [
           {
            "bin_end": 99.9,
            "bin_start": 41,
            "count": 6
           },
           {
            "bin_end": 158.8,
            "bin_start": 99.9,
            "count": 2
           },
           {
            "bin_end": 217.7,
            "bin_start": 158.8,
            "count": 0
           },
           {
            "bin_end": 276.6,
            "bin_start": 217.7,
            "count": 0
           },
           {
            "bin_end": 335.5,
            "bin_start": 276.6,
            "count": 0
           },
           {
            "bin_end": 394.4,
            "bin_start": 335.5,
            "count": 0
           },
           {
            "bin_end": 453.3,
            "bin_start": 394.4,
            "count": 0
           },
           {
            "bin_end": 512.2,
            "bin_start": 453.3,
            "count": 0
           },
           {
            "bin_end": 571.1,
            "bin_start": 512.2,
            "count": 0
           },
           {
            "bin_end": 630,
            "bin_start": 571.1,
            "count": 1
           }
          ],
          "max": "630.0",
          "min": "41.0",
          "nan_count": 0,
          "unique_count": 9
         }
        },
        {
         "dtype": "float64",
         "name": "injury whitetip",
         "stats": {
          "histogram": [
           {
            "bin_end": 4.6,
            "bin_start": 1,
            "count": 4
           },
           {
            "bin_end": 8.2,
            "bin_start": 4.6,
            "count": 1
           },
           {
            "bin_end": 11.8,
            "bin_start": 8.2,
            "count": 1
           },
           {
            "bin_end": 15.4,
            "bin_start": 11.8,
            "count": 1
           },
           {
            "bin_end": 19,
            "bin_start": 15.4,
            "count": 0
           },
           {
            "bin_end": 22.6,
            "bin_start": 19,
            "count": 0
           },
           {
            "bin_end": 26.2,
            "bin_start": 22.6,
            "count": 0
           },
           {
            "bin_end": 29.8,
            "bin_start": 26.2,
            "count": 0
           },
           {
            "bin_end": 33.4,
            "bin_start": 29.8,
            "count": 0
           },
           {
            "bin_end": 37,
            "bin_start": 33.4,
            "count": 1
           }
          ],
          "max": "37.0",
          "min": "1.0",
          "nan_count": 1,
          "unique_count": 7
         }
        },
        {
         "dtype": "int64",
         "name": "injury All",
         "stats": {
          "histogram": [
           {
            "bin_end": 460.5,
            "bin_start": 170,
            "count": 6
           },
           {
            "bin_end": 751,
            "bin_start": 460.5,
            "count": 2
           },
           {
            "bin_end": 1041.5,
            "bin_start": 751,
            "count": 0
           },
           {
            "bin_end": 1332,
            "bin_start": 1041.5,
            "count": 0
           },
           {
            "bin_end": 1622.5,
            "bin_start": 1332,
            "count": 0
           },
           {
            "bin_end": 1913,
            "bin_start": 1622.5,
            "count": 0
           },
           {
            "bin_end": 2203.5,
            "bin_start": 1913,
            "count": 0
           },
           {
            "bin_end": 2494,
            "bin_start": 2203.5,
            "count": 0
           },
           {
            "bin_end": 2784.5,
            "bin_start": 2494,
            "count": 0
           },
           {
            "bin_end": 3075,
            "bin_start": 2784.5,
            "count": 1
           }
          ],
          "max": "3075",
          "min": "170",
          "nan_count": 0,
          "unique_count": 9
         }
        },
        {
         "dtype": "object",
         "name": "_deepnote_index_column"
        }
       ],
       "row_count": 9,
       "rows": [
        {
         "_deepnote_index_column": "1950",
         "injury All": 242,
         "injury black": 2,
         "injury blue": 7,
         "injury bronze": 1,
         "injury brown": 3,
         "injury bull": 4,
         "injury galapagos": "nan",
         "injury gray": "nan",
         "injury grey": "nan",
         "injury hammer": 8,
         "injury lemon": 2,
         "injury mako": 5,
         "injury nurse": 10,
         "injury other_or_not_def": 136,
         "injury spinner": "nan",
         "injury tiger": 17,
         "injury white": 45,
         "injury whitetip": 2
        },
        {
         "_deepnote_index_column": "1960",
         "injury All": 377,
         "injury black": 8,
         "injury blue": 3,
         "injury bronze": 14,
         "injury brown": 1,
         "injury bull": 4,
         "injury galapagos": 1,
         "injury gray": 1,
         "injury grey": 2,
         "injury hammer": 9,
         "injury lemon": 4,
         "injury mako": 6,
         "injury nurse": 24,
         "injury other_or_not_def": 222,
         "injury spinner": "nan",
         "injury tiger": 14,
         "injury white": 62,
         "injury whitetip": 2
        },
        {
         "_deepnote_index_column": "1970",
         "injury All": 170,
         "injury black": 4,
         "injury blue": 4,
         "injury bronze": 5,
         "injury brown": "nan",
         "injury bull": 4,
         "injury galapagos": "nan",
         "injury gray": "nan",
         "injury grey": 3,
         "injury hammer": "nan",
         "injury lemon": "nan",
         "injury mako": 3,
         "injury nurse": 2,
         "injury other_or_not_def": 77,
         "injury spinner": "nan",
         "injury tiger": 4,
         "injury white": 63,
         "injury whitetip": 1
        },
        {
         "_deepnote_index_column": "1980",
         "injury All": 278,
         "injury black": 7,
         "injury blue": 5,
         "injury bronze": 5,
         "injury brown": "nan",
         "injury bull": 5,
         "injury galapagos": "nan",
         "injury gray": 1,
         "injury grey": 1,
         "injury hammer": 9,
         "injury lemon": 3,
         "injury mako": 3,
         "injury nurse": 3,
         "injury other_or_not_def": 138,
         "injury spinner": 2,
         "injury tiger": 23,
         "injury white": 73,
         "injury whitetip": "nan"
        },
        {
         "_deepnote_index_column": "1990",
         "injury All": 366,
         "injury black": 16,
         "injury blue": "nan",
         "injury bronze": 6,
         "injury brown": "nan",
         "injury bull": 14,
         "injury galapagos": "nan",
         "injury gray": "nan",
         "injury grey": 5,
         "injury hammer": 4,
         "injury lemon": 5,
         "injury mako": 4,
         "injury nurse": 6,
         "injury other_or_not_def": 155,
         "injury spinner": 7,
         "injury tiger": 42,
         "injury white": 99,
         "injury whitetip": 3
        },
        {
         "_deepnote_index_column": "2000",
         "injury All": 681,
         "injury black": 37,
         "injury blue": 4,
         "injury bronze": 25,
         "injury brown": 2,
         "injury bull": 56,
         "injury galapagos": "nan",
         "injury gray": 2,
         "injury grey": 7,
         "injury hammer": 5,
         "injury lemon": 4,
         "injury mako": 13,
         "injury nurse": 13,
         "injury other_or_not_def": 330,
         "injury spinner": 4,
         "injury tiger": 64,
         "injury white": 106,
         "injury whitetip": 9
        },
        {
         "_deepnote_index_column": "2010",
         "injury All": 745,
         "injury black": 37,
         "injury blue": 10,
         "injury bronze": 9,
         "injury brown": "nan",
         "injury bull": 73,
         "injury galapagos": 5,
         "injury gray": 1,
         "injury grey": 7,
         "injury hammer": 5,
         "injury lemon": 17,
         "injury mako": 9,
         "injury nurse": 25,
         "injury other_or_not_def": 299,
         "injury spinner": 10,
         "injury tiger": 83,
         "injury white": 141,
         "injury whitetip": 14
        },
        {
         "_deepnote_index_column": "2020",
         "injury All": 216,
         "injury black": 21,
         "injury blue": 3,
         "injury bronze": 7,
         "injury brown": "nan",
         "injury bull": 31,
         "injury galapagos": 2,
         "injury gray": "nan",
         "injury grey": 1,
         "injury hammer": "nan",
         "injury lemon": 6,
         "injury mako": 2,
         "injury nurse": 5,
         "injury other_or_not_def": 65,
         "injury spinner": 1,
         "injury tiger": 25,
         "injury white": 41,
         "injury whitetip": 6
        },
        {
         "_deepnote_index_column": "All",
         "injury All": 3075,
         "injury black": 132,
         "injury blue": 36,
         "injury bronze": 72,
         "injury brown": 6,
         "injury bull": 191,
         "injury galapagos": 8,
         "injury gray": 5,
         "injury grey": 26,
         "injury hammer": 40,
         "injury lemon": 41,
         "injury mako": 45,
         "injury nurse": 88,
         "injury other_or_not_def": 1422,
         "injury spinner": 24,
         "injury tiger": 272,
         "injury white": 630,
         "injury whitetip": 37
        }
       ]
      },
      "text/html": [
       "<div>\n",
       "<style scoped>\n",
       "    .dataframe tbody tr th:only-of-type {\n",
       "        vertical-align: middle;\n",
       "    }\n",
       "\n",
       "    .dataframe tbody tr th {\n",
       "        vertical-align: top;\n",
       "    }\n",
       "\n",
       "    .dataframe thead tr th {\n",
       "        text-align: left;\n",
       "    }\n",
       "\n",
       "    .dataframe thead tr:last-of-type th {\n",
       "        text-align: right;\n",
       "    }\n",
       "</style>\n",
       "<table border=\"1\" class=\"dataframe\">\n",
       "  <thead>\n",
       "    <tr>\n",
       "      <th></th>\n",
       "      <th colspan=\"18\" halign=\"left\">injury</th>\n",
       "    </tr>\n",
       "    <tr>\n",
       "      <th>shark_group</th>\n",
       "      <th>black</th>\n",
       "      <th>blue</th>\n",
       "      <th>bronze</th>\n",
       "      <th>brown</th>\n",
       "      <th>bull</th>\n",
       "      <th>galapagos</th>\n",
       "      <th>gray</th>\n",
       "      <th>grey</th>\n",
       "      <th>hammer</th>\n",
       "      <th>lemon</th>\n",
       "      <th>mako</th>\n",
       "      <th>nurse</th>\n",
       "      <th>other_or_not_def</th>\n",
       "      <th>spinner</th>\n",
       "      <th>tiger</th>\n",
       "      <th>white</th>\n",
       "      <th>whitetip</th>\n",
       "      <th>All</th>\n",
       "    </tr>\n",
       "    <tr>\n",
       "      <th>decade</th>\n",
       "      <th></th>\n",
       "      <th></th>\n",
       "      <th></th>\n",
       "      <th></th>\n",
       "      <th></th>\n",
       "      <th></th>\n",
       "      <th></th>\n",
       "      <th></th>\n",
       "      <th></th>\n",
       "      <th></th>\n",
       "      <th></th>\n",
       "      <th></th>\n",
       "      <th></th>\n",
       "      <th></th>\n",
       "      <th></th>\n",
       "      <th></th>\n",
       "      <th></th>\n",
       "      <th></th>\n",
       "    </tr>\n",
       "  </thead>\n",
       "  <tbody>\n",
       "    <tr>\n",
       "      <th>1950</th>\n",
       "      <td>2.0</td>\n",
       "      <td>7.0</td>\n",
       "      <td>1.0</td>\n",
       "      <td>3.0</td>\n",
       "      <td>4.0</td>\n",
       "      <td>NaN</td>\n",
       "      <td>NaN</td>\n",
       "      <td>NaN</td>\n",
       "      <td>8.0</td>\n",
       "      <td>2.0</td>\n",
       "      <td>5.0</td>\n",
       "      <td>10.0</td>\n",
       "      <td>136.0</td>\n",
       "      <td>NaN</td>\n",
       "      <td>17.0</td>\n",
       "      <td>45.0</td>\n",
       "      <td>2.0</td>\n",
       "      <td>242</td>\n",
       "    </tr>\n",
       "    <tr>\n",
       "      <th>1960</th>\n",
       "      <td>8.0</td>\n",
       "      <td>3.0</td>\n",
       "      <td>14.0</td>\n",
       "      <td>1.0</td>\n",
       "      <td>4.0</td>\n",
       "      <td>1.0</td>\n",
       "      <td>1.0</td>\n",
       "      <td>2.0</td>\n",
       "      <td>9.0</td>\n",
       "      <td>4.0</td>\n",
       "      <td>6.0</td>\n",
       "      <td>24.0</td>\n",
       "      <td>222.0</td>\n",
       "      <td>NaN</td>\n",
       "      <td>14.0</td>\n",
       "      <td>62.0</td>\n",
       "      <td>2.0</td>\n",
       "      <td>377</td>\n",
       "    </tr>\n",
       "    <tr>\n",
       "      <th>1970</th>\n",
       "      <td>4.0</td>\n",
       "      <td>4.0</td>\n",
       "      <td>5.0</td>\n",
       "      <td>NaN</td>\n",
       "      <td>4.0</td>\n",
       "      <td>NaN</td>\n",
       "      <td>NaN</td>\n",
       "      <td>3.0</td>\n",
       "      <td>NaN</td>\n",
       "      <td>NaN</td>\n",
       "      <td>3.0</td>\n",
       "      <td>2.0</td>\n",
       "      <td>77.0</td>\n",
       "      <td>NaN</td>\n",
       "      <td>4.0</td>\n",
       "      <td>63.0</td>\n",
       "      <td>1.0</td>\n",
       "      <td>170</td>\n",
       "    </tr>\n",
       "    <tr>\n",
       "      <th>1980</th>\n",
       "      <td>7.0</td>\n",
       "      <td>5.0</td>\n",
       "      <td>5.0</td>\n",
       "      <td>NaN</td>\n",
       "      <td>5.0</td>\n",
       "      <td>NaN</td>\n",
       "      <td>1.0</td>\n",
       "      <td>1.0</td>\n",
       "      <td>9.0</td>\n",
       "      <td>3.0</td>\n",
       "      <td>3.0</td>\n",
       "      <td>3.0</td>\n",
       "      <td>138.0</td>\n",
       "      <td>2.0</td>\n",
       "      <td>23.0</td>\n",
       "      <td>73.0</td>\n",
       "      <td>NaN</td>\n",
       "      <td>278</td>\n",
       "    </tr>\n",
       "    <tr>\n",
       "      <th>1990</th>\n",
       "      <td>16.0</td>\n",
       "      <td>NaN</td>\n",
       "      <td>6.0</td>\n",
       "      <td>NaN</td>\n",
       "      <td>14.0</td>\n",
       "      <td>NaN</td>\n",
       "      <td>NaN</td>\n",
       "      <td>5.0</td>\n",
       "      <td>4.0</td>\n",
       "      <td>5.0</td>\n",
       "      <td>4.0</td>\n",
       "      <td>6.0</td>\n",
       "      <td>155.0</td>\n",
       "      <td>7.0</td>\n",
       "      <td>42.0</td>\n",
       "      <td>99.0</td>\n",
       "      <td>3.0</td>\n",
       "      <td>366</td>\n",
       "    </tr>\n",
       "    <tr>\n",
       "      <th>2000</th>\n",
       "      <td>37.0</td>\n",
       "      <td>4.0</td>\n",
       "      <td>25.0</td>\n",
       "      <td>2.0</td>\n",
       "      <td>56.0</td>\n",
       "      <td>NaN</td>\n",
       "      <td>2.0</td>\n",
       "      <td>7.0</td>\n",
       "      <td>5.0</td>\n",
       "      <td>4.0</td>\n",
       "      <td>13.0</td>\n",
       "      <td>13.0</td>\n",
       "      <td>330.0</td>\n",
       "      <td>4.0</td>\n",
       "      <td>64.0</td>\n",
       "      <td>106.0</td>\n",
       "      <td>9.0</td>\n",
       "      <td>681</td>\n",
       "    </tr>\n",
       "    <tr>\n",
       "      <th>2010</th>\n",
       "      <td>37.0</td>\n",
       "      <td>10.0</td>\n",
       "      <td>9.0</td>\n",
       "      <td>NaN</td>\n",
       "      <td>73.0</td>\n",
       "      <td>5.0</td>\n",
       "      <td>1.0</td>\n",
       "      <td>7.0</td>\n",
       "      <td>5.0</td>\n",
       "      <td>17.0</td>\n",
       "      <td>9.0</td>\n",
       "      <td>25.0</td>\n",
       "      <td>299.0</td>\n",
       "      <td>10.0</td>\n",
       "      <td>83.0</td>\n",
       "      <td>141.0</td>\n",
       "      <td>14.0</td>\n",
       "      <td>745</td>\n",
       "    </tr>\n",
       "    <tr>\n",
       "      <th>2020</th>\n",
       "      <td>21.0</td>\n",
       "      <td>3.0</td>\n",
       "      <td>7.0</td>\n",
       "      <td>NaN</td>\n",
       "      <td>31.0</td>\n",
       "      <td>2.0</td>\n",
       "      <td>NaN</td>\n",
       "      <td>1.0</td>\n",
       "      <td>NaN</td>\n",
       "      <td>6.0</td>\n",
       "      <td>2.0</td>\n",
       "      <td>5.0</td>\n",
       "      <td>65.0</td>\n",
       "      <td>1.0</td>\n",
       "      <td>25.0</td>\n",
       "      <td>41.0</td>\n",
       "      <td>6.0</td>\n",
       "      <td>216</td>\n",
       "    </tr>\n",
       "    <tr>\n",
       "      <th>All</th>\n",
       "      <td>132.0</td>\n",
       "      <td>36.0</td>\n",
       "      <td>72.0</td>\n",
       "      <td>6.0</td>\n",
       "      <td>191.0</td>\n",
       "      <td>8.0</td>\n",
       "      <td>5.0</td>\n",
       "      <td>26.0</td>\n",
       "      <td>40.0</td>\n",
       "      <td>41.0</td>\n",
       "      <td>45.0</td>\n",
       "      <td>88.0</td>\n",
       "      <td>1422.0</td>\n",
       "      <td>24.0</td>\n",
       "      <td>272.0</td>\n",
       "      <td>630.0</td>\n",
       "      <td>37.0</td>\n",
       "      <td>3075</td>\n",
       "    </tr>\n",
       "  </tbody>\n",
       "</table>\n",
       "</div>"
      ],
      "text/plain": [
       "            injury                                                        \\\n",
       "shark_group  black  blue bronze brown   bull galapagos gray  grey hammer   \n",
       "decade                                                                     \n",
       "1950           2.0   7.0    1.0   3.0    4.0       NaN  NaN   NaN    8.0   \n",
       "1960           8.0   3.0   14.0   1.0    4.0       1.0  1.0   2.0    9.0   \n",
       "1970           4.0   4.0    5.0   NaN    4.0       NaN  NaN   3.0    NaN   \n",
       "1980           7.0   5.0    5.0   NaN    5.0       NaN  1.0   1.0    9.0   \n",
       "1990          16.0   NaN    6.0   NaN   14.0       NaN  NaN   5.0    4.0   \n",
       "2000          37.0   4.0   25.0   2.0   56.0       NaN  2.0   7.0    5.0   \n",
       "2010          37.0  10.0    9.0   NaN   73.0       5.0  1.0   7.0    5.0   \n",
       "2020          21.0   3.0    7.0   NaN   31.0       2.0  NaN   1.0    NaN   \n",
       "All          132.0  36.0   72.0   6.0  191.0       8.0  5.0  26.0   40.0   \n",
       "\n",
       "                                                                               \\\n",
       "shark_group lemon  mako nurse other_or_not_def spinner  tiger  white whitetip   \n",
       "decade                                                                          \n",
       "1950          2.0   5.0  10.0            136.0     NaN   17.0   45.0      2.0   \n",
       "1960          4.0   6.0  24.0            222.0     NaN   14.0   62.0      2.0   \n",
       "1970          NaN   3.0   2.0             77.0     NaN    4.0   63.0      1.0   \n",
       "1980          3.0   3.0   3.0            138.0     2.0   23.0   73.0      NaN   \n",
       "1990          5.0   4.0   6.0            155.0     7.0   42.0   99.0      3.0   \n",
       "2000          4.0  13.0  13.0            330.0     4.0   64.0  106.0      9.0   \n",
       "2010         17.0   9.0  25.0            299.0    10.0   83.0  141.0     14.0   \n",
       "2020          6.0   2.0   5.0             65.0     1.0   25.0   41.0      6.0   \n",
       "All          41.0  45.0  88.0           1422.0    24.0  272.0  630.0     37.0   \n",
       "\n",
       "                   \n",
       "shark_group   All  \n",
       "decade             \n",
       "1950          242  \n",
       "1960          377  \n",
       "1970          170  \n",
       "1980          278  \n",
       "1990          366  \n",
       "2000          681  \n",
       "2010          745  \n",
       "2020          216  \n",
       "All          3075  "
      ]
     },
     "execution_count": 31,
     "metadata": {},
     "output_type": "execute_result"
    }
   ],
   "source": [
    "main_country=[\"USA\",\"AUSTRALIA\",\"BRAZIL\",\"SOUTH AFRICA\",\"NEW ZEALAND\",\"BAHAMAS\",\"MEXICO\"]\n",
    "shark_top5=[\"white\",\"tiger\",\"bull\", \"other_or_not_def\",\"blue\"] \n",
    "shark['decade'] = shark['year_fixed'].astype(float).fillna(np.nan).astype('Int64') // 10 * 10\n",
    "\n",
    "\n",
    "pivot_shark2 = shark.pivot_table(index='decade', columns='shark_group', values=['injury'], aggfunc='count',margins=True)\n",
    "pivot_shark2"
   ]
  },
  {
   "cell_type": "code",
   "execution_count": null,
   "metadata": {
    "cell_id": "5764cd81decf4280b19adcc54911dc58",
    "deepnote_cell_type": "visualization",
    "deepnote_variable_name": "pivot_shark2",
    "deepnote_visualization_spec": {
     "$schema": "https://vega.github.io/schema/vega-lite/v5.json",
     "config": {
      "customFormatTypes": true
     },
     "encoding": {
      "color": {
       "field": "",
       "format": {
        "decimals": null,
        "type": "default"
       },
       "scale": {
        "type": "linear"
       },
       "sort": null,
       "type": "nominal"
      },
      "x": {
       "field": "",
       "format": {
        "decimals": null,
        "type": "default"
       },
       "scale": {
        "type": "linear"
       },
       "sort": null,
       "type": "nominal"
      },
      "y": {
       "field": "",
       "format": {
        "decimals": null,
        "type": "default"
       },
       "scale": {
        "type": "linear"
       },
       "sort": null,
       "type": "nominal"
      }
     },
     "height": "container",
     "mark": {
      "tooltip": true,
      "type": "bar"
     },
     "width": "container"
    }
   },
   "outputs": [],
   "source": [
    "DeepnoteChart(pivot_shark2, \"\"\"{\"mark\":{\"type\":\"bar\",\"tooltip\":true},\"width\":\"container\",\"config\":{\"customFormatTypes\":true},\"height\":\"container\",\"$schema\":\"https://vega.github.io/schema/vega-lite/v5.json\",\"encoding\":{\"x\":{\"sort\":null,\"type\":\"nominal\",\"field\":\"\",\"scale\":{\"type\":\"linear\"},\"format\":{\"type\":\"default\",\"decimals\":null}},\"y\":{\"sort\":null,\"type\":\"nominal\",\"field\":\"\",\"scale\":{\"type\":\"linear\"},\"format\":{\"type\":\"default\",\"decimals\":null}},\"color\":{\"sort\":null,\"type\":\"nominal\",\"field\":\"\",\"scale\":{\"type\":\"linear\"},\"format\":{\"type\":\"default\",\"decimals\":null}}}}\"\"\")"
   ]
  },
  {
   "cell_type": "markdown",
   "metadata": {
    "cell_id": "e177201bb2bd4439b956aff6b7f01ef6",
    "deepnote_cell_type": "text-cell-p",
    "formattedRanges": []
   },
   "source": [
    "Mon chapeau a 4 bosses, 4 bosses mon chapeau, et s'il n'avit pas 4 bosses, ce ne serait pas mon chapeau "
   ]
  },
  {
   "cell_type": "markdown",
   "metadata": {
    "cell_id": "117f1800d05440f78fa62b5db27cee98",
    "deepnote_cell_type": "text-cell-h2",
    "formattedRanges": []
   },
   "source": [
    "## Number of deaths per gender per country"
   ]
  },
  {
   "cell_type": "code",
   "execution_count": null,
   "metadata": {
    "cell_id": "d72b9de891db41debb8520776761c482",
    "deepnote_cell_type": "code",
    "deepnote_table_invalid": false,
    "deepnote_table_loading": false,
    "deepnote_table_state": {
     "filters": [],
     "pageIndex": 0,
     "pageSize": 25,
     "sortBy": []
    },
    "deepnote_to_be_reexecuted": false,
    "execution_millis": 1339,
    "execution_start": 1709886691659,
    "source_hash": null
   },
   "outputs": [
    {
     "data": {
      "application/vnd.deepnote.dataframe.v3+json": {
       "column_count": 3,
       "columns": [
        {
         "dtype": "int64",
         "name": "F",
         "stats": {
          "histogram": [
           {
            "bin_end": 56.7,
            "bin_start": 2,
            "count": 1
           },
           {
            "bin_end": 111.4,
            "bin_start": 56.7,
            "count": 1
           },
           {
            "bin_end": 166.10000000000002,
            "bin_start": 111.4,
            "count": 0
           },
           {
            "bin_end": 220.8,
            "bin_start": 166.10000000000002,
            "count": 0
           },
           {
            "bin_end": 275.5,
            "bin_start": 220.8,
            "count": 0
           },
           {
            "bin_end": 330.20000000000005,
            "bin_start": 275.5,
            "count": 0
           },
           {
            "bin_end": 384.90000000000003,
            "bin_start": 330.20000000000005,
            "count": 0
           },
           {
            "bin_end": 439.6,
            "bin_start": 384.90000000000003,
            "count": 0
           },
           {
            "bin_end": 494.3,
            "bin_start": 439.6,
            "count": 0
           },
           {
            "bin_end": 549,
            "bin_start": 494.3,
            "count": 1
           }
          ],
          "max": "549",
          "min": "2",
          "nan_count": 0,
          "unique_count": 3
         }
        },
        {
         "dtype": "int64",
         "name": "M",
         "stats": {
          "histogram": [
           {
            "bin_end": 385.2,
            "bin_start": 18,
            "count": 1
           },
           {
            "bin_end": 752.4,
            "bin_start": 385.2,
            "count": 0
           },
           {
            "bin_end": 1119.6,
            "bin_start": 752.4,
            "count": 0
           },
           {
            "bin_end": 1486.8,
            "bin_start": 1119.6,
            "count": 1
           },
           {
            "bin_end": 1854,
            "bin_start": 1486.8,
            "count": 0
           },
           {
            "bin_end": 2221.2,
            "bin_start": 1854,
            "count": 0
           },
           {
            "bin_end": 2588.4,
            "bin_start": 2221.2,
            "count": 0
           },
           {
            "bin_end": 2955.6,
            "bin_start": 2588.4,
            "count": 0
           },
           {
            "bin_end": 3322.7999999999997,
            "bin_start": 2955.6,
            "count": 0
           },
           {
            "bin_end": 3690,
            "bin_start": 3322.7999999999997,
            "count": 1
           }
          ],
          "max": "3690",
          "min": "18",
          "nan_count": 0,
          "unique_count": 3
         }
        },
        {
         "dtype": "int64",
         "name": "Unknown",
         "stats": {
          "histogram": [
           {
            "bin_end": 33.9,
            "bin_start": 6,
            "count": 1
           },
           {
            "bin_end": 61.8,
            "bin_start": 33.9,
            "count": 0
           },
           {
            "bin_end": 89.69999999999999,
            "bin_start": 61.8,
            "count": 1
           },
           {
            "bin_end": 117.6,
            "bin_start": 89.69999999999999,
            "count": 0
           },
           {
            "bin_end": 145.5,
            "bin_start": 117.6,
            "count": 0
           },
           {
            "bin_end": 173.39999999999998,
            "bin_start": 145.5,
            "count": 0
           },
           {
            "bin_end": 201.29999999999998,
            "bin_start": 173.39999999999998,
            "count": 0
           },
           {
            "bin_end": 229.2,
            "bin_start": 201.29999999999998,
            "count": 0
           },
           {
            "bin_end": 257.1,
            "bin_start": 229.2,
            "count": 0
           },
           {
            "bin_end": 285,
            "bin_start": 257.1,
            "count": 1
           }
          ],
          "max": "285",
          "min": "6",
          "nan_count": 0,
          "unique_count": 3
         }
        },
        {
         "dtype": "object",
         "name": "_deepnote_index_column"
        }
       ],
       "row_count": 3,
       "rows": [
        {
         "F": 549,
         "M": 3690,
         "Unknown": 285,
         "_deepnote_index_column": "n"
        },
        {
         "F": 2,
         "M": 18,
         "Unknown": 6,
         "_deepnote_index_column": "unknown"
        },
        {
         "F": 109,
         "M": 1152,
         "Unknown": 89,
         "_deepnote_index_column": "y"
        }
       ]
      },
      "text/html": [
       "<div>\n",
       "<style scoped>\n",
       "    .dataframe tbody tr th:only-of-type {\n",
       "        vertical-align: middle;\n",
       "    }\n",
       "\n",
       "    .dataframe tbody tr th {\n",
       "        vertical-align: top;\n",
       "    }\n",
       "\n",
       "    .dataframe thead th {\n",
       "        text-align: right;\n",
       "    }\n",
       "</style>\n",
       "<table border=\"1\" class=\"dataframe\">\n",
       "  <thead>\n",
       "    <tr style=\"text-align: right;\">\n",
       "      <th>sex</th>\n",
       "      <th>F</th>\n",
       "      <th>M</th>\n",
       "      <th>Unknown</th>\n",
       "    </tr>\n",
       "    <tr>\n",
       "      <th>fatality</th>\n",
       "      <th></th>\n",
       "      <th></th>\n",
       "      <th></th>\n",
       "    </tr>\n",
       "  </thead>\n",
       "  <tbody>\n",
       "    <tr>\n",
       "      <th>n</th>\n",
       "      <td>549</td>\n",
       "      <td>3690</td>\n",
       "      <td>285</td>\n",
       "    </tr>\n",
       "    <tr>\n",
       "      <th>unknown</th>\n",
       "      <td>2</td>\n",
       "      <td>18</td>\n",
       "      <td>6</td>\n",
       "    </tr>\n",
       "    <tr>\n",
       "      <th>y</th>\n",
       "      <td>109</td>\n",
       "      <td>1152</td>\n",
       "      <td>89</td>\n",
       "    </tr>\n",
       "  </tbody>\n",
       "</table>\n",
       "</div>"
      ],
      "text/plain": [
       "sex         F     M  Unknown\n",
       "fatality                    \n",
       "n         549  3690      285\n",
       "unknown     2    18        6\n",
       "y         109  1152       89"
      ]
     },
     "metadata": {},
     "output_type": "display_data"
    },
    {
     "data": {
      "application/vnd.deepnote.dataframe.v3+json": {
       "column_count": 3,
       "columns": [
        {
         "dtype": "float64",
         "name": "F",
         "stats": {
          "histogram": [
           {
            "bin_end": 40,
            "bin_start": 2,
            "count": 10
           },
           {
            "bin_end": 78,
            "bin_start": 40,
            "count": 0
           },
           {
            "bin_end": 116,
            "bin_start": 78,
            "count": 1
           },
           {
            "bin_end": 154,
            "bin_start": 116,
            "count": 1
           },
           {
            "bin_end": 192,
            "bin_start": 154,
            "count": 0
           },
           {
            "bin_end": 230,
            "bin_start": 192,
            "count": 0
           },
           {
            "bin_end": 268,
            "bin_start": 230,
            "count": 0
           },
           {
            "bin_end": 306,
            "bin_start": 268,
            "count": 0
           },
           {
            "bin_end": 344,
            "bin_start": 306,
            "count": 0
           },
           {
            "bin_end": 382,
            "bin_start": 344,
            "count": 1
           }
          ],
          "max": "382.0",
          "min": "2.0",
          "nan_count": 2,
          "unique_count": 13
         }
        },
        {
         "dtype": "float64",
         "name": "M",
         "stats": {
          "histogram": [
           {
            "bin_end": 194.5,
            "bin_start": 4,
            "count": 11
           },
           {
            "bin_end": 385,
            "bin_start": 194.5,
            "count": 0
           },
           {
            "bin_end": 575.5,
            "bin_start": 385,
            "count": 1
           },
           {
            "bin_end": 766,
            "bin_start": 575.5,
            "count": 0
           },
           {
            "bin_end": 956.5,
            "bin_start": 766,
            "count": 0
           },
           {
            "bin_end": 1147,
            "bin_start": 956.5,
            "count": 2
           },
           {
            "bin_end": 1337.5,
            "bin_start": 1147,
            "count": 0
           },
           {
            "bin_end": 1528,
            "bin_start": 1337.5,
            "count": 0
           },
           {
            "bin_end": 1718.5,
            "bin_start": 1528,
            "count": 0
           },
           {
            "bin_end": 1909,
            "bin_start": 1718.5,
            "count": 1
           }
          ],
          "max": "1909.0",
          "min": "4.0",
          "nan_count": 0,
          "unique_count": 15
         }
        },
        {
         "dtype": "float64",
         "name": "Unknown",
         "stats": {
          "histogram": [
           {
            "bin_end": 13.2,
            "bin_start": 1,
            "count": 11
           },
           {
            "bin_end": 25.4,
            "bin_start": 13.2,
            "count": 0
           },
           {
            "bin_end": 37.599999999999994,
            "bin_start": 25.4,
            "count": 0
           },
           {
            "bin_end": 49.8,
            "bin_start": 37.599999999999994,
            "count": 1
           },
           {
            "bin_end": 62,
            "bin_start": 49.8,
            "count": 0
           },
           {
            "bin_end": 74.19999999999999,
            "bin_start": 62,
            "count": 0
           },
           {
            "bin_end": 86.39999999999999,
            "bin_start": 74.19999999999999,
            "count": 1
           },
           {
            "bin_end": 98.6,
            "bin_start": 86.39999999999999,
            "count": 0
           },
           {
            "bin_end": 110.8,
            "bin_start": 98.6,
            "count": 1
           },
           {
            "bin_end": 123,
            "bin_start": 110.8,
            "count": 1
           }
          ],
          "max": "123.0",
          "min": "1.0",
          "nan_count": 0,
          "unique_count": 12
         }
        },
        {
         "dtype": "object",
         "name": "_deepnote_index_column"
        }
       ],
       "row_count": 15,
       "rows": [
        {
         "F": 98,
         "M": 1146,
         "Unknown": 102,
         "_deepnote_index_column": "AUSTRALIA"
        },
        {
         "F": 25,
         "M": 101,
         "Unknown": 2,
         "_deepnote_index_column": "BAHAMAS"
        },
        {
         "F": 6,
         "M": 93,
         "Unknown": 12,
         "_deepnote_index_column": "BRAZIL"
        },
        {
         "F": 3,
         "M": 14,
         "Unknown": 1,
         "_deepnote_index_column": "COSTA RICA"
        },
        {
         "F": 8,
         "M": 46,
         "Unknown": 5,
         "_deepnote_index_column": "FIJI"
        },
        {
         "F": "nan",
         "M": 6,
         "Unknown": 3,
         "_deepnote_index_column": "FRANCE"
        },
        {
         "F": 2,
         "M": 18,
         "Unknown": 2,
         "_deepnote_index_column": "INDONESIA"
        },
        {
         "F": 12,
         "M": 80,
         "Unknown": 8,
         "_deepnote_index_column": "MEXICO"
        },
        {
         "F": 4,
         "M": 44,
         "Unknown": 10,
         "_deepnote_index_column": "NEW CALEDONIA"
        },
        {
         "F": 19,
         "M": 105,
         "Unknown": 12,
         "_deepnote_index_column": "NEW ZEALAND"
        }
       ]
      },
      "text/html": [
       "<div>\n",
       "<style scoped>\n",
       "    .dataframe tbody tr th:only-of-type {\n",
       "        vertical-align: middle;\n",
       "    }\n",
       "\n",
       "    .dataframe tbody tr th {\n",
       "        vertical-align: top;\n",
       "    }\n",
       "\n",
       "    .dataframe thead th {\n",
       "        text-align: right;\n",
       "    }\n",
       "</style>\n",
       "<table border=\"1\" class=\"dataframe\">\n",
       "  <thead>\n",
       "    <tr style=\"text-align: right;\">\n",
       "      <th>sex</th>\n",
       "      <th>F</th>\n",
       "      <th>M</th>\n",
       "      <th>Unknown</th>\n",
       "    </tr>\n",
       "    <tr>\n",
       "      <th>new_country</th>\n",
       "      <th></th>\n",
       "      <th></th>\n",
       "      <th></th>\n",
       "    </tr>\n",
       "  </thead>\n",
       "  <tbody>\n",
       "    <tr>\n",
       "      <th>AUSTRALIA</th>\n",
       "      <td>98.0</td>\n",
       "      <td>1146.0</td>\n",
       "      <td>102.0</td>\n",
       "    </tr>\n",
       "    <tr>\n",
       "      <th>BAHAMAS</th>\n",
       "      <td>25.0</td>\n",
       "      <td>101.0</td>\n",
       "      <td>2.0</td>\n",
       "    </tr>\n",
       "    <tr>\n",
       "      <th>BRAZIL</th>\n",
       "      <td>6.0</td>\n",
       "      <td>93.0</td>\n",
       "      <td>12.0</td>\n",
       "    </tr>\n",
       "    <tr>\n",
       "      <th>COSTA RICA</th>\n",
       "      <td>3.0</td>\n",
       "      <td>14.0</td>\n",
       "      <td>1.0</td>\n",
       "    </tr>\n",
       "    <tr>\n",
       "      <th>FIJI</th>\n",
       "      <td>8.0</td>\n",
       "      <td>46.0</td>\n",
       "      <td>5.0</td>\n",
       "    </tr>\n",
       "    <tr>\n",
       "      <th>FRANCE</th>\n",
       "      <td>NaN</td>\n",
       "      <td>6.0</td>\n",
       "      <td>3.0</td>\n",
       "    </tr>\n",
       "    <tr>\n",
       "      <th>INDONESIA</th>\n",
       "      <td>2.0</td>\n",
       "      <td>18.0</td>\n",
       "      <td>2.0</td>\n",
       "    </tr>\n",
       "    <tr>\n",
       "      <th>MEXICO</th>\n",
       "      <td>12.0</td>\n",
       "      <td>80.0</td>\n",
       "      <td>8.0</td>\n",
       "    </tr>\n",
       "    <tr>\n",
       "      <th>NEW CALEDONIA</th>\n",
       "      <td>4.0</td>\n",
       "      <td>44.0</td>\n",
       "      <td>10.0</td>\n",
       "    </tr>\n",
       "    <tr>\n",
       "      <th>NEW ZEALAND</th>\n",
       "      <td>19.0</td>\n",
       "      <td>105.0</td>\n",
       "      <td>12.0</td>\n",
       "    </tr>\n",
       "    <tr>\n",
       "      <th>Not used</th>\n",
       "      <td>119.0</td>\n",
       "      <td>1090.0</td>\n",
       "      <td>123.0</td>\n",
       "    </tr>\n",
       "    <tr>\n",
       "      <th>PORTUGAL</th>\n",
       "      <td>NaN</td>\n",
       "      <td>4.0</td>\n",
       "      <td>1.0</td>\n",
       "    </tr>\n",
       "    <tr>\n",
       "      <th>SOUTH AFRICA</th>\n",
       "      <td>22.0</td>\n",
       "      <td>486.0</td>\n",
       "      <td>45.0</td>\n",
       "    </tr>\n",
       "    <tr>\n",
       "      <th>SPAIN</th>\n",
       "      <td>9.0</td>\n",
       "      <td>28.0</td>\n",
       "      <td>4.0</td>\n",
       "    </tr>\n",
       "    <tr>\n",
       "      <th>USA</th>\n",
       "      <td>382.0</td>\n",
       "      <td>1909.0</td>\n",
       "      <td>85.0</td>\n",
       "    </tr>\n",
       "  </tbody>\n",
       "</table>\n",
       "</div>"
      ],
      "text/plain": [
       "sex                F       M  Unknown\n",
       "new_country                          \n",
       "AUSTRALIA       98.0  1146.0    102.0\n",
       "BAHAMAS         25.0   101.0      2.0\n",
       "BRAZIL           6.0    93.0     12.0\n",
       "COSTA RICA       3.0    14.0      1.0\n",
       "FIJI             8.0    46.0      5.0\n",
       "FRANCE           NaN     6.0      3.0\n",
       "INDONESIA        2.0    18.0      2.0\n",
       "MEXICO          12.0    80.0      8.0\n",
       "NEW CALEDONIA    4.0    44.0     10.0\n",
       "NEW ZEALAND     19.0   105.0     12.0\n",
       "Not used       119.0  1090.0    123.0\n",
       "PORTUGAL         NaN     4.0      1.0\n",
       "SOUTH AFRICA    22.0   486.0     45.0\n",
       "SPAIN            9.0    28.0      4.0\n",
       "USA            382.0  1909.0     85.0"
      ]
     },
     "metadata": {},
     "output_type": "display_data"
    }
   ],
   "source": [
    "# checking on gender\n",
    "\n",
    "display(shark.groupby(['fatality','sex'])['injury'].count().unstack())\n",
    "\n",
    "display(shark.groupby(['new_country','sex'])['injury'].count().unstack())\n",
    "\n",
    "\n"
   ]
  },
  {
   "cell_type": "markdown",
   "metadata": {
    "cell_id": "bb2d1508eafb41d1860a9920e297cccf",
    "deepnote_cell_type": "text-cell-p",
    "formattedRanges": []
   },
   "source": []
  },
  {
   "cell_type": "markdown",
   "metadata": {
    "cell_id": "c1a0d4ac70c54fc0ad2a8f9d6a4d6e5f",
    "deepnote_app_block_visible": false,
    "deepnote_cell_type": "text-cell-h2",
    "formattedRanges": [],
    "is_collapsed": false
   },
   "source": [
    "## Number of attacks per species per country"
   ]
  },
  {
   "cell_type": "code",
   "execution_count": null,
   "metadata": {
    "cell_id": "e53bc3a3d06a4c359079eab08dd83360",
    "deepnote_cell_type": "code",
    "deepnote_to_be_reexecuted": false,
    "execution_millis": 1275,
    "execution_start": 1709886691724,
    "source_hash": null
   },
   "outputs": [
    {
     "data": {
      "application/vnd.deepnote.dataframe.v3+json": {
       "column_count": 15,
       "columns": [
        {
         "dtype": "float64",
         "name": "fatality AUSTRALIA",
         "stats": {
          "histogram": [
           {
            "bin_end": 32.6,
            "bin_start": 0,
            "count": 9
           },
           {
            "bin_end": 65.2,
            "bin_start": 32.6,
            "count": 4
           },
           {
            "bin_end": 97.80000000000001,
            "bin_start": 65.2,
            "count": 0
           },
           {
            "bin_end": 130.4,
            "bin_start": 97.80000000000001,
            "count": 0
           },
           {
            "bin_end": 163,
            "bin_start": 130.4,
            "count": 0
           },
           {
            "bin_end": 195.60000000000002,
            "bin_start": 163,
            "count": 1
           },
           {
            "bin_end": 228.20000000000002,
            "bin_start": 195.60000000000002,
            "count": 0
           },
           {
            "bin_end": 260.8,
            "bin_start": 228.20000000000002,
            "count": 0
           },
           {
            "bin_end": 293.40000000000003,
            "bin_start": 260.8,
            "count": 0
           },
           {
            "bin_end": 326,
            "bin_start": 293.40000000000003,
            "count": 1
           }
          ],
          "max": "326.0",
          "min": "0.0",
          "nan_count": 2,
          "unique_count": 12
         }
        },
        {
         "dtype": "float64",
         "name": "fatality BAHAMAS",
         "stats": {
          "histogram": [
           {
            "bin_end": 4.5,
            "bin_start": 1,
            "count": 3
           },
           {
            "bin_end": 8,
            "bin_start": 4.5,
            "count": 1
           },
           {
            "bin_end": 11.5,
            "bin_start": 8,
            "count": 2
           },
           {
            "bin_end": 15,
            "bin_start": 11.5,
            "count": 0
           },
           {
            "bin_end": 18.5,
            "bin_start": 15,
            "count": 1
           },
           {
            "bin_end": 22,
            "bin_start": 18.5,
            "count": 0
           },
           {
            "bin_end": 25.5,
            "bin_start": 22,
            "count": 0
           },
           {
            "bin_end": 29,
            "bin_start": 25.5,
            "count": 0
           },
           {
            "bin_end": 32.5,
            "bin_start": 29,
            "count": 0
           },
           {
            "bin_end": 36,
            "bin_start": 32.5,
            "count": 1
           }
          ],
          "max": "36.0",
          "min": "1.0",
          "nan_count": 9,
          "unique_count": 7
         }
        },
        {
         "dtype": "float64",
         "name": "fatality BRAZIL",
         "stats": {
          "histogram": [
           {
            "bin_end": 1.9,
            "bin_start": 1,
            "count": 1
           },
           {
            "bin_end": 2.8,
            "bin_start": 1.9,
            "count": 0
           },
           {
            "bin_end": 3.7,
            "bin_start": 2.8,
            "count": 1
           },
           {
            "bin_end": 4.6,
            "bin_start": 3.7,
            "count": 2
           },
           {
            "bin_end": 5.5,
            "bin_start": 4.6,
            "count": 0
           },
           {
            "bin_end": 6.4,
            "bin_start": 5.5,
            "count": 0
           },
           {
            "bin_end": 7.3,
            "bin_start": 6.4,
            "count": 0
           },
           {
            "bin_end": 8.2,
            "bin_start": 7.3,
            "count": 0
           },
           {
            "bin_end": 9.1,
            "bin_start": 8.2,
            "count": 0
           },
           {
            "bin_end": 10,
            "bin_start": 9.1,
            "count": 2
           }
          ],
          "max": "10.0",
          "min": "1.0",
          "nan_count": 11,
          "unique_count": 4
         }
        },
        {
         "dtype": "float64",
         "name": "fatality COSTA RICA",
         "stats": {
          "histogram": [
           {
            "bin_end": 0.3,
            "bin_start": 0,
            "count": 1
           },
           {
            "bin_end": 0.6,
            "bin_start": 0.3,
            "count": 0
           },
           {
            "bin_end": 0.8999999999999999,
            "bin_start": 0.6,
            "count": 0
           },
           {
            "bin_end": 1.2,
            "bin_start": 0.8999999999999999,
            "count": 0
           },
           {
            "bin_end": 1.5,
            "bin_start": 1.2,
            "count": 0
           },
           {
            "bin_end": 1.7999999999999998,
            "bin_start": 1.5,
            "count": 0
           },
           {
            "bin_end": 2.1,
            "bin_start": 1.7999999999999998,
            "count": 1
           },
           {
            "bin_end": 2.4,
            "bin_start": 2.1,
            "count": 0
           },
           {
            "bin_end": 2.6999999999999997,
            "bin_start": 2.4,
            "count": 0
           },
           {
            "bin_end": 3,
            "bin_start": 2.6999999999999997,
            "count": 1
           }
          ],
          "max": "3.0",
          "min": "0.0",
          "nan_count": 14,
          "unique_count": 3
         }
        },
        {
         "dtype": "float64",
         "name": "fatality FIJI",
         "stats": {
          "histogram": [
           {
            "bin_end": 1.8,
            "bin_start": 1,
            "count": 4
           },
           {
            "bin_end": 2.6,
            "bin_start": 1.8,
            "count": 0
           },
           {
            "bin_end": 3.4000000000000004,
            "bin_start": 2.6,
            "count": 0
           },
           {
            "bin_end": 4.2,
            "bin_start": 3.4000000000000004,
            "count": 0
           },
           {
            "bin_end": 5,
            "bin_start": 4.2,
            "count": 0
           },
           {
            "bin_end": 5.800000000000001,
            "bin_start": 5,
            "count": 1
           },
           {
            "bin_end": 6.6000000000000005,
            "bin_start": 5.800000000000001,
            "count": 0
           },
           {
            "bin_end": 7.4,
            "bin_start": 6.6000000000000005,
            "count": 0
           },
           {
            "bin_end": 8.2,
            "bin_start": 7.4,
            "count": 0
           },
           {
            "bin_end": 9,
            "bin_start": 8.2,
            "count": 1
           }
          ],
          "max": "9.0",
          "min": "1.0",
          "nan_count": 11,
          "unique_count": 3
         }
        },
        {
         "dtype": "float64",
         "name": "fatality FRANCE",
         "stats": {
          "histogram": [
           {
            "bin_end": 1.2,
            "bin_start": 1,
            "count": 1
           },
           {
            "bin_end": 1.4,
            "bin_start": 1.2,
            "count": 0
           },
           {
            "bin_end": 1.6,
            "bin_start": 1.4,
            "count": 0
           },
           {
            "bin_end": 1.8,
            "bin_start": 1.6,
            "count": 0
           },
           {
            "bin_end": 2,
            "bin_start": 1.8,
            "count": 0
           },
           {
            "bin_end": 2.2,
            "bin_start": 2,
            "count": 1
           },
           {
            "bin_end": 2.4000000000000004,
            "bin_start": 2.2,
            "count": 0
           },
           {
            "bin_end": 2.6,
            "bin_start": 2.4000000000000004,
            "count": 0
           },
           {
            "bin_end": 2.8,
            "bin_start": 2.6,
            "count": 0
           },
           {
            "bin_end": 3,
            "bin_start": 2.8,
            "count": 1
           }
          ],
          "max": "3.0",
          "min": "1.0",
          "nan_count": 14,
          "unique_count": 3
         }
        },
        {
         "dtype": "float64",
         "name": "fatality INDONESIA",
         "stats": {
          "histogram": [
           {
            "bin_end": 1.2,
            "bin_start": 1,
            "count": 2
           },
           {
            "bin_end": 1.4,
            "bin_start": 1.2,
            "count": 0
           },
           {
            "bin_end": 1.6,
            "bin_start": 1.4,
            "count": 0
           },
           {
            "bin_end": 1.8,
            "bin_start": 1.6,
            "count": 0
           },
           {
            "bin_end": 2,
            "bin_start": 1.8,
            "count": 0
           },
           {
            "bin_end": 2.2,
            "bin_start": 2,
            "count": 0
           },
           {
            "bin_end": 2.4000000000000004,
            "bin_start": 2.2,
            "count": 0
           },
           {
            "bin_end": 2.6,
            "bin_start": 2.4000000000000004,
            "count": 0
           },
           {
            "bin_end": 2.8,
            "bin_start": 2.6,
            "count": 0
           },
           {
            "bin_end": 3,
            "bin_start": 2.8,
            "count": 1
           }
          ],
          "max": "3.0",
          "min": "1.0",
          "nan_count": 14,
          "unique_count": 2
         }
        },
        {
         "dtype": "float64",
         "name": "fatality MEXICO",
         "stats": {
          "histogram": [
           {
            "bin_end": 3.1,
            "bin_start": 2,
            "count": 3
           },
           {
            "bin_end": 4.2,
            "bin_start": 3.1,
            "count": 0
           },
           {
            "bin_end": 5.300000000000001,
            "bin_start": 4.2,
            "count": 0
           },
           {
            "bin_end": 6.4,
            "bin_start": 5.300000000000001,
            "count": 0
           },
           {
            "bin_end": 7.5,
            "bin_start": 6.4,
            "count": 0
           },
           {
            "bin_end": 8.600000000000001,
            "bin_start": 7.5,
            "count": 1
           },
           {
            "bin_end": 9.700000000000001,
            "bin_start": 8.600000000000001,
            "count": 0
           },
           {
            "bin_end": 10.8,
            "bin_start": 9.700000000000001,
            "count": 0
           },
           {
            "bin_end": 11.9,
            "bin_start": 10.8,
            "count": 0
           },
           {
            "bin_end": 13,
            "bin_start": 11.9,
            "count": 1
           }
          ],
          "max": "13.0",
          "min": "2.0",
          "nan_count": 12,
          "unique_count": 4
         }
        },
        {
         "dtype": "float64",
         "name": "fatality NEW CALEDONIA",
         "stats": {
          "histogram": [
           {
            "bin_end": 2.1,
            "bin_start": 1,
            "count": 2
           },
           {
            "bin_end": 3.2,
            "bin_start": 2.1,
            "count": 0
           },
           {
            "bin_end": 4.300000000000001,
            "bin_start": 3.2,
            "count": 0
           },
           {
            "bin_end": 5.4,
            "bin_start": 4.300000000000001,
            "count": 0
           },
           {
            "bin_end": 6.5,
            "bin_start": 5.4,
            "count": 1
           },
           {
            "bin_end": 7.6000000000000005,
            "bin_start": 6.5,
            "count": 1
           },
           {
            "bin_end": 8.700000000000001,
            "bin_start": 7.6000000000000005,
            "count": 0
           },
           {
            "bin_end": 9.8,
            "bin_start": 8.700000000000001,
            "count": 0
           },
           {
            "bin_end": 10.9,
            "bin_start": 9.8,
            "count": 0
           },
           {
            "bin_end": 12,
            "bin_start": 10.9,
            "count": 1
           }
          ],
          "max": "12.0",
          "min": "1.0",
          "nan_count": 12,
          "unique_count": 4
         }
        },
        {
         "dtype": "float64",
         "name": "fatality NEW ZEALAND",
         "stats": {
          "histogram": [
           {
            "bin_end": 4.3,
            "bin_start": 1,
            "count": 5
           },
           {
            "bin_end": 7.6,
            "bin_start": 4.3,
            "count": 0
           },
           {
            "bin_end": 10.899999999999999,
            "bin_start": 7.6,
            "count": 2
           },
           {
            "bin_end": 14.2,
            "bin_start": 10.899999999999999,
            "count": 0
           },
           {
            "bin_end": 17.5,
            "bin_start": 14.2,
            "count": 0
           },
           {
            "bin_end": 20.799999999999997,
            "bin_start": 17.5,
            "count": 0
           },
           {
            "bin_end": 24.099999999999998,
            "bin_start": 20.799999999999997,
            "count": 1
           },
           {
            "bin_end": 27.4,
            "bin_start": 24.099999999999998,
            "count": 0
           },
           {
            "bin_end": 30.7,
            "bin_start": 27.4,
            "count": 0
           },
           {
            "bin_end": 34,
            "bin_start": 30.7,
            "count": 1
           }
          ],
          "max": "34.0",
          "min": "1.0",
          "nan_count": 8,
          "unique_count": 5
         }
        },
        {
         "dtype": "float64",
         "name": "fatality Not used",
         "stats": {
          "histogram": [
           {
            "bin_end": 21.2,
            "bin_start": 1,
            "count": 11
           },
           {
            "bin_end": 41.4,
            "bin_start": 21.2,
            "count": 3
           },
           {
            "bin_end": 61.599999999999994,
            "bin_start": 41.4,
            "count": 1
           },
           {
            "bin_end": 81.8,
            "bin_start": 61.599999999999994,
            "count": 1
           },
           {
            "bin_end": 102,
            "bin_start": 81.8,
            "count": 0
           },
           {
            "bin_end": 122.19999999999999,
            "bin_start": 102,
            "count": 0
           },
           {
            "bin_end": 142.4,
            "bin_start": 122.19999999999999,
            "count": 0
           },
           {
            "bin_end": 162.6,
            "bin_start": 142.4,
            "count": 0
           },
           {
            "bin_end": 182.79999999999998,
            "bin_start": 162.6,
            "count": 0
           },
           {
            "bin_end": 203,
            "bin_start": 182.79999999999998,
            "count": 1
           }
          ],
          "max": "203.0",
          "min": "1.0",
          "nan_count": 0,
          "unique_count": 15
         }
        },
        {
         "dtype": "float64",
         "name": "fatality PORTUGAL",
         "stats": {
          "histogram": [
           {
            "bin_end": 0.6,
            "bin_start": 0.5,
            "count": 0
           },
           {
            "bin_end": 0.7,
            "bin_start": 0.6,
            "count": 0
           },
           {
            "bin_end": 0.8,
            "bin_start": 0.7,
            "count": 0
           },
           {
            "bin_end": 0.9,
            "bin_start": 0.8,
            "count": 0
           },
           {
            "bin_end": 1,
            "bin_start": 0.9,
            "count": 0
           },
           {
            "bin_end": 1.1,
            "bin_start": 1,
            "count": 2
           },
           {
            "bin_end": 1.2000000000000002,
            "bin_start": 1.1,
            "count": 0
           },
           {
            "bin_end": 1.3,
            "bin_start": 1.2000000000000002,
            "count": 0
           },
           {
            "bin_end": 1.4,
            "bin_start": 1.3,
            "count": 0
           },
           {
            "bin_end": 1.5,
            "bin_start": 1.4,
            "count": 0
           }
          ],
          "max": "1.0",
          "min": "1.0",
          "nan_count": 15,
          "unique_count": 1
         }
        },
        {
         "dtype": "float64",
         "name": "fatality SOUTH AFRICA",
         "stats": {
          "histogram": [
           {
            "bin_end": 17.4,
            "bin_start": 1,
            "count": 9
           },
           {
            "bin_end": 33.8,
            "bin_start": 17.4,
            "count": 0
           },
           {
            "bin_end": 50.199999999999996,
            "bin_start": 33.8,
            "count": 0
           },
           {
            "bin_end": 66.6,
            "bin_start": 50.199999999999996,
            "count": 0
           },
           {
            "bin_end": 83,
            "bin_start": 66.6,
            "count": 0
           },
           {
            "bin_end": 99.39999999999999,
            "bin_start": 83,
            "count": 0
           },
           {
            "bin_end": 115.79999999999998,
            "bin_start": 99.39999999999999,
            "count": 0
           },
           {
            "bin_end": 132.2,
            "bin_start": 115.79999999999998,
            "count": 0
           },
           {
            "bin_end": 148.6,
            "bin_start": 132.2,
            "count": 0
           },
           {
            "bin_end": 165,
            "bin_start": 148.6,
            "count": 2
           }
          ],
          "max": "165.0",
          "min": "1.0",
          "nan_count": 6,
          "unique_count": 6
         }
        },
        {
         "dtype": "float64",
         "name": "fatality SPAIN",
         "stats": {
          "histogram": [
           {
            "bin_end": 3,
            "bin_start": 2,
            "count": 1
           },
           {
            "bin_end": 4,
            "bin_start": 3,
            "count": 0
           },
           {
            "bin_end": 5,
            "bin_start": 4,
            "count": 0
           },
           {
            "bin_end": 6,
            "bin_start": 5,
            "count": 1
           },
           {
            "bin_end": 7,
            "bin_start": 6,
            "count": 0
           },
           {
            "bin_end": 8,
            "bin_start": 7,
            "count": 0
           },
           {
            "bin_end": 9,
            "bin_start": 8,
            "count": 0
           },
           {
            "bin_end": 10,
            "bin_start": 9,
            "count": 0
           },
           {
            "bin_end": 11,
            "bin_start": 10,
            "count": 0
           },
           {
            "bin_end": 12,
            "bin_start": 11,
            "count": 1
           }
          ],
          "max": "12.0",
          "min": "2.0",
          "nan_count": 14,
          "unique_count": 3
         }
        },
        {
         "dtype": "float64",
         "name": "fatality USA",
         "stats": {
          "histogram": [
           {
            "bin_end": 56.3,
            "bin_start": 1,
            "count": 10
           },
           {
            "bin_end": 111.6,
            "bin_start": 56.3,
            "count": 2
           },
           {
            "bin_end": 166.89999999999998,
            "bin_start": 111.6,
            "count": 1
           },
           {
            "bin_end": 222.2,
            "bin_start": 166.89999999999998,
            "count": 1
           },
           {
            "bin_end": 277.5,
            "bin_start": 222.2,
            "count": 0
           },
           {
            "bin_end": 332.79999999999995,
            "bin_start": 277.5,
            "count": 0
           },
           {
            "bin_end": 388.09999999999997,
            "bin_start": 332.79999999999995,
            "count": 0
           },
           {
            "bin_end": 443.4,
            "bin_start": 388.09999999999997,
            "count": 0
           },
           {
            "bin_end": 498.7,
            "bin_start": 443.4,
            "count": 0
           },
           {
            "bin_end": 554,
            "bin_start": 498.7,
            "count": 1
           }
          ],
          "max": "554.0",
          "min": "1.0",
          "nan_count": 2,
          "unique_count": 13
         }
        },
        {
         "dtype": "object",
         "name": "_deepnote_index_column"
        }
       ],
       "row_count": 17,
       "rows": [
        {
         "_deepnote_index_column": "black",
         "fatality AUSTRALIA": 4,
         "fatality BAHAMAS": 4,
         "fatality BRAZIL": "nan",
         "fatality COSTA RICA": "nan",
         "fatality FIJI": "nan",
         "fatality FRANCE": "nan",
         "fatality INDONESIA": "nan",
         "fatality MEXICO": "nan",
         "fatality NEW CALEDONIA": "nan",
         "fatality NEW ZEALAND": "nan",
         "fatality Not used": 22,
         "fatality PORTUGAL": "nan",
         "fatality SOUTH AFRICA": 11,
         "fatality SPAIN": "nan",
         "fatality USA": 95
        },
        {
         "_deepnote_index_column": "blue",
         "fatality AUSTRALIA": 13,
         "fatality BAHAMAS": "nan",
         "fatality BRAZIL": "nan",
         "fatality COSTA RICA": "nan",
         "fatality FIJI": "nan",
         "fatality FRANCE": "nan",
         "fatality INDONESIA": "nan",
         "fatality MEXICO": "nan",
         "fatality NEW CALEDONIA": "nan",
         "fatality NEW ZEALAND": 1,
         "fatality Not used": 13,
         "fatality PORTUGAL": 1,
         "fatality SOUTH AFRICA": 3,
         "fatality SPAIN": 5,
         "fatality USA": 14
        },
        {
         "_deepnote_index_column": "bronze",
         "fatality AUSTRALIA": 60,
         "fatality BAHAMAS": "nan",
         "fatality BRAZIL": "nan",
         "fatality COSTA RICA": "nan",
         "fatality FIJI": "nan",
         "fatality FRANCE": "nan",
         "fatality INDONESIA": "nan",
         "fatality MEXICO": "nan",
         "fatality NEW CALEDONIA": "nan",
         "fatality NEW ZEALAND": 9,
         "fatality Not used": 2,
         "fatality PORTUGAL": "nan",
         "fatality SOUTH AFRICA": "nan",
         "fatality SPAIN": "nan",
         "fatality USA": "nan"
        },
        {
         "_deepnote_index_column": "brown",
         "fatality AUSTRALIA": 1,
         "fatality BAHAMAS": "nan",
         "fatality BRAZIL": "nan",
         "fatality COSTA RICA": "nan",
         "fatality FIJI": "nan",
         "fatality FRANCE": "nan",
         "fatality INDONESIA": "nan",
         "fatality MEXICO": "nan",
         "fatality NEW CALEDONIA": "nan",
         "fatality NEW ZEALAND": "nan",
         "fatality Not used": 4,
         "fatality PORTUGAL": "nan",
         "fatality SOUTH AFRICA": "nan",
         "fatality SPAIN": "nan",
         "fatality USA": 1
        },
        {
         "_deepnote_index_column": "bull",
         "fatality AUSTRALIA": 41,
         "fatality BAHAMAS": 16,
         "fatality BRAZIL": 4,
         "fatality COSTA RICA": 2,
         "fatality FIJI": "nan",
         "fatality FRANCE": "nan",
         "fatality INDONESIA": 3,
         "fatality MEXICO": 2,
         "fatality NEW CALEDONIA": 7,
         "fatality NEW ZEALAND": "nan",
         "fatality Not used": 38,
         "fatality PORTUGAL": "nan",
         "fatality SOUTH AFRICA": 3,
         "fatality SPAIN": "nan",
         "fatality USA": 84
        },
        {
         "_deepnote_index_column": "galapagos",
         "fatality AUSTRALIA": "nan",
         "fatality BAHAMAS": "nan",
         "fatality BRAZIL": "nan",
         "fatality COSTA RICA": "nan",
         "fatality FIJI": "nan",
         "fatality FRANCE": "nan",
         "fatality INDONESIA": "nan",
         "fatality MEXICO": "nan",
         "fatality NEW CALEDONIA": "nan",
         "fatality NEW ZEALAND": "nan",
         "fatality Not used": 4,
         "fatality PORTUGAL": "nan",
         "fatality SOUTH AFRICA": "nan",
         "fatality SPAIN": "nan",
         "fatality USA": 5
        },
        {
         "_deepnote_index_column": "gray",
         "fatality AUSTRALIA": 0,
         "fatality BAHAMAS": "nan",
         "fatality BRAZIL": "nan",
         "fatality COSTA RICA": "nan",
         "fatality FIJI": "nan",
         "fatality FRANCE": "nan",
         "fatality INDONESIA": "nan",
         "fatality MEXICO": "nan",
         "fatality NEW CALEDONIA": "nan",
         "fatality NEW ZEALAND": 1,
         "fatality Not used": 2,
         "fatality PORTUGAL": "nan",
         "fatality SOUTH AFRICA": 1,
         "fatality SPAIN": "nan",
         "fatality USA": "nan"
        },
        {
         "_deepnote_index_column": "grey",
         "fatality AUSTRALIA": 3,
         "fatality BAHAMAS": "nan",
         "fatality BRAZIL": "nan",
         "fatality COSTA RICA": "nan",
         "fatality FIJI": 1,
         "fatality FRANCE": "nan",
         "fatality INDONESIA": "nan",
         "fatality MEXICO": "nan",
         "fatality NEW CALEDONIA": "nan",
         "fatality NEW ZEALAND": 1,
         "fatality Not used": 16,
         "fatality PORTUGAL": "nan",
         "fatality SOUTH AFRICA": 1,
         "fatality SPAIN": "nan",
         "fatality USA": 5
        },
        {
         "_deepnote_index_column": "hammer",
         "fatality AUSTRALIA": 7,
         "fatality BAHAMAS": "nan",
         "fatality BRAZIL": 1,
         "fatality COSTA RICA": "nan",
         "fatality FIJI": 1,
         "fatality FRANCE": "nan",
         "fatality INDONESIA": "nan",
         "fatality MEXICO": 2,
         "fatality NEW CALEDONIA": "nan",
         "fatality NEW ZEALAND": "nan",
         "fatality Not used": 3,
         "fatality PORTUGAL": "nan",
         "fatality SOUTH AFRICA": 3,
         "fatality SPAIN": "nan",
         "fatality USA": 29
        },
        {
         "_deepnote_index_column": "lemon",
         "fatality AUSTRALIA": 4,
         "fatality BAHAMAS": 9,
         "fatality BRAZIL": 3,
         "fatality COSTA RICA": "nan",
         "fatality FIJI": "nan",
         "fatality FRANCE": "nan",
         "fatality INDONESIA": "nan",
         "fatality MEXICO": "nan",
         "fatality NEW CALEDONIA": 1,
         "fatality NEW ZEALAND": "nan",
         "fatality Not used": 6,
         "fatality PORTUGAL": "nan",
         "fatality SOUTH AFRICA": "nan",
         "fatality SPAIN": "nan",
         "fatality USA": 19
        }
       ]
      },
      "text/html": [
       "<div>\n",
       "<style scoped>\n",
       "    .dataframe tbody tr th:only-of-type {\n",
       "        vertical-align: middle;\n",
       "    }\n",
       "\n",
       "    .dataframe tbody tr th {\n",
       "        vertical-align: top;\n",
       "    }\n",
       "\n",
       "    .dataframe thead tr th {\n",
       "        text-align: left;\n",
       "    }\n",
       "\n",
       "    .dataframe thead tr:last-of-type th {\n",
       "        text-align: right;\n",
       "    }\n",
       "</style>\n",
       "<table border=\"1\" class=\"dataframe\">\n",
       "  <thead>\n",
       "    <tr>\n",
       "      <th></th>\n",
       "      <th colspan=\"15\" halign=\"left\">fatality</th>\n",
       "    </tr>\n",
       "    <tr>\n",
       "      <th>new_country</th>\n",
       "      <th>AUSTRALIA</th>\n",
       "      <th>BAHAMAS</th>\n",
       "      <th>BRAZIL</th>\n",
       "      <th>COSTA RICA</th>\n",
       "      <th>FIJI</th>\n",
       "      <th>FRANCE</th>\n",
       "      <th>INDONESIA</th>\n",
       "      <th>MEXICO</th>\n",
       "      <th>NEW CALEDONIA</th>\n",
       "      <th>NEW ZEALAND</th>\n",
       "      <th>Not used</th>\n",
       "      <th>PORTUGAL</th>\n",
       "      <th>SOUTH AFRICA</th>\n",
       "      <th>SPAIN</th>\n",
       "      <th>USA</th>\n",
       "    </tr>\n",
       "    <tr>\n",
       "      <th>shark_group</th>\n",
       "      <th></th>\n",
       "      <th></th>\n",
       "      <th></th>\n",
       "      <th></th>\n",
       "      <th></th>\n",
       "      <th></th>\n",
       "      <th></th>\n",
       "      <th></th>\n",
       "      <th></th>\n",
       "      <th></th>\n",
       "      <th></th>\n",
       "      <th></th>\n",
       "      <th></th>\n",
       "      <th></th>\n",
       "      <th></th>\n",
       "    </tr>\n",
       "  </thead>\n",
       "  <tbody>\n",
       "    <tr>\n",
       "      <th>black</th>\n",
       "      <td>4.0</td>\n",
       "      <td>4.0</td>\n",
       "      <td>NaN</td>\n",
       "      <td>NaN</td>\n",
       "      <td>NaN</td>\n",
       "      <td>NaN</td>\n",
       "      <td>NaN</td>\n",
       "      <td>NaN</td>\n",
       "      <td>NaN</td>\n",
       "      <td>NaN</td>\n",
       "      <td>22.0</td>\n",
       "      <td>NaN</td>\n",
       "      <td>11.0</td>\n",
       "      <td>NaN</td>\n",
       "      <td>95.0</td>\n",
       "    </tr>\n",
       "    <tr>\n",
       "      <th>blue</th>\n",
       "      <td>13.0</td>\n",
       "      <td>NaN</td>\n",
       "      <td>NaN</td>\n",
       "      <td>NaN</td>\n",
       "      <td>NaN</td>\n",
       "      <td>NaN</td>\n",
       "      <td>NaN</td>\n",
       "      <td>NaN</td>\n",
       "      <td>NaN</td>\n",
       "      <td>1.0</td>\n",
       "      <td>13.0</td>\n",
       "      <td>1.0</td>\n",
       "      <td>3.0</td>\n",
       "      <td>5.0</td>\n",
       "      <td>14.0</td>\n",
       "    </tr>\n",
       "    <tr>\n",
       "      <th>bronze</th>\n",
       "      <td>60.0</td>\n",
       "      <td>NaN</td>\n",
       "      <td>NaN</td>\n",
       "      <td>NaN</td>\n",
       "      <td>NaN</td>\n",
       "      <td>NaN</td>\n",
       "      <td>NaN</td>\n",
       "      <td>NaN</td>\n",
       "      <td>NaN</td>\n",
       "      <td>9.0</td>\n",
       "      <td>2.0</td>\n",
       "      <td>NaN</td>\n",
       "      <td>NaN</td>\n",
       "      <td>NaN</td>\n",
       "      <td>NaN</td>\n",
       "    </tr>\n",
       "    <tr>\n",
       "      <th>brown</th>\n",
       "      <td>1.0</td>\n",
       "      <td>NaN</td>\n",
       "      <td>NaN</td>\n",
       "      <td>NaN</td>\n",
       "      <td>NaN</td>\n",
       "      <td>NaN</td>\n",
       "      <td>NaN</td>\n",
       "      <td>NaN</td>\n",
       "      <td>NaN</td>\n",
       "      <td>NaN</td>\n",
       "      <td>4.0</td>\n",
       "      <td>NaN</td>\n",
       "      <td>NaN</td>\n",
       "      <td>NaN</td>\n",
       "      <td>1.0</td>\n",
       "    </tr>\n",
       "    <tr>\n",
       "      <th>bull</th>\n",
       "      <td>41.0</td>\n",
       "      <td>16.0</td>\n",
       "      <td>4.0</td>\n",
       "      <td>2.0</td>\n",
       "      <td>NaN</td>\n",
       "      <td>NaN</td>\n",
       "      <td>3.0</td>\n",
       "      <td>2.0</td>\n",
       "      <td>7.0</td>\n",
       "      <td>NaN</td>\n",
       "      <td>38.0</td>\n",
       "      <td>NaN</td>\n",
       "      <td>3.0</td>\n",
       "      <td>NaN</td>\n",
       "      <td>84.0</td>\n",
       "    </tr>\n",
       "    <tr>\n",
       "      <th>galapagos</th>\n",
       "      <td>NaN</td>\n",
       "      <td>NaN</td>\n",
       "      <td>NaN</td>\n",
       "      <td>NaN</td>\n",
       "      <td>NaN</td>\n",
       "      <td>NaN</td>\n",
       "      <td>NaN</td>\n",
       "      <td>NaN</td>\n",
       "      <td>NaN</td>\n",
       "      <td>NaN</td>\n",
       "      <td>4.0</td>\n",
       "      <td>NaN</td>\n",
       "      <td>NaN</td>\n",
       "      <td>NaN</td>\n",
       "      <td>5.0</td>\n",
       "    </tr>\n",
       "    <tr>\n",
       "      <th>gray</th>\n",
       "      <td>0.0</td>\n",
       "      <td>NaN</td>\n",
       "      <td>NaN</td>\n",
       "      <td>NaN</td>\n",
       "      <td>NaN</td>\n",
       "      <td>NaN</td>\n",
       "      <td>NaN</td>\n",
       "      <td>NaN</td>\n",
       "      <td>NaN</td>\n",
       "      <td>1.0</td>\n",
       "      <td>2.0</td>\n",
       "      <td>NaN</td>\n",
       "      <td>1.0</td>\n",
       "      <td>NaN</td>\n",
       "      <td>NaN</td>\n",
       "    </tr>\n",
       "    <tr>\n",
       "      <th>grey</th>\n",
       "      <td>3.0</td>\n",
       "      <td>NaN</td>\n",
       "      <td>NaN</td>\n",
       "      <td>NaN</td>\n",
       "      <td>1.0</td>\n",
       "      <td>NaN</td>\n",
       "      <td>NaN</td>\n",
       "      <td>NaN</td>\n",
       "      <td>NaN</td>\n",
       "      <td>1.0</td>\n",
       "      <td>16.0</td>\n",
       "      <td>NaN</td>\n",
       "      <td>1.0</td>\n",
       "      <td>NaN</td>\n",
       "      <td>5.0</td>\n",
       "    </tr>\n",
       "    <tr>\n",
       "      <th>hammer</th>\n",
       "      <td>7.0</td>\n",
       "      <td>NaN</td>\n",
       "      <td>1.0</td>\n",
       "      <td>NaN</td>\n",
       "      <td>1.0</td>\n",
       "      <td>NaN</td>\n",
       "      <td>NaN</td>\n",
       "      <td>2.0</td>\n",
       "      <td>NaN</td>\n",
       "      <td>NaN</td>\n",
       "      <td>3.0</td>\n",
       "      <td>NaN</td>\n",
       "      <td>3.0</td>\n",
       "      <td>NaN</td>\n",
       "      <td>29.0</td>\n",
       "    </tr>\n",
       "    <tr>\n",
       "      <th>lemon</th>\n",
       "      <td>4.0</td>\n",
       "      <td>9.0</td>\n",
       "      <td>3.0</td>\n",
       "      <td>NaN</td>\n",
       "      <td>NaN</td>\n",
       "      <td>NaN</td>\n",
       "      <td>NaN</td>\n",
       "      <td>NaN</td>\n",
       "      <td>1.0</td>\n",
       "      <td>NaN</td>\n",
       "      <td>6.0</td>\n",
       "      <td>NaN</td>\n",
       "      <td>NaN</td>\n",
       "      <td>NaN</td>\n",
       "      <td>19.0</td>\n",
       "    </tr>\n",
       "    <tr>\n",
       "      <th>mako</th>\n",
       "      <td>7.0</td>\n",
       "      <td>1.0</td>\n",
       "      <td>NaN</td>\n",
       "      <td>NaN</td>\n",
       "      <td>NaN</td>\n",
       "      <td>1.0</td>\n",
       "      <td>NaN</td>\n",
       "      <td>NaN</td>\n",
       "      <td>NaN</td>\n",
       "      <td>8.0</td>\n",
       "      <td>12.0</td>\n",
       "      <td>NaN</td>\n",
       "      <td>5.0</td>\n",
       "      <td>NaN</td>\n",
       "      <td>18.0</td>\n",
       "    </tr>\n",
       "    <tr>\n",
       "      <th>nurse</th>\n",
       "      <td>44.0</td>\n",
       "      <td>8.0</td>\n",
       "      <td>NaN</td>\n",
       "      <td>NaN</td>\n",
       "      <td>1.0</td>\n",
       "      <td>NaN</td>\n",
       "      <td>NaN</td>\n",
       "      <td>NaN</td>\n",
       "      <td>NaN</td>\n",
       "      <td>1.0</td>\n",
       "      <td>7.0</td>\n",
       "      <td>NaN</td>\n",
       "      <td>NaN</td>\n",
       "      <td>NaN</td>\n",
       "      <td>41.0</td>\n",
       "    </tr>\n",
       "    <tr>\n",
       "      <th>other_or_not_def</th>\n",
       "      <td>326.0</td>\n",
       "      <td>36.0</td>\n",
       "      <td>10.0</td>\n",
       "      <td>0.0</td>\n",
       "      <td>5.0</td>\n",
       "      <td>3.0</td>\n",
       "      <td>1.0</td>\n",
       "      <td>13.0</td>\n",
       "      <td>6.0</td>\n",
       "      <td>34.0</td>\n",
       "      <td>203.0</td>\n",
       "      <td>NaN</td>\n",
       "      <td>153.0</td>\n",
       "      <td>12.0</td>\n",
       "      <td>554.0</td>\n",
       "    </tr>\n",
       "    <tr>\n",
       "      <th>spinner</th>\n",
       "      <td>NaN</td>\n",
       "      <td>NaN</td>\n",
       "      <td>NaN</td>\n",
       "      <td>NaN</td>\n",
       "      <td>NaN</td>\n",
       "      <td>NaN</td>\n",
       "      <td>NaN</td>\n",
       "      <td>NaN</td>\n",
       "      <td>NaN</td>\n",
       "      <td>NaN</td>\n",
       "      <td>1.0</td>\n",
       "      <td>NaN</td>\n",
       "      <td>NaN</td>\n",
       "      <td>NaN</td>\n",
       "      <td>23.0</td>\n",
       "    </tr>\n",
       "    <tr>\n",
       "      <th>tiger</th>\n",
       "      <td>58.0</td>\n",
       "      <td>6.0</td>\n",
       "      <td>10.0</td>\n",
       "      <td>3.0</td>\n",
       "      <td>9.0</td>\n",
       "      <td>NaN</td>\n",
       "      <td>1.0</td>\n",
       "      <td>8.0</td>\n",
       "      <td>12.0</td>\n",
       "      <td>1.0</td>\n",
       "      <td>51.0</td>\n",
       "      <td>NaN</td>\n",
       "      <td>11.0</td>\n",
       "      <td>NaN</td>\n",
       "      <td>143.0</td>\n",
       "    </tr>\n",
       "    <tr>\n",
       "      <th>white</th>\n",
       "      <td>175.0</td>\n",
       "      <td>NaN</td>\n",
       "      <td>4.0</td>\n",
       "      <td>NaN</td>\n",
       "      <td>1.0</td>\n",
       "      <td>2.0</td>\n",
       "      <td>NaN</td>\n",
       "      <td>3.0</td>\n",
       "      <td>1.0</td>\n",
       "      <td>22.0</td>\n",
       "      <td>76.0</td>\n",
       "      <td>1.0</td>\n",
       "      <td>165.0</td>\n",
       "      <td>2.0</td>\n",
       "      <td>219.0</td>\n",
       "    </tr>\n",
       "    <tr>\n",
       "      <th>whitetip</th>\n",
       "      <td>3.0</td>\n",
       "      <td>1.0</td>\n",
       "      <td>NaN</td>\n",
       "      <td>NaN</td>\n",
       "      <td>NaN</td>\n",
       "      <td>NaN</td>\n",
       "      <td>NaN</td>\n",
       "      <td>NaN</td>\n",
       "      <td>NaN</td>\n",
       "      <td>NaN</td>\n",
       "      <td>28.0</td>\n",
       "      <td>NaN</td>\n",
       "      <td>1.0</td>\n",
       "      <td>NaN</td>\n",
       "      <td>5.0</td>\n",
       "    </tr>\n",
       "  </tbody>\n",
       "</table>\n",
       "</div>"
      ],
      "text/plain": [
       "                  fatality                                                  \\\n",
       "new_country      AUSTRALIA BAHAMAS BRAZIL COSTA RICA FIJI FRANCE INDONESIA   \n",
       "shark_group                                                                  \n",
       "black                  4.0     4.0    NaN        NaN  NaN    NaN       NaN   \n",
       "blue                  13.0     NaN    NaN        NaN  NaN    NaN       NaN   \n",
       "bronze                60.0     NaN    NaN        NaN  NaN    NaN       NaN   \n",
       "brown                  1.0     NaN    NaN        NaN  NaN    NaN       NaN   \n",
       "bull                  41.0    16.0    4.0        2.0  NaN    NaN       3.0   \n",
       "galapagos              NaN     NaN    NaN        NaN  NaN    NaN       NaN   \n",
       "gray                   0.0     NaN    NaN        NaN  NaN    NaN       NaN   \n",
       "grey                   3.0     NaN    NaN        NaN  1.0    NaN       NaN   \n",
       "hammer                 7.0     NaN    1.0        NaN  1.0    NaN       NaN   \n",
       "lemon                  4.0     9.0    3.0        NaN  NaN    NaN       NaN   \n",
       "mako                   7.0     1.0    NaN        NaN  NaN    1.0       NaN   \n",
       "nurse                 44.0     8.0    NaN        NaN  1.0    NaN       NaN   \n",
       "other_or_not_def     326.0    36.0   10.0        0.0  5.0    3.0       1.0   \n",
       "spinner                NaN     NaN    NaN        NaN  NaN    NaN       NaN   \n",
       "tiger                 58.0     6.0   10.0        3.0  9.0    NaN       1.0   \n",
       "white                175.0     NaN    4.0        NaN  1.0    2.0       NaN   \n",
       "whitetip               3.0     1.0    NaN        NaN  NaN    NaN       NaN   \n",
       "\n",
       "                                                                     \\\n",
       "new_country      MEXICO NEW CALEDONIA NEW ZEALAND Not used PORTUGAL   \n",
       "shark_group                                                           \n",
       "black               NaN           NaN         NaN     22.0      NaN   \n",
       "blue                NaN           NaN         1.0     13.0      1.0   \n",
       "bronze              NaN           NaN         9.0      2.0      NaN   \n",
       "brown               NaN           NaN         NaN      4.0      NaN   \n",
       "bull                2.0           7.0         NaN     38.0      NaN   \n",
       "galapagos           NaN           NaN         NaN      4.0      NaN   \n",
       "gray                NaN           NaN         1.0      2.0      NaN   \n",
       "grey                NaN           NaN         1.0     16.0      NaN   \n",
       "hammer              2.0           NaN         NaN      3.0      NaN   \n",
       "lemon               NaN           1.0         NaN      6.0      NaN   \n",
       "mako                NaN           NaN         8.0     12.0      NaN   \n",
       "nurse               NaN           NaN         1.0      7.0      NaN   \n",
       "other_or_not_def   13.0           6.0        34.0    203.0      NaN   \n",
       "spinner             NaN           NaN         NaN      1.0      NaN   \n",
       "tiger               8.0          12.0         1.0     51.0      NaN   \n",
       "white               3.0           1.0        22.0     76.0      1.0   \n",
       "whitetip            NaN           NaN         NaN     28.0      NaN   \n",
       "\n",
       "                                            \n",
       "new_country      SOUTH AFRICA SPAIN    USA  \n",
       "shark_group                                 \n",
       "black                    11.0   NaN   95.0  \n",
       "blue                      3.0   5.0   14.0  \n",
       "bronze                    NaN   NaN    NaN  \n",
       "brown                     NaN   NaN    1.0  \n",
       "bull                      3.0   NaN   84.0  \n",
       "galapagos                 NaN   NaN    5.0  \n",
       "gray                      1.0   NaN    NaN  \n",
       "grey                      1.0   NaN    5.0  \n",
       "hammer                    3.0   NaN   29.0  \n",
       "lemon                     NaN   NaN   19.0  \n",
       "mako                      5.0   NaN   18.0  \n",
       "nurse                     NaN   NaN   41.0  \n",
       "other_or_not_def        153.0  12.0  554.0  \n",
       "spinner                   NaN   NaN   23.0  \n",
       "tiger                    11.0   NaN  143.0  \n",
       "white                   165.0   2.0  219.0  \n",
       "whitetip                  1.0   NaN    5.0  "
      ]
     },
     "execution_count": 33,
     "metadata": {},
     "output_type": "execute_result"
    }
   ],
   "source": [
    "pivot_shark1 = shark.pivot_table(index='shark_group', columns='new_country', values=['fatality'], aggfunc='count')\n",
    "pivot_shark1"
   ]
  },
  {
   "cell_type": "markdown",
   "metadata": {
    "cell_id": "3f1818933fbc4f24957cb39a93d60d66",
    "deepnote_cell_type": "text-cell-h2",
    "formattedRanges": []
   },
   "source": [
    "## Number of shark attacks per decade per country"
   ]
  },
  {
   "cell_type": "code",
   "execution_count": null,
   "metadata": {
    "cell_id": "410ca39204dc4e21a7ab4c66da3dc533",
    "deepnote_cell_type": "code",
    "deepnote_to_be_reexecuted": false,
    "execution_millis": 472,
    "execution_start": 1709888106226,
    "source_hash": null
   },
   "outputs": [
    {
     "data": {
      "application/vnd.deepnote.dataframe.v3+json": {
       "column_count": 8,
       "columns": [
        {
         "dtype": "float64",
         "name": "AUSTRALIA",
         "stats": {
          "histogram": [
           {
            "bin_end": 18,
            "bin_start": 8,
            "count": 6
           },
           {
            "bin_end": 28,
            "bin_start": 18,
            "count": 2
           },
           {
            "bin_end": 38,
            "bin_start": 28,
            "count": 0
           },
           {
            "bin_end": 48,
            "bin_start": 38,
            "count": 0
           },
           {
            "bin_end": 58,
            "bin_start": 48,
            "count": 0
           },
           {
            "bin_end": 68,
            "bin_start": 58,
            "count": 0
           },
           {
            "bin_end": 78,
            "bin_start": 68,
            "count": 0
           },
           {
            "bin_end": 88,
            "bin_start": 78,
            "count": 0
           },
           {
            "bin_end": 98,
            "bin_start": 88,
            "count": 0
           },
           {
            "bin_end": 108,
            "bin_start": 98,
            "count": 1
           }
          ],
          "max": "108.0",
          "min": "8.0",
          "nan_count": 0,
          "unique_count": 8
         }
        },
        {
         "dtype": "float64",
         "name": "BAHAMAS",
         "stats": {
          "histogram": [
           {
            "bin_end": 1.8,
            "bin_start": 1,
            "count": 3
           },
           {
            "bin_end": 2.6,
            "bin_start": 1.8,
            "count": 1
           },
           {
            "bin_end": 3.4000000000000004,
            "bin_start": 2.6,
            "count": 0
           },
           {
            "bin_end": 4.2,
            "bin_start": 3.4000000000000004,
            "count": 1
           },
           {
            "bin_end": 5,
            "bin_start": 4.2,
            "count": 0
           },
           {
            "bin_end": 5.800000000000001,
            "bin_start": 5,
            "count": 0
           },
           {
            "bin_end": 6.6000000000000005,
            "bin_start": 5.800000000000001,
            "count": 0
           },
           {
            "bin_end": 7.4,
            "bin_start": 6.6000000000000005,
            "count": 0
           },
           {
            "bin_end": 8.2,
            "bin_start": 7.4,
            "count": 0
           },
           {
            "bin_end": 9,
            "bin_start": 8.2,
            "count": 1
           }
          ],
          "max": "9.0",
          "min": "1.0",
          "nan_count": 3,
          "unique_count": 4
         }
        },
        {
         "dtype": "float64",
         "name": "BRAZIL",
         "stats": {
          "histogram": [
           {
            "bin_end": 3.6,
            "bin_start": 1,
            "count": 4
           },
           {
            "bin_end": 6.2,
            "bin_start": 3.6,
            "count": 0
           },
           {
            "bin_end": 8.8,
            "bin_start": 6.2,
            "count": 0
           },
           {
            "bin_end": 11.4,
            "bin_start": 8.8,
            "count": 2
           },
           {
            "bin_end": 14,
            "bin_start": 11.4,
            "count": 0
           },
           {
            "bin_end": 16.6,
            "bin_start": 14,
            "count": 0
           },
           {
            "bin_end": 19.2,
            "bin_start": 16.6,
            "count": 0
           },
           {
            "bin_end": 21.8,
            "bin_start": 19.2,
            "count": 0
           },
           {
            "bin_end": 24.400000000000002,
            "bin_start": 21.8,
            "count": 0
           },
           {
            "bin_end": 27,
            "bin_start": 24.400000000000002,
            "count": 1
           }
          ],
          "max": "27.0",
          "min": "1.0",
          "nan_count": 2,
          "unique_count": 5
         }
        },
        {
         "dtype": "float64",
         "name": "MEXICO",
         "stats": {
          "histogram": [
           {
            "bin_end": 4,
            "bin_start": 1,
            "count": 4
           },
           {
            "bin_end": 7,
            "bin_start": 4,
            "count": 3
           },
           {
            "bin_end": 10,
            "bin_start": 7,
            "count": 1
           },
           {
            "bin_end": 13,
            "bin_start": 10,
            "count": 0
           },
           {
            "bin_end": 16,
            "bin_start": 13,
            "count": 0
           },
           {
            "bin_end": 19,
            "bin_start": 16,
            "count": 0
           },
           {
            "bin_end": 22,
            "bin_start": 19,
            "count": 0
           },
           {
            "bin_end": 25,
            "bin_start": 22,
            "count": 0
           },
           {
            "bin_end": 28,
            "bin_start": 25,
            "count": 0
           },
           {
            "bin_end": 31,
            "bin_start": 28,
            "count": 1
           }
          ],
          "max": "31.0",
          "min": "1.0",
          "nan_count": 0,
          "unique_count": 7
         }
        },
        {
         "dtype": "float64",
         "name": "NEW ZEALAND",
         "stats": {
          "histogram": [
           {
            "bin_end": 1.9,
            "bin_start": 1,
            "count": 3
           },
           {
            "bin_end": 2.8,
            "bin_start": 1.9,
            "count": 0
           },
           {
            "bin_end": 3.7,
            "bin_start": 2.8,
            "count": 1
           },
           {
            "bin_end": 4.6,
            "bin_start": 3.7,
            "count": 1
           },
           {
            "bin_end": 5.5,
            "bin_start": 4.6,
            "count": 0
           },
           {
            "bin_end": 6.4,
            "bin_start": 5.5,
            "count": 0
           },
           {
            "bin_end": 7.3,
            "bin_start": 6.4,
            "count": 0
           },
           {
            "bin_end": 8.2,
            "bin_start": 7.3,
            "count": 0
           },
           {
            "bin_end": 9.1,
            "bin_start": 8.2,
            "count": 0
           },
           {
            "bin_end": 10,
            "bin_start": 9.1,
            "count": 1
           }
          ],
          "max": "10.0",
          "min": "1.0",
          "nan_count": 3,
          "unique_count": 4
         }
        },
        {
         "dtype": "float64",
         "name": "SOUTH AFRICA",
         "stats": {
          "histogram": [
           {
            "bin_end": 8.8,
            "bin_start": 3,
            "count": 4
           },
           {
            "bin_end": 14.6,
            "bin_start": 8.8,
            "count": 4
           },
           {
            "bin_end": 20.4,
            "bin_start": 14.6,
            "count": 0
           },
           {
            "bin_end": 26.2,
            "bin_start": 20.4,
            "count": 0
           },
           {
            "bin_end": 32,
            "bin_start": 26.2,
            "count": 0
           },
           {
            "bin_end": 37.8,
            "bin_start": 32,
            "count": 0
           },
           {
            "bin_end": 43.6,
            "bin_start": 37.8,
            "count": 0
           },
           {
            "bin_end": 49.4,
            "bin_start": 43.6,
            "count": 0
           },
           {
            "bin_end": 55.199999999999996,
            "bin_start": 49.4,
            "count": 0
           },
           {
            "bin_end": 61,
            "bin_start": 55.199999999999996,
            "count": 1
           }
          ],
          "max": "61.0",
          "min": "3.0",
          "nan_count": 0,
          "unique_count": 9
         }
        },
        {
         "dtype": "float64",
         "name": "USA",
         "stats": {
          "histogram": [
           {
            "bin_end": 16.1,
            "bin_start": 8,
            "count": 7
           },
           {
            "bin_end": 24.2,
            "bin_start": 16.1,
            "count": 1
           },
           {
            "bin_end": 32.3,
            "bin_start": 24.2,
            "count": 0
           },
           {
            "bin_end": 40.4,
            "bin_start": 32.3,
            "count": 0
           },
           {
            "bin_end": 48.5,
            "bin_start": 40.4,
            "count": 0
           },
           {
            "bin_end": 56.599999999999994,
            "bin_start": 48.5,
            "count": 0
           },
           {
            "bin_end": 64.69999999999999,
            "bin_start": 56.599999999999994,
            "count": 0
           },
           {
            "bin_end": 72.8,
            "bin_start": 64.69999999999999,
            "count": 0
           },
           {
            "bin_end": 80.89999999999999,
            "bin_start": 72.8,
            "count": 0
           },
           {
            "bin_end": 89,
            "bin_start": 80.89999999999999,
            "count": 1
           }
          ],
          "max": "89.0",
          "min": "8.0",
          "nan_count": 0,
          "unique_count": 6
         }
        },
        {
         "dtype": "int64",
         "name": "Total",
         "stats": {
          "histogram": [
           {
            "bin_end": 59.6,
            "bin_start": 29,
            "count": 8
           },
           {
            "bin_end": 90.2,
            "bin_start": 59.6,
            "count": 0
           },
           {
            "bin_end": 120.80000000000001,
            "bin_start": 90.2,
            "count": 0
           },
           {
            "bin_end": 151.4,
            "bin_start": 120.80000000000001,
            "count": 0
           },
           {
            "bin_end": 182,
            "bin_start": 151.4,
            "count": 0
           },
           {
            "bin_end": 212.60000000000002,
            "bin_start": 182,
            "count": 0
           },
           {
            "bin_end": 243.20000000000002,
            "bin_start": 212.60000000000002,
            "count": 0
           },
           {
            "bin_end": 273.8,
            "bin_start": 243.20000000000002,
            "count": 0
           },
           {
            "bin_end": 304.40000000000003,
            "bin_start": 273.8,
            "count": 0
           },
           {
            "bin_end": 335,
            "bin_start": 304.40000000000003,
            "count": 1
           }
          ],
          "max": "335",
          "min": "29",
          "nan_count": 0,
          "unique_count": 9
         }
        },
        {
         "dtype": "object",
         "name": "_deepnote_index_column"
        }
       ],
       "row_count": 9,
       "rows": [
        {
         "AUSTRALIA": 16,
         "BAHAMAS": "nan",
         "BRAZIL": "nan",
         "MEXICO": 5,
         "NEW ZEALAND": "nan",
         "SOUTH AFRICA": 12,
         "Total": 50,
         "USA": 17,
         "_deepnote_index_column": "1950"
        },
        {
         "AUSTRALIA": 11,
         "BAHAMAS": 2,
         "BRAZIL": "nan",
         "MEXICO": 6,
         "NEW ZEALAND": 4,
         "SOUTH AFRICA": 7,
         "Total": 39,
         "USA": 9,
         "_deepnote_index_column": "1960"
        },
        {
         "AUSTRALIA": 8,
         "BAHAMAS": "nan",
         "BRAZIL": 1,
         "MEXICO": 7,
         "NEW ZEALAND": 1,
         "SOUTH AFRICA": 5,
         "Total": 31,
         "USA": 9,
         "_deepnote_index_column": "1970"
        },
        {
         "AUSTRALIA": 10,
         "BAHAMAS": 1,
         "BRAZIL": 1,
         "MEXICO": 1,
         "NEW ZEALAND": "nan",
         "SOUTH AFRICA": 4,
         "Total": 29,
         "USA": 12,
         "_deepnote_index_column": "1980"
        },
        {
         "AUSTRALIA": 11,
         "BAHAMAS": "nan",
         "BRAZIL": 11,
         "MEXICO": 2,
         "NEW ZEALAND": "nan",
         "SOUTH AFRICA": 9,
         "Total": 45,
         "USA": 12,
         "_deepnote_index_column": "1990"
        },
        {
         "AUSTRALIA": 14,
         "BAHAMAS": 1,
         "BRAZIL": 10,
         "MEXICO": 2,
         "NEW ZEALAND": 3,
         "SOUTH AFRICA": 10,
         "Total": 54,
         "USA": 14,
         "_deepnote_index_column": "2000"
        },
        {
         "AUSTRALIA": 20,
         "BAHAMAS": 1,
         "BRAZIL": 3,
         "MEXICO": 3,
         "NEW ZEALAND": 1,
         "SOUTH AFRICA": 11,
         "Total": 47,
         "USA": 8,
         "_deepnote_index_column": "2010"
        },
        {
         "AUSTRALIA": 18,
         "BAHAMAS": 4,
         "BRAZIL": 1,
         "MEXICO": 5,
         "NEW ZEALAND": 1,
         "SOUTH AFRICA": 3,
         "Total": 40,
         "USA": 8,
         "_deepnote_index_column": "2020"
        },
        {
         "AUSTRALIA": 108,
         "BAHAMAS": 9,
         "BRAZIL": 27,
         "MEXICO": 31,
         "NEW ZEALAND": 10,
         "SOUTH AFRICA": 61,
         "Total": 335,
         "USA": 89,
         "_deepnote_index_column": "All"
        }
       ]
      },
      "text/html": [
       "<div>\n",
       "<style scoped>\n",
       "    .dataframe tbody tr th:only-of-type {\n",
       "        vertical-align: middle;\n",
       "    }\n",
       "\n",
       "    .dataframe tbody tr th {\n",
       "        vertical-align: top;\n",
       "    }\n",
       "\n",
       "    .dataframe thead th {\n",
       "        text-align: right;\n",
       "    }\n",
       "</style>\n",
       "<table border=\"1\" class=\"dataframe\">\n",
       "  <thead>\n",
       "    <tr style=\"text-align: right;\">\n",
       "      <th>new_country</th>\n",
       "      <th>AUSTRALIA</th>\n",
       "      <th>BAHAMAS</th>\n",
       "      <th>BRAZIL</th>\n",
       "      <th>MEXICO</th>\n",
       "      <th>NEW ZEALAND</th>\n",
       "      <th>SOUTH AFRICA</th>\n",
       "      <th>USA</th>\n",
       "      <th>Total</th>\n",
       "    </tr>\n",
       "    <tr>\n",
       "      <th>decade</th>\n",
       "      <th></th>\n",
       "      <th></th>\n",
       "      <th></th>\n",
       "      <th></th>\n",
       "      <th></th>\n",
       "      <th></th>\n",
       "      <th></th>\n",
       "      <th></th>\n",
       "    </tr>\n",
       "  </thead>\n",
       "  <tbody>\n",
       "    <tr>\n",
       "      <th>1950</th>\n",
       "      <td>16.0</td>\n",
       "      <td>NaN</td>\n",
       "      <td>NaN</td>\n",
       "      <td>5.0</td>\n",
       "      <td>NaN</td>\n",
       "      <td>12.0</td>\n",
       "      <td>17.0</td>\n",
       "      <td>50</td>\n",
       "    </tr>\n",
       "    <tr>\n",
       "      <th>1960</th>\n",
       "      <td>11.0</td>\n",
       "      <td>2.0</td>\n",
       "      <td>NaN</td>\n",
       "      <td>6.0</td>\n",
       "      <td>4.0</td>\n",
       "      <td>7.0</td>\n",
       "      <td>9.0</td>\n",
       "      <td>39</td>\n",
       "    </tr>\n",
       "    <tr>\n",
       "      <th>1970</th>\n",
       "      <td>8.0</td>\n",
       "      <td>NaN</td>\n",
       "      <td>1.0</td>\n",
       "      <td>7.0</td>\n",
       "      <td>1.0</td>\n",
       "      <td>5.0</td>\n",
       "      <td>9.0</td>\n",
       "      <td>31</td>\n",
       "    </tr>\n",
       "    <tr>\n",
       "      <th>1980</th>\n",
       "      <td>10.0</td>\n",
       "      <td>1.0</td>\n",
       "      <td>1.0</td>\n",
       "      <td>1.0</td>\n",
       "      <td>NaN</td>\n",
       "      <td>4.0</td>\n",
       "      <td>12.0</td>\n",
       "      <td>29</td>\n",
       "    </tr>\n",
       "    <tr>\n",
       "      <th>1990</th>\n",
       "      <td>11.0</td>\n",
       "      <td>NaN</td>\n",
       "      <td>11.0</td>\n",
       "      <td>2.0</td>\n",
       "      <td>NaN</td>\n",
       "      <td>9.0</td>\n",
       "      <td>12.0</td>\n",
       "      <td>45</td>\n",
       "    </tr>\n",
       "    <tr>\n",
       "      <th>2000</th>\n",
       "      <td>14.0</td>\n",
       "      <td>1.0</td>\n",
       "      <td>10.0</td>\n",
       "      <td>2.0</td>\n",
       "      <td>3.0</td>\n",
       "      <td>10.0</td>\n",
       "      <td>14.0</td>\n",
       "      <td>54</td>\n",
       "    </tr>\n",
       "    <tr>\n",
       "      <th>2010</th>\n",
       "      <td>20.0</td>\n",
       "      <td>1.0</td>\n",
       "      <td>3.0</td>\n",
       "      <td>3.0</td>\n",
       "      <td>1.0</td>\n",
       "      <td>11.0</td>\n",
       "      <td>8.0</td>\n",
       "      <td>47</td>\n",
       "    </tr>\n",
       "    <tr>\n",
       "      <th>2020</th>\n",
       "      <td>18.0</td>\n",
       "      <td>4.0</td>\n",
       "      <td>1.0</td>\n",
       "      <td>5.0</td>\n",
       "      <td>1.0</td>\n",
       "      <td>3.0</td>\n",
       "      <td>8.0</td>\n",
       "      <td>40</td>\n",
       "    </tr>\n",
       "    <tr>\n",
       "      <th>All</th>\n",
       "      <td>108.0</td>\n",
       "      <td>9.0</td>\n",
       "      <td>27.0</td>\n",
       "      <td>31.0</td>\n",
       "      <td>10.0</td>\n",
       "      <td>61.0</td>\n",
       "      <td>89.0</td>\n",
       "      <td>335</td>\n",
       "    </tr>\n",
       "  </tbody>\n",
       "</table>\n",
       "</div>"
      ],
      "text/plain": [
       "new_country  AUSTRALIA  BAHAMAS  BRAZIL  MEXICO  NEW ZEALAND  SOUTH AFRICA  \\\n",
       "decade                                                                       \n",
       "1950              16.0      NaN     NaN     5.0          NaN          12.0   \n",
       "1960              11.0      2.0     NaN     6.0          4.0           7.0   \n",
       "1970               8.0      NaN     1.0     7.0          1.0           5.0   \n",
       "1980              10.0      1.0     1.0     1.0          NaN           4.0   \n",
       "1990              11.0      NaN    11.0     2.0          NaN           9.0   \n",
       "2000              14.0      1.0    10.0     2.0          3.0          10.0   \n",
       "2010              20.0      1.0     3.0     3.0          1.0          11.0   \n",
       "2020              18.0      4.0     1.0     5.0          1.0           3.0   \n",
       "All              108.0      9.0    27.0    31.0         10.0          61.0   \n",
       "\n",
       "new_country   USA  Total  \n",
       "decade                    \n",
       "1950         17.0     50  \n",
       "1960          9.0     39  \n",
       "1970          9.0     31  \n",
       "1980         12.0     29  \n",
       "1990         12.0     45  \n",
       "2000         14.0     54  \n",
       "2010          8.0     47  \n",
       "2020          8.0     40  \n",
       "All          89.0    335  "
      ]
     },
     "execution_count": 48,
     "metadata": {},
     "output_type": "execute_result"
    }
   ],
   "source": [
    "import numpy as np\n",
    "\n",
    "# Convert the 'year_fixed' column to integers and create a new column for decades\n",
    "main_country=[\"USA\",\"AUSTRALIA\",\"BRAZIL\",\"SOUTH AFRICA\",\"NEW ZEALAND\",\"BAHAMAS\",\"MEXICO\"]\n",
    "# Create a condition to filter attacks with a victim ('fatality' == 'y')\n",
    "condition1 = (shark['fatality'] == 'y') & (shark['new_country'].isin(main_country))\n",
    "\n",
    "# Create the pivot table with the number of attacks per decade and country\n",
    "pivot_shark1 = shark[condition1].pivot_table(index='decade', columns='new_country', values='fatality', aggfunc='count', margins=True)\n",
    "\n",
    "pivot_shark1.rename(columns={'All': 'Total'}, inplace=True)\n",
    "\n",
    "pivot_shark1"
   ]
  },
  {
   "cell_type": "code",
   "execution_count": null,
   "metadata": {
    "cell_id": "bd0caba4a73f410aa59b28367853a3ea",
    "deepnote_cell_type": "code",
    "deepnote_to_be_reexecuted": false,
    "execution_millis": 1116,
    "execution_start": 1709886691884,
    "source_hash": null
   },
   "outputs": [
    {
     "data": {
      "text/plain": [
       "(6355, 18)"
      ]
     },
     "execution_count": 35,
     "metadata": {},
     "output_type": "execute_result"
    }
   ],
   "source": [
    "shark.shape"
   ]
  },
  {
   "cell_type": "markdown",
   "metadata": {
    "cell_id": "18986d2614a4497fbb20abcb328ce8bc",
    "deepnote_app_block_visible": false,
    "deepnote_cell_type": "text-cell-p",
    "formattedRanges": [],
    "is_collapsed": false
   },
   "source": []
  },
  {
   "cell_type": "markdown",
   "metadata": {
    "cell_id": "0b34359e52544847967832e4000ee934",
    "deepnote_app_block_visible": false,
    "deepnote_cell_type": "text-cell-p",
    "formattedRanges": [],
    "is_collapsed": false
   },
   "source": []
  },
  {
   "cell_type": "markdown",
   "metadata": {
    "cell_id": "2f495968b99d4ceebd472b6a3b493d7e",
    "deepnote_cell_type": "text-cell-h1",
    "formattedRanges": [
     {
      "fromCodePoint": 0,
      "marks": {
       "bold": true,
       "color": "#F5B218",
       "italic": true
      },
      "toCodePoint": 31,
      "type": "marks"
     }
    ]
   },
   "source": [
    "# Elsass Frei ! Long Live Alsace "
   ]
  },
  {
   "cell_type": "markdown",
   "metadata": {
    "cell_id": "8c6f3cdb54724feb93c69947ec9fe3e6",
    "deepnote_app_block_visible": false,
    "deepnote_cell_type": "text-cell-p",
    "formattedRanges": [],
    "is_collapsed": false
   },
   "source": []
  },
  {
   "cell_type": "markdown",
   "metadata": {
    "cell_id": "9efbbd0eb8cd431fb7470323c93fbdb4",
    "deepnote_app_block_visible": false,
    "deepnote_cell_type": "text-cell-p",
    "formattedRanges": [],
    "is_collapsed": false
   },
   "source": []
  },
  {
   "cell_type": "markdown",
   "metadata": {
    "cell_id": "46719af3849342f3bcdcdb79eeed3b78",
    "deepnote_app_block_visible": false,
    "deepnote_cell_type": "text-cell-p",
    "formattedRanges": [],
    "is_collapsed": false
   },
   "source": []
  },
  {
   "cell_type": "markdown",
   "metadata": {
    "cell_id": "d0c9f6560e9b48259e17d5e3fdacb1d8",
    "deepnote_app_block_visible": false,
    "deepnote_cell_type": "text-cell-p",
    "formattedRanges": [],
    "is_collapsed": false
   },
   "source": []
  },
  {
   "cell_type": "markdown",
   "metadata": {
    "cell_id": "008b60e5986847a7b1ff4313a0f5793b",
    "deepnote_app_block_visible": false,
    "deepnote_cell_type": "text-cell-p",
    "formattedRanges": [],
    "is_collapsed": false
   },
   "source": []
  },
  {
   "cell_type": "markdown",
   "metadata": {
    "cell_id": "7bff233a987849948288e4bcbcf94570",
    "deepnote_app_block_visible": false,
    "deepnote_cell_type": "text-cell-h1",
    "formattedRanges": [],
    "is_collapsed": false
   },
   "source": [
    "# Notes d'équipes"
   ]
  },
  {
   "cell_type": "markdown",
   "metadata": {
    "cell_id": "dc7ff9f5224f4c8880c03fb0edd197bf",
    "deepnote_cell_type": "text-cell-p",
    "formattedRanges": []
   },
   "source": [
    "Javier : Research | Killé : Dev | Michael : Dev | Linda : Research"
   ]
  },
  {
   "cell_type": "markdown",
   "metadata": {
    "cell_id": "756e088dd21f4ffda6cd76dc2f4673d7",
    "deepnote_cell_type": "text-cell-p",
    "formattedRanges": [
     {
      "fromCodePoint": 0,
      "marks": {
       "bold": true
      },
      "toCodePoint": 11,
      "type": "marks"
     }
    ]
   },
   "source": [
    "Focus on : "
   ]
  },
  {
   "cell_type": "markdown",
   "metadata": {
    "cell_id": "3b5092feaa1e424b90812e7bb78ef265",
    "deepnote_cell_type": "text-cell-bullet",
    "formattedRanges": []
   },
   "source": [
    "- Are sharks injuring or killing more ? "
   ]
  },
  {
   "cell_type": "markdown",
   "metadata": {
    "cell_id": "e923250bf39a4d4a8ef7e351bd773e1b",
    "deepnote_cell_type": "text-cell-bullet",
    "formattedRanges": []
   },
   "source": [
    "- Are most attacks caused by human provocation ? "
   ]
  },
  {
   "cell_type": "markdown",
   "metadata": {
    "cell_id": "5169183a1fbe4a60971ae8a995372756",
    "deepnote_cell_type": "text-cell-p",
    "formattedRanges": []
   },
   "source": []
  },
  {
   "cell_type": "markdown",
   "metadata": {
    "cell_id": "cb4fb6f2655d4360a549acaf62e26bfa",
    "deepnote_cell_type": "text-cell-p",
    "formattedRanges": []
   },
   "source": []
  },
  {
   "cell_type": "markdown",
   "metadata": {
    "cell_id": "afe4260298604fe3a17b65941afde2cb",
    "deepnote_cell_type": "text-cell-p",
    "formattedRanges": [
     {
      "fromCodePoint": 0,
      "marks": {
       "bold": true
      },
      "toCodePoint": 11,
      "type": "marks"
     }
    ]
   },
   "source": [
    "Cleaning : "
   ]
  },
  {
   "cell_type": "markdown",
   "metadata": {
    "cell_id": "5fafeba9a10d40379ee616988b70ff81",
    "deepnote_cell_type": "text-cell-bullet",
    "formattedRanges": []
   },
   "source": [
    "- Renommer colonne L en \" Incident mortel ? \" ou similaire"
   ]
  },
  {
   "cell_type": "markdown",
   "metadata": {
    "cell_id": "162f8a9cad3440ecbc1ee55c04b0d499",
    "deepnote_cell_type": "text-cell-bullet",
    "formattedRanges": []
   },
   "source": [
    "- Année --> Format YYYY "
   ]
  },
  {
   "cell_type": "markdown",
   "metadata": {
    "cell_id": "4c14662a525447c494cda7135b1bf7b4",
    "deepnote_cell_type": "text-cell-bullet",
    "formattedRanges": []
   },
   "source": [
    "- Age --> En années (nb entier)"
   ]
  },
  {
   "cell_type": "markdown",
   "metadata": {
    "cell_id": "3932dbd419014e2fafa73ec1bb8e9fa1",
    "deepnote_cell_type": "text-cell-bullet",
    "formattedRanges": []
   },
   "source": [
    "- Sexe --> M & F & N"
   ]
  },
  {
   "cell_type": "markdown",
   "metadata": {
    "cell_id": "a3b862fd4d49454ba64016670b8c7ee8",
    "deepnote_cell_type": "text-cell-bullet",
    "formattedRanges": []
   },
   "source": [
    "- Height --> En mètres "
   ]
  },
  {
   "cell_type": "markdown",
   "metadata": {
    "cell_id": "5ac1353a9a7b4cc19e186dab21c0b257",
    "deepnote_cell_type": "text-cell-bullet",
    "formattedRanges": []
   },
   "source": [
    "- Countries --> Europe, Asie, Afrique, Océan Indien, Amérique du Nord, Amérique du Sud"
   ]
  },
  {
   "cell_type": "markdown",
   "metadata": {
    "cell_id": "5676a3c88afb49a2bd2e472bdcf55793",
    "deepnote_cell_type": "text-cell-p",
    "formattedRanges": []
   },
   "source": [
    "Idées : "
   ]
  },
  {
   "cell_type": "markdown",
   "metadata": {
    "cell_id": "e052e026f7464011937943a6661a9c1c",
    "deepnote_cell_type": "text-cell-bullet",
    "formattedRanges": []
   },
   "source": [
    "- Saisonnalité ? "
   ]
  },
  {
   "cell_type": "markdown",
   "metadata": {
    "cell_id": "a950717656ac44cc8ee7b8bd996ef6e0",
    "deepnote_cell_type": "text-cell-bullet",
    "formattedRanges": []
   },
   "source": [
    "- Broader scope"
   ]
  },
  {
   "cell_type": "markdown",
   "metadata": {
    "cell_id": "aa26287f970447ad9654573419a018b5",
    "deepnote_cell_type": "text-cell-bullet",
    "formattedRanges": []
   },
   "source": [
    "- Time "
   ]
  },
  {
   "cell_type": "markdown",
   "metadata": {
    "cell_id": "92a01ef121d24bc8a468f0632183b438",
    "deepnote_cell_type": "text-cell-p",
    "formattedRanges": []
   },
   "source": []
  },
  {
   "cell_type": "markdown",
   "metadata": {
    "created_in_deepnote_cell": true,
    "deepnote_cell_type": "markdown"
   },
   "source": [
    "<a style='text-decoration:none;line-height:16px;display:flex;color:#5B5B62;padding:10px;justify-content:end;' href='https://deepnote.com?utm_source=created-in-deepnote-cell&projectId=5314df68-7bd7-46df-b536-5b2c489f4f4a' target=\"_blank\">\n",
    "<img alt='Created in deepnote.com' style='display:inline;max-height:16px;margin:0px;margin-right:7.5px;' src='data:image/svg+xml;base64,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' > </img>\n",
    "Created in <span style='font-weight:600;margin-left:4px;'>Deepnote</span></a>"
   ]
  }
 ],
 "metadata": {
  "deepnote_execution_queue": [],
  "deepnote_notebook_id": "44fe5b4f9a554c7c90e947f822bcfc01",
  "deepnote_persisted_session": {
   "createdAt": "2024-03-08T09:22:06.400Z"
  },
  "kernelspec": {
   "display_name": "Python 3 (ipykernel)",
   "language": "python",
   "name": "python3"
  },
  "language_info": {
   "codemirror_mode": {
    "name": "ipython",
    "version": 3
   },
   "file_extension": ".py",
   "mimetype": "text/x-python",
   "name": "python",
   "nbconvert_exporter": "python",
   "pygments_lexer": "ipython3",
   "version": "3.11.5"
  }
 },
 "nbformat": 4,
 "nbformat_minor": 1
}
